{
 "cells": [
  {
   "cell_type": "code",
   "execution_count": 261,
   "metadata": {},
   "outputs": [],
   "source": [
    "import cv2\n",
    "import numpy as np\n",
    "import pandas as pd\n",
    "import pickle as cPickle\n",
    "import time\n",
    "from matplotlib import pyplot as plt\n",
    "from sklearn.cluster import MiniBatchKMeans\n",
    "from sklearn.neighbors import KNeighborsClassifier\n",
    "from sklearn.decomposition import PCA\n",
    "from sklearn.discriminant_analysis import LinearDiscriminantAnalysis\n",
    "from sklearn.model_selection import cross_val_score\n",
    "from sklearn.metrics import precision_score,confusion_matrix,multilabel_confusion_matrix,recall_score\n",
    "from sklearn.preprocessing import normalize\n",
    "from sklearn import svm\n",
    "from datetime import datetime\n",
    "from sklearn.model_selection import GridSearchCV\n",
    "from sklearn.metrics import classification_report\n",
    "from sklearn.svm import SVC\n",
    "from sklearn.preprocessing import StandardScaler"
   ]
  },
  {
   "cell_type": "code",
   "execution_count": 262,
   "metadata": {},
   "outputs": [],
   "source": [
    "train_images_filenames = cPickle.load(open('resources/train_images_filenames.dat','rb'))\n",
    "test_images_filenames = cPickle.load(open('resources/test_images_filenames.dat','rb'))\n",
    "train_labels = cPickle.load(open('resources/train_labels.dat','rb'))\n",
    "test_labels = cPickle.load(open('resources/test_labels.dat','rb'))"
   ]
  },
  {
   "cell_type": "code",
   "execution_count": 263,
   "metadata": {},
   "outputs": [],
   "source": [
    "import warnings\n",
    "warnings.filterwarnings('ignore')"
   ]
  },
  {
   "cell_type": "code",
   "execution_count": 264,
   "metadata": {},
   "outputs": [],
   "source": [
    "SIFTdetector = cv2.SIFT_create(nfeatures=300)"
   ]
  },
  {
   "cell_type": "code",
   "execution_count": 265,
   "metadata": {},
   "outputs": [],
   "source": [
    "def compute_dense_sift(gray,sift,step):\n",
    "    step_size = step\n",
    "    kp = [cv2.KeyPoint(x, y, step_size) for y in range(0, gray.shape[0], step_size) \n",
    "                                        for x in range(0, gray.shape[1], step_size)]\n",
    "    dense_feat = sift.compute(gray, kp)\n",
    "    dense_feat_des = dense_feat[1]\n",
    "    return dense_feat_des"
   ]
  },
  {
   "cell_type": "code",
   "execution_count": 266,
   "metadata": {},
   "outputs": [
    {
     "output_type": "stream",
     "name": "stdout",
     "text": [
      "17:05:52 started doing step=5\n",
      "17:06:59 finished doing step=5\n"
     ]
    }
   ],
   "source": [
    "step=5\n",
    "\n",
    "today = datetime.now()\n",
    "dt_string = today.strftime(\"%H:%M:%S\")\n",
    "print(f\"{dt_string} started doing step={step}\")\n",
    "\n",
    "Train_descriptors = []\n",
    "Train_label_per_descriptor = []\n",
    "\n",
    "for filename,labels in zip(train_images_filenames,train_labels):\n",
    "    ima=cv2.imread(filename)\n",
    "    gray=cv2.cvtColor(ima,cv2.COLOR_BGR2GRAY)\n",
    "    \n",
    "    des=compute_dense_sift(gray,SIFTdetector, step)\n",
    "    Train_descriptors.append(des)\n",
    "    Train_label_per_descriptor.append(labels)\n",
    "\n",
    "D=np.vstack(Train_descriptors)\n",
    "\n",
    "k=128\n",
    "codebook = MiniBatchKMeans(n_clusters=k, verbose=False, batch_size=k * 20,compute_labels=False,reassignment_ratio=10**-4,random_state=42)\n",
    "codebook.fit(D)\n",
    "\n",
    "visual_words=np.zeros((len(Train_descriptors),k),dtype=np.float32)\n",
    "for i in range(len(Train_descriptors)):\n",
    "    words=codebook.predict(Train_descriptors[i])\n",
    "    visual_words[i,:]=normalize(np.bincount(words,minlength=k).reshape(1,-1))\n",
    "\n",
    "# knn = KNeighborsClassifier(n_neighbors=37,n_jobs=-1,metric='manhattan')\n",
    "# knn.fit(visual_words, train_labels)\n",
    "\n",
    "today = datetime.now()\n",
    "dt_string = today.strftime(\"%H:%M:%S\")\n",
    "print(f\"{dt_string} finished doing step={step}\")\n"
   ]
  },
  {
   "cell_type": "code",
   "execution_count": 267,
   "metadata": {},
   "outputs": [
    {
     "output_type": "execute_result",
     "data": {
      "text/plain": [
       "<BarContainer object of 128 artists>"
      ]
     },
     "metadata": {},
     "execution_count": 267
    },
    {
     "output_type": "display_data",
     "data": {
      "text/plain": "<Figure size 720x288 with 1 Axes>",
      "image/svg+xml": "<?xml version=\"1.0\" encoding=\"utf-8\" standalone=\"no\"?>\r\n<!DOCTYPE svg PUBLIC \"-//W3C//DTD SVG 1.1//EN\"\r\n  \"http://www.w3.org/Graphics/SVG/1.1/DTD/svg11.dtd\">\r\n<!-- Created with matplotlib (https://matplotlib.org/) -->\r\n<svg height=\"248.518125pt\" version=\"1.1\" viewBox=\"0 0 601.665625 248.518125\" width=\"601.665625pt\" xmlns=\"http://www.w3.org/2000/svg\" xmlns:xlink=\"http://www.w3.org/1999/xlink\">\r\n <metadata>\r\n  <rdf:RDF xmlns:cc=\"http://creativecommons.org/ns#\" xmlns:dc=\"http://purl.org/dc/elements/1.1/\" xmlns:rdf=\"http://www.w3.org/1999/02/22-rdf-syntax-ns#\">\r\n   <cc:Work>\r\n    <dc:type rdf:resource=\"http://purl.org/dc/dcmitype/StillImage\"/>\r\n    <dc:date>2021-01-17T17:06:59.772132</dc:date>\r\n    <dc:format>image/svg+xml</dc:format>\r\n    <dc:creator>\r\n     <cc:Agent>\r\n      <dc:title>Matplotlib v3.3.3, https://matplotlib.org/</dc:title>\r\n     </cc:Agent>\r\n    </dc:creator>\r\n   </cc:Work>\r\n  </rdf:RDF>\r\n </metadata>\r\n <defs>\r\n  <style type=\"text/css\">*{stroke-linecap:butt;stroke-linejoin:round;}</style>\r\n </defs>\r\n <g id=\"figure_1\">\r\n  <g id=\"patch_1\">\r\n   <path d=\"M 0 248.518125 \r\nL 601.665625 248.518125 \r\nL 601.665625 0 \r\nL 0 0 \r\nz\r\n\" style=\"fill:none;\"/>\r\n  </g>\r\n  <g id=\"axes_1\">\r\n   <g id=\"patch_2\">\r\n    <path d=\"M 36.465625 224.64 \r\nL 594.465625 224.64 \r\nL 594.465625 7.2 \r\nL 36.465625 7.2 \r\nz\r\n\" style=\"fill:#ffffff;\"/>\r\n   </g>\r\n   <g id=\"patch_3\">\r\n    <path clip-path=\"url(#pa26e8b3778)\" d=\"M 61.829261 224.64 \r\nL 65.004677 224.64 \r\nL 65.004677 223.18165 \r\nL 61.829261 223.18165 \r\nz\r\n\" style=\"fill:#1f77b4;\"/>\r\n   </g>\r\n   <g id=\"patch_4\">\r\n    <path clip-path=\"url(#pa26e8b3778)\" d=\"M 65.798532 224.64 \r\nL 68.973948 224.64 \r\nL 68.973948 205.68145 \r\nL 65.798532 205.68145 \r\nz\r\n\" style=\"fill:#1f77b4;\"/>\r\n   </g>\r\n   <g id=\"patch_5\">\r\n    <path clip-path=\"url(#pa26e8b3778)\" d=\"M 69.767802 224.64 \r\nL 72.943218 224.64 \r\nL 72.943218 218.8066 \r\nL 69.767802 218.8066 \r\nz\r\n\" style=\"fill:#1f77b4;\"/>\r\n   </g>\r\n   <g id=\"patch_6\">\r\n    <path clip-path=\"url(#pa26e8b3778)\" d=\"M 73.737072 224.64 \r\nL 76.912488 224.64 \r\nL 76.912488 208.598149 \r\nL 73.737072 208.598149 \r\nz\r\n\" style=\"fill:#1f77b4;\"/>\r\n   </g>\r\n   <g id=\"patch_7\">\r\n    <path clip-path=\"url(#pa26e8b3778)\" d=\"M 77.706342 224.64 \r\nL 80.881758 224.64 \r\nL 80.881758 154.639197 \r\nL 77.706342 154.639197 \r\nz\r\n\" style=\"fill:#1f77b4;\"/>\r\n   </g>\r\n   <g id=\"patch_8\">\r\n    <path clip-path=\"url(#pa26e8b3778)\" d=\"M 81.675612 224.64 \r\nL 84.851028 224.64 \r\nL 84.851028 176.514447 \r\nL 81.675612 176.514447 \r\nz\r\n\" style=\"fill:#1f77b4;\"/>\r\n   </g>\r\n   <g id=\"patch_9\">\r\n    <path clip-path=\"url(#pa26e8b3778)\" d=\"M 85.644882 224.64 \r\nL 88.820298 224.64 \r\nL 88.820298 52.554695 \r\nL 85.644882 52.554695 \r\nz\r\n\" style=\"fill:#1f77b4;\"/>\r\n   </g>\r\n   <g id=\"patch_10\">\r\n    <path clip-path=\"url(#pa26e8b3778)\" d=\"M 89.614153 224.64 \r\nL 92.789569 224.64 \r\nL 92.789569 207.139799 \r\nL 89.614153 207.139799 \r\nz\r\n\" style=\"fill:#1f77b4;\"/>\r\n   </g>\r\n   <g id=\"patch_11\">\r\n    <path clip-path=\"url(#pa26e8b3778)\" d=\"M 93.583423 224.64 \r\nL 96.758839 224.64 \r\nL 96.758839 204.223099 \r\nL 93.583423 204.223099 \r\nz\r\n\" style=\"fill:#1f77b4;\"/>\r\n   </g>\r\n   <g id=\"patch_12\">\r\n    <path clip-path=\"url(#pa26e8b3778)\" d=\"M 97.552693 224.64 \r\nL 100.728109 224.64 \r\nL 100.728109 223.18165 \r\nL 97.552693 223.18165 \r\nz\r\n\" style=\"fill:#1f77b4;\"/>\r\n   </g>\r\n   <g id=\"patch_13\">\r\n    <path clip-path=\"url(#pa26e8b3778)\" d=\"M 101.521963 224.64 \r\nL 104.697379 224.64 \r\nL 104.697379 196.93135 \r\nL 101.521963 196.93135 \r\nz\r\n\" style=\"fill:#1f77b4;\"/>\r\n   </g>\r\n   <g id=\"patch_14\">\r\n    <path clip-path=\"url(#pa26e8b3778)\" d=\"M 105.491233 224.64 \r\nL 108.666649 224.64 \r\nL 108.666649 214.43155 \r\nL 105.491233 214.43155 \r\nz\r\n\" style=\"fill:#1f77b4;\"/>\r\n   </g>\r\n   <g id=\"patch_15\">\r\n    <path clip-path=\"url(#pa26e8b3778)\" d=\"M 109.460503 224.64 \r\nL 112.635919 224.64 \r\nL 112.635919 224.64 \r\nL 109.460503 224.64 \r\nz\r\n\" style=\"fill:#1f77b4;\"/>\r\n   </g>\r\n   <g id=\"patch_16\">\r\n    <path clip-path=\"url(#pa26e8b3778)\" d=\"M 113.429774 224.64 \r\nL 116.60519 224.64 \r\nL 116.60519 134.222299 \r\nL 113.429774 134.222299 \r\nz\r\n\" style=\"fill:#1f77b4;\"/>\r\n   </g>\r\n   <g id=\"patch_17\">\r\n    <path clip-path=\"url(#pa26e8b3778)\" d=\"M 117.399044 224.64 \r\nL 120.57446 224.64 \r\nL 120.57446 185.264549 \r\nL 117.399044 185.264549 \r\nz\r\n\" style=\"fill:#1f77b4;\"/>\r\n   </g>\r\n   <g id=\"patch_18\">\r\n    <path clip-path=\"url(#pa26e8b3778)\" d=\"M 121.368314 224.64 \r\nL 124.54373 224.64 \r\nL 124.54373 157.555899 \r\nL 121.368314 157.555899 \r\nz\r\n\" style=\"fill:#1f77b4;\"/>\r\n   </g>\r\n   <g id=\"patch_19\">\r\n    <path clip-path=\"url(#pa26e8b3778)\" d=\"M 125.337584 224.64 \r\nL 128.513 224.64 \r\nL 128.513 224.64 \r\nL 125.337584 224.64 \r\nz\r\n\" style=\"fill:#1f77b4;\"/>\r\n   </g>\r\n   <g id=\"patch_20\">\r\n    <path clip-path=\"url(#pa26e8b3778)\" d=\"M 129.306854 224.64 \r\nL 132.48227 224.64 \r\nL 132.48227 166.305998 \r\nL 129.306854 166.305998 \r\nz\r\n\" style=\"fill:#1f77b4;\"/>\r\n   </g>\r\n   <g id=\"patch_21\">\r\n    <path clip-path=\"url(#pa26e8b3778)\" d=\"M 133.276124 224.64 \r\nL 136.45154 224.64 \r\nL 136.45154 221.7233 \r\nL 133.276124 221.7233 \r\nz\r\n\" style=\"fill:#1f77b4;\"/>\r\n   </g>\r\n   <g id=\"patch_22\">\r\n    <path clip-path=\"url(#pa26e8b3778)\" d=\"M 137.245395 224.64 \r\nL 140.420811 224.64 \r\nL 140.420811 218.8066 \r\nL 137.245395 218.8066 \r\nz\r\n\" style=\"fill:#1f77b4;\"/>\r\n   </g>\r\n   <g id=\"patch_23\">\r\n    <path clip-path=\"url(#pa26e8b3778)\" d=\"M 141.214665 224.64 \r\nL 144.390081 224.64 \r\nL 144.390081 167.764349 \r\nL 141.214665 167.764349 \r\nz\r\n\" style=\"fill:#1f77b4;\"/>\r\n   </g>\r\n   <g id=\"patch_24\">\r\n    <path clip-path=\"url(#pa26e8b3778)\" d=\"M 145.183935 224.64 \r\nL 148.359351 224.64 \r\nL 148.359351 126.930547 \r\nL 145.183935 126.930547 \r\nz\r\n\" style=\"fill:#1f77b4;\"/>\r\n   </g>\r\n   <g id=\"patch_25\">\r\n    <path clip-path=\"url(#pa26e8b3778)\" d=\"M 149.153205 224.64 \r\nL 152.328621 224.64 \r\nL 152.328621 224.64 \r\nL 149.153205 224.64 \r\nz\r\n\" style=\"fill:#1f77b4;\"/>\r\n   </g>\r\n   <g id=\"patch_26\">\r\n    <path clip-path=\"url(#pa26e8b3778)\" d=\"M 153.122475 224.64 \r\nL 156.297891 224.64 \r\nL 156.297891 156.097548 \r\nL 153.122475 156.097548 \r\nz\r\n\" style=\"fill:#1f77b4;\"/>\r\n   </g>\r\n   <g id=\"patch_27\">\r\n    <path clip-path=\"url(#pa26e8b3778)\" d=\"M 157.091745 224.64 \r\nL 160.267161 224.64 \r\nL 160.267161 224.64 \r\nL 157.091745 224.64 \r\nz\r\n\" style=\"fill:#1f77b4;\"/>\r\n   </g>\r\n   <g id=\"patch_28\">\r\n    <path clip-path=\"url(#pa26e8b3778)\" d=\"M 161.061016 224.64 \r\nL 164.236432 224.64 \r\nL 164.236432 202.76475 \r\nL 161.061016 202.76475 \r\nz\r\n\" style=\"fill:#1f77b4;\"/>\r\n   </g>\r\n   <g id=\"patch_29\">\r\n    <path clip-path=\"url(#pa26e8b3778)\" d=\"M 165.030286 224.64 \r\nL 168.205702 224.64 \r\nL 168.205702 182.347847 \r\nL 165.030286 182.347847 \r\nz\r\n\" style=\"fill:#1f77b4;\"/>\r\n   </g>\r\n   <g id=\"patch_30\">\r\n    <path clip-path=\"url(#pa26e8b3778)\" d=\"M 168.999556 224.64 \r\nL 172.174972 224.64 \r\nL 172.174972 224.64 \r\nL 168.999556 224.64 \r\nz\r\n\" style=\"fill:#1f77b4;\"/>\r\n   </g>\r\n   <g id=\"patch_31\">\r\n    <path clip-path=\"url(#pa26e8b3778)\" d=\"M 172.968826 224.64 \r\nL 176.144242 224.64 \r\nL 176.144242 224.64 \r\nL 172.968826 224.64 \r\nz\r\n\" style=\"fill:#1f77b4;\"/>\r\n   </g>\r\n   <g id=\"patch_32\">\r\n    <path clip-path=\"url(#pa26e8b3778)\" d=\"M 176.938096 224.64 \r\nL 180.113512 224.64 \r\nL 180.113512 214.43155 \r\nL 176.938096 214.43155 \r\nz\r\n\" style=\"fill:#1f77b4;\"/>\r\n   </g>\r\n   <g id=\"patch_33\">\r\n    <path clip-path=\"url(#pa26e8b3778)\" d=\"M 180.907366 224.64 \r\nL 184.082782 224.64 \r\nL 184.082782 183.806198 \r\nL 180.907366 183.806198 \r\nz\r\n\" style=\"fill:#1f77b4;\"/>\r\n   </g>\r\n   <g id=\"patch_34\">\r\n    <path clip-path=\"url(#pa26e8b3778)\" d=\"M 184.876637 224.64 \r\nL 188.052053 224.64 \r\nL 188.052053 147.347446 \r\nL 184.876637 147.347446 \r\nz\r\n\" style=\"fill:#1f77b4;\"/>\r\n   </g>\r\n   <g id=\"patch_35\">\r\n    <path clip-path=\"url(#pa26e8b3778)\" d=\"M 188.845907 224.64 \r\nL 192.021323 224.64 \r\nL 192.021323 192.556299 \r\nL 188.845907 192.556299 \r\nz\r\n\" style=\"fill:#1f77b4;\"/>\r\n   </g>\r\n   <g id=\"patch_36\">\r\n    <path clip-path=\"url(#pa26e8b3778)\" d=\"M 192.815177 224.64 \r\nL 195.990593 224.64 \r\nL 195.990593 182.347847 \r\nL 192.815177 182.347847 \r\nz\r\n\" style=\"fill:#1f77b4;\"/>\r\n   </g>\r\n   <g id=\"patch_37\">\r\n    <path clip-path=\"url(#pa26e8b3778)\" d=\"M 196.784447 224.64 \r\nL 199.959863 224.64 \r\nL 199.959863 211.514849 \r\nL 196.784447 211.514849 \r\nz\r\n\" style=\"fill:#1f77b4;\"/>\r\n   </g>\r\n   <g id=\"patch_38\">\r\n    <path clip-path=\"url(#pa26e8b3778)\" d=\"M 200.753717 224.64 \r\nL 203.929133 224.64 \r\nL 203.929133 94.846848 \r\nL 200.753717 94.846848 \r\nz\r\n\" style=\"fill:#1f77b4;\"/>\r\n   </g>\r\n   <g id=\"patch_39\">\r\n    <path clip-path=\"url(#pa26e8b3778)\" d=\"M 204.722987 224.64 \r\nL 207.898403 224.64 \r\nL 207.898403 210.056499 \r\nL 204.722987 210.056499 \r\nz\r\n\" style=\"fill:#1f77b4;\"/>\r\n   </g>\r\n   <g id=\"patch_40\">\r\n    <path clip-path=\"url(#pa26e8b3778)\" d=\"M 208.692258 224.64 \r\nL 211.867674 224.64 \r\nL 211.867674 214.43155 \r\nL 208.692258 214.43155 \r\nz\r\n\" style=\"fill:#1f77b4;\"/>\r\n   </g>\r\n   <g id=\"patch_41\">\r\n    <path clip-path=\"url(#pa26e8b3778)\" d=\"M 212.661528 224.64 \r\nL 215.836944 224.64 \r\nL 215.836944 199.84805 \r\nL 212.661528 199.84805 \r\nz\r\n\" style=\"fill:#1f77b4;\"/>\r\n   </g>\r\n   <g id=\"patch_42\">\r\n    <path clip-path=\"url(#pa26e8b3778)\" d=\"M 216.630798 224.64 \r\nL 219.806214 224.64 \r\nL 219.806214 177.972798 \r\nL 216.630798 177.972798 \r\nz\r\n\" style=\"fill:#1f77b4;\"/>\r\n   </g>\r\n   <g id=\"patch_43\">\r\n    <path clip-path=\"url(#pa26e8b3778)\" d=\"M 220.600068 224.64 \r\nL 223.775484 224.64 \r\nL 223.775484 204.223099 \r\nL 220.600068 204.223099 \r\nz\r\n\" style=\"fill:#1f77b4;\"/>\r\n   </g>\r\n   <g id=\"patch_44\">\r\n    <path clip-path=\"url(#pa26e8b3778)\" d=\"M 224.569338 224.64 \r\nL 227.744754 224.64 \r\nL 227.744754 182.347847 \r\nL 224.569338 182.347847 \r\nz\r\n\" style=\"fill:#1f77b4;\"/>\r\n   </g>\r\n   <g id=\"patch_45\">\r\n    <path clip-path=\"url(#pa26e8b3778)\" d=\"M 228.538608 224.64 \r\nL 231.714024 224.64 \r\nL 231.714024 144.430744 \r\nL 228.538608 144.430744 \r\nz\r\n\" style=\"fill:#1f77b4;\"/>\r\n   </g>\r\n   <g id=\"patch_46\">\r\n    <path clip-path=\"url(#pa26e8b3778)\" d=\"M 232.507879 224.64 \r\nL 235.683295 224.64 \r\nL 235.683295 195.472999 \r\nL 232.507879 195.472999 \r\nz\r\n\" style=\"fill:#1f77b4;\"/>\r\n   </g>\r\n   <g id=\"patch_47\">\r\n    <path clip-path=\"url(#pa26e8b3778)\" d=\"M 236.477149 224.64 \r\nL 239.652565 224.64 \r\nL 239.652565 198.389699 \r\nL 236.477149 198.389699 \r\nz\r\n\" style=\"fill:#1f77b4;\"/>\r\n   </g>\r\n   <g id=\"patch_48\">\r\n    <path clip-path=\"url(#pa26e8b3778)\" d=\"M 240.446419 224.64 \r\nL 243.621835 224.64 \r\nL 243.621835 176.514447 \r\nL 240.446419 176.514447 \r\nz\r\n\" style=\"fill:#1f77b4;\"/>\r\n   </g>\r\n   <g id=\"patch_49\">\r\n    <path clip-path=\"url(#pa26e8b3778)\" d=\"M 244.415689 224.64 \r\nL 247.591105 224.64 \r\nL 247.591105 211.514849 \r\nL 244.415689 211.514849 \r\nz\r\n\" style=\"fill:#1f77b4;\"/>\r\n   </g>\r\n   <g id=\"patch_50\">\r\n    <path clip-path=\"url(#pa26e8b3778)\" d=\"M 248.384959 224.64 \r\nL 251.560375 224.64 \r\nL 251.560375 221.7233 \r\nL 248.384959 221.7233 \r\nz\r\n\" style=\"fill:#1f77b4;\"/>\r\n   </g>\r\n   <g id=\"patch_51\">\r\n    <path clip-path=\"url(#pa26e8b3778)\" d=\"M 252.354229 224.64 \r\nL 255.529645 224.64 \r\nL 255.529645 211.514849 \r\nL 252.354229 211.514849 \r\nz\r\n\" style=\"fill:#1f77b4;\"/>\r\n   </g>\r\n   <g id=\"patch_52\">\r\n    <path clip-path=\"url(#pa26e8b3778)\" d=\"M 256.3235 224.64 \r\nL 259.498916 224.64 \r\nL 259.498916 201.306399 \r\nL 256.3235 201.306399 \r\nz\r\n\" style=\"fill:#1f77b4;\"/>\r\n   </g>\r\n   <g id=\"patch_53\">\r\n    <path clip-path=\"url(#pa26e8b3778)\" d=\"M 260.29277 224.64 \r\nL 263.468186 224.64 \r\nL 263.468186 223.18165 \r\nL 260.29277 223.18165 \r\nz\r\n\" style=\"fill:#1f77b4;\"/>\r\n   </g>\r\n   <g id=\"patch_54\">\r\n    <path clip-path=\"url(#pa26e8b3778)\" d=\"M 264.26204 224.64 \r\nL 267.437456 224.64 \r\nL 267.437456 223.18165 \r\nL 264.26204 223.18165 \r\nz\r\n\" style=\"fill:#1f77b4;\"/>\r\n   </g>\r\n   <g id=\"patch_55\">\r\n    <path clip-path=\"url(#pa26e8b3778)\" d=\"M 268.23131 224.64 \r\nL 271.406726 224.64 \r\nL 271.406726 214.43155 \r\nL 268.23131 214.43155 \r\nz\r\n\" style=\"fill:#1f77b4;\"/>\r\n   </g>\r\n   <g id=\"patch_56\">\r\n    <path clip-path=\"url(#pa26e8b3778)\" d=\"M 272.20058 224.64 \r\nL 275.375996 224.64 \r\nL 275.375996 214.43155 \r\nL 272.20058 214.43155 \r\nz\r\n\" style=\"fill:#1f77b4;\"/>\r\n   </g>\r\n   <g id=\"patch_57\">\r\n    <path clip-path=\"url(#pa26e8b3778)\" d=\"M 276.16985 224.64 \r\nL 279.345266 224.64 \r\nL 279.345266 211.514849 \r\nL 276.16985 211.514849 \r\nz\r\n\" style=\"fill:#1f77b4;\"/>\r\n   </g>\r\n   <g id=\"patch_58\">\r\n    <path clip-path=\"url(#pa26e8b3778)\" d=\"M 280.139121 224.64 \r\nL 283.314537 224.64 \r\nL 283.314537 202.76475 \r\nL 280.139121 202.76475 \r\nz\r\n\" style=\"fill:#1f77b4;\"/>\r\n   </g>\r\n   <g id=\"patch_59\">\r\n    <path clip-path=\"url(#pa26e8b3778)\" d=\"M 284.108391 224.64 \r\nL 287.283807 224.64 \r\nL 287.283807 215.8899 \r\nL 284.108391 215.8899 \r\nz\r\n\" style=\"fill:#1f77b4;\"/>\r\n   </g>\r\n   <g id=\"patch_60\">\r\n    <path clip-path=\"url(#pa26e8b3778)\" d=\"M 288.077661 224.64 \r\nL 291.253077 224.64 \r\nL 291.253077 188.181248 \r\nL 288.077661 188.181248 \r\nz\r\n\" style=\"fill:#1f77b4;\"/>\r\n   </g>\r\n   <g id=\"patch_61\">\r\n    <path clip-path=\"url(#pa26e8b3778)\" d=\"M 292.046931 224.64 \r\nL 295.222347 224.64 \r\nL 295.222347 224.64 \r\nL 292.046931 224.64 \r\nz\r\n\" style=\"fill:#1f77b4;\"/>\r\n   </g>\r\n   <g id=\"patch_62\">\r\n    <path clip-path=\"url(#pa26e8b3778)\" d=\"M 296.016201 224.64 \r\nL 299.191617 224.64 \r\nL 299.191617 223.18165 \r\nL 296.016201 223.18165 \r\nz\r\n\" style=\"fill:#1f77b4;\"/>\r\n   </g>\r\n   <g id=\"patch_63\">\r\n    <path clip-path=\"url(#pa26e8b3778)\" d=\"M 299.985471 224.64 \r\nL 303.160887 224.64 \r\nL 303.160887 167.764349 \r\nL 299.985471 167.764349 \r\nz\r\n\" style=\"fill:#1f77b4;\"/>\r\n   </g>\r\n   <g id=\"patch_64\">\r\n    <path clip-path=\"url(#pa26e8b3778)\" d=\"M 303.954742 224.64 \r\nL 307.130158 224.64 \r\nL 307.130158 208.598149 \r\nL 303.954742 208.598149 \r\nz\r\n\" style=\"fill:#1f77b4;\"/>\r\n   </g>\r\n   <g id=\"patch_65\">\r\n    <path clip-path=\"url(#pa26e8b3778)\" d=\"M 307.924012 224.64 \r\nL 311.099428 224.64 \r\nL 311.099428 208.598149 \r\nL 307.924012 208.598149 \r\nz\r\n\" style=\"fill:#1f77b4;\"/>\r\n   </g>\r\n   <g id=\"patch_66\">\r\n    <path clip-path=\"url(#pa26e8b3778)\" d=\"M 311.893282 224.64 \r\nL 315.068698 224.64 \r\nL 315.068698 212.9732 \r\nL 311.893282 212.9732 \r\nz\r\n\" style=\"fill:#1f77b4;\"/>\r\n   </g>\r\n   <g id=\"patch_67\">\r\n    <path clip-path=\"url(#pa26e8b3778)\" d=\"M 315.862552 224.64 \r\nL 319.037968 224.64 \r\nL 319.037968 173.597749 \r\nL 315.862552 173.597749 \r\nz\r\n\" style=\"fill:#1f77b4;\"/>\r\n   </g>\r\n   <g id=\"patch_68\">\r\n    <path clip-path=\"url(#pa26e8b3778)\" d=\"M 319.831822 224.64 \r\nL 323.007238 224.64 \r\nL 323.007238 218.8066 \r\nL 319.831822 218.8066 \r\nz\r\n\" style=\"fill:#1f77b4;\"/>\r\n   </g>\r\n   <g id=\"patch_69\">\r\n    <path clip-path=\"url(#pa26e8b3778)\" d=\"M 323.801092 224.64 \r\nL 326.976508 224.64 \r\nL 326.976508 223.18165 \r\nL 323.801092 223.18165 \r\nz\r\n\" style=\"fill:#1f77b4;\"/>\r\n   </g>\r\n   <g id=\"patch_70\">\r\n    <path clip-path=\"url(#pa26e8b3778)\" d=\"M 327.770363 224.64 \r\nL 330.945779 224.64 \r\nL 330.945779 224.64 \r\nL 327.770363 224.64 \r\nz\r\n\" style=\"fill:#1f77b4;\"/>\r\n   </g>\r\n   <g id=\"patch_71\">\r\n    <path clip-path=\"url(#pa26e8b3778)\" d=\"M 331.739633 224.64 \r\nL 334.915049 224.64 \r\nL 334.915049 154.639197 \r\nL 331.739633 154.639197 \r\nz\r\n\" style=\"fill:#1f77b4;\"/>\r\n   </g>\r\n   <g id=\"patch_72\">\r\n    <path clip-path=\"url(#pa26e8b3778)\" d=\"M 335.708903 224.64 \r\nL 338.884319 224.64 \r\nL 338.884319 176.514447 \r\nL 335.708903 176.514447 \r\nz\r\n\" style=\"fill:#1f77b4;\"/>\r\n   </g>\r\n   <g id=\"patch_73\">\r\n    <path clip-path=\"url(#pa26e8b3778)\" d=\"M 339.678173 224.64 \r\nL 342.853589 224.64 \r\nL 342.853589 212.9732 \r\nL 339.678173 212.9732 \r\nz\r\n\" style=\"fill:#1f77b4;\"/>\r\n   </g>\r\n   <g id=\"patch_74\">\r\n    <path clip-path=\"url(#pa26e8b3778)\" d=\"M 343.647443 224.64 \r\nL 346.822859 224.64 \r\nL 346.822859 172.139398 \r\nL 343.647443 172.139398 \r\nz\r\n\" style=\"fill:#1f77b4;\"/>\r\n   </g>\r\n   <g id=\"patch_75\">\r\n    <path clip-path=\"url(#pa26e8b3778)\" d=\"M 347.616713 224.64 \r\nL 350.792129 224.64 \r\nL 350.792129 224.64 \r\nL 347.616713 224.64 \r\nz\r\n\" style=\"fill:#1f77b4;\"/>\r\n   </g>\r\n   <g id=\"patch_76\">\r\n    <path clip-path=\"url(#pa26e8b3778)\" d=\"M 351.585984 224.64 \r\nL 354.7614 224.64 \r\nL 354.7614 81.721701 \r\nL 351.585984 81.721701 \r\nz\r\n\" style=\"fill:#1f77b4;\"/>\r\n   </g>\r\n   <g id=\"patch_77\">\r\n    <path clip-path=\"url(#pa26e8b3778)\" d=\"M 355.555254 224.64 \r\nL 358.73067 224.64 \r\nL 358.73067 212.9732 \r\nL 355.555254 212.9732 \r\nz\r\n\" style=\"fill:#1f77b4;\"/>\r\n   </g>\r\n   <g id=\"patch_78\">\r\n    <path clip-path=\"url(#pa26e8b3778)\" d=\"M 359.524524 224.64 \r\nL 362.69994 224.64 \r\nL 362.69994 214.43155 \r\nL 359.524524 214.43155 \r\nz\r\n\" style=\"fill:#1f77b4;\"/>\r\n   </g>\r\n   <g id=\"patch_79\">\r\n    <path clip-path=\"url(#pa26e8b3778)\" d=\"M 363.493794 224.64 \r\nL 366.66921 224.64 \r\nL 366.66921 169.2227 \r\nL 363.493794 169.2227 \r\nz\r\n\" style=\"fill:#1f77b4;\"/>\r\n   </g>\r\n   <g id=\"patch_80\">\r\n    <path clip-path=\"url(#pa26e8b3778)\" d=\"M 367.463064 224.64 \r\nL 370.63848 224.64 \r\nL 370.63848 201.306399 \r\nL 367.463064 201.306399 \r\nz\r\n\" style=\"fill:#1f77b4;\"/>\r\n   </g>\r\n   <g id=\"patch_81\">\r\n    <path clip-path=\"url(#pa26e8b3778)\" d=\"M 371.432334 224.64 \r\nL 374.60775 224.64 \r\nL 374.60775 220.26495 \r\nL 371.432334 220.26495 \r\nz\r\n\" style=\"fill:#1f77b4;\"/>\r\n   </g>\r\n   <g id=\"patch_82\">\r\n    <path clip-path=\"url(#pa26e8b3778)\" d=\"M 375.401605 224.64 \r\nL 378.577021 224.64 \r\nL 378.577021 224.64 \r\nL 375.401605 224.64 \r\nz\r\n\" style=\"fill:#1f77b4;\"/>\r\n   </g>\r\n   <g id=\"patch_83\">\r\n    <path clip-path=\"url(#pa26e8b3778)\" d=\"M 379.370875 224.64 \r\nL 382.546291 224.64 \r\nL 382.546291 217.34825 \r\nL 379.370875 217.34825 \r\nz\r\n\" style=\"fill:#1f77b4;\"/>\r\n   </g>\r\n   <g id=\"patch_84\">\r\n    <path clip-path=\"url(#pa26e8b3778)\" d=\"M 383.340145 224.64 \r\nL 386.515561 224.64 \r\nL 386.515561 224.64 \r\nL 383.340145 224.64 \r\nz\r\n\" style=\"fill:#1f77b4;\"/>\r\n   </g>\r\n   <g id=\"patch_85\">\r\n    <path clip-path=\"url(#pa26e8b3778)\" d=\"M 387.309415 224.64 \r\nL 390.484831 224.64 \r\nL 390.484831 201.306399 \r\nL 387.309415 201.306399 \r\nz\r\n\" style=\"fill:#1f77b4;\"/>\r\n   </g>\r\n   <g id=\"patch_86\">\r\n    <path clip-path=\"url(#pa26e8b3778)\" d=\"M 391.278685 224.64 \r\nL 394.454101 224.64 \r\nL 394.454101 211.514849 \r\nL 391.278685 211.514849 \r\nz\r\n\" style=\"fill:#1f77b4;\"/>\r\n   </g>\r\n   <g id=\"patch_87\">\r\n    <path clip-path=\"url(#pa26e8b3778)\" d=\"M 395.247955 224.64 \r\nL 398.423371 224.64 \r\nL 398.423371 221.7233 \r\nL 395.247955 221.7233 \r\nz\r\n\" style=\"fill:#1f77b4;\"/>\r\n   </g>\r\n   <g id=\"patch_88\">\r\n    <path clip-path=\"url(#pa26e8b3778)\" d=\"M 399.217226 224.64 \r\nL 402.392642 224.64 \r\nL 402.392642 220.26495 \r\nL 399.217226 220.26495 \r\nz\r\n\" style=\"fill:#1f77b4;\"/>\r\n   </g>\r\n   <g id=\"patch_89\">\r\n    <path clip-path=\"url(#pa26e8b3778)\" d=\"M 403.186496 224.64 \r\nL 406.361912 224.64 \r\nL 406.361912 204.223099 \r\nL 403.186496 204.223099 \r\nz\r\n\" style=\"fill:#1f77b4;\"/>\r\n   </g>\r\n   <g id=\"patch_90\">\r\n    <path clip-path=\"url(#pa26e8b3778)\" d=\"M 407.155766 224.64 \r\nL 410.331182 224.64 \r\nL 410.331182 202.76475 \r\nL 407.155766 202.76475 \r\nz\r\n\" style=\"fill:#1f77b4;\"/>\r\n   </g>\r\n   <g id=\"patch_91\">\r\n    <path clip-path=\"url(#pa26e8b3778)\" d=\"M 411.125036 224.64 \r\nL 414.300452 224.64 \r\nL 414.300452 195.472999 \r\nL 411.125036 195.472999 \r\nz\r\n\" style=\"fill:#1f77b4;\"/>\r\n   </g>\r\n   <g id=\"patch_92\">\r\n    <path clip-path=\"url(#pa26e8b3778)\" d=\"M 415.094306 224.64 \r\nL 418.269722 224.64 \r\nL 418.269722 179.431149 \r\nL 415.094306 179.431149 \r\nz\r\n\" style=\"fill:#1f77b4;\"/>\r\n   </g>\r\n   <g id=\"patch_93\">\r\n    <path clip-path=\"url(#pa26e8b3778)\" d=\"M 419.063576 224.64 \r\nL 422.238992 224.64 \r\nL 422.238992 220.26495 \r\nL 419.063576 220.26495 \r\nz\r\n\" style=\"fill:#1f77b4;\"/>\r\n   </g>\r\n   <g id=\"patch_94\">\r\n    <path clip-path=\"url(#pa26e8b3778)\" d=\"M 423.032847 224.64 \r\nL 426.208263 224.64 \r\nL 426.208263 224.64 \r\nL 423.032847 224.64 \r\nz\r\n\" style=\"fill:#1f77b4;\"/>\r\n   </g>\r\n   <g id=\"patch_95\">\r\n    <path clip-path=\"url(#pa26e8b3778)\" d=\"M 427.002117 224.64 \r\nL 430.177533 224.64 \r\nL 430.177533 207.139799 \r\nL 427.002117 207.139799 \r\nz\r\n\" style=\"fill:#1f77b4;\"/>\r\n   </g>\r\n   <g id=\"patch_96\">\r\n    <path clip-path=\"url(#pa26e8b3778)\" d=\"M 430.971387 224.64 \r\nL 434.146803 224.64 \r\nL 434.146803 202.76475 \r\nL 430.971387 202.76475 \r\nz\r\n\" style=\"fill:#1f77b4;\"/>\r\n   </g>\r\n   <g id=\"patch_97\">\r\n    <path clip-path=\"url(#pa26e8b3778)\" d=\"M 434.940657 224.64 \r\nL 438.116073 224.64 \r\nL 438.116073 224.64 \r\nL 434.940657 224.64 \r\nz\r\n\" style=\"fill:#1f77b4;\"/>\r\n   </g>\r\n   <g id=\"patch_98\">\r\n    <path clip-path=\"url(#pa26e8b3778)\" d=\"M 438.909927 224.64 \r\nL 442.085343 224.64 \r\nL 442.085343 211.514849 \r\nL 438.909927 211.514849 \r\nz\r\n\" style=\"fill:#1f77b4;\"/>\r\n   </g>\r\n   <g id=\"patch_99\">\r\n    <path clip-path=\"url(#pa26e8b3778)\" d=\"M 442.879197 224.64 \r\nL 446.054613 224.64 \r\nL 446.054613 124.013845 \r\nL 442.879197 124.013845 \r\nz\r\n\" style=\"fill:#1f77b4;\"/>\r\n   </g>\r\n   <g id=\"patch_100\">\r\n    <path clip-path=\"url(#pa26e8b3778)\" d=\"M 446.848468 224.64 \r\nL 450.023884 224.64 \r\nL 450.023884 224.64 \r\nL 446.848468 224.64 \r\nz\r\n\" style=\"fill:#1f77b4;\"/>\r\n   </g>\r\n   <g id=\"patch_101\">\r\n    <path clip-path=\"url(#pa26e8b3778)\" d=\"M 450.817738 224.64 \r\nL 453.993154 224.64 \r\nL 453.993154 195.472999 \r\nL 450.817738 195.472999 \r\nz\r\n\" style=\"fill:#1f77b4;\"/>\r\n   </g>\r\n   <g id=\"patch_102\">\r\n    <path clip-path=\"url(#pa26e8b3778)\" d=\"M 454.787008 224.64 \r\nL 457.962424 224.64 \r\nL 457.962424 115.263747 \r\nL 454.787008 115.263747 \r\nz\r\n\" style=\"fill:#1f77b4;\"/>\r\n   </g>\r\n   <g id=\"patch_103\">\r\n    <path clip-path=\"url(#pa26e8b3778)\" d=\"M 458.756278 224.64 \r\nL 461.931694 224.64 \r\nL 461.931694 74.429941 \r\nL 458.756278 74.429941 \r\nz\r\n\" style=\"fill:#1f77b4;\"/>\r\n   </g>\r\n   <g id=\"patch_104\">\r\n    <path clip-path=\"url(#pa26e8b3778)\" d=\"M 462.725548 224.64 \r\nL 465.900964 224.64 \r\nL 465.900964 103.596946 \r\nL 462.725548 103.596946 \r\nz\r\n\" style=\"fill:#1f77b4;\"/>\r\n   </g>\r\n   <g id=\"patch_105\">\r\n    <path clip-path=\"url(#pa26e8b3778)\" d=\"M 466.694818 224.64 \r\nL 469.870234 224.64 \r\nL 469.870234 224.64 \r\nL 466.694818 224.64 \r\nz\r\n\" style=\"fill:#1f77b4;\"/>\r\n   </g>\r\n   <g id=\"patch_106\">\r\n    <path clip-path=\"url(#pa26e8b3778)\" d=\"M 470.664089 224.64 \r\nL 473.839505 224.64 \r\nL 473.839505 202.76475 \r\nL 470.664089 202.76475 \r\nz\r\n\" style=\"fill:#1f77b4;\"/>\r\n   </g>\r\n   <g id=\"patch_107\">\r\n    <path clip-path=\"url(#pa26e8b3778)\" d=\"M 474.633359 224.64 \r\nL 477.808775 224.64 \r\nL 477.808775 223.18165 \r\nL 474.633359 223.18165 \r\nz\r\n\" style=\"fill:#1f77b4;\"/>\r\n   </g>\r\n   <g id=\"patch_108\">\r\n    <path clip-path=\"url(#pa26e8b3778)\" d=\"M 478.602629 224.64 \r\nL 481.778045 224.64 \r\nL 481.778045 207.139799 \r\nL 478.602629 207.139799 \r\nz\r\n\" style=\"fill:#1f77b4;\"/>\r\n   </g>\r\n   <g id=\"patch_109\">\r\n    <path clip-path=\"url(#pa26e8b3778)\" d=\"M 482.571899 224.64 \r\nL 485.747315 224.64 \r\nL 485.747315 17.554286 \r\nL 482.571899 17.554286 \r\nz\r\n\" style=\"fill:#1f77b4;\"/>\r\n   </g>\r\n   <g id=\"patch_110\">\r\n    <path clip-path=\"url(#pa26e8b3778)\" d=\"M 486.541169 224.64 \r\nL 489.716585 224.64 \r\nL 489.716585 224.64 \r\nL 486.541169 224.64 \r\nz\r\n\" style=\"fill:#1f77b4;\"/>\r\n   </g>\r\n   <g id=\"patch_111\">\r\n    <path clip-path=\"url(#pa26e8b3778)\" d=\"M 490.510439 224.64 \r\nL 493.685855 224.64 \r\nL 493.685855 195.472999 \r\nL 490.510439 195.472999 \r\nz\r\n\" style=\"fill:#1f77b4;\"/>\r\n   </g>\r\n   <g id=\"patch_112\">\r\n    <path clip-path=\"url(#pa26e8b3778)\" d=\"M 494.47971 224.64 \r\nL 497.655126 224.64 \r\nL 497.655126 191.09795 \r\nL 494.47971 191.09795 \r\nz\r\n\" style=\"fill:#1f77b4;\"/>\r\n   </g>\r\n   <g id=\"patch_113\">\r\n    <path clip-path=\"url(#pa26e8b3778)\" d=\"M 498.44898 224.64 \r\nL 501.624396 224.64 \r\nL 501.624396 186.722901 \r\nL 498.44898 186.722901 \r\nz\r\n\" style=\"fill:#1f77b4;\"/>\r\n   </g>\r\n   <g id=\"patch_114\">\r\n    <path clip-path=\"url(#pa26e8b3778)\" d=\"M 502.41825 224.64 \r\nL 505.593666 224.64 \r\nL 505.593666 221.7233 \r\nL 502.41825 221.7233 \r\nz\r\n\" style=\"fill:#1f77b4;\"/>\r\n   </g>\r\n   <g id=\"patch_115\">\r\n    <path clip-path=\"url(#pa26e8b3778)\" d=\"M 506.38752 224.64 \r\nL 509.562936 224.64 \r\nL 509.562936 224.64 \r\nL 506.38752 224.64 \r\nz\r\n\" style=\"fill:#1f77b4;\"/>\r\n   </g>\r\n   <g id=\"patch_116\">\r\n    <path clip-path=\"url(#pa26e8b3778)\" d=\"M 510.35679 224.64 \r\nL 513.532206 224.64 \r\nL 513.532206 179.431149 \r\nL 510.35679 179.431149 \r\nz\r\n\" style=\"fill:#1f77b4;\"/>\r\n   </g>\r\n   <g id=\"patch_117\">\r\n    <path clip-path=\"url(#pa26e8b3778)\" d=\"M 514.32606 224.64 \r\nL 517.501476 224.64 \r\nL 517.501476 224.64 \r\nL 514.32606 224.64 \r\nz\r\n\" style=\"fill:#1f77b4;\"/>\r\n   </g>\r\n   <g id=\"patch_118\">\r\n    <path clip-path=\"url(#pa26e8b3778)\" d=\"M 518.295331 224.64 \r\nL 521.470747 224.64 \r\nL 521.470747 224.64 \r\nL 518.295331 224.64 \r\nz\r\n\" style=\"fill:#1f77b4;\"/>\r\n   </g>\r\n   <g id=\"patch_119\">\r\n    <path clip-path=\"url(#pa26e8b3778)\" d=\"M 522.264601 224.64 \r\nL 525.440017 224.64 \r\nL 525.440017 160.472597 \r\nL 522.264601 160.472597 \r\nz\r\n\" style=\"fill:#1f77b4;\"/>\r\n   </g>\r\n   <g id=\"patch_120\">\r\n    <path clip-path=\"url(#pa26e8b3778)\" d=\"M 526.233871 224.64 \r\nL 529.409287 224.64 \r\nL 529.409287 214.43155 \r\nL 526.233871 214.43155 \r\nz\r\n\" style=\"fill:#1f77b4;\"/>\r\n   </g>\r\n   <g id=\"patch_121\">\r\n    <path clip-path=\"url(#pa26e8b3778)\" d=\"M 530.203141 224.64 \r\nL 533.378557 224.64 \r\nL 533.378557 224.64 \r\nL 530.203141 224.64 \r\nz\r\n\" style=\"fill:#1f77b4;\"/>\r\n   </g>\r\n   <g id=\"patch_122\">\r\n    <path clip-path=\"url(#pa26e8b3778)\" d=\"M 534.172411 224.64 \r\nL 537.347827 224.64 \r\nL 537.347827 223.18165 \r\nL 534.172411 223.18165 \r\nz\r\n\" style=\"fill:#1f77b4;\"/>\r\n   </g>\r\n   <g id=\"patch_123\">\r\n    <path clip-path=\"url(#pa26e8b3778)\" d=\"M 538.141681 224.64 \r\nL 541.317097 224.64 \r\nL 541.317097 201.306399 \r\nL 538.141681 201.306399 \r\nz\r\n\" style=\"fill:#1f77b4;\"/>\r\n   </g>\r\n   <g id=\"patch_124\">\r\n    <path clip-path=\"url(#pa26e8b3778)\" d=\"M 542.110952 224.64 \r\nL 545.286368 224.64 \r\nL 545.286368 223.18165 \r\nL 542.110952 223.18165 \r\nz\r\n\" style=\"fill:#1f77b4;\"/>\r\n   </g>\r\n   <g id=\"patch_125\">\r\n    <path clip-path=\"url(#pa26e8b3778)\" d=\"M 546.080222 224.64 \r\nL 549.255638 224.64 \r\nL 549.255638 208.598149 \r\nL 546.080222 208.598149 \r\nz\r\n\" style=\"fill:#1f77b4;\"/>\r\n   </g>\r\n   <g id=\"patch_126\">\r\n    <path clip-path=\"url(#pa26e8b3778)\" d=\"M 550.049492 224.64 \r\nL 553.224908 224.64 \r\nL 553.224908 128.388894 \r\nL 550.049492 128.388894 \r\nz\r\n\" style=\"fill:#1f77b4;\"/>\r\n   </g>\r\n   <g id=\"patch_127\">\r\n    <path clip-path=\"url(#pa26e8b3778)\" d=\"M 554.018762 224.64 \r\nL 557.194178 224.64 \r\nL 557.194178 176.514447 \r\nL 554.018762 176.514447 \r\nz\r\n\" style=\"fill:#1f77b4;\"/>\r\n   </g>\r\n   <g id=\"patch_128\">\r\n    <path clip-path=\"url(#pa26e8b3778)\" d=\"M 557.988032 224.64 \r\nL 561.163448 224.64 \r\nL 561.163448 189.639599 \r\nL 557.988032 189.639599 \r\nz\r\n\" style=\"fill:#1f77b4;\"/>\r\n   </g>\r\n   <g id=\"patch_129\">\r\n    <path clip-path=\"url(#pa26e8b3778)\" d=\"M 561.957302 224.64 \r\nL 565.132718 224.64 \r\nL 565.132718 159.014246 \r\nL 561.957302 159.014246 \r\nz\r\n\" style=\"fill:#1f77b4;\"/>\r\n   </g>\r\n   <g id=\"patch_130\">\r\n    <path clip-path=\"url(#pa26e8b3778)\" d=\"M 565.926573 224.64 \r\nL 569.101989 224.64 \r\nL 569.101989 170.681047 \r\nL 565.926573 170.681047 \r\nz\r\n\" style=\"fill:#1f77b4;\"/>\r\n   </g>\r\n   <g id=\"matplotlib.axis_1\">\r\n    <g id=\"xtick_1\">\r\n     <g id=\"line2d_1\">\r\n      <defs>\r\n       <path d=\"M 0 0 \r\nL 0 3.5 \r\n\" id=\"maca6b4c588\" style=\"stroke:#000000;stroke-width:0.8;\"/>\r\n      </defs>\r\n      <g>\r\n       <use style=\"stroke:#000000;stroke-width:0.8;\" x=\"63.416969\" xlink:href=\"#maca6b4c588\" y=\"224.64\"/>\r\n      </g>\r\n     </g>\r\n     <g id=\"text_1\">\r\n      <!-- 0 -->\r\n      <g transform=\"translate(60.235719 239.238437)scale(0.1 -0.1)\">\r\n       <defs>\r\n        <path d=\"M 31.78125 66.40625 \r\nQ 24.171875 66.40625 20.328125 58.90625 \r\nQ 16.5 51.421875 16.5 36.375 \r\nQ 16.5 21.390625 20.328125 13.890625 \r\nQ 24.171875 6.390625 31.78125 6.390625 \r\nQ 39.453125 6.390625 43.28125 13.890625 \r\nQ 47.125 21.390625 47.125 36.375 \r\nQ 47.125 51.421875 43.28125 58.90625 \r\nQ 39.453125 66.40625 31.78125 66.40625 \r\nz\r\nM 31.78125 74.21875 \r\nQ 44.046875 74.21875 50.515625 64.515625 \r\nQ 56.984375 54.828125 56.984375 36.375 \r\nQ 56.984375 17.96875 50.515625 8.265625 \r\nQ 44.046875 -1.421875 31.78125 -1.421875 \r\nQ 19.53125 -1.421875 13.0625 8.265625 \r\nQ 6.59375 17.96875 6.59375 36.375 \r\nQ 6.59375 54.828125 13.0625 64.515625 \r\nQ 19.53125 74.21875 31.78125 74.21875 \r\nz\r\n\" id=\"DejaVuSans-48\"/>\r\n       </defs>\r\n       <use xlink:href=\"#DejaVuSans-48\"/>\r\n      </g>\r\n     </g>\r\n    </g>\r\n    <g id=\"xtick_2\">\r\n     <g id=\"line2d_2\">\r\n      <g>\r\n       <use style=\"stroke:#000000;stroke-width:0.8;\" x=\"142.802373\" xlink:href=\"#maca6b4c588\" y=\"224.64\"/>\r\n      </g>\r\n     </g>\r\n     <g id=\"text_2\">\r\n      <!-- 20 -->\r\n      <g transform=\"translate(136.439873 239.238437)scale(0.1 -0.1)\">\r\n       <defs>\r\n        <path d=\"M 19.1875 8.296875 \r\nL 53.609375 8.296875 \r\nL 53.609375 0 \r\nL 7.328125 0 \r\nL 7.328125 8.296875 \r\nQ 12.9375 14.109375 22.625 23.890625 \r\nQ 32.328125 33.6875 34.8125 36.53125 \r\nQ 39.546875 41.84375 41.421875 45.53125 \r\nQ 43.3125 49.21875 43.3125 52.78125 \r\nQ 43.3125 58.59375 39.234375 62.25 \r\nQ 35.15625 65.921875 28.609375 65.921875 \r\nQ 23.96875 65.921875 18.8125 64.3125 \r\nQ 13.671875 62.703125 7.8125 59.421875 \r\nL 7.8125 69.390625 \r\nQ 13.765625 71.78125 18.9375 73 \r\nQ 24.125 74.21875 28.421875 74.21875 \r\nQ 39.75 74.21875 46.484375 68.546875 \r\nQ 53.21875 62.890625 53.21875 53.421875 \r\nQ 53.21875 48.921875 51.53125 44.890625 \r\nQ 49.859375 40.875 45.40625 35.40625 \r\nQ 44.1875 33.984375 37.640625 27.21875 \r\nQ 31.109375 20.453125 19.1875 8.296875 \r\nz\r\n\" id=\"DejaVuSans-50\"/>\r\n       </defs>\r\n       <use xlink:href=\"#DejaVuSans-50\"/>\r\n       <use x=\"63.623047\" xlink:href=\"#DejaVuSans-48\"/>\r\n      </g>\r\n     </g>\r\n    </g>\r\n    <g id=\"xtick_3\">\r\n     <g id=\"line2d_3\">\r\n      <g>\r\n       <use style=\"stroke:#000000;stroke-width:0.8;\" x=\"222.187776\" xlink:href=\"#maca6b4c588\" y=\"224.64\"/>\r\n      </g>\r\n     </g>\r\n     <g id=\"text_3\">\r\n      <!-- 40 -->\r\n      <g transform=\"translate(215.825276 239.238437)scale(0.1 -0.1)\">\r\n       <defs>\r\n        <path d=\"M 37.796875 64.3125 \r\nL 12.890625 25.390625 \r\nL 37.796875 25.390625 \r\nz\r\nM 35.203125 72.90625 \r\nL 47.609375 72.90625 \r\nL 47.609375 25.390625 \r\nL 58.015625 25.390625 \r\nL 58.015625 17.1875 \r\nL 47.609375 17.1875 \r\nL 47.609375 0 \r\nL 37.796875 0 \r\nL 37.796875 17.1875 \r\nL 4.890625 17.1875 \r\nL 4.890625 26.703125 \r\nz\r\n\" id=\"DejaVuSans-52\"/>\r\n       </defs>\r\n       <use xlink:href=\"#DejaVuSans-52\"/>\r\n       <use x=\"63.623047\" xlink:href=\"#DejaVuSans-48\"/>\r\n      </g>\r\n     </g>\r\n    </g>\r\n    <g id=\"xtick_4\">\r\n     <g id=\"line2d_4\">\r\n      <g>\r\n       <use style=\"stroke:#000000;stroke-width:0.8;\" x=\"301.573179\" xlink:href=\"#maca6b4c588\" y=\"224.64\"/>\r\n      </g>\r\n     </g>\r\n     <g id=\"text_4\">\r\n      <!-- 60 -->\r\n      <g transform=\"translate(295.210679 239.238437)scale(0.1 -0.1)\">\r\n       <defs>\r\n        <path d=\"M 33.015625 40.375 \r\nQ 26.375 40.375 22.484375 35.828125 \r\nQ 18.609375 31.296875 18.609375 23.390625 \r\nQ 18.609375 15.53125 22.484375 10.953125 \r\nQ 26.375 6.390625 33.015625 6.390625 \r\nQ 39.65625 6.390625 43.53125 10.953125 \r\nQ 47.40625 15.53125 47.40625 23.390625 \r\nQ 47.40625 31.296875 43.53125 35.828125 \r\nQ 39.65625 40.375 33.015625 40.375 \r\nz\r\nM 52.59375 71.296875 \r\nL 52.59375 62.3125 \r\nQ 48.875 64.0625 45.09375 64.984375 \r\nQ 41.3125 65.921875 37.59375 65.921875 \r\nQ 27.828125 65.921875 22.671875 59.328125 \r\nQ 17.53125 52.734375 16.796875 39.40625 \r\nQ 19.671875 43.65625 24.015625 45.921875 \r\nQ 28.375 48.1875 33.59375 48.1875 \r\nQ 44.578125 48.1875 50.953125 41.515625 \r\nQ 57.328125 34.859375 57.328125 23.390625 \r\nQ 57.328125 12.15625 50.6875 5.359375 \r\nQ 44.046875 -1.421875 33.015625 -1.421875 \r\nQ 20.359375 -1.421875 13.671875 8.265625 \r\nQ 6.984375 17.96875 6.984375 36.375 \r\nQ 6.984375 53.65625 15.1875 63.9375 \r\nQ 23.390625 74.21875 37.203125 74.21875 \r\nQ 40.921875 74.21875 44.703125 73.484375 \r\nQ 48.484375 72.75 52.59375 71.296875 \r\nz\r\n\" id=\"DejaVuSans-54\"/>\r\n       </defs>\r\n       <use xlink:href=\"#DejaVuSans-54\"/>\r\n       <use x=\"63.623047\" xlink:href=\"#DejaVuSans-48\"/>\r\n      </g>\r\n     </g>\r\n    </g>\r\n    <g id=\"xtick_5\">\r\n     <g id=\"line2d_5\">\r\n      <g>\r\n       <use style=\"stroke:#000000;stroke-width:0.8;\" x=\"380.958583\" xlink:href=\"#maca6b4c588\" y=\"224.64\"/>\r\n      </g>\r\n     </g>\r\n     <g id=\"text_5\">\r\n      <!-- 80 -->\r\n      <g transform=\"translate(374.596083 239.238437)scale(0.1 -0.1)\">\r\n       <defs>\r\n        <path d=\"M 31.78125 34.625 \r\nQ 24.75 34.625 20.71875 30.859375 \r\nQ 16.703125 27.09375 16.703125 20.515625 \r\nQ 16.703125 13.921875 20.71875 10.15625 \r\nQ 24.75 6.390625 31.78125 6.390625 \r\nQ 38.8125 6.390625 42.859375 10.171875 \r\nQ 46.921875 13.96875 46.921875 20.515625 \r\nQ 46.921875 27.09375 42.890625 30.859375 \r\nQ 38.875 34.625 31.78125 34.625 \r\nz\r\nM 21.921875 38.8125 \r\nQ 15.578125 40.375 12.03125 44.71875 \r\nQ 8.5 49.078125 8.5 55.328125 \r\nQ 8.5 64.0625 14.71875 69.140625 \r\nQ 20.953125 74.21875 31.78125 74.21875 \r\nQ 42.671875 74.21875 48.875 69.140625 \r\nQ 55.078125 64.0625 55.078125 55.328125 \r\nQ 55.078125 49.078125 51.53125 44.71875 \r\nQ 48 40.375 41.703125 38.8125 \r\nQ 48.828125 37.15625 52.796875 32.3125 \r\nQ 56.78125 27.484375 56.78125 20.515625 \r\nQ 56.78125 9.90625 50.3125 4.234375 \r\nQ 43.84375 -1.421875 31.78125 -1.421875 \r\nQ 19.734375 -1.421875 13.25 4.234375 \r\nQ 6.78125 9.90625 6.78125 20.515625 \r\nQ 6.78125 27.484375 10.78125 32.3125 \r\nQ 14.796875 37.15625 21.921875 38.8125 \r\nz\r\nM 18.3125 54.390625 \r\nQ 18.3125 48.734375 21.84375 45.5625 \r\nQ 25.390625 42.390625 31.78125 42.390625 \r\nQ 38.140625 42.390625 41.71875 45.5625 \r\nQ 45.3125 48.734375 45.3125 54.390625 \r\nQ 45.3125 60.0625 41.71875 63.234375 \r\nQ 38.140625 66.40625 31.78125 66.40625 \r\nQ 25.390625 66.40625 21.84375 63.234375 \r\nQ 18.3125 60.0625 18.3125 54.390625 \r\nz\r\n\" id=\"DejaVuSans-56\"/>\r\n       </defs>\r\n       <use xlink:href=\"#DejaVuSans-56\"/>\r\n       <use x=\"63.623047\" xlink:href=\"#DejaVuSans-48\"/>\r\n      </g>\r\n     </g>\r\n    </g>\r\n    <g id=\"xtick_6\">\r\n     <g id=\"line2d_6\">\r\n      <g>\r\n       <use style=\"stroke:#000000;stroke-width:0.8;\" x=\"460.343986\" xlink:href=\"#maca6b4c588\" y=\"224.64\"/>\r\n      </g>\r\n     </g>\r\n     <g id=\"text_6\">\r\n      <!-- 100 -->\r\n      <g transform=\"translate(450.800236 239.238437)scale(0.1 -0.1)\">\r\n       <defs>\r\n        <path d=\"M 12.40625 8.296875 \r\nL 28.515625 8.296875 \r\nL 28.515625 63.921875 \r\nL 10.984375 60.40625 \r\nL 10.984375 69.390625 \r\nL 28.421875 72.90625 \r\nL 38.28125 72.90625 \r\nL 38.28125 8.296875 \r\nL 54.390625 8.296875 \r\nL 54.390625 0 \r\nL 12.40625 0 \r\nz\r\n\" id=\"DejaVuSans-49\"/>\r\n       </defs>\r\n       <use xlink:href=\"#DejaVuSans-49\"/>\r\n       <use x=\"63.623047\" xlink:href=\"#DejaVuSans-48\"/>\r\n       <use x=\"127.246094\" xlink:href=\"#DejaVuSans-48\"/>\r\n      </g>\r\n     </g>\r\n    </g>\r\n    <g id=\"xtick_7\">\r\n     <g id=\"line2d_7\">\r\n      <g>\r\n       <use style=\"stroke:#000000;stroke-width:0.8;\" x=\"539.729389\" xlink:href=\"#maca6b4c588\" y=\"224.64\"/>\r\n      </g>\r\n     </g>\r\n     <g id=\"text_7\">\r\n      <!-- 120 -->\r\n      <g transform=\"translate(530.185639 239.238437)scale(0.1 -0.1)\">\r\n       <use xlink:href=\"#DejaVuSans-49\"/>\r\n       <use x=\"63.623047\" xlink:href=\"#DejaVuSans-50\"/>\r\n       <use x=\"127.246094\" xlink:href=\"#DejaVuSans-48\"/>\r\n      </g>\r\n     </g>\r\n    </g>\r\n   </g>\r\n   <g id=\"matplotlib.axis_2\">\r\n    <g id=\"ytick_1\">\r\n     <g id=\"line2d_8\">\r\n      <defs>\r\n       <path d=\"M 0 0 \r\nL -3.5 0 \r\n\" id=\"m2b20567d2b\" style=\"stroke:#000000;stroke-width:0.8;\"/>\r\n      </defs>\r\n      <g>\r\n       <use style=\"stroke:#000000;stroke-width:0.8;\" x=\"36.465625\" xlink:href=\"#m2b20567d2b\" y=\"224.64\"/>\r\n      </g>\r\n     </g>\r\n     <g id=\"text_8\">\r\n      <!-- 0.00 -->\r\n      <g transform=\"translate(7.2 228.439219)scale(0.1 -0.1)\">\r\n       <defs>\r\n        <path d=\"M 10.6875 12.40625 \r\nL 21 12.40625 \r\nL 21 0 \r\nL 10.6875 0 \r\nz\r\n\" id=\"DejaVuSans-46\"/>\r\n       </defs>\r\n       <use xlink:href=\"#DejaVuSans-48\"/>\r\n       <use x=\"63.623047\" xlink:href=\"#DejaVuSans-46\"/>\r\n       <use x=\"95.410156\" xlink:href=\"#DejaVuSans-48\"/>\r\n       <use x=\"159.033203\" xlink:href=\"#DejaVuSans-48\"/>\r\n      </g>\r\n     </g>\r\n    </g>\r\n    <g id=\"ytick_2\">\r\n     <g id=\"line2d_9\">\r\n      <g>\r\n       <use style=\"stroke:#000000;stroke-width:0.8;\" x=\"36.465625\" xlink:href=\"#m2b20567d2b\" y=\"197.085673\"/>\r\n      </g>\r\n     </g>\r\n     <g id=\"text_9\">\r\n      <!-- 0.05 -->\r\n      <g transform=\"translate(7.2 200.884892)scale(0.1 -0.1)\">\r\n       <defs>\r\n        <path d=\"M 10.796875 72.90625 \r\nL 49.515625 72.90625 \r\nL 49.515625 64.59375 \r\nL 19.828125 64.59375 \r\nL 19.828125 46.734375 \r\nQ 21.96875 47.46875 24.109375 47.828125 \r\nQ 26.265625 48.1875 28.421875 48.1875 \r\nQ 40.625 48.1875 47.75 41.5 \r\nQ 54.890625 34.8125 54.890625 23.390625 \r\nQ 54.890625 11.625 47.5625 5.09375 \r\nQ 40.234375 -1.421875 26.90625 -1.421875 \r\nQ 22.3125 -1.421875 17.546875 -0.640625 \r\nQ 12.796875 0.140625 7.71875 1.703125 \r\nL 7.71875 11.625 \r\nQ 12.109375 9.234375 16.796875 8.0625 \r\nQ 21.484375 6.890625 26.703125 6.890625 \r\nQ 35.15625 6.890625 40.078125 11.328125 \r\nQ 45.015625 15.765625 45.015625 23.390625 \r\nQ 45.015625 31 40.078125 35.4375 \r\nQ 35.15625 39.890625 26.703125 39.890625 \r\nQ 22.75 39.890625 18.8125 39.015625 \r\nQ 14.890625 38.140625 10.796875 36.28125 \r\nz\r\n\" id=\"DejaVuSans-53\"/>\r\n       </defs>\r\n       <use xlink:href=\"#DejaVuSans-48\"/>\r\n       <use x=\"63.623047\" xlink:href=\"#DejaVuSans-46\"/>\r\n       <use x=\"95.410156\" xlink:href=\"#DejaVuSans-48\"/>\r\n       <use x=\"159.033203\" xlink:href=\"#DejaVuSans-53\"/>\r\n      </g>\r\n     </g>\r\n    </g>\r\n    <g id=\"ytick_3\">\r\n     <g id=\"line2d_10\">\r\n      <g>\r\n       <use style=\"stroke:#000000;stroke-width:0.8;\" x=\"36.465625\" xlink:href=\"#m2b20567d2b\" y=\"169.531346\"/>\r\n      </g>\r\n     </g>\r\n     <g id=\"text_10\">\r\n      <!-- 0.10 -->\r\n      <g transform=\"translate(7.2 173.330565)scale(0.1 -0.1)\">\r\n       <use xlink:href=\"#DejaVuSans-48\"/>\r\n       <use x=\"63.623047\" xlink:href=\"#DejaVuSans-46\"/>\r\n       <use x=\"95.410156\" xlink:href=\"#DejaVuSans-49\"/>\r\n       <use x=\"159.033203\" xlink:href=\"#DejaVuSans-48\"/>\r\n      </g>\r\n     </g>\r\n    </g>\r\n    <g id=\"ytick_4\">\r\n     <g id=\"line2d_11\">\r\n      <g>\r\n       <use style=\"stroke:#000000;stroke-width:0.8;\" x=\"36.465625\" xlink:href=\"#m2b20567d2b\" y=\"141.97702\"/>\r\n      </g>\r\n     </g>\r\n     <g id=\"text_11\">\r\n      <!-- 0.15 -->\r\n      <g transform=\"translate(7.2 145.776238)scale(0.1 -0.1)\">\r\n       <use xlink:href=\"#DejaVuSans-48\"/>\r\n       <use x=\"63.623047\" xlink:href=\"#DejaVuSans-46\"/>\r\n       <use x=\"95.410156\" xlink:href=\"#DejaVuSans-49\"/>\r\n       <use x=\"159.033203\" xlink:href=\"#DejaVuSans-53\"/>\r\n      </g>\r\n     </g>\r\n    </g>\r\n    <g id=\"ytick_5\">\r\n     <g id=\"line2d_12\">\r\n      <g>\r\n       <use style=\"stroke:#000000;stroke-width:0.8;\" x=\"36.465625\" xlink:href=\"#m2b20567d2b\" y=\"114.422693\"/>\r\n      </g>\r\n     </g>\r\n     <g id=\"text_12\">\r\n      <!-- 0.20 -->\r\n      <g transform=\"translate(7.2 118.221912)scale(0.1 -0.1)\">\r\n       <use xlink:href=\"#DejaVuSans-48\"/>\r\n       <use x=\"63.623047\" xlink:href=\"#DejaVuSans-46\"/>\r\n       <use x=\"95.410156\" xlink:href=\"#DejaVuSans-50\"/>\r\n       <use x=\"159.033203\" xlink:href=\"#DejaVuSans-48\"/>\r\n      </g>\r\n     </g>\r\n    </g>\r\n    <g id=\"ytick_6\">\r\n     <g id=\"line2d_13\">\r\n      <g>\r\n       <use style=\"stroke:#000000;stroke-width:0.8;\" x=\"36.465625\" xlink:href=\"#m2b20567d2b\" y=\"86.868366\"/>\r\n      </g>\r\n     </g>\r\n     <g id=\"text_13\">\r\n      <!-- 0.25 -->\r\n      <g transform=\"translate(7.2 90.667585)scale(0.1 -0.1)\">\r\n       <use xlink:href=\"#DejaVuSans-48\"/>\r\n       <use x=\"63.623047\" xlink:href=\"#DejaVuSans-46\"/>\r\n       <use x=\"95.410156\" xlink:href=\"#DejaVuSans-50\"/>\r\n       <use x=\"159.033203\" xlink:href=\"#DejaVuSans-53\"/>\r\n      </g>\r\n     </g>\r\n    </g>\r\n    <g id=\"ytick_7\">\r\n     <g id=\"line2d_14\">\r\n      <g>\r\n       <use style=\"stroke:#000000;stroke-width:0.8;\" x=\"36.465625\" xlink:href=\"#m2b20567d2b\" y=\"59.314039\"/>\r\n      </g>\r\n     </g>\r\n     <g id=\"text_14\">\r\n      <!-- 0.30 -->\r\n      <g transform=\"translate(7.2 63.113258)scale(0.1 -0.1)\">\r\n       <defs>\r\n        <path d=\"M 40.578125 39.3125 \r\nQ 47.65625 37.796875 51.625 33 \r\nQ 55.609375 28.21875 55.609375 21.1875 \r\nQ 55.609375 10.40625 48.1875 4.484375 \r\nQ 40.765625 -1.421875 27.09375 -1.421875 \r\nQ 22.515625 -1.421875 17.65625 -0.515625 \r\nQ 12.796875 0.390625 7.625 2.203125 \r\nL 7.625 11.71875 \r\nQ 11.71875 9.328125 16.59375 8.109375 \r\nQ 21.484375 6.890625 26.8125 6.890625 \r\nQ 36.078125 6.890625 40.9375 10.546875 \r\nQ 45.796875 14.203125 45.796875 21.1875 \r\nQ 45.796875 27.640625 41.28125 31.265625 \r\nQ 36.765625 34.90625 28.71875 34.90625 \r\nL 20.21875 34.90625 \r\nL 20.21875 43.015625 \r\nL 29.109375 43.015625 \r\nQ 36.375 43.015625 40.234375 45.921875 \r\nQ 44.09375 48.828125 44.09375 54.296875 \r\nQ 44.09375 59.90625 40.109375 62.90625 \r\nQ 36.140625 65.921875 28.71875 65.921875 \r\nQ 24.65625 65.921875 20.015625 65.03125 \r\nQ 15.375 64.15625 9.8125 62.3125 \r\nL 9.8125 71.09375 \r\nQ 15.4375 72.65625 20.34375 73.4375 \r\nQ 25.25 74.21875 29.59375 74.21875 \r\nQ 40.828125 74.21875 47.359375 69.109375 \r\nQ 53.90625 64.015625 53.90625 55.328125 \r\nQ 53.90625 49.265625 50.4375 45.09375 \r\nQ 46.96875 40.921875 40.578125 39.3125 \r\nz\r\n\" id=\"DejaVuSans-51\"/>\r\n       </defs>\r\n       <use xlink:href=\"#DejaVuSans-48\"/>\r\n       <use x=\"63.623047\" xlink:href=\"#DejaVuSans-46\"/>\r\n       <use x=\"95.410156\" xlink:href=\"#DejaVuSans-51\"/>\r\n       <use x=\"159.033203\" xlink:href=\"#DejaVuSans-48\"/>\r\n      </g>\r\n     </g>\r\n    </g>\r\n    <g id=\"ytick_8\">\r\n     <g id=\"line2d_15\">\r\n      <g>\r\n       <use style=\"stroke:#000000;stroke-width:0.8;\" x=\"36.465625\" xlink:href=\"#m2b20567d2b\" y=\"31.759712\"/>\r\n      </g>\r\n     </g>\r\n     <g id=\"text_15\">\r\n      <!-- 0.35 -->\r\n      <g transform=\"translate(7.2 35.558931)scale(0.1 -0.1)\">\r\n       <use xlink:href=\"#DejaVuSans-48\"/>\r\n       <use x=\"63.623047\" xlink:href=\"#DejaVuSans-46\"/>\r\n       <use x=\"95.410156\" xlink:href=\"#DejaVuSans-51\"/>\r\n       <use x=\"159.033203\" xlink:href=\"#DejaVuSans-53\"/>\r\n      </g>\r\n     </g>\r\n    </g>\r\n   </g>\r\n   <g id=\"patch_131\">\r\n    <path d=\"M 36.465625 224.64 \r\nL 36.465625 7.2 \r\n\" style=\"fill:none;stroke:#000000;stroke-linecap:square;stroke-linejoin:miter;stroke-width:0.8;\"/>\r\n   </g>\r\n   <g id=\"patch_132\">\r\n    <path d=\"M 594.465625 224.64 \r\nL 594.465625 7.2 \r\n\" style=\"fill:none;stroke:#000000;stroke-linecap:square;stroke-linejoin:miter;stroke-width:0.8;\"/>\r\n   </g>\r\n   <g id=\"patch_133\">\r\n    <path d=\"M 36.465625 224.64 \r\nL 594.465625 224.64 \r\n\" style=\"fill:none;stroke:#000000;stroke-linecap:square;stroke-linejoin:miter;stroke-width:0.8;\"/>\r\n   </g>\r\n   <g id=\"patch_134\">\r\n    <path d=\"M 36.465625 7.2 \r\nL 594.465625 7.2 \r\n\" style=\"fill:none;stroke:#000000;stroke-linecap:square;stroke-linejoin:miter;stroke-width:0.8;\"/>\r\n   </g>\r\n  </g>\r\n </g>\r\n <defs>\r\n  <clipPath id=\"pa26e8b3778\">\r\n   <rect height=\"217.44\" width=\"558\" x=\"36.465625\" y=\"7.2\"/>\r\n  </clipPath>\r\n </defs>\r\n</svg>\r\n",
      "image/png": "[encoded data removed]"
     },
     "metadata": {
      "needs_background": "light"
     }
    }
   ],
   "source": [
    "import matplotlib.pyplot as plt\n",
    "fig, ax = plt.subplots(figsize=(10,4))\n",
    "ax.bar(range(0,len(visual_words[0])),visual_words[1])"
   ]
  },
  {
   "source": [
    "## Norm and scaler data"
   ],
   "cell_type": "markdown",
   "metadata": {}
  },
  {
   "cell_type": "code",
   "execution_count": 268,
   "metadata": {},
   "outputs": [],
   "source": [
    "lin_data = []\n",
    "rbf_data = []\n",
    "hist_data = []\n",
    "\n",
    "def intersection_kernel_cmp(X, Y):\n",
    "    kernel = np.zeros((X.shape[0], Y.shape[0]))\n",
    "\n",
    "    for d in range(X.shape[1]):\n",
    "        column_1 = X[:, d].reshape(-1, 1)\n",
    "        column_2 = Y[:, d].reshape(-1, 1)\n",
    "        kernel += np.minimum(column_1, column_2.T)\n",
    "\n",
    "    return kernel"
   ]
  },
  {
   "source": [
    "## Histogram intersection Kernel without scaler without normalization"
   ],
   "cell_type": "markdown",
   "metadata": {}
  },
  {
   "cell_type": "code",
   "execution_count": 269,
   "metadata": {},
   "outputs": [
    {
     "output_type": "stream",
     "name": "stdout",
     "text": [
      "Histogram kernel without scaler without normalization accuracy: 80.79441760601182\n"
     ]
    }
   ],
   "source": [
    "hist_clf = svm.SVC(kernel=intersection_kernel_cmp)\n",
    "hist_clf.fit(visual_words, train_labels)\n",
    "visual_words_test=np.zeros((len(test_images_filenames),k),dtype=np.float32)\n",
    "\n",
    "for i in range(len(test_images_filenames)):\n",
    "    filename=test_images_filenames[i]\n",
    "    ima=cv2.imread(filename)\n",
    "    gray=cv2.cvtColor(ima,cv2.COLOR_BGR2GRAY)\n",
    "    \n",
    "    des=compute_dense_sift(gray,SIFTdetector, step)\n",
    "    words=codebook.predict(des)\n",
    "    visual_words_test[i,:]=np.bincount(words,minlength=k).reshape(1,-1)\n",
    "\n",
    "scores = cross_val_score(hist_clf, visual_words_test, test_labels, cv=5)\n",
    "hist_accuracy_noNorm_noScaler=scores.mean()*100\n",
    "hist_data.append(hist_accuracy_noNorm_noScaler)\n",
    "\n",
    "\n",
    "print(\"Histogram kernel without scaler without normalization accuracy: {}\".format(hist_accuracy_noNorm_noScaler))\n"
   ]
  },
  {
   "source": [
    "## Histogram intersection Kernel without scaler with normalization (L1, L2, Max)"
   ],
   "cell_type": "markdown",
   "metadata": {}
  },
  {
   "cell_type": "code",
   "execution_count": 270,
   "metadata": {},
   "outputs": [
    {
     "output_type": "stream",
     "name": "stdout",
     "text": [
      "Histogram intersection kernel without scaler with normalization \n\tL1-norm accuracy: 80.1763668430335 \n\tL2-norm accuracy: 80.7936507936508 \n\tMax-norm accuracy: 80.04830917874398\n"
     ]
    }
   ],
   "source": [
    "hist_clf = svm.SVC(kernel=intersection_kernel_cmp)\n",
    "hist_clf.fit(visual_words, train_labels)\n",
    "\n",
    "visual_words_test_L1=np.zeros((len(test_images_filenames),k),dtype=np.float32)\n",
    "visual_words_test_L2=np.zeros((len(test_images_filenames),k),dtype=np.float32)\n",
    "visual_words_test_Max=np.zeros((len(test_images_filenames),k),dtype=np.float32)\n",
    "\n",
    "for i in range(len(test_images_filenames)):\n",
    "    filename=test_images_filenames[i]\n",
    "    ima=cv2.imread(filename)\n",
    "    gray=cv2.cvtColor(ima,cv2.COLOR_BGR2GRAY)\n",
    "    \n",
    "    des=compute_dense_sift(gray,SIFTdetector, step)\n",
    "    words=codebook.predict(des)\n",
    "    visual_words_test_L1[i,:]=normalize(np.bincount(words,minlength=k).reshape(1,-1), norm='l1')\n",
    "    visual_words_test_L2[i,:]=normalize(np.bincount(words,minlength=k).reshape(1,-1), norm='l2')\n",
    "    visual_words_test_Max[i,:]=normalize(np.bincount(words,minlength=k).reshape(1,-1), norm='max')\n",
    "\n",
    "scores_L1 = cross_val_score(hist_clf, visual_words_test_L1, test_labels, cv=5)\n",
    "scores_L2 = cross_val_score(hist_clf, visual_words_test_L2, test_labels, cv=5)\n",
    "scores_Max = cross_val_score(hist_clf, visual_words_test_Max, test_labels, cv=5)\n",
    "\n",
    "hist_accuracy_L1norm_noScaler=scores_L1.mean()*100\n",
    "hist_accuracy_L2norm_noScaler=scores_L2.mean()*100\n",
    "hist_accuracy_Maxnorm_noScaler=scores_Max.mean()*100\n",
    "\n",
    "hist_data.append(hist_accuracy_L1norm_noScaler)\n",
    "hist_data.append(hist_accuracy_L2norm_noScaler)\n",
    "hist_data.append(hist_accuracy_Maxnorm_noScaler)\n",
    "\n",
    "end = time.process_time()\n",
    "time_elapsed = end-start\n",
    "\n",
    "print(\"Histogram intersection kernel without scaler with normalization \\n\\tL1-norm accuracy: {} \\n\\tL2-norm accuracy: {} \\n\\tMax-norm accuracy: {}\".format(hist_accuracy_L1norm_noScaler, hist_accuracy_L2norm_noScaler, hist_accuracy_Maxnorm_noScaler))"
   ]
  },
  {
   "source": [
    "## Histogram intersection Kernel with scaler without normalization (L1, L2, Max)"
   ],
   "cell_type": "markdown",
   "metadata": {}
  },
  {
   "cell_type": "code",
   "execution_count": 271,
   "metadata": {},
   "outputs": [
    {
     "output_type": "stream",
     "name": "stdout",
     "text": [
      "Histogram intersection kernel with scaler with normalization \n\tL1-norm accuracy: 80.4217467985584 \n\tL2-norm accuracy: 80.79441760601182 \n\tMax-norm accuracy: 80.79441760601182\n"
     ]
    }
   ],
   "source": [
    "scaler = StandardScaler()\n",
    "scaler.fit_transform(visual_words)\n",
    "\n",
    "hist_clf = svm.SVC(kernel=intersection_kernel_cmp)\n",
    "hist_clf.fit(visual_words, train_labels)\n",
    "\n",
    "visual_words_test_L1=np.zeros((len(test_images_filenames),k),dtype=np.float32)\n",
    "visual_words_test_L2=np.zeros((len(test_images_filenames),k),dtype=np.float32)\n",
    "visual_words_test_Max=np.zeros((len(test_images_filenames),k),dtype=np.float32)\n",
    "\n",
    "for i in range(len(test_images_filenames)):\n",
    "    filename=test_images_filenames[i]\n",
    "    ima=cv2.imread(filename)\n",
    "    gray=cv2.cvtColor(ima,cv2.COLOR_BGR2GRAY)\n",
    "    \n",
    "    des=compute_dense_sift(gray,SIFTdetector, step)\n",
    "    words=codebook.predict(des)\n",
    "    visual_words_test_L1[i,:]=normalize(np.bincount(words,minlength=k).reshape(1,-1), norm='l1')\n",
    "    visual_words_test_L2[i,:]=normalize(np.bincount(words,minlength=k).reshape(1,-1), norm='l2')\n",
    "    visual_words_test_Max[i,:]=normalize(np.bincount(words,minlength=k).reshape(1,-1), norm='max')\n",
    "\n",
    "visual_words_test_L1=scaler.transform(visual_words_test_L1)\n",
    "visual_words_test_L2=scaler.transform(visual_words_test_L2)\n",
    "visual_words_test_Max=scaler.transform(visual_words_test_Max)\n",
    "\n",
    "\n",
    "scores_L1 = cross_val_score(hist_clf, visual_words_test_L1, test_labels, cv=5)\n",
    "scores_L2 = cross_val_score(hist_clf, visual_words_test_L2, test_labels, cv=5)\n",
    "scores_Max = cross_val_score(hist_clf, visual_words_test_Max, test_labels, cv=5)\n",
    "\n",
    "\n",
    "hist_accuracy_L1norm_scaler=scores_L1.mean()*100\n",
    "hist_accuracy_L2norm_scaler=scores.mean()*100\n",
    "hist_accuracy_Maxnorm_scaler=scores.mean()*100\n",
    "hist_data.append(hist_accuracy_L1norm_scaler)\n",
    "hist_data.append(hist_accuracy_L2norm_scaler)\n",
    "hist_data.append(hist_accuracy_Maxnorm_scaler)\n",
    "\n",
    "\n",
    "\n",
    "end = time.process_time()\n",
    "time_elapsed = end-start\n",
    "\n",
    "\n",
    "print(\"Histogram intersection kernel with scaler with normalization \\n\\tL1-norm accuracy: {} \\n\\tL2-norm accuracy: {} \\n\\tMax-norm accuracy: {}\".format(hist_accuracy_L1norm_scaler, hist_accuracy_L2norm_scaler, hist_accuracy_Maxnorm_scaler))"
   ]
  },
  {
   "source": [
    "## Histogram intersection Kernel with scaler without normalization"
   ],
   "cell_type": "markdown",
   "metadata": {}
  },
  {
   "cell_type": "code",
   "execution_count": 272,
   "metadata": {},
   "outputs": [
    {
     "output_type": "stream",
     "name": "stdout",
     "text": [
      "Histogram intersection kernel with scaler without normalization accuracy: 80.4217467985584\n"
     ]
    }
   ],
   "source": [
    "start = time.process_time()\n",
    "\n",
    "scaler = StandardScaler()\n",
    "scaler.fit_transform(visual_words)\n",
    "\n",
    "\n",
    "hist_clf = svm.SVC(kernel=intersection_kernel_cmp)\n",
    "hist_clf.fit(visual_words, train_labels)\n",
    "\n",
    "visual_words_test=np.zeros((len(test_images_filenames),k),dtype=np.float32)\n",
    "for i in range(len(test_images_filenames)):\n",
    "    filename=test_images_filenames[i]\n",
    "    ima=cv2.imread(filename)\n",
    "    gray=cv2.cvtColor(ima,cv2.COLOR_BGR2GRAY)\n",
    "    \n",
    "    des=compute_dense_sift(gray,SIFTdetector, step)\n",
    "    words=codebook.predict(des)\n",
    "    visual_words_test[i,:]=np.bincount(words,minlength=k).reshape(1,-1)\n",
    "\n",
    "visual_words_test=scaler.transform(visual_words_test)\n",
    "scores = cross_val_score(hist_clf, visual_words_test, test_labels, cv=5)\n",
    "hist_accuracy_noNorm_scaler=scores.mean()*100\n",
    "hist_data.append(hist_accuracy_noNorm_scaler)\n",
    "\n",
    "\n",
    "end = time.process_time()\n",
    "time_elapsed = end-start\n",
    "\n",
    "print(\"Histogram intersection kernel with scaler without normalization accuracy: {}\".format(hist_accuracy_noNorm_scaler))"
   ]
  },
  {
   "source": [
    "## Linear Kernel without scaler without normalization"
   ],
   "cell_type": "markdown",
   "metadata": {}
  },
  {
   "cell_type": "code",
   "execution_count": 273,
   "metadata": {},
   "outputs": [
    {
     "output_type": "stream",
     "name": "stdout",
     "text": [
      "Linear kernel without scaler without normalization accuracy: 66.91358024691358\n"
     ]
    }
   ],
   "source": [
    "start = time.process_time()\n",
    "\n",
    "lin_clf = svm.LinearSVC(max_iter=2000, C=10)\n",
    "lin_clf.fit(visual_words, train_labels)\n",
    "\n",
    "visual_words_test=np.zeros((len(test_images_filenames),k),dtype=np.float32)\n",
    "for i in range(len(test_images_filenames)):\n",
    "    filename=test_images_filenames[i]\n",
    "    ima=cv2.imread(filename)\n",
    "    gray=cv2.cvtColor(ima,cv2.COLOR_BGR2GRAY)\n",
    "    \n",
    "    des=compute_dense_sift(gray,SIFTdetector, step)\n",
    "    words=codebook.predict(des)\n",
    "    visual_words_test[i,:]=np.bincount(words,minlength=k).reshape(1,-1)\n",
    "\n",
    "scores = cross_val_score(lin_clf, visual_words_test, test_labels, cv=5)\n",
    "lin_accuracy_noNorm_noScaler=scores.mean()*100\n",
    "lin_data.append(lin_accuracy_noNorm_noScaler)\n",
    "\n",
    "end = time.process_time()\n",
    "time_elapsed = end-start\n",
    "\n",
    "print(\"Linear kernel without scaler without normalization accuracy: {}\".format(lin_accuracy_noNorm_noScaler))"
   ]
  },
  {
   "cell_type": "markdown",
   "metadata": {},
   "source": [
    "## Linear Kernel without scaler with normalization (L1, L2, Max)"
   ]
  },
  {
   "cell_type": "code",
   "execution_count": 274,
   "metadata": {},
   "outputs": [
    {
     "output_type": "stream",
     "name": "stdout",
     "text": [
      "Linear kernel without scaler with normalization \n\tL1-norm accuracy: 76.82846407484088 \n\tL2-norm accuracy: 73.8539989264627 \n\tMax-norm accuracy: 71.25297139789893\n"
     ]
    }
   ],
   "source": [
    "start = time.process_time()\n",
    "\n",
    "lin_clf = svm.LinearSVC(max_iter=2000, C=10)\n",
    "lin_clf.fit(visual_words, train_labels)\n",
    "\n",
    "visual_words_test_L1=np.zeros((len(test_images_filenames),k),dtype=np.float32)\n",
    "visual_words_test_L2=np.zeros((len(test_images_filenames),k),dtype=np.float32)\n",
    "visual_words_test_Max=np.zeros((len(test_images_filenames),k),dtype=np.float32)\n",
    "\n",
    "for i in range(len(test_images_filenames)):\n",
    "    filename=test_images_filenames[i]\n",
    "    ima=cv2.imread(filename)\n",
    "    gray=cv2.cvtColor(ima,cv2.COLOR_BGR2GRAY)\n",
    "    \n",
    "    des=compute_dense_sift(gray,SIFTdetector, step)\n",
    "    words=codebook.predict(des)\n",
    "    visual_words_test_L1[i,:]=normalize(np.bincount(words,minlength=k).reshape(1,-1), norm='l1')\n",
    "    visual_words_test_L2[i,:]=normalize(np.bincount(words,minlength=k).reshape(1,-1), norm='l2')\n",
    "    visual_words_test_Max[i,:]=normalize(np.bincount(words,minlength=k).reshape(1,-1), norm='max')\n",
    "\n",
    "scores_L1 = cross_val_score(lin_clf, visual_words_test_L1, test_labels, cv=5)\n",
    "scores_L2 = cross_val_score(lin_clf, visual_words_test_L2, test_labels, cv=5)\n",
    "scores_Max = cross_val_score(lin_clf, visual_words_test_Max, test_labels, cv=5)\n",
    "\n",
    "lin_accuracy_L1norm_noScaler=scores_L1.mean()*100\n",
    "lin_accuracy_L2norm_noScaler=scores_L2.mean()*100\n",
    "lin_accuracy_Maxnorm_noScaler=scores_Max.mean()*100\n",
    "\n",
    "lin_data.append(lin_accuracy_L1norm_noScaler)\n",
    "lin_data.append(lin_accuracy_L2norm_noScaler)\n",
    "lin_data.append(lin_accuracy_Maxnorm_noScaler)\n",
    "\n",
    "end = time.process_time()\n",
    "time_elapsed = end-start\n",
    "\n",
    "print(\"Linear kernel without scaler with normalization \\n\\tL1-norm accuracy: {} \\n\\tL2-norm accuracy: {} \\n\\tMax-norm accuracy: {}\".format(lin_accuracy_L1norm_noScaler, lin_accuracy_L2norm_noScaler, lin_accuracy_Maxnorm_noScaler))"
   ]
  },
  {
   "source": [
    "## Linear kernel with scaler with normalization (L1, L2, Max)"
   ],
   "cell_type": "markdown",
   "metadata": {}
  },
  {
   "cell_type": "code",
   "execution_count": 275,
   "metadata": {},
   "outputs": [
    {
     "output_type": "stream",
     "name": "stdout",
     "text": [
      "Linear kernel with scaler with normalization \n\tL1-norm accuracy: 71.62180814354728 \n\tL2-norm accuracy: 66.91358024691358 \n\tMax-norm accuracy: 66.91358024691358\n"
     ]
    }
   ],
   "source": [
    "start = time.process_time()\n",
    "\n",
    "scaler = StandardScaler()\n",
    "scaler.fit_transform(visual_words)\n",
    "\n",
    "lin_clf = svm.LinearSVC(max_iter=2000, C=10)\n",
    "lin_clf.fit(visual_words, train_labels)\n",
    "\n",
    "visual_words_test_L1=np.zeros((len(test_images_filenames),k),dtype=np.float32)\n",
    "visual_words_test_L2=np.zeros((len(test_images_filenames),k),dtype=np.float32)\n",
    "visual_words_test_Max=np.zeros((len(test_images_filenames),k),dtype=np.float32)\n",
    "\n",
    "for i in range(len(test_images_filenames)):\n",
    "    filename=test_images_filenames[i]\n",
    "    ima=cv2.imread(filename)\n",
    "    gray=cv2.cvtColor(ima,cv2.COLOR_BGR2GRAY)\n",
    "    \n",
    "    des=compute_dense_sift(gray,SIFTdetector, step)\n",
    "    words=codebook.predict(des)\n",
    "    visual_words_test_L1[i,:]=normalize(np.bincount(words,minlength=k).reshape(1,-1), norm='l1')\n",
    "    visual_words_test_L2[i,:]=normalize(np.bincount(words,minlength=k).reshape(1,-1), norm='l2')\n",
    "    visual_words_test_Max[i,:]=normalize(np.bincount(words,minlength=k).reshape(1,-1), norm='max')\n",
    "\n",
    "visual_words_test_L1=scaler.transform(visual_words_test_L1)\n",
    "visual_words_test_L2=scaler.transform(visual_words_test_L2)\n",
    "visual_words_test_Max=scaler.transform(visual_words_test_Max)\n",
    "\n",
    "\n",
    "scores_L1 = cross_val_score(lin_clf, visual_words_test_L1, test_labels, cv=5)\n",
    "scores_L2 = cross_val_score(lin_clf, visual_words_test_L2, test_labels, cv=5)\n",
    "scores_Max = cross_val_score(lin_clf, visual_words_test_Max, test_labels, cv=5)\n",
    "\n",
    "\n",
    "lin_accuracy_L1norm_scaler=scores_L1.mean()*100\n",
    "lin_accuracy_L2norm_scaler=scores.mean()*100\n",
    "lin_accuracy_Maxnorm_scaler=scores.mean()*100\n",
    "lin_data.append(lin_accuracy_L1norm_scaler)\n",
    "lin_data.append(lin_accuracy_L2norm_scaler)\n",
    "lin_data.append(lin_accuracy_Maxnorm_scaler)\n",
    "\n",
    "\n",
    "\n",
    "end = time.process_time()\n",
    "time_elapsed = end-start\n",
    "\n",
    "\n",
    "print(\"Linear kernel with scaler with normalization \\n\\tL1-norm accuracy: {} \\n\\tL2-norm accuracy: {} \\n\\tMax-norm accuracy: {}\".format(lin_accuracy_L1norm_scaler, lin_accuracy_L2norm_scaler, lin_accuracy_Maxnorm_scaler))"
   ]
  },
  {
   "source": [
    "## Linear kernel with scaler without normalization\n"
   ],
   "cell_type": "markdown",
   "metadata": {}
  },
  {
   "cell_type": "code",
   "execution_count": 276,
   "metadata": {},
   "outputs": [
    {
     "output_type": "stream",
     "name": "stdout",
     "text": [
      "Linear kernel with scaler without normalization accuracy: 67.40894103212945\n"
     ]
    }
   ],
   "source": [
    "start = time.process_time()\n",
    "\n",
    "scaler = StandardScaler()\n",
    "scaler.fit_transform(visual_words)\n",
    "\n",
    "lin_clf = svm.LinearSVC(max_iter=2000, C=10)\n",
    "lin_clf.fit(visual_words, train_labels)\n",
    "\n",
    "visual_words_test=np.zeros((len(test_images_filenames),k),dtype=np.float32)\n",
    "for i in range(len(test_images_filenames)):\n",
    "    filename=test_images_filenames[i]\n",
    "    ima=cv2.imread(filename)\n",
    "    gray=cv2.cvtColor(ima,cv2.COLOR_BGR2GRAY)\n",
    "    \n",
    "    des=compute_dense_sift(gray,SIFTdetector, step)\n",
    "    words=codebook.predict(des)\n",
    "    visual_words_test[i,:]=np.bincount(words,minlength=k).reshape(1,-1)\n",
    "\n",
    "visual_words_test=scaler.transform(visual_words_test)\n",
    "scores = cross_val_score(lin_clf, visual_words_test, test_labels, cv=5)\n",
    "lin_accuracy_noNorm_scaler=scores.mean()*100\n",
    "lin_data.append(lin_accuracy_noNorm_scaler)\n",
    "\n",
    "\n",
    "end = time.process_time()\n",
    "time_elapsed = end-start\n",
    "\n",
    "print(\"Linear kernel with scaler without normalization accuracy: {}\".format(lin_accuracy_noNorm_scaler))"
   ]
  },
  {
   "source": [
    "## RBF Kernel without scaler without normalization"
   ],
   "cell_type": "markdown",
   "metadata": {}
  },
  {
   "cell_type": "code",
   "execution_count": 277,
   "metadata": {},
   "outputs": [
    {
     "output_type": "stream",
     "name": "stdout",
     "text": [
      "RBF kernel without scaler with normalization accuracy: 14.621578099838967\n"
     ]
    }
   ],
   "source": [
    "start = time.process_time()\n",
    "\n",
    "rbf_svc = svm.SVC(kernel='rbf', C=1000, gamma=0.001)\n",
    "rbf_svc.fit(visual_words, train_labels)\n",
    "\n",
    "visual_words_test=np.zeros((len(test_images_filenames),k),dtype=np.float32)\n",
    "for i in range(len(test_images_filenames)):\n",
    "    filename=test_images_filenames[i]\n",
    "    ima=cv2.imread(filename)\n",
    "    gray=cv2.cvtColor(ima,cv2.COLOR_BGR2GRAY)\n",
    "    \n",
    "    des=compute_dense_sift(gray,SIFTdetector, step)\n",
    "    words=codebook.predict(des)\n",
    "    visual_words_test[i,:]=np.bincount(words,minlength=k).reshape(1,-1)\n",
    "\n",
    "scores = cross_val_score(rbf_svc, visual_words_test, test_labels, cv=5)\n",
    "\n",
    "rbf_accuracy_noNorm_noScaler=scores.mean()*100\n",
    "rbf_data.append(rbf_accuracy_noNorm_noScaler)\n",
    "\n",
    "end = time.process_time()\n",
    "time_elapsed = end-start\n",
    "\n",
    "print(\"RBF kernel without scaler with normalization accuracy: {}\".format(rbf_accuracy_noNorm_noScaler))"
   ]
  },
  {
   "source": [
    "## RBF Kernel without scaler with normalization (L1, L2, max)"
   ],
   "cell_type": "markdown",
   "metadata": {}
  },
  {
   "cell_type": "code",
   "execution_count": 278,
   "metadata": {},
   "outputs": [
    {
     "output_type": "stream",
     "name": "stdout",
     "text": [
      "RBF kernel without scaler with normalization \n\tL1-norm accuracy: 76.82846407484088 \n\tL2-norm accuracy: 14.621578099838967 \n\tMax-norm accuracy: 14.621578099838967\n"
     ]
    }
   ],
   "source": [
    "start = time.process_time()\n",
    "\n",
    "rbf_svc = svm.SVC(kernel='rbf', C=1000, gamma=0.001)\n",
    "rbf_svc.fit(visual_words, train_labels)\n",
    "\n",
    "\n",
    "visual_words_test_L1=np.zeros((len(test_images_filenames),k),dtype=np.float32)\n",
    "visual_words_test_L2=np.zeros((len(test_images_filenames),k),dtype=np.float32)\n",
    "visual_words_test_Max=np.zeros((len(test_images_filenames),k),dtype=np.float32)\n",
    "\n",
    "\n",
    "for i in range(len(test_images_filenames)):\n",
    "    filename=test_images_filenames[i]\n",
    "    ima=cv2.imread(filename)\n",
    "    gray=cv2.cvtColor(ima,cv2.COLOR_BGR2GRAY)\n",
    "\n",
    "    des=compute_dense_sift(gray,SIFTdetector, step)\n",
    "    words=codebook.predict(des)\n",
    "    visual_words_test_L1[i,:]=normalize(np.bincount(words,minlength=k).reshape(1,-1), norm='l1')\n",
    "    visual_words_test_L2[i,:]=normalize(np.bincount(words,minlength=k).reshape(1,-1), norm='l2')\n",
    "    visual_words_test_Max[i,:]=normalize(np.bincount(words,minlength=k).reshape(1,-1), norm='max')\n",
    "\n",
    "scores_L1 = cross_val_score(lin_clf, visual_words_test_L1, test_labels, cv=5)\n",
    "scores_L2 = cross_val_score(lin_clf, visual_words_test_L2, test_labels, cv=5)\n",
    "scores_Max = cross_val_score(lin_clf, visual_words_test_Max, test_labels, cv=5)\n",
    "\n",
    "\n",
    "rbf_accuracy_L1norm_noScaler=scores_L1.mean()*100\n",
    "rbf_accuracy_L2norm_noScaler=scores.mean()*100\n",
    "rbf_accuracy_Maxnorm_noScaler=scores.mean()*100\n",
    "rbf_data.append(rbf_accuracy_L1norm_noScaler)\n",
    "rbf_data.append(rbf_accuracy_L2norm_noScaler)\n",
    "rbf_data.append(rbf_accuracy_Maxnorm_noScaler)\n",
    "\n",
    "\n",
    "end = time.process_time()\n",
    "time_elapsed = end-start\n",
    "\n",
    "print(\"RBF kernel without scaler with normalization \\n\\tL1-norm accuracy: {} \\n\\tL2-norm accuracy: {} \\n\\tMax-norm accuracy: {}\".format(rbf_accuracy_L1norm_noScaler, rbf_accuracy_L2norm_noScaler, rbf_accuracy_Maxnorm_noScaler))\n"
   ]
  },
  {
   "cell_type": "markdown",
   "metadata": {},
   "source": [
    "## RBF Kernel with scaler with normalization (L1, L2, Max)"
   ]
  },
  {
   "cell_type": "code",
   "execution_count": 279,
   "metadata": {},
   "outputs": [
    {
     "output_type": "stream",
     "name": "stdout",
     "text": [
      "RBF kernel with scaler with normalization \n\tL1-norm accuracy: 71.24990414845487 \n\tL2-norm accuracy: 14.621578099838967 \n\tMax-norm accuracy: 14.621578099838967\n"
     ]
    }
   ],
   "source": [
    "start = time.process_time()\n",
    "\n",
    "scaler = StandardScaler()\n",
    "scaler.fit_transform(visual_words)\n",
    "\n",
    "rbf_svc = svm.SVC(kernel='rbf', C=1000, gamma=0.001)\n",
    "rbf_svc.fit(visual_words, train_labels)\n",
    "\n",
    "\n",
    "visual_words_test_L1=np.zeros((len(test_images_filenames),k),dtype=np.float32)\n",
    "visual_words_test_L2=np.zeros((len(test_images_filenames),k),dtype=np.float32)\n",
    "visual_words_test_Max=np.zeros((len(test_images_filenames),k),dtype=np.float32)\n",
    "\n",
    "\n",
    "for i in range(len(test_images_filenames)):\n",
    "    filename=test_images_filenames[i]\n",
    "    ima=cv2.imread(filename)\n",
    "    gray=cv2.cvtColor(ima,cv2.COLOR_BGR2GRAY)\n",
    "\n",
    "    des=compute_dense_sift(gray,SIFTdetector, step)\n",
    "    words=codebook.predict(des)\n",
    "    visual_words_test_L1[i,:]=normalize(np.bincount(words,minlength=k).reshape(1,-1), norm='l1')\n",
    "    visual_words_test_L2[i,:]=normalize(np.bincount(words,minlength=k).reshape(1,-1), norm='l2')\n",
    "    visual_words_test_Max[i,:]=normalize(np.bincount(words,minlength=k).reshape(1,-1), norm='max')\n",
    "\n",
    "visual_words_test_L1=scaler.transform(visual_words_test_L1)\n",
    "visual_words_test_L2=scaler.transform(visual_words_test_L2)\n",
    "visual_words_test_Max=scaler.transform(visual_words_test_Max)\n",
    "\n",
    "scores_L1 = cross_val_score(lin_clf, visual_words_test_L1, test_labels, cv=5)\n",
    "scores_L2 = cross_val_score(lin_clf, visual_words_test_L2, test_labels, cv=5)\n",
    "scores_Max = cross_val_score(lin_clf, visual_words_test_Max, test_labels, cv=5)\n",
    "\n",
    "\n",
    "rbf_accuracy_L1norm_scaler=scores_L1.mean()*100\n",
    "rbf_accuracy_L2norm_scaler=scores.mean()*100\n",
    "rbf_accuracy_Maxnorm_scaler=scores.mean()*100\n",
    "rbf_data.append(rbf_accuracy_L1norm_scaler)\n",
    "rbf_data.append(rbf_accuracy_L2norm_scaler)\n",
    "rbf_data.append(rbf_accuracy_Maxnorm_scaler)\n",
    "\n",
    "\n",
    "end = time.process_time()\n",
    "time_elapsed = end-start\n",
    "\n",
    "print(\"RBF kernel with scaler with normalization \\n\\tL1-norm accuracy: {} \\n\\tL2-norm accuracy: {} \\n\\tMax-norm accuracy: {}\".format(rbf_accuracy_L1norm_scaler, rbf_accuracy_L2norm_scaler, rbf_accuracy_Maxnorm_scaler))\n"
   ]
  },
  {
   "source": [
    "## RBF Kernel with scaler without normalization"
   ],
   "cell_type": "markdown",
   "metadata": {}
  },
  {
   "cell_type": "code",
   "execution_count": 280,
   "metadata": {},
   "outputs": [
    {
     "output_type": "stream",
     "name": "stdout",
     "text": [
      "RBF kernel without scaler with normalization accuracy: 14.621578099838967\n"
     ]
    }
   ],
   "source": [
    "start = time.process_time()\n",
    "\n",
    "scaler = StandardScaler()\n",
    "scaler.fit_transform(visual_words)\n",
    "\n",
    "rbf_svc = svm.SVC(kernel='rbf', C=1000, gamma=0.001)\n",
    "rbf_svc.fit(visual_words, train_labels)\n",
    "\n",
    "visual_words_test=np.zeros((len(test_images_filenames),k),dtype=np.float32)\n",
    "for i in range(len(test_images_filenames)):\n",
    "    filename=test_images_filenames[i]\n",
    "    ima=cv2.imread(filename)\n",
    "    gray=cv2.cvtColor(ima,cv2.COLOR_BGR2GRAY)\n",
    "    \n",
    "    des=compute_dense_sift(gray,SIFTdetector, step)\n",
    "    words=codebook.predict(des)\n",
    "    visual_words_test[i,:]=np.bincount(words,minlength=k).reshape(1,-1)\n",
    "\n",
    "visual_words_test=scaler.transform(visual_words_test)\n",
    "\n",
    "scores = cross_val_score(rbf_svc, visual_words_test, test_labels, cv=5)\n",
    "\n",
    "rbf_accuracy_noNorm_scaler=scores.mean()*100\n",
    "rbf_data.append(rbf_accuracy_noNorm_scaler)\n",
    "\n",
    "\n",
    "end = time.process_time()\n",
    "time_elapsed = end-start\n",
    "\n",
    "print(\"RBF kernel without scaler with normalization accuracy: {}\".format(rbf_accuracy_noNorm_scaler))"
   ]
  },
  {
   "source": [
    "## Data dump + graph generation"
   ],
   "cell_type": "markdown",
   "metadata": {}
  },
  {
   "cell_type": "code",
   "execution_count": 281,
   "metadata": {},
   "outputs": [],
   "source": [
    "\n",
    "all_data = [lin_data,rbf_data, hist_data]\n",
    "with open('scale_norm_data.pkl','wb') as f:\n",
    "    cPickle.dump(all_data,f)"
   ]
  },
  {
   "cell_type": "code",
   "execution_count": 361,
   "metadata": {},
   "outputs": [
    {
     "output_type": "execute_result",
     "data": {
      "text/plain": [
       "32"
      ]
     },
     "metadata": {},
     "execution_count": 361
    }
   ],
   "source": [
    "lin_data[0]\n",
    "length*2"
   ]
  },
  {
   "cell_type": "code",
   "execution_count": 418,
   "metadata": {},
   "outputs": [
    {
     "output_type": "stream",
     "name": "stdout",
     "text": [
      "[66.91358024691358, 76.82846407484088, 73.8539989264627, 71.25297139789893, 71.62180814354728, 66.91358024691358, 66.91358024691358, 67.40894103212945]\n[14.621578099838967, 76.82846407484088, 14.621578099838967, 14.621578099838967, 71.24990414845487, 14.621578099838967, 14.621578099838967, 14.621578099838967]\n[80.79441760601182, 80.1763668430335, 80.7936507936508, 80.04830917874398, 80.4217467985584, 80.79441760601182, 80.79441760601182, 80.4217467985584]\n"
     ]
    },
    {
     "output_type": "display_data",
     "data": {
      "text/plain": "<Figure size 720x576 with 1 Axes>",
      "image/svg+xml": "<?xml version=\"1.0\" encoding=\"utf-8\" standalone=\"no\"?>\r\n<!DOCTYPE svg PUBLIC \"-//W3C//DTD SVG 1.1//EN\"\r\n  \"http://www.w3.org/Graphics/SVG/1.1/DTD/svg11.dtd\">\r\n<!-- Created with matplotlib (https://matplotlib.org/) -->\r\n<svg height=\"558.134687pt\" version=\"1.1\" viewBox=\"0 0 816.521875 558.134687\" width=\"816.521875pt\" xmlns=\"http://www.w3.org/2000/svg\" xmlns:xlink=\"http://www.w3.org/1999/xlink\">\r\n <metadata>\r\n  <rdf:RDF xmlns:cc=\"http://creativecommons.org/ns#\" xmlns:dc=\"http://purl.org/dc/elements/1.1/\" xmlns:rdf=\"http://www.w3.org/1999/02/22-rdf-syntax-ns#\">\r\n   <cc:Work>\r\n    <dc:type rdf:resource=\"http://purl.org/dc/dcmitype/StillImage\"/>\r\n    <dc:date>2021-01-17T17:58:47.335723</dc:date>\r\n    <dc:format>image/svg+xml</dc:format>\r\n    <dc:creator>\r\n     <cc:Agent>\r\n      <dc:title>Matplotlib v3.3.3, https://matplotlib.org/</dc:title>\r\n     </cc:Agent>\r\n    </dc:creator>\r\n   </cc:Work>\r\n  </rdf:RDF>\r\n </metadata>\r\n <defs>\r\n  <style type=\"text/css\">*{stroke-linecap:butt;stroke-linejoin:round;}</style>\r\n </defs>\r\n <g id=\"figure_1\">\r\n  <g id=\"patch_1\">\r\n   <path d=\"M 0 558.134687 \r\nL 816.521875 558.134687 \r\nL 816.521875 0 \r\nL 0 0 \r\nz\r\n\" style=\"fill:none;\"/>\r\n  </g>\r\n  <g id=\"axes_1\">\r\n   <g id=\"patch_2\">\r\n    <path d=\"M 33.2875 442.08 \r\nL 591.2875 442.08 \r\nL 591.2875 7.2 \r\nL 33.2875 7.2 \r\nz\r\n\" style=\"fill:#ffffff;\"/>\r\n   </g>\r\n   <g id=\"patch_3\">\r\n    <path clip-path=\"url(#pcee454d1b4)\" d=\"M 78.2375 442.08 \r\nL 87.5375 442.08 \r\nL 87.5375 177.540202 \r\nL 78.2375 177.540202 \r\nz\r\n\" style=\"fill:#0000ff;\"/>\r\n   </g>\r\n   <g id=\"patch_4\">\r\n    <path clip-path=\"url(#pcee454d1b4)\" d=\"M 140.2375 442.08 \r\nL 149.5375 442.08 \r\nL 149.5375 138.342159 \r\nL 140.2375 138.342159 \r\nz\r\n\" style=\"fill:#0000ff;\"/>\r\n   </g>\r\n   <g id=\"patch_5\">\r\n    <path clip-path=\"url(#pcee454d1b4)\" d=\"M 202.2375 442.08 \r\nL 211.5375 442.08 \r\nL 211.5375 150.101572 \r\nL 202.2375 150.101572 \r\nz\r\n\" style=\"fill:#0000ff;\"/>\r\n   </g>\r\n   <g id=\"patch_6\">\r\n    <path clip-path=\"url(#pcee454d1b4)\" d=\"M 264.2375 442.08 \r\nL 273.5375 442.08 \r\nL 273.5375 160.384616 \r\nL 264.2375 160.384616 \r\nz\r\n\" style=\"fill:#0000ff;\"/>\r\n   </g>\r\n   <g id=\"patch_7\">\r\n    <path clip-path=\"url(#pcee454d1b4)\" d=\"M 326.2375 442.08 \r\nL 335.5375 442.08 \r\nL 335.5375 158.926437 \r\nL 326.2375 158.926437 \r\nz\r\n\" style=\"fill:#0000ff;\"/>\r\n   </g>\r\n   <g id=\"patch_8\">\r\n    <path clip-path=\"url(#pcee454d1b4)\" d=\"M 388.2375 442.08 \r\nL 397.5375 442.08 \r\nL 397.5375 177.540202 \r\nL 388.2375 177.540202 \r\nz\r\n\" style=\"fill:#0000ff;\"/>\r\n   </g>\r\n   <g id=\"patch_9\">\r\n    <path clip-path=\"url(#pcee454d1b4)\" d=\"M 450.2375 442.08 \r\nL 459.5375 442.08 \r\nL 459.5375 177.540202 \r\nL 450.2375 177.540202 \r\nz\r\n\" style=\"fill:#0000ff;\"/>\r\n   </g>\r\n   <g id=\"patch_10\">\r\n    <path clip-path=\"url(#pcee454d1b4)\" d=\"M 512.2375 442.08 \r\nL 521.5375 442.08 \r\nL 521.5375 175.581816 \r\nL 512.2375 175.581816 \r\nz\r\n\" style=\"fill:#0000ff;\"/>\r\n   </g>\r\n   <g id=\"patch_11\">\r\n    <path clip-path=\"url(#pcee454d1b4)\" d=\"M 90.6375 442.08 \r\nL 99.9375 442.08 \r\nL 99.9375 384.274256 \r\nL 90.6375 384.274256 \r\nz\r\n\" style=\"fill:#ff0000;\"/>\r\n   </g>\r\n   <g id=\"patch_12\">\r\n    <path clip-path=\"url(#pcee454d1b4)\" d=\"M 152.6375 442.08 \r\nL 161.9375 442.08 \r\nL 161.9375 138.342159 \r\nL 152.6375 138.342159 \r\nz\r\n\" style=\"fill:#ff0000;\"/>\r\n   </g>\r\n   <g id=\"patch_13\">\r\n    <path clip-path=\"url(#pcee454d1b4)\" d=\"M 214.6375 442.08 \r\nL 223.9375 442.08 \r\nL 223.9375 384.274256 \r\nL 214.6375 384.274256 \r\nz\r\n\" style=\"fill:#ff0000;\"/>\r\n   </g>\r\n   <g id=\"patch_14\">\r\n    <path clip-path=\"url(#pcee454d1b4)\" d=\"M 276.6375 442.08 \r\nL 285.9375 442.08 \r\nL 285.9375 384.274256 \r\nL 276.6375 384.274256 \r\nz\r\n\" style=\"fill:#ff0000;\"/>\r\n   </g>\r\n   <g id=\"patch_15\">\r\n    <path clip-path=\"url(#pcee454d1b4)\" d=\"M 338.6375 442.08 \r\nL 347.9375 442.08 \r\nL 347.9375 160.396743 \r\nL 338.6375 160.396743 \r\nz\r\n\" style=\"fill:#ff0000;\"/>\r\n   </g>\r\n   <g id=\"patch_16\">\r\n    <path clip-path=\"url(#pcee454d1b4)\" d=\"M 400.6375 442.08 \r\nL 409.9375 442.08 \r\nL 409.9375 384.274256 \r\nL 400.6375 384.274256 \r\nz\r\n\" style=\"fill:#ff0000;\"/>\r\n   </g>\r\n   <g id=\"patch_17\">\r\n    <path clip-path=\"url(#pcee454d1b4)\" d=\"M 462.6375 442.08 \r\nL 471.9375 442.08 \r\nL 471.9375 384.274256 \r\nL 462.6375 384.274256 \r\nz\r\n\" style=\"fill:#ff0000;\"/>\r\n   </g>\r\n   <g id=\"patch_18\">\r\n    <path clip-path=\"url(#pcee454d1b4)\" d=\"M 524.6375 442.08 \r\nL 533.9375 442.08 \r\nL 533.9375 384.274256 \r\nL 524.6375 384.274256 \r\nz\r\n\" style=\"fill:#ff0000;\"/>\r\n   </g>\r\n   <g id=\"patch_19\">\r\n    <path clip-path=\"url(#pcee454d1b4)\" d=\"M 103.0375 442.08 \r\nL 112.3375 442.08 \r\nL 112.3375 122.662942 \r\nL 103.0375 122.662942 \r\nz\r\n\" style=\"fill:#008000;\"/>\r\n   </g>\r\n   <g id=\"patch_20\">\r\n    <path clip-path=\"url(#pcee454d1b4)\" d=\"M 165.0375 442.08 \r\nL 174.3375 442.08 \r\nL 174.3375 125.106378 \r\nL 165.0375 125.106378 \r\nz\r\n\" style=\"fill:#008000;\"/>\r\n   </g>\r\n   <g id=\"patch_21\">\r\n    <path clip-path=\"url(#pcee454d1b4)\" d=\"M 227.0375 442.08 \r\nL 236.3375 442.08 \r\nL 236.3375 122.665974 \r\nL 227.0375 122.665974 \r\nz\r\n\" style=\"fill:#008000;\"/>\r\n   </g>\r\n   <g id=\"patch_22\">\r\n    <path clip-path=\"url(#pcee454d1b4)\" d=\"M 289.0375 442.08 \r\nL 298.3375 442.08 \r\nL 298.3375 125.612648 \r\nL 289.0375 125.612648 \r\nz\r\n\" style=\"fill:#008000;\"/>\r\n   </g>\r\n   <g id=\"patch_23\">\r\n    <path clip-path=\"url(#pcee454d1b4)\" d=\"M 351.0375 442.08 \r\nL 360.3375 442.08 \r\nL 360.3375 124.13628 \r\nL 351.0375 124.13628 \r\nz\r\n\" style=\"fill:#008000;\"/>\r\n   </g>\r\n   <g id=\"patch_24\">\r\n    <path clip-path=\"url(#pcee454d1b4)\" d=\"M 413.0375 442.08 \r\nL 422.3375 442.08 \r\nL 422.3375 122.662942 \r\nL 413.0375 122.662942 \r\nz\r\n\" style=\"fill:#008000;\"/>\r\n   </g>\r\n   <g id=\"patch_25\">\r\n    <path clip-path=\"url(#pcee454d1b4)\" d=\"M 475.0375 442.08 \r\nL 484.3375 442.08 \r\nL 484.3375 122.662942 \r\nL 475.0375 122.662942 \r\nz\r\n\" style=\"fill:#008000;\"/>\r\n   </g>\r\n   <g id=\"patch_26\">\r\n    <path clip-path=\"url(#pcee454d1b4)\" d=\"M 537.0375 442.08 \r\nL 546.3375 442.08 \r\nL 546.3375 124.13628 \r\nL 537.0375 124.13628 \r\nz\r\n\" style=\"fill:#008000;\"/>\r\n   </g>\r\n   <g id=\"matplotlib.axis_1\">\r\n    <g id=\"xtick_1\">\r\n     <g id=\"line2d_1\">\r\n      <defs>\r\n       <path d=\"M 0 0 \r\nL 0 3.5 \r\n\" id=\"mcda2a92c19\" style=\"stroke:#000000;stroke-width:0.8;\"/>\r\n      </defs>\r\n      <g>\r\n       <use style=\"stroke:#000000;stroke-width:0.8;\" x=\"33.2875\" xlink:href=\"#mcda2a92c19\" y=\"442.08\"/>\r\n      </g>\r\n     </g>\r\n    </g>\r\n    <g id=\"xtick_2\">\r\n     <g id=\"line2d_2\">\r\n      <g>\r\n       <use style=\"stroke:#000000;stroke-width:0.8;\" x=\"95.2875\" xlink:href=\"#mcda2a92c19\" y=\"442.08\"/>\r\n      </g>\r\n     </g>\r\n     <g id=\"text_1\">\r\n      <!-- no scaler no norm -->\r\n      <g transform=\"translate(98.046875 539.537812)rotate(-90)scale(0.1 -0.1)\">\r\n       <defs>\r\n        <path d=\"M 54.890625 33.015625 \r\nL 54.890625 0 \r\nL 45.90625 0 \r\nL 45.90625 32.71875 \r\nQ 45.90625 40.484375 42.875 44.328125 \r\nQ 39.84375 48.1875 33.796875 48.1875 \r\nQ 26.515625 48.1875 22.3125 43.546875 \r\nQ 18.109375 38.921875 18.109375 30.90625 \r\nL 18.109375 0 \r\nL 9.078125 0 \r\nL 9.078125 54.6875 \r\nL 18.109375 54.6875 \r\nL 18.109375 46.1875 \r\nQ 21.34375 51.125 25.703125 53.5625 \r\nQ 30.078125 56 35.796875 56 \r\nQ 45.21875 56 50.046875 50.171875 \r\nQ 54.890625 44.34375 54.890625 33.015625 \r\nz\r\n\" id=\"DejaVuSans-110\"/>\r\n        <path d=\"M 30.609375 48.390625 \r\nQ 23.390625 48.390625 19.1875 42.75 \r\nQ 14.984375 37.109375 14.984375 27.296875 \r\nQ 14.984375 17.484375 19.15625 11.84375 \r\nQ 23.34375 6.203125 30.609375 6.203125 \r\nQ 37.796875 6.203125 41.984375 11.859375 \r\nQ 46.1875 17.53125 46.1875 27.296875 \r\nQ 46.1875 37.015625 41.984375 42.703125 \r\nQ 37.796875 48.390625 30.609375 48.390625 \r\nz\r\nM 30.609375 56 \r\nQ 42.328125 56 49.015625 48.375 \r\nQ 55.71875 40.765625 55.71875 27.296875 \r\nQ 55.71875 13.875 49.015625 6.21875 \r\nQ 42.328125 -1.421875 30.609375 -1.421875 \r\nQ 18.84375 -1.421875 12.171875 6.21875 \r\nQ 5.515625 13.875 5.515625 27.296875 \r\nQ 5.515625 40.765625 12.171875 48.375 \r\nQ 18.84375 56 30.609375 56 \r\nz\r\n\" id=\"DejaVuSans-111\"/>\r\n        <path id=\"DejaVuSans-32\"/>\r\n        <path d=\"M 44.28125 53.078125 \r\nL 44.28125 44.578125 \r\nQ 40.484375 46.53125 36.375 47.5 \r\nQ 32.28125 48.484375 27.875 48.484375 \r\nQ 21.1875 48.484375 17.84375 46.4375 \r\nQ 14.5 44.390625 14.5 40.28125 \r\nQ 14.5 37.15625 16.890625 35.375 \r\nQ 19.28125 33.59375 26.515625 31.984375 \r\nL 29.59375 31.296875 \r\nQ 39.15625 29.25 43.1875 25.515625 \r\nQ 47.21875 21.78125 47.21875 15.09375 \r\nQ 47.21875 7.46875 41.1875 3.015625 \r\nQ 35.15625 -1.421875 24.609375 -1.421875 \r\nQ 20.21875 -1.421875 15.453125 -0.5625 \r\nQ 10.6875 0.296875 5.421875 2 \r\nL 5.421875 11.28125 \r\nQ 10.40625 8.6875 15.234375 7.390625 \r\nQ 20.0625 6.109375 24.8125 6.109375 \r\nQ 31.15625 6.109375 34.5625 8.28125 \r\nQ 37.984375 10.453125 37.984375 14.40625 \r\nQ 37.984375 18.0625 35.515625 20.015625 \r\nQ 33.0625 21.96875 24.703125 23.78125 \r\nL 21.578125 24.515625 \r\nQ 13.234375 26.265625 9.515625 29.90625 \r\nQ 5.8125 33.546875 5.8125 39.890625 \r\nQ 5.8125 47.609375 11.28125 51.796875 \r\nQ 16.75 56 26.8125 56 \r\nQ 31.78125 56 36.171875 55.265625 \r\nQ 40.578125 54.546875 44.28125 53.078125 \r\nz\r\n\" id=\"DejaVuSans-115\"/>\r\n        <path d=\"M 48.78125 52.59375 \r\nL 48.78125 44.1875 \r\nQ 44.96875 46.296875 41.140625 47.34375 \r\nQ 37.3125 48.390625 33.40625 48.390625 \r\nQ 24.65625 48.390625 19.8125 42.84375 \r\nQ 14.984375 37.3125 14.984375 27.296875 \r\nQ 14.984375 17.28125 19.8125 11.734375 \r\nQ 24.65625 6.203125 33.40625 6.203125 \r\nQ 37.3125 6.203125 41.140625 7.25 \r\nQ 44.96875 8.296875 48.78125 10.40625 \r\nL 48.78125 2.09375 \r\nQ 45.015625 0.34375 40.984375 -0.53125 \r\nQ 36.96875 -1.421875 32.421875 -1.421875 \r\nQ 20.0625 -1.421875 12.78125 6.34375 \r\nQ 5.515625 14.109375 5.515625 27.296875 \r\nQ 5.515625 40.671875 12.859375 48.328125 \r\nQ 20.21875 56 33.015625 56 \r\nQ 37.15625 56 41.109375 55.140625 \r\nQ 45.0625 54.296875 48.78125 52.59375 \r\nz\r\n\" id=\"DejaVuSans-99\"/>\r\n        <path d=\"M 34.28125 27.484375 \r\nQ 23.390625 27.484375 19.1875 25 \r\nQ 14.984375 22.515625 14.984375 16.5 \r\nQ 14.984375 11.71875 18.140625 8.90625 \r\nQ 21.296875 6.109375 26.703125 6.109375 \r\nQ 34.1875 6.109375 38.703125 11.40625 \r\nQ 43.21875 16.703125 43.21875 25.484375 \r\nL 43.21875 27.484375 \r\nz\r\nM 52.203125 31.203125 \r\nL 52.203125 0 \r\nL 43.21875 0 \r\nL 43.21875 8.296875 \r\nQ 40.140625 3.328125 35.546875 0.953125 \r\nQ 30.953125 -1.421875 24.3125 -1.421875 \r\nQ 15.921875 -1.421875 10.953125 3.296875 \r\nQ 6 8.015625 6 15.921875 \r\nQ 6 25.140625 12.171875 29.828125 \r\nQ 18.359375 34.515625 30.609375 34.515625 \r\nL 43.21875 34.515625 \r\nL 43.21875 35.40625 \r\nQ 43.21875 41.609375 39.140625 45 \r\nQ 35.0625 48.390625 27.6875 48.390625 \r\nQ 23 48.390625 18.546875 47.265625 \r\nQ 14.109375 46.140625 10.015625 43.890625 \r\nL 10.015625 52.203125 \r\nQ 14.9375 54.109375 19.578125 55.046875 \r\nQ 24.21875 56 28.609375 56 \r\nQ 40.484375 56 46.34375 49.84375 \r\nQ 52.203125 43.703125 52.203125 31.203125 \r\nz\r\n\" id=\"DejaVuSans-97\"/>\r\n        <path d=\"M 9.421875 75.984375 \r\nL 18.40625 75.984375 \r\nL 18.40625 0 \r\nL 9.421875 0 \r\nz\r\n\" id=\"DejaVuSans-108\"/>\r\n        <path d=\"M 56.203125 29.59375 \r\nL 56.203125 25.203125 \r\nL 14.890625 25.203125 \r\nQ 15.484375 15.921875 20.484375 11.0625 \r\nQ 25.484375 6.203125 34.421875 6.203125 \r\nQ 39.59375 6.203125 44.453125 7.46875 \r\nQ 49.3125 8.734375 54.109375 11.28125 \r\nL 54.109375 2.78125 \r\nQ 49.265625 0.734375 44.1875 -0.34375 \r\nQ 39.109375 -1.421875 33.890625 -1.421875 \r\nQ 20.796875 -1.421875 13.15625 6.1875 \r\nQ 5.515625 13.8125 5.515625 26.8125 \r\nQ 5.515625 40.234375 12.765625 48.109375 \r\nQ 20.015625 56 32.328125 56 \r\nQ 43.359375 56 49.78125 48.890625 \r\nQ 56.203125 41.796875 56.203125 29.59375 \r\nz\r\nM 47.21875 32.234375 \r\nQ 47.125 39.59375 43.09375 43.984375 \r\nQ 39.0625 48.390625 32.421875 48.390625 \r\nQ 24.90625 48.390625 20.390625 44.140625 \r\nQ 15.875 39.890625 15.1875 32.171875 \r\nz\r\n\" id=\"DejaVuSans-101\"/>\r\n        <path d=\"M 41.109375 46.296875 \r\nQ 39.59375 47.171875 37.8125 47.578125 \r\nQ 36.03125 48 33.890625 48 \r\nQ 26.265625 48 22.1875 43.046875 \r\nQ 18.109375 38.09375 18.109375 28.8125 \r\nL 18.109375 0 \r\nL 9.078125 0 \r\nL 9.078125 54.6875 \r\nL 18.109375 54.6875 \r\nL 18.109375 46.1875 \r\nQ 20.953125 51.171875 25.484375 53.578125 \r\nQ 30.03125 56 36.53125 56 \r\nQ 37.453125 56 38.578125 55.875 \r\nQ 39.703125 55.765625 41.0625 55.515625 \r\nz\r\n\" id=\"DejaVuSans-114\"/>\r\n        <path d=\"M 52 44.1875 \r\nQ 55.375 50.25 60.0625 53.125 \r\nQ 64.75 56 71.09375 56 \r\nQ 79.640625 56 84.28125 50.015625 \r\nQ 88.921875 44.046875 88.921875 33.015625 \r\nL 88.921875 0 \r\nL 79.890625 0 \r\nL 79.890625 32.71875 \r\nQ 79.890625 40.578125 77.09375 44.375 \r\nQ 74.3125 48.1875 68.609375 48.1875 \r\nQ 61.625 48.1875 57.5625 43.546875 \r\nQ 53.515625 38.921875 53.515625 30.90625 \r\nL 53.515625 0 \r\nL 44.484375 0 \r\nL 44.484375 32.71875 \r\nQ 44.484375 40.625 41.703125 44.40625 \r\nQ 38.921875 48.1875 33.109375 48.1875 \r\nQ 26.21875 48.1875 22.15625 43.53125 \r\nQ 18.109375 38.875 18.109375 30.90625 \r\nL 18.109375 0 \r\nL 9.078125 0 \r\nL 9.078125 54.6875 \r\nL 18.109375 54.6875 \r\nL 18.109375 46.1875 \r\nQ 21.1875 51.21875 25.484375 53.609375 \r\nQ 29.78125 56 35.6875 56 \r\nQ 41.65625 56 45.828125 52.96875 \r\nQ 50 49.953125 52 44.1875 \r\nz\r\n\" id=\"DejaVuSans-109\"/>\r\n       </defs>\r\n       <use xlink:href=\"#DejaVuSans-110\"/>\r\n       <use x=\"63.378906\" xlink:href=\"#DejaVuSans-111\"/>\r\n       <use x=\"124.560547\" xlink:href=\"#DejaVuSans-32\"/>\r\n       <use x=\"156.347656\" xlink:href=\"#DejaVuSans-115\"/>\r\n       <use x=\"208.447266\" xlink:href=\"#DejaVuSans-99\"/>\r\n       <use x=\"263.427734\" xlink:href=\"#DejaVuSans-97\"/>\r\n       <use x=\"324.707031\" xlink:href=\"#DejaVuSans-108\"/>\r\n       <use x=\"352.490234\" xlink:href=\"#DejaVuSans-101\"/>\r\n       <use x=\"414.013672\" xlink:href=\"#DejaVuSans-114\"/>\r\n       <use x=\"455.126953\" xlink:href=\"#DejaVuSans-32\"/>\r\n       <use x=\"486.914062\" xlink:href=\"#DejaVuSans-110\"/>\r\n       <use x=\"550.292969\" xlink:href=\"#DejaVuSans-111\"/>\r\n       <use x=\"611.474609\" xlink:href=\"#DejaVuSans-32\"/>\r\n       <use x=\"643.261719\" xlink:href=\"#DejaVuSans-110\"/>\r\n       <use x=\"706.640625\" xlink:href=\"#DejaVuSans-111\"/>\r\n       <use x=\"767.822266\" xlink:href=\"#DejaVuSans-114\"/>\r\n       <use x=\"807.185547\" xlink:href=\"#DejaVuSans-109\"/>\r\n      </g>\r\n     </g>\r\n    </g>\r\n    <g id=\"xtick_3\">\r\n     <g id=\"line2d_3\">\r\n      <g>\r\n       <use style=\"stroke:#000000;stroke-width:0.8;\" x=\"157.2875\" xlink:href=\"#mcda2a92c19\" y=\"442.08\"/>\r\n      </g>\r\n     </g>\r\n     <g id=\"text_2\">\r\n      <!-- no scaler, L1 norm -->\r\n      <g transform=\"translate(160.046875 542.194062)rotate(-90)scale(0.1 -0.1)\">\r\n       <defs>\r\n        <path d=\"M 11.71875 12.40625 \r\nL 22.015625 12.40625 \r\nL 22.015625 4 \r\nL 14.015625 -11.625 \r\nL 7.71875 -11.625 \r\nL 11.71875 4 \r\nz\r\n\" id=\"DejaVuSans-44\"/>\r\n        <path d=\"M 9.8125 72.90625 \r\nL 19.671875 72.90625 \r\nL 19.671875 8.296875 \r\nL 55.171875 8.296875 \r\nL 55.171875 0 \r\nL 9.8125 0 \r\nz\r\n\" id=\"DejaVuSans-76\"/>\r\n        <path d=\"M 12.40625 8.296875 \r\nL 28.515625 8.296875 \r\nL 28.515625 63.921875 \r\nL 10.984375 60.40625 \r\nL 10.984375 69.390625 \r\nL 28.421875 72.90625 \r\nL 38.28125 72.90625 \r\nL 38.28125 8.296875 \r\nL 54.390625 8.296875 \r\nL 54.390625 0 \r\nL 12.40625 0 \r\nz\r\n\" id=\"DejaVuSans-49\"/>\r\n       </defs>\r\n       <use xlink:href=\"#DejaVuSans-110\"/>\r\n       <use x=\"63.378906\" xlink:href=\"#DejaVuSans-111\"/>\r\n       <use x=\"124.560547\" xlink:href=\"#DejaVuSans-32\"/>\r\n       <use x=\"156.347656\" xlink:href=\"#DejaVuSans-115\"/>\r\n       <use x=\"208.447266\" xlink:href=\"#DejaVuSans-99\"/>\r\n       <use x=\"263.427734\" xlink:href=\"#DejaVuSans-97\"/>\r\n       <use x=\"324.707031\" xlink:href=\"#DejaVuSans-108\"/>\r\n       <use x=\"352.490234\" xlink:href=\"#DejaVuSans-101\"/>\r\n       <use x=\"414.013672\" xlink:href=\"#DejaVuSans-114\"/>\r\n       <use x=\"455.126953\" xlink:href=\"#DejaVuSans-44\"/>\r\n       <use x=\"486.914062\" xlink:href=\"#DejaVuSans-32\"/>\r\n       <use x=\"518.701172\" xlink:href=\"#DejaVuSans-76\"/>\r\n       <use x=\"574.414062\" xlink:href=\"#DejaVuSans-49\"/>\r\n       <use x=\"638.037109\" xlink:href=\"#DejaVuSans-32\"/>\r\n       <use x=\"669.824219\" xlink:href=\"#DejaVuSans-110\"/>\r\n       <use x=\"733.203125\" xlink:href=\"#DejaVuSans-111\"/>\r\n       <use x=\"794.384766\" xlink:href=\"#DejaVuSans-114\"/>\r\n       <use x=\"833.748047\" xlink:href=\"#DejaVuSans-109\"/>\r\n      </g>\r\n     </g>\r\n    </g>\r\n    <g id=\"xtick_4\">\r\n     <g id=\"line2d_4\">\r\n      <g>\r\n       <use style=\"stroke:#000000;stroke-width:0.8;\" x=\"219.2875\" xlink:href=\"#mcda2a92c19\" y=\"442.08\"/>\r\n      </g>\r\n     </g>\r\n     <g id=\"text_3\">\r\n      <!-- no scaler, L2 norm -->\r\n      <g transform=\"translate(222.046875 542.194062)rotate(-90)scale(0.1 -0.1)\">\r\n       <defs>\r\n        <path d=\"M 19.1875 8.296875 \r\nL 53.609375 8.296875 \r\nL 53.609375 0 \r\nL 7.328125 0 \r\nL 7.328125 8.296875 \r\nQ 12.9375 14.109375 22.625 23.890625 \r\nQ 32.328125 33.6875 34.8125 36.53125 \r\nQ 39.546875 41.84375 41.421875 45.53125 \r\nQ 43.3125 49.21875 43.3125 52.78125 \r\nQ 43.3125 58.59375 39.234375 62.25 \r\nQ 35.15625 65.921875 28.609375 65.921875 \r\nQ 23.96875 65.921875 18.8125 64.3125 \r\nQ 13.671875 62.703125 7.8125 59.421875 \r\nL 7.8125 69.390625 \r\nQ 13.765625 71.78125 18.9375 73 \r\nQ 24.125 74.21875 28.421875 74.21875 \r\nQ 39.75 74.21875 46.484375 68.546875 \r\nQ 53.21875 62.890625 53.21875 53.421875 \r\nQ 53.21875 48.921875 51.53125 44.890625 \r\nQ 49.859375 40.875 45.40625 35.40625 \r\nQ 44.1875 33.984375 37.640625 27.21875 \r\nQ 31.109375 20.453125 19.1875 8.296875 \r\nz\r\n\" id=\"DejaVuSans-50\"/>\r\n       </defs>\r\n       <use xlink:href=\"#DejaVuSans-110\"/>\r\n       <use x=\"63.378906\" xlink:href=\"#DejaVuSans-111\"/>\r\n       <use x=\"124.560547\" xlink:href=\"#DejaVuSans-32\"/>\r\n       <use x=\"156.347656\" xlink:href=\"#DejaVuSans-115\"/>\r\n       <use x=\"208.447266\" xlink:href=\"#DejaVuSans-99\"/>\r\n       <use x=\"263.427734\" xlink:href=\"#DejaVuSans-97\"/>\r\n       <use x=\"324.707031\" xlink:href=\"#DejaVuSans-108\"/>\r\n       <use x=\"352.490234\" xlink:href=\"#DejaVuSans-101\"/>\r\n       <use x=\"414.013672\" xlink:href=\"#DejaVuSans-114\"/>\r\n       <use x=\"455.126953\" xlink:href=\"#DejaVuSans-44\"/>\r\n       <use x=\"486.914062\" xlink:href=\"#DejaVuSans-32\"/>\r\n       <use x=\"518.701172\" xlink:href=\"#DejaVuSans-76\"/>\r\n       <use x=\"574.414062\" xlink:href=\"#DejaVuSans-50\"/>\r\n       <use x=\"638.037109\" xlink:href=\"#DejaVuSans-32\"/>\r\n       <use x=\"669.824219\" xlink:href=\"#DejaVuSans-110\"/>\r\n       <use x=\"733.203125\" xlink:href=\"#DejaVuSans-111\"/>\r\n       <use x=\"794.384766\" xlink:href=\"#DejaVuSans-114\"/>\r\n       <use x=\"833.748047\" xlink:href=\"#DejaVuSans-109\"/>\r\n      </g>\r\n     </g>\r\n    </g>\r\n    <g id=\"xtick_5\">\r\n     <g id=\"line2d_5\">\r\n      <g>\r\n       <use style=\"stroke:#000000;stroke-width:0.8;\" x=\"281.2875\" xlink:href=\"#mcda2a92c19\" y=\"442.08\"/>\r\n      </g>\r\n     </g>\r\n     <g id=\"text_4\">\r\n      <!-- no scaler, Max norm -->\r\n      <g transform=\"translate(284.046875 550.934687)rotate(-90)scale(0.1 -0.1)\">\r\n       <defs>\r\n        <path d=\"M 9.8125 72.90625 \r\nL 24.515625 72.90625 \r\nL 43.109375 23.296875 \r\nL 61.8125 72.90625 \r\nL 76.515625 72.90625 \r\nL 76.515625 0 \r\nL 66.890625 0 \r\nL 66.890625 64.015625 \r\nL 48.09375 14.015625 \r\nL 38.1875 14.015625 \r\nL 19.390625 64.015625 \r\nL 19.390625 0 \r\nL 9.8125 0 \r\nz\r\n\" id=\"DejaVuSans-77\"/>\r\n        <path d=\"M 54.890625 54.6875 \r\nL 35.109375 28.078125 \r\nL 55.90625 0 \r\nL 45.3125 0 \r\nL 29.390625 21.484375 \r\nL 13.484375 0 \r\nL 2.875 0 \r\nL 24.125 28.609375 \r\nL 4.6875 54.6875 \r\nL 15.28125 54.6875 \r\nL 29.78125 35.203125 \r\nL 44.28125 54.6875 \r\nz\r\n\" id=\"DejaVuSans-120\"/>\r\n       </defs>\r\n       <use xlink:href=\"#DejaVuSans-110\"/>\r\n       <use x=\"63.378906\" xlink:href=\"#DejaVuSans-111\"/>\r\n       <use x=\"124.560547\" xlink:href=\"#DejaVuSans-32\"/>\r\n       <use x=\"156.347656\" xlink:href=\"#DejaVuSans-115\"/>\r\n       <use x=\"208.447266\" xlink:href=\"#DejaVuSans-99\"/>\r\n       <use x=\"263.427734\" xlink:href=\"#DejaVuSans-97\"/>\r\n       <use x=\"324.707031\" xlink:href=\"#DejaVuSans-108\"/>\r\n       <use x=\"352.490234\" xlink:href=\"#DejaVuSans-101\"/>\r\n       <use x=\"414.013672\" xlink:href=\"#DejaVuSans-114\"/>\r\n       <use x=\"455.126953\" xlink:href=\"#DejaVuSans-44\"/>\r\n       <use x=\"486.914062\" xlink:href=\"#DejaVuSans-32\"/>\r\n       <use x=\"518.701172\" xlink:href=\"#DejaVuSans-77\"/>\r\n       <use x=\"604.980469\" xlink:href=\"#DejaVuSans-97\"/>\r\n       <use x=\"666.259766\" xlink:href=\"#DejaVuSans-120\"/>\r\n       <use x=\"725.439453\" xlink:href=\"#DejaVuSans-32\"/>\r\n       <use x=\"757.226562\" xlink:href=\"#DejaVuSans-110\"/>\r\n       <use x=\"820.605469\" xlink:href=\"#DejaVuSans-111\"/>\r\n       <use x=\"881.787109\" xlink:href=\"#DejaVuSans-114\"/>\r\n       <use x=\"921.150391\" xlink:href=\"#DejaVuSans-109\"/>\r\n      </g>\r\n     </g>\r\n    </g>\r\n    <g id=\"xtick_6\">\r\n     <g id=\"line2d_6\">\r\n      <g>\r\n       <use style=\"stroke:#000000;stroke-width:0.8;\" x=\"343.2875\" xlink:href=\"#mcda2a92c19\" y=\"442.08\"/>\r\n      </g>\r\n     </g>\r\n     <g id=\"text_5\">\r\n      <!-- scaler, L1 norm -->\r\n      <g transform=\"translate(346.046875 526.559687)rotate(-90)scale(0.1 -0.1)\">\r\n       <use xlink:href=\"#DejaVuSans-115\"/>\r\n       <use x=\"52.099609\" xlink:href=\"#DejaVuSans-99\"/>\r\n       <use x=\"107.080078\" xlink:href=\"#DejaVuSans-97\"/>\r\n       <use x=\"168.359375\" xlink:href=\"#DejaVuSans-108\"/>\r\n       <use x=\"196.142578\" xlink:href=\"#DejaVuSans-101\"/>\r\n       <use x=\"257.666016\" xlink:href=\"#DejaVuSans-114\"/>\r\n       <use x=\"298.779297\" xlink:href=\"#DejaVuSans-44\"/>\r\n       <use x=\"330.566406\" xlink:href=\"#DejaVuSans-32\"/>\r\n       <use x=\"362.353516\" xlink:href=\"#DejaVuSans-76\"/>\r\n       <use x=\"418.066406\" xlink:href=\"#DejaVuSans-49\"/>\r\n       <use x=\"481.689453\" xlink:href=\"#DejaVuSans-32\"/>\r\n       <use x=\"513.476562\" xlink:href=\"#DejaVuSans-110\"/>\r\n       <use x=\"576.855469\" xlink:href=\"#DejaVuSans-111\"/>\r\n       <use x=\"638.037109\" xlink:href=\"#DejaVuSans-114\"/>\r\n       <use x=\"677.400391\" xlink:href=\"#DejaVuSans-109\"/>\r\n      </g>\r\n     </g>\r\n    </g>\r\n    <g id=\"xtick_7\">\r\n     <g id=\"line2d_7\">\r\n      <g>\r\n       <use style=\"stroke:#000000;stroke-width:0.8;\" x=\"405.2875\" xlink:href=\"#mcda2a92c19\" y=\"442.08\"/>\r\n      </g>\r\n     </g>\r\n     <g id=\"text_6\">\r\n      <!-- scaler, L2 norm -->\r\n      <g transform=\"translate(408.046875 526.559687)rotate(-90)scale(0.1 -0.1)\">\r\n       <use xlink:href=\"#DejaVuSans-115\"/>\r\n       <use x=\"52.099609\" xlink:href=\"#DejaVuSans-99\"/>\r\n       <use x=\"107.080078\" xlink:href=\"#DejaVuSans-97\"/>\r\n       <use x=\"168.359375\" xlink:href=\"#DejaVuSans-108\"/>\r\n       <use x=\"196.142578\" xlink:href=\"#DejaVuSans-101\"/>\r\n       <use x=\"257.666016\" xlink:href=\"#DejaVuSans-114\"/>\r\n       <use x=\"298.779297\" xlink:href=\"#DejaVuSans-44\"/>\r\n       <use x=\"330.566406\" xlink:href=\"#DejaVuSans-32\"/>\r\n       <use x=\"362.353516\" xlink:href=\"#DejaVuSans-76\"/>\r\n       <use x=\"418.066406\" xlink:href=\"#DejaVuSans-50\"/>\r\n       <use x=\"481.689453\" xlink:href=\"#DejaVuSans-32\"/>\r\n       <use x=\"513.476562\" xlink:href=\"#DejaVuSans-110\"/>\r\n       <use x=\"576.855469\" xlink:href=\"#DejaVuSans-111\"/>\r\n       <use x=\"638.037109\" xlink:href=\"#DejaVuSans-114\"/>\r\n       <use x=\"677.400391\" xlink:href=\"#DejaVuSans-109\"/>\r\n      </g>\r\n     </g>\r\n    </g>\r\n    <g id=\"xtick_8\">\r\n     <g id=\"line2d_8\">\r\n      <g>\r\n       <use style=\"stroke:#000000;stroke-width:0.8;\" x=\"467.2875\" xlink:href=\"#mcda2a92c19\" y=\"442.08\"/>\r\n      </g>\r\n     </g>\r\n     <g id=\"text_7\">\r\n      <!-- scaler, Max norm -->\r\n      <g transform=\"translate(470.046875 535.300312)rotate(-90)scale(0.1 -0.1)\">\r\n       <use xlink:href=\"#DejaVuSans-115\"/>\r\n       <use x=\"52.099609\" xlink:href=\"#DejaVuSans-99\"/>\r\n       <use x=\"107.080078\" xlink:href=\"#DejaVuSans-97\"/>\r\n       <use x=\"168.359375\" xlink:href=\"#DejaVuSans-108\"/>\r\n       <use x=\"196.142578\" xlink:href=\"#DejaVuSans-101\"/>\r\n       <use x=\"257.666016\" xlink:href=\"#DejaVuSans-114\"/>\r\n       <use x=\"298.779297\" xlink:href=\"#DejaVuSans-44\"/>\r\n       <use x=\"330.566406\" xlink:href=\"#DejaVuSans-32\"/>\r\n       <use x=\"362.353516\" xlink:href=\"#DejaVuSans-77\"/>\r\n       <use x=\"448.632812\" xlink:href=\"#DejaVuSans-97\"/>\r\n       <use x=\"509.912109\" xlink:href=\"#DejaVuSans-120\"/>\r\n       <use x=\"569.091797\" xlink:href=\"#DejaVuSans-32\"/>\r\n       <use x=\"600.878906\" xlink:href=\"#DejaVuSans-110\"/>\r\n       <use x=\"664.257812\" xlink:href=\"#DejaVuSans-111\"/>\r\n       <use x=\"725.439453\" xlink:href=\"#DejaVuSans-114\"/>\r\n       <use x=\"764.802734\" xlink:href=\"#DejaVuSans-109\"/>\r\n      </g>\r\n     </g>\r\n    </g>\r\n    <g id=\"xtick_9\">\r\n     <g id=\"line2d_9\">\r\n      <g>\r\n       <use style=\"stroke:#000000;stroke-width:0.8;\" x=\"529.2875\" xlink:href=\"#mcda2a92c19\" y=\"442.08\"/>\r\n      </g>\r\n     </g>\r\n     <g id=\"text_8\">\r\n      <!-- scaler, no norm -->\r\n      <g transform=\"translate(532.046875 527.081562)rotate(-90)scale(0.1 -0.1)\">\r\n       <use xlink:href=\"#DejaVuSans-115\"/>\r\n       <use x=\"52.099609\" xlink:href=\"#DejaVuSans-99\"/>\r\n       <use x=\"107.080078\" xlink:href=\"#DejaVuSans-97\"/>\r\n       <use x=\"168.359375\" xlink:href=\"#DejaVuSans-108\"/>\r\n       <use x=\"196.142578\" xlink:href=\"#DejaVuSans-101\"/>\r\n       <use x=\"257.666016\" xlink:href=\"#DejaVuSans-114\"/>\r\n       <use x=\"298.779297\" xlink:href=\"#DejaVuSans-44\"/>\r\n       <use x=\"330.566406\" xlink:href=\"#DejaVuSans-32\"/>\r\n       <use x=\"362.353516\" xlink:href=\"#DejaVuSans-110\"/>\r\n       <use x=\"425.732422\" xlink:href=\"#DejaVuSans-111\"/>\r\n       <use x=\"486.914062\" xlink:href=\"#DejaVuSans-32\"/>\r\n       <use x=\"518.701172\" xlink:href=\"#DejaVuSans-110\"/>\r\n       <use x=\"582.080078\" xlink:href=\"#DejaVuSans-111\"/>\r\n       <use x=\"643.261719\" xlink:href=\"#DejaVuSans-114\"/>\r\n       <use x=\"682.625\" xlink:href=\"#DejaVuSans-109\"/>\r\n      </g>\r\n     </g>\r\n    </g>\r\n    <g id=\"xtick_10\">\r\n     <g id=\"line2d_10\">\r\n      <g>\r\n       <use style=\"stroke:#000000;stroke-width:0.8;\" x=\"591.2875\" xlink:href=\"#mcda2a92c19\" y=\"442.08\"/>\r\n      </g>\r\n     </g>\r\n    </g>\r\n   </g>\r\n   <g id=\"matplotlib.axis_2\">\r\n    <g id=\"ytick_1\">\r\n     <g id=\"line2d_11\">\r\n      <defs>\r\n       <path d=\"M 0 0 \r\nL -3.5 0 \r\n\" id=\"md044dd0218\" style=\"stroke:#000000;stroke-width:0.8;\"/>\r\n      </defs>\r\n      <g>\r\n       <use style=\"stroke:#000000;stroke-width:0.8;\" x=\"33.2875\" xlink:href=\"#md044dd0218\" y=\"442.08\"/>\r\n      </g>\r\n     </g>\r\n     <g id=\"text_9\">\r\n      <!-- 0 -->\r\n      <g transform=\"translate(19.925 445.879219)scale(0.1 -0.1)\">\r\n       <defs>\r\n        <path d=\"M 31.78125 66.40625 \r\nQ 24.171875 66.40625 20.328125 58.90625 \r\nQ 16.5 51.421875 16.5 36.375 \r\nQ 16.5 21.390625 20.328125 13.890625 \r\nQ 24.171875 6.390625 31.78125 6.390625 \r\nQ 39.453125 6.390625 43.28125 13.890625 \r\nQ 47.125 21.390625 47.125 36.375 \r\nQ 47.125 51.421875 43.28125 58.90625 \r\nQ 39.453125 66.40625 31.78125 66.40625 \r\nz\r\nM 31.78125 74.21875 \r\nQ 44.046875 74.21875 50.515625 64.515625 \r\nQ 56.984375 54.828125 56.984375 36.375 \r\nQ 56.984375 17.96875 50.515625 8.265625 \r\nQ 44.046875 -1.421875 31.78125 -1.421875 \r\nQ 19.53125 -1.421875 13.0625 8.265625 \r\nQ 6.59375 17.96875 6.59375 36.375 \r\nQ 6.59375 54.828125 13.0625 64.515625 \r\nQ 19.53125 74.21875 31.78125 74.21875 \r\nz\r\n\" id=\"DejaVuSans-48\"/>\r\n       </defs>\r\n       <use xlink:href=\"#DejaVuSans-48\"/>\r\n      </g>\r\n     </g>\r\n    </g>\r\n    <g id=\"ytick_2\">\r\n     <g id=\"line2d_12\">\r\n      <g>\r\n       <use style=\"stroke:#000000;stroke-width:0.8;\" x=\"33.2875\" xlink:href=\"#md044dd0218\" y=\"363.010909\"/>\r\n      </g>\r\n     </g>\r\n     <g id=\"text_10\">\r\n      <!-- 20 -->\r\n      <g transform=\"translate(13.5625 366.810128)scale(0.1 -0.1)\">\r\n       <use xlink:href=\"#DejaVuSans-50\"/>\r\n       <use x=\"63.623047\" xlink:href=\"#DejaVuSans-48\"/>\r\n      </g>\r\n     </g>\r\n    </g>\r\n    <g id=\"ytick_3\">\r\n     <g id=\"line2d_13\">\r\n      <g>\r\n       <use style=\"stroke:#000000;stroke-width:0.8;\" x=\"33.2875\" xlink:href=\"#md044dd0218\" y=\"283.941818\"/>\r\n      </g>\r\n     </g>\r\n     <g id=\"text_11\">\r\n      <!-- 40 -->\r\n      <g transform=\"translate(13.5625 287.741037)scale(0.1 -0.1)\">\r\n       <defs>\r\n        <path d=\"M 37.796875 64.3125 \r\nL 12.890625 25.390625 \r\nL 37.796875 25.390625 \r\nz\r\nM 35.203125 72.90625 \r\nL 47.609375 72.90625 \r\nL 47.609375 25.390625 \r\nL 58.015625 25.390625 \r\nL 58.015625 17.1875 \r\nL 47.609375 17.1875 \r\nL 47.609375 0 \r\nL 37.796875 0 \r\nL 37.796875 17.1875 \r\nL 4.890625 17.1875 \r\nL 4.890625 26.703125 \r\nz\r\n\" id=\"DejaVuSans-52\"/>\r\n       </defs>\r\n       <use xlink:href=\"#DejaVuSans-52\"/>\r\n       <use x=\"63.623047\" xlink:href=\"#DejaVuSans-48\"/>\r\n      </g>\r\n     </g>\r\n    </g>\r\n    <g id=\"ytick_4\">\r\n     <g id=\"line2d_14\">\r\n      <g>\r\n       <use style=\"stroke:#000000;stroke-width:0.8;\" x=\"33.2875\" xlink:href=\"#md044dd0218\" y=\"204.872727\"/>\r\n      </g>\r\n     </g>\r\n     <g id=\"text_12\">\r\n      <!-- 60 -->\r\n      <g transform=\"translate(13.5625 208.671946)scale(0.1 -0.1)\">\r\n       <defs>\r\n        <path d=\"M 33.015625 40.375 \r\nQ 26.375 40.375 22.484375 35.828125 \r\nQ 18.609375 31.296875 18.609375 23.390625 \r\nQ 18.609375 15.53125 22.484375 10.953125 \r\nQ 26.375 6.390625 33.015625 6.390625 \r\nQ 39.65625 6.390625 43.53125 10.953125 \r\nQ 47.40625 15.53125 47.40625 23.390625 \r\nQ 47.40625 31.296875 43.53125 35.828125 \r\nQ 39.65625 40.375 33.015625 40.375 \r\nz\r\nM 52.59375 71.296875 \r\nL 52.59375 62.3125 \r\nQ 48.875 64.0625 45.09375 64.984375 \r\nQ 41.3125 65.921875 37.59375 65.921875 \r\nQ 27.828125 65.921875 22.671875 59.328125 \r\nQ 17.53125 52.734375 16.796875 39.40625 \r\nQ 19.671875 43.65625 24.015625 45.921875 \r\nQ 28.375 48.1875 33.59375 48.1875 \r\nQ 44.578125 48.1875 50.953125 41.515625 \r\nQ 57.328125 34.859375 57.328125 23.390625 \r\nQ 57.328125 12.15625 50.6875 5.359375 \r\nQ 44.046875 -1.421875 33.015625 -1.421875 \r\nQ 20.359375 -1.421875 13.671875 8.265625 \r\nQ 6.984375 17.96875 6.984375 36.375 \r\nQ 6.984375 53.65625 15.1875 63.9375 \r\nQ 23.390625 74.21875 37.203125 74.21875 \r\nQ 40.921875 74.21875 44.703125 73.484375 \r\nQ 48.484375 72.75 52.59375 71.296875 \r\nz\r\n\" id=\"DejaVuSans-54\"/>\r\n       </defs>\r\n       <use xlink:href=\"#DejaVuSans-54\"/>\r\n       <use x=\"63.623047\" xlink:href=\"#DejaVuSans-48\"/>\r\n      </g>\r\n     </g>\r\n    </g>\r\n    <g id=\"ytick_5\">\r\n     <g id=\"line2d_15\">\r\n      <g>\r\n       <use style=\"stroke:#000000;stroke-width:0.8;\" x=\"33.2875\" xlink:href=\"#md044dd0218\" y=\"125.803636\"/>\r\n      </g>\r\n     </g>\r\n     <g id=\"text_13\">\r\n      <!-- 80 -->\r\n      <g transform=\"translate(13.5625 129.602855)scale(0.1 -0.1)\">\r\n       <defs>\r\n        <path d=\"M 31.78125 34.625 \r\nQ 24.75 34.625 20.71875 30.859375 \r\nQ 16.703125 27.09375 16.703125 20.515625 \r\nQ 16.703125 13.921875 20.71875 10.15625 \r\nQ 24.75 6.390625 31.78125 6.390625 \r\nQ 38.8125 6.390625 42.859375 10.171875 \r\nQ 46.921875 13.96875 46.921875 20.515625 \r\nQ 46.921875 27.09375 42.890625 30.859375 \r\nQ 38.875 34.625 31.78125 34.625 \r\nz\r\nM 21.921875 38.8125 \r\nQ 15.578125 40.375 12.03125 44.71875 \r\nQ 8.5 49.078125 8.5 55.328125 \r\nQ 8.5 64.0625 14.71875 69.140625 \r\nQ 20.953125 74.21875 31.78125 74.21875 \r\nQ 42.671875 74.21875 48.875 69.140625 \r\nQ 55.078125 64.0625 55.078125 55.328125 \r\nQ 55.078125 49.078125 51.53125 44.71875 \r\nQ 48 40.375 41.703125 38.8125 \r\nQ 48.828125 37.15625 52.796875 32.3125 \r\nQ 56.78125 27.484375 56.78125 20.515625 \r\nQ 56.78125 9.90625 50.3125 4.234375 \r\nQ 43.84375 -1.421875 31.78125 -1.421875 \r\nQ 19.734375 -1.421875 13.25 4.234375 \r\nQ 6.78125 9.90625 6.78125 20.515625 \r\nQ 6.78125 27.484375 10.78125 32.3125 \r\nQ 14.796875 37.15625 21.921875 38.8125 \r\nz\r\nM 18.3125 54.390625 \r\nQ 18.3125 48.734375 21.84375 45.5625 \r\nQ 25.390625 42.390625 31.78125 42.390625 \r\nQ 38.140625 42.390625 41.71875 45.5625 \r\nQ 45.3125 48.734375 45.3125 54.390625 \r\nQ 45.3125 60.0625 41.71875 63.234375 \r\nQ 38.140625 66.40625 31.78125 66.40625 \r\nQ 25.390625 66.40625 21.84375 63.234375 \r\nQ 18.3125 60.0625 18.3125 54.390625 \r\nz\r\n\" id=\"DejaVuSans-56\"/>\r\n       </defs>\r\n       <use xlink:href=\"#DejaVuSans-56\"/>\r\n       <use x=\"63.623047\" xlink:href=\"#DejaVuSans-48\"/>\r\n      </g>\r\n     </g>\r\n    </g>\r\n    <g id=\"ytick_6\">\r\n     <g id=\"line2d_16\">\r\n      <g>\r\n       <use style=\"stroke:#000000;stroke-width:0.8;\" x=\"33.2875\" xlink:href=\"#md044dd0218\" y=\"46.734545\"/>\r\n      </g>\r\n     </g>\r\n     <g id=\"text_14\">\r\n      <!-- 100 -->\r\n      <g transform=\"translate(7.2 50.533764)scale(0.1 -0.1)\">\r\n       <use xlink:href=\"#DejaVuSans-49\"/>\r\n       <use x=\"63.623047\" xlink:href=\"#DejaVuSans-48\"/>\r\n       <use x=\"127.246094\" xlink:href=\"#DejaVuSans-48\"/>\r\n      </g>\r\n     </g>\r\n    </g>\r\n   </g>\r\n   <g id=\"patch_27\">\r\n    <path d=\"M 33.2875 442.08 \r\nL 33.2875 7.2 \r\n\" style=\"fill:none;stroke:#000000;stroke-linecap:square;stroke-linejoin:miter;stroke-width:0.8;\"/>\r\n   </g>\r\n   <g id=\"patch_28\">\r\n    <path d=\"M 591.2875 442.08 \r\nL 591.2875 7.2 \r\n\" style=\"fill:none;stroke:#000000;stroke-linecap:square;stroke-linejoin:miter;stroke-width:0.8;\"/>\r\n   </g>\r\n   <g id=\"patch_29\">\r\n    <path d=\"M 33.2875 442.08 \r\nL 591.2875 442.08 \r\n\" style=\"fill:none;stroke:#000000;stroke-linecap:square;stroke-linejoin:miter;stroke-width:0.8;\"/>\r\n   </g>\r\n   <g id=\"patch_30\">\r\n    <path d=\"M 33.2875 7.2 \r\nL 591.2875 7.2 \r\n\" style=\"fill:none;stroke:#000000;stroke-linecap:square;stroke-linejoin:miter;stroke-width:0.8;\"/>\r\n   </g>\r\n   <g id=\"text_15\">\r\n    <!-- 66.91 -->\r\n    <g style=\"fill:#0000ff;\" transform=\"translate(86.750625 160.000014)rotate(-90)scale(0.14 -0.14)\">\r\n     <defs>\r\n      <path d=\"M 36.1875 35.984375 \r\nQ 31.25 35.984375 28.78125 32.78125 \r\nQ 26.3125 29.59375 26.3125 23.1875 \r\nQ 26.3125 16.796875 28.78125 13.59375 \r\nQ 31.25 10.40625 36.1875 10.40625 \r\nQ 41.15625 10.40625 43.625 13.59375 \r\nQ 46.09375 16.796875 46.09375 23.1875 \r\nQ 46.09375 29.59375 43.625 32.78125 \r\nQ 41.15625 35.984375 36.1875 35.984375 \r\nz\r\nM 59.421875 71 \r\nL 59.421875 57.515625 \r\nQ 54.78125 59.71875 50.671875 60.765625 \r\nQ 46.578125 61.8125 42.671875 61.8125 \r\nQ 34.28125 61.8125 29.59375 57.140625 \r\nQ 24.90625 52.484375 24.125 43.3125 \r\nQ 27.34375 45.703125 31.09375 46.890625 \r\nQ 34.859375 48.09375 39.3125 48.09375 \r\nQ 50.484375 48.09375 57.34375 41.546875 \r\nQ 64.203125 35.015625 64.203125 24.421875 \r\nQ 64.203125 12.703125 56.53125 5.640625 \r\nQ 48.875 -1.421875 35.984375 -1.421875 \r\nQ 21.78125 -1.421875 13.984375 8.171875 \r\nQ 6.203125 17.78125 6.203125 35.40625 \r\nQ 6.203125 53.46875 15.3125 63.796875 \r\nQ 24.421875 74.125 40.28125 74.125 \r\nQ 45.3125 74.125 50.046875 73.34375 \r\nQ 54.78125 72.5625 59.421875 71 \r\nz\r\n\" id=\"DejaVuSans-Bold-54\"/>\r\n      <path d=\"M 10.203125 18.890625 \r\nL 27.78125 18.890625 \r\nL 27.78125 0 \r\nL 10.203125 0 \r\nz\r\n\" id=\"DejaVuSans-Bold-46\"/>\r\n      <path d=\"M 10.015625 1.609375 \r\nL 10.015625 15.09375 \r\nQ 14.5 12.984375 18.59375 11.9375 \r\nQ 22.703125 10.890625 26.703125 10.890625 \r\nQ 35.109375 10.890625 39.796875 15.546875 \r\nQ 44.484375 20.21875 45.3125 29.390625 \r\nQ 42 26.953125 38.234375 25.734375 \r\nQ 34.46875 24.515625 30.078125 24.515625 \r\nQ 18.890625 24.515625 12.03125 31.03125 \r\nQ 5.171875 37.546875 5.171875 48.1875 \r\nQ 5.171875 59.96875 12.8125 67.046875 \r\nQ 20.453125 74.125 33.296875 74.125 \r\nQ 47.5625 74.125 55.375 64.5 \r\nQ 63.1875 54.890625 63.1875 37.3125 \r\nQ 63.1875 19.234375 54.046875 8.90625 \r\nQ 44.921875 -1.421875 29 -1.421875 \r\nQ 23.875 -1.421875 19.1875 -0.65625 \r\nQ 14.5 0.09375 10.015625 1.609375 \r\nz\r\nM 33.203125 36.71875 \r\nQ 38.140625 36.71875 40.625 39.90625 \r\nQ 43.109375 43.109375 43.109375 49.515625 \r\nQ 43.109375 55.859375 40.625 59.078125 \r\nQ 38.140625 62.3125 33.203125 62.3125 \r\nQ 28.265625 62.3125 25.78125 59.078125 \r\nQ 23.296875 55.859375 23.296875 49.515625 \r\nQ 23.296875 43.109375 25.78125 39.90625 \r\nQ 28.265625 36.71875 33.203125 36.71875 \r\nz\r\n\" id=\"DejaVuSans-Bold-57\"/>\r\n      <path d=\"M 11.71875 12.984375 \r\nL 28.328125 12.984375 \r\nL 28.328125 60.109375 \r\nL 11.28125 56.59375 \r\nL 11.28125 69.390625 \r\nL 28.21875 72.90625 \r\nL 46.09375 72.90625 \r\nL 46.09375 12.984375 \r\nL 62.703125 12.984375 \r\nL 62.703125 0 \r\nL 11.71875 0 \r\nz\r\n\" id=\"DejaVuSans-Bold-49\"/>\r\n     </defs>\r\n     <use xlink:href=\"#DejaVuSans-Bold-54\"/>\r\n     <use x=\"69.580078\" xlink:href=\"#DejaVuSans-Bold-54\"/>\r\n     <use x=\"139.160156\" xlink:href=\"#DejaVuSans-Bold-46\"/>\r\n     <use x=\"177.148438\" xlink:href=\"#DejaVuSans-Bold-57\"/>\r\n     <use x=\"246.728516\" xlink:href=\"#DejaVuSans-Bold-49\"/>\r\n    </g>\r\n   </g>\r\n   <g id=\"text_16\">\r\n    <!-- 14.62 -->\r\n    <g style=\"fill:#ff0000;\" transform=\"translate(99.150625 375.603394)rotate(-90)scale(0.14 -0.14)\">\r\n     <defs>\r\n      <path d=\"M 36.8125 57.421875 \r\nL 16.21875 26.90625 \r\nL 36.8125 26.90625 \r\nz\r\nM 33.6875 72.90625 \r\nL 54.59375 72.90625 \r\nL 54.59375 26.90625 \r\nL 64.984375 26.90625 \r\nL 64.984375 13.28125 \r\nL 54.59375 13.28125 \r\nL 54.59375 0 \r\nL 36.8125 0 \r\nL 36.8125 13.28125 \r\nL 4.5 13.28125 \r\nL 4.5 29.390625 \r\nz\r\n\" id=\"DejaVuSans-Bold-52\"/>\r\n      <path d=\"M 28.8125 13.8125 \r\nL 60.890625 13.8125 \r\nL 60.890625 0 \r\nL 7.90625 0 \r\nL 7.90625 13.8125 \r\nL 34.515625 37.3125 \r\nQ 38.09375 40.53125 39.796875 43.609375 \r\nQ 41.5 46.6875 41.5 50 \r\nQ 41.5 55.125 38.0625 58.25 \r\nQ 34.625 61.375 28.90625 61.375 \r\nQ 24.515625 61.375 19.28125 59.5 \r\nQ 14.0625 57.625 8.109375 53.90625 \r\nL 8.109375 69.921875 \r\nQ 14.453125 72.015625 20.65625 73.109375 \r\nQ 26.859375 74.21875 32.8125 74.21875 \r\nQ 45.90625 74.21875 53.15625 68.453125 \r\nQ 60.40625 62.703125 60.40625 52.390625 \r\nQ 60.40625 46.4375 57.328125 41.28125 \r\nQ 54.25 36.140625 44.390625 27.484375 \r\nz\r\n\" id=\"DejaVuSans-Bold-50\"/>\r\n     </defs>\r\n     <use xlink:href=\"#DejaVuSans-Bold-49\"/>\r\n     <use x=\"69.580078\" xlink:href=\"#DejaVuSans-Bold-52\"/>\r\n     <use x=\"139.160156\" xlink:href=\"#DejaVuSans-Bold-46\"/>\r\n     <use x=\"177.148438\" xlink:href=\"#DejaVuSans-Bold-54\"/>\r\n     <use x=\"246.728516\" xlink:href=\"#DejaVuSans-Bold-50\"/>\r\n    </g>\r\n   </g>\r\n   <g id=\"text_17\">\r\n    <!-- 80.79 -->\r\n    <g style=\"fill:#008000;\" transform=\"translate(111.550625 96.891165)rotate(-90)scale(0.14 -0.14)\">\r\n     <defs>\r\n      <path d=\"M 34.8125 32.625 \r\nQ 29.546875 32.625 26.703125 29.734375 \r\nQ 23.875 26.859375 23.875 21.484375 \r\nQ 23.875 16.109375 26.703125 13.25 \r\nQ 29.546875 10.40625 34.8125 10.40625 \r\nQ 40.046875 10.40625 42.828125 13.25 \r\nQ 45.609375 16.109375 45.609375 21.484375 \r\nQ 45.609375 26.90625 42.828125 29.765625 \r\nQ 40.046875 32.625 34.8125 32.625 \r\nz\r\nM 21.09375 38.8125 \r\nQ 14.453125 40.828125 11.078125 44.96875 \r\nQ 7.71875 49.125 7.71875 55.328125 \r\nQ 7.71875 64.546875 14.59375 69.375 \r\nQ 21.484375 74.21875 34.8125 74.21875 \r\nQ 48.046875 74.21875 54.921875 69.40625 \r\nQ 61.8125 64.59375 61.8125 55.328125 \r\nQ 61.8125 49.125 58.421875 44.96875 \r\nQ 55.03125 40.828125 48.390625 38.8125 \r\nQ 55.8125 36.765625 59.59375 32.15625 \r\nQ 63.375 27.546875 63.375 20.515625 \r\nQ 63.375 9.671875 56.171875 4.125 \r\nQ 48.96875 -1.421875 34.8125 -1.421875 \r\nQ 20.609375 -1.421875 13.359375 4.125 \r\nQ 6.109375 9.671875 6.109375 20.515625 \r\nQ 6.109375 27.546875 9.890625 32.15625 \r\nQ 13.671875 36.765625 21.09375 38.8125 \r\nz\r\nM 25.484375 53.421875 \r\nQ 25.484375 49.078125 27.90625 46.734375 \r\nQ 30.328125 44.390625 34.8125 44.390625 \r\nQ 39.203125 44.390625 41.59375 46.734375 \r\nQ 44 49.078125 44 53.421875 \r\nQ 44 57.765625 41.59375 60.078125 \r\nQ 39.203125 62.40625 34.8125 62.40625 \r\nQ 30.328125 62.40625 27.90625 60.0625 \r\nQ 25.484375 57.71875 25.484375 53.421875 \r\nz\r\n\" id=\"DejaVuSans-Bold-56\"/>\r\n      <path d=\"M 46 36.53125 \r\nQ 46 50.203125 43.4375 55.78125 \r\nQ 40.875 61.375 34.8125 61.375 \r\nQ 28.765625 61.375 26.171875 55.78125 \r\nQ 23.578125 50.203125 23.578125 36.53125 \r\nQ 23.578125 22.703125 26.171875 17.03125 \r\nQ 28.765625 11.375 34.8125 11.375 \r\nQ 40.828125 11.375 43.40625 17.03125 \r\nQ 46 22.703125 46 36.53125 \r\nz\r\nM 64.796875 36.375 \r\nQ 64.796875 18.265625 56.984375 8.421875 \r\nQ 49.171875 -1.421875 34.8125 -1.421875 \r\nQ 20.40625 -1.421875 12.59375 8.421875 \r\nQ 4.78125 18.265625 4.78125 36.375 \r\nQ 4.78125 54.546875 12.59375 64.375 \r\nQ 20.40625 74.21875 34.8125 74.21875 \r\nQ 49.171875 74.21875 56.984375 64.375 \r\nQ 64.796875 54.546875 64.796875 36.375 \r\nz\r\n\" id=\"DejaVuSans-Bold-48\"/>\r\n      <path d=\"M 6.6875 72.90625 \r\nL 61.625 72.90625 \r\nL 61.625 62.3125 \r\nL 33.203125 0 \r\nL 14.890625 0 \r\nL 41.796875 59.078125 \r\nL 6.6875 59.078125 \r\nz\r\n\" id=\"DejaVuSans-Bold-55\"/>\r\n     </defs>\r\n     <use xlink:href=\"#DejaVuSans-Bold-56\"/>\r\n     <use x=\"69.580078\" xlink:href=\"#DejaVuSans-Bold-48\"/>\r\n     <use x=\"139.160156\" xlink:href=\"#DejaVuSans-Bold-46\"/>\r\n     <use x=\"177.148438\" xlink:href=\"#DejaVuSans-Bold-55\"/>\r\n     <use x=\"246.728516\" xlink:href=\"#DejaVuSans-Bold-57\"/>\r\n    </g>\r\n   </g>\r\n   <g id=\"text_18\">\r\n    <!-- 76.83 -->\r\n    <g style=\"fill:#0000ff;\" transform=\"translate(148.750625 114.922265)rotate(-90)scale(0.14 -0.14)\">\r\n     <defs>\r\n      <path d=\"M 46.578125 39.3125 \r\nQ 53.953125 37.40625 57.78125 32.6875 \r\nQ 61.625 27.984375 61.625 20.703125 \r\nQ 61.625 9.859375 53.3125 4.21875 \r\nQ 45.015625 -1.421875 29.109375 -1.421875 \r\nQ 23.484375 -1.421875 17.84375 -0.515625 \r\nQ 12.203125 0.390625 6.6875 2.203125 \r\nL 6.6875 16.703125 \r\nQ 11.96875 14.0625 17.15625 12.71875 \r\nQ 22.359375 11.375 27.390625 11.375 \r\nQ 34.859375 11.375 38.84375 13.953125 \r\nQ 42.828125 16.546875 42.828125 21.390625 \r\nQ 42.828125 26.375 38.75 28.9375 \r\nQ 34.671875 31.5 26.703125 31.5 \r\nL 19.1875 31.5 \r\nL 19.1875 43.609375 \r\nL 27.09375 43.609375 \r\nQ 34.1875 43.609375 37.640625 45.828125 \r\nQ 41.109375 48.046875 41.109375 52.59375 \r\nQ 41.109375 56.78125 37.734375 59.078125 \r\nQ 34.375 61.375 28.21875 61.375 \r\nQ 23.6875 61.375 19.046875 60.34375 \r\nQ 14.40625 59.328125 9.8125 57.328125 \r\nL 9.8125 71.09375 \r\nQ 15.375 72.65625 20.84375 73.4375 \r\nQ 26.3125 74.21875 31.59375 74.21875 \r\nQ 45.796875 74.21875 52.84375 69.546875 \r\nQ 59.90625 64.890625 59.90625 55.515625 \r\nQ 59.90625 49.125 56.53125 45.046875 \r\nQ 53.171875 40.96875 46.578125 39.3125 \r\nz\r\n\" id=\"DejaVuSans-Bold-51\"/>\r\n     </defs>\r\n     <use xlink:href=\"#DejaVuSans-Bold-55\"/>\r\n     <use x=\"69.580078\" xlink:href=\"#DejaVuSans-Bold-54\"/>\r\n     <use x=\"139.160156\" xlink:href=\"#DejaVuSans-Bold-46\"/>\r\n     <use x=\"177.148438\" xlink:href=\"#DejaVuSans-Bold-56\"/>\r\n     <use x=\"246.728516\" xlink:href=\"#DejaVuSans-Bold-51\"/>\r\n    </g>\r\n   </g>\r\n   <g id=\"text_19\">\r\n    <!-- 76.83 -->\r\n    <g style=\"fill:#ff0000;\" transform=\"translate(161.150625 92.781483)rotate(-90)scale(0.14 -0.14)\">\r\n     <use xlink:href=\"#DejaVuSans-Bold-55\"/>\r\n     <use x=\"69.580078\" xlink:href=\"#DejaVuSans-Bold-54\"/>\r\n     <use x=\"139.160156\" xlink:href=\"#DejaVuSans-Bold-46\"/>\r\n     <use x=\"177.148438\" xlink:href=\"#DejaVuSans-Bold-56\"/>\r\n     <use x=\"246.728516\" xlink:href=\"#DejaVuSans-Bold-51\"/>\r\n    </g>\r\n   </g>\r\n   <g id=\"text_20\">\r\n    <!-- 80.18 -->\r\n    <g style=\"fill:#008000;\" transform=\"translate(173.550625 99.701116)rotate(-90)scale(0.14 -0.14)\">\r\n     <use xlink:href=\"#DejaVuSans-Bold-56\"/>\r\n     <use x=\"69.580078\" xlink:href=\"#DejaVuSans-Bold-48\"/>\r\n     <use x=\"139.160156\" xlink:href=\"#DejaVuSans-Bold-46\"/>\r\n     <use x=\"177.148438\" xlink:href=\"#DejaVuSans-Bold-49\"/>\r\n     <use x=\"246.728516\" xlink:href=\"#DejaVuSans-Bold-56\"/>\r\n    </g>\r\n   </g>\r\n   <g id=\"text_21\">\r\n    <!-- 73.85 -->\r\n    <g style=\"fill:#0000ff;\" transform=\"translate(210.750625 128.445589)rotate(-90)scale(0.14 -0.14)\">\r\n     <defs>\r\n      <path d=\"M 10.59375 72.90625 \r\nL 57.328125 72.90625 \r\nL 57.328125 59.078125 \r\nL 25.59375 59.078125 \r\nL 25.59375 47.796875 \r\nQ 27.734375 48.390625 29.90625 48.703125 \r\nQ 32.078125 49.03125 34.421875 49.03125 \r\nQ 47.75 49.03125 55.171875 42.359375 \r\nQ 62.59375 35.6875 62.59375 23.78125 \r\nQ 62.59375 11.96875 54.515625 5.265625 \r\nQ 46.4375 -1.421875 32.078125 -1.421875 \r\nQ 25.875 -1.421875 19.796875 -0.21875 \r\nQ 13.71875 0.984375 7.71875 3.421875 \r\nL 7.71875 18.21875 \r\nQ 13.671875 14.796875 19.015625 13.078125 \r\nQ 24.359375 11.375 29.109375 11.375 \r\nQ 35.9375 11.375 39.859375 14.71875 \r\nQ 43.796875 18.0625 43.796875 23.78125 \r\nQ 43.796875 29.546875 39.859375 32.859375 \r\nQ 35.9375 36.1875 29.109375 36.1875 \r\nQ 25.046875 36.1875 20.453125 35.125 \r\nQ 15.875 34.078125 10.59375 31.890625 \r\nz\r\n\" id=\"DejaVuSans-Bold-53\"/>\r\n     </defs>\r\n     <use xlink:href=\"#DejaVuSans-Bold-55\"/>\r\n     <use x=\"69.580078\" xlink:href=\"#DejaVuSans-Bold-51\"/>\r\n     <use x=\"139.160156\" xlink:href=\"#DejaVuSans-Bold-46\"/>\r\n     <use x=\"177.148438\" xlink:href=\"#DejaVuSans-Bold-56\"/>\r\n     <use x=\"246.728516\" xlink:href=\"#DejaVuSans-Bold-53\"/>\r\n    </g>\r\n   </g>\r\n   <g id=\"text_22\">\r\n    <!-- 14.62 -->\r\n    <g style=\"fill:#ff0000;\" transform=\"translate(223.150625 375.603394)rotate(-90)scale(0.14 -0.14)\">\r\n     <use xlink:href=\"#DejaVuSans-Bold-49\"/>\r\n     <use x=\"69.580078\" xlink:href=\"#DejaVuSans-Bold-52\"/>\r\n     <use x=\"139.160156\" xlink:href=\"#DejaVuSans-Bold-46\"/>\r\n     <use x=\"177.148438\" xlink:href=\"#DejaVuSans-Bold-54\"/>\r\n     <use x=\"246.728516\" xlink:href=\"#DejaVuSans-Bold-50\"/>\r\n    </g>\r\n   </g>\r\n   <g id=\"text_23\">\r\n    <!-- 80.79 -->\r\n    <g style=\"fill:#008000;\" transform=\"translate(235.550625 96.894651)rotate(-90)scale(0.14 -0.14)\">\r\n     <use xlink:href=\"#DejaVuSans-Bold-56\"/>\r\n     <use x=\"69.580078\" xlink:href=\"#DejaVuSans-Bold-48\"/>\r\n     <use x=\"139.160156\" xlink:href=\"#DejaVuSans-Bold-46\"/>\r\n     <use x=\"177.148438\" xlink:href=\"#DejaVuSans-Bold-55\"/>\r\n     <use x=\"246.728516\" xlink:href=\"#DejaVuSans-Bold-57\"/>\r\n    </g>\r\n   </g>\r\n   <g id=\"text_24\">\r\n    <!-- 71.25 -->\r\n    <g style=\"fill:#0000ff;\" transform=\"translate(272.750625 140.27109)rotate(-90)scale(0.14 -0.14)\">\r\n     <use xlink:href=\"#DejaVuSans-Bold-55\"/>\r\n     <use x=\"69.580078\" xlink:href=\"#DejaVuSans-Bold-49\"/>\r\n     <use x=\"139.160156\" xlink:href=\"#DejaVuSans-Bold-46\"/>\r\n     <use x=\"177.148438\" xlink:href=\"#DejaVuSans-Bold-50\"/>\r\n     <use x=\"246.728516\" xlink:href=\"#DejaVuSans-Bold-53\"/>\r\n    </g>\r\n   </g>\r\n   <g id=\"text_25\">\r\n    <!-- 14.62 -->\r\n    <g style=\"fill:#ff0000;\" transform=\"translate(285.150625 375.603394)rotate(-90)scale(0.14 -0.14)\">\r\n     <use xlink:href=\"#DejaVuSans-Bold-49\"/>\r\n     <use x=\"69.580078\" xlink:href=\"#DejaVuSans-Bold-52\"/>\r\n     <use x=\"139.160156\" xlink:href=\"#DejaVuSans-Bold-46\"/>\r\n     <use x=\"177.148438\" xlink:href=\"#DejaVuSans-Bold-54\"/>\r\n     <use x=\"246.728516\" xlink:href=\"#DejaVuSans-Bold-50\"/>\r\n    </g>\r\n   </g>\r\n   <g id=\"text_26\">\r\n    <!-- 80.05 -->\r\n    <g style=\"fill:#008000;\" transform=\"translate(297.550625 100.283327)rotate(-90)scale(0.14 -0.14)\">\r\n     <use xlink:href=\"#DejaVuSans-Bold-56\"/>\r\n     <use x=\"69.580078\" xlink:href=\"#DejaVuSans-Bold-48\"/>\r\n     <use x=\"139.160156\" xlink:href=\"#DejaVuSans-Bold-46\"/>\r\n     <use x=\"177.148438\" xlink:href=\"#DejaVuSans-Bold-48\"/>\r\n     <use x=\"246.728516\" xlink:href=\"#DejaVuSans-Bold-53\"/>\r\n    </g>\r\n   </g>\r\n   <g id=\"text_27\">\r\n    <!-- 71.62 -->\r\n    <g style=\"fill:#0000ff;\" transform=\"translate(334.750625 138.594184)rotate(-90)scale(0.14 -0.14)\">\r\n     <use xlink:href=\"#DejaVuSans-Bold-55\"/>\r\n     <use x=\"69.580078\" xlink:href=\"#DejaVuSans-Bold-49\"/>\r\n     <use x=\"139.160156\" xlink:href=\"#DejaVuSans-Bold-46\"/>\r\n     <use x=\"177.148438\" xlink:href=\"#DejaVuSans-Bold-54\"/>\r\n     <use x=\"246.728516\" xlink:href=\"#DejaVuSans-Bold-50\"/>\r\n    </g>\r\n   </g>\r\n   <g id=\"text_28\">\r\n    <!-- 71.25 -->\r\n    <g style=\"fill:#ff0000;\" transform=\"translate(347.150625 118.144254)rotate(-90)scale(0.14 -0.14)\">\r\n     <use xlink:href=\"#DejaVuSans-Bold-55\"/>\r\n     <use x=\"69.580078\" xlink:href=\"#DejaVuSans-Bold-49\"/>\r\n     <use x=\"139.160156\" xlink:href=\"#DejaVuSans-Bold-46\"/>\r\n     <use x=\"177.148438\" xlink:href=\"#DejaVuSans-Bold-50\"/>\r\n     <use x=\"246.728516\" xlink:href=\"#DejaVuSans-Bold-53\"/>\r\n    </g>\r\n   </g>\r\n   <g id=\"text_29\">\r\n    <!-- 80.42 -->\r\n    <g style=\"fill:#008000;\" transform=\"translate(359.550625 98.585503)rotate(-90)scale(0.14 -0.14)\">\r\n     <use xlink:href=\"#DejaVuSans-Bold-56\"/>\r\n     <use x=\"69.580078\" xlink:href=\"#DejaVuSans-Bold-48\"/>\r\n     <use x=\"139.160156\" xlink:href=\"#DejaVuSans-Bold-46\"/>\r\n     <use x=\"177.148438\" xlink:href=\"#DejaVuSans-Bold-52\"/>\r\n     <use x=\"246.728516\" xlink:href=\"#DejaVuSans-Bold-50\"/>\r\n    </g>\r\n   </g>\r\n   <g id=\"text_30\">\r\n    <!-- 66.91 -->\r\n    <g style=\"fill:#0000ff;\" transform=\"translate(396.750625 160.000014)rotate(-90)scale(0.14 -0.14)\">\r\n     <use xlink:href=\"#DejaVuSans-Bold-54\"/>\r\n     <use x=\"69.580078\" xlink:href=\"#DejaVuSans-Bold-54\"/>\r\n     <use x=\"139.160156\" xlink:href=\"#DejaVuSans-Bold-46\"/>\r\n     <use x=\"177.148438\" xlink:href=\"#DejaVuSans-Bold-57\"/>\r\n     <use x=\"246.728516\" xlink:href=\"#DejaVuSans-Bold-49\"/>\r\n    </g>\r\n   </g>\r\n   <g id=\"text_31\">\r\n    <!-- 14.62 -->\r\n    <g style=\"fill:#ff0000;\" transform=\"translate(409.150625 375.603394)rotate(-90)scale(0.14 -0.14)\">\r\n     <use xlink:href=\"#DejaVuSans-Bold-49\"/>\r\n     <use x=\"69.580078\" xlink:href=\"#DejaVuSans-Bold-52\"/>\r\n     <use x=\"139.160156\" xlink:href=\"#DejaVuSans-Bold-46\"/>\r\n     <use x=\"177.148438\" xlink:href=\"#DejaVuSans-Bold-54\"/>\r\n     <use x=\"246.728516\" xlink:href=\"#DejaVuSans-Bold-50\"/>\r\n    </g>\r\n   </g>\r\n   <g id=\"text_32\">\r\n    <!-- 80.79 -->\r\n    <g style=\"fill:#008000;\" transform=\"translate(421.550625 96.891165)rotate(-90)scale(0.14 -0.14)\">\r\n     <use xlink:href=\"#DejaVuSans-Bold-56\"/>\r\n     <use x=\"69.580078\" xlink:href=\"#DejaVuSans-Bold-48\"/>\r\n     <use x=\"139.160156\" xlink:href=\"#DejaVuSans-Bold-46\"/>\r\n     <use x=\"177.148438\" xlink:href=\"#DejaVuSans-Bold-55\"/>\r\n     <use x=\"246.728516\" xlink:href=\"#DejaVuSans-Bold-57\"/>\r\n    </g>\r\n   </g>\r\n   <g id=\"text_33\">\r\n    <!-- 66.91 -->\r\n    <g style=\"fill:#0000ff;\" transform=\"translate(458.750625 160.000014)rotate(-90)scale(0.14 -0.14)\">\r\n     <use xlink:href=\"#DejaVuSans-Bold-54\"/>\r\n     <use x=\"69.580078\" xlink:href=\"#DejaVuSans-Bold-54\"/>\r\n     <use x=\"139.160156\" xlink:href=\"#DejaVuSans-Bold-46\"/>\r\n     <use x=\"177.148438\" xlink:href=\"#DejaVuSans-Bold-57\"/>\r\n     <use x=\"246.728516\" xlink:href=\"#DejaVuSans-Bold-49\"/>\r\n    </g>\r\n   </g>\r\n   <g id=\"text_34\">\r\n    <!-- 14.62 -->\r\n    <g style=\"fill:#ff0000;\" transform=\"translate(471.150625 375.603394)rotate(-90)scale(0.14 -0.14)\">\r\n     <use xlink:href=\"#DejaVuSans-Bold-49\"/>\r\n     <use x=\"69.580078\" xlink:href=\"#DejaVuSans-Bold-52\"/>\r\n     <use x=\"139.160156\" xlink:href=\"#DejaVuSans-Bold-46\"/>\r\n     <use x=\"177.148438\" xlink:href=\"#DejaVuSans-Bold-54\"/>\r\n     <use x=\"246.728516\" xlink:href=\"#DejaVuSans-Bold-50\"/>\r\n    </g>\r\n   </g>\r\n   <g id=\"text_35\">\r\n    <!-- 80.79 -->\r\n    <g style=\"fill:#008000;\" transform=\"translate(483.550625 96.891165)rotate(-90)scale(0.14 -0.14)\">\r\n     <use xlink:href=\"#DejaVuSans-Bold-56\"/>\r\n     <use x=\"69.580078\" xlink:href=\"#DejaVuSans-Bold-48\"/>\r\n     <use x=\"139.160156\" xlink:href=\"#DejaVuSans-Bold-46\"/>\r\n     <use x=\"177.148438\" xlink:href=\"#DejaVuSans-Bold-55\"/>\r\n     <use x=\"246.728516\" xlink:href=\"#DejaVuSans-Bold-57\"/>\r\n    </g>\r\n   </g>\r\n   <g id=\"text_36\">\r\n    <!-- 67.41 -->\r\n    <g style=\"fill:#0000ff;\" transform=\"translate(520.750625 157.747869)rotate(-90)scale(0.14 -0.14)\">\r\n     <use xlink:href=\"#DejaVuSans-Bold-54\"/>\r\n     <use x=\"69.580078\" xlink:href=\"#DejaVuSans-Bold-55\"/>\r\n     <use x=\"139.160156\" xlink:href=\"#DejaVuSans-Bold-46\"/>\r\n     <use x=\"177.148438\" xlink:href=\"#DejaVuSans-Bold-52\"/>\r\n     <use x=\"246.728516\" xlink:href=\"#DejaVuSans-Bold-49\"/>\r\n    </g>\r\n   </g>\r\n   <g id=\"text_37\">\r\n    <!-- 14.62 -->\r\n    <g style=\"fill:#ff0000;\" transform=\"translate(533.150625 375.603394)rotate(-90)scale(0.14 -0.14)\">\r\n     <use xlink:href=\"#DejaVuSans-Bold-49\"/>\r\n     <use x=\"69.580078\" xlink:href=\"#DejaVuSans-Bold-52\"/>\r\n     <use x=\"139.160156\" xlink:href=\"#DejaVuSans-Bold-46\"/>\r\n     <use x=\"177.148438\" xlink:href=\"#DejaVuSans-Bold-54\"/>\r\n     <use x=\"246.728516\" xlink:href=\"#DejaVuSans-Bold-50\"/>\r\n    </g>\r\n   </g>\r\n   <g id=\"text_38\">\r\n    <!-- 80.42 -->\r\n    <g style=\"fill:#008000;\" transform=\"translate(545.550625 98.585503)rotate(-90)scale(0.14 -0.14)\">\r\n     <use xlink:href=\"#DejaVuSans-Bold-56\"/>\r\n     <use x=\"69.580078\" xlink:href=\"#DejaVuSans-Bold-48\"/>\r\n     <use x=\"139.160156\" xlink:href=\"#DejaVuSans-Bold-46\"/>\r\n     <use x=\"177.148438\" xlink:href=\"#DejaVuSans-Bold-52\"/>\r\n     <use x=\"246.728516\" xlink:href=\"#DejaVuSans-Bold-50\"/>\r\n    </g>\r\n   </g>\r\n   <g id=\"legend_1\">\r\n    <g id=\"patch_31\">\r\n     <path d=\"M 626.1875 59.234375 \r\nL 807.321875 59.234375 \r\nQ 809.321875 59.234375 809.321875 57.234375 \r\nL 809.321875 14.2 \r\nQ 809.321875 12.2 807.321875 12.2 \r\nL 626.1875 12.2 \r\nQ 624.1875 12.2 624.1875 14.2 \r\nL 624.1875 57.234375 \r\nQ 624.1875 59.234375 626.1875 59.234375 \r\nz\r\n\" style=\"fill:#ffffff;opacity:0.8;stroke:#cccccc;stroke-linejoin:miter;\"/>\r\n    </g>\r\n    <g id=\"patch_32\">\r\n     <path d=\"M 628.1875 23.798437 \r\nL 648.1875 23.798437 \r\nL 648.1875 16.798437 \r\nL 628.1875 16.798437 \r\nz\r\n\" style=\"fill:#0000ff;\"/>\r\n    </g>\r\n    <g id=\"text_39\">\r\n     <!-- Linear Kernel -->\r\n     <g transform=\"translate(656.1875 23.798437)scale(0.1 -0.1)\">\r\n      <defs>\r\n       <path d=\"M 9.421875 54.6875 \r\nL 18.40625 54.6875 \r\nL 18.40625 0 \r\nL 9.421875 0 \r\nz\r\nM 9.421875 75.984375 \r\nL 18.40625 75.984375 \r\nL 18.40625 64.59375 \r\nL 9.421875 64.59375 \r\nz\r\n\" id=\"DejaVuSans-105\"/>\r\n       <path d=\"M 9.8125 72.90625 \r\nL 19.671875 72.90625 \r\nL 19.671875 42.09375 \r\nL 52.390625 72.90625 \r\nL 65.09375 72.90625 \r\nL 28.90625 38.921875 \r\nL 67.671875 0 \r\nL 54.6875 0 \r\nL 19.671875 35.109375 \r\nL 19.671875 0 \r\nL 9.8125 0 \r\nz\r\n\" id=\"DejaVuSans-75\"/>\r\n      </defs>\r\n      <use xlink:href=\"#DejaVuSans-76\"/>\r\n      <use x=\"55.712891\" xlink:href=\"#DejaVuSans-105\"/>\r\n      <use x=\"83.496094\" xlink:href=\"#DejaVuSans-110\"/>\r\n      <use x=\"146.875\" xlink:href=\"#DejaVuSans-101\"/>\r\n      <use x=\"208.398438\" xlink:href=\"#DejaVuSans-97\"/>\r\n      <use x=\"269.677734\" xlink:href=\"#DejaVuSans-114\"/>\r\n      <use x=\"310.791016\" xlink:href=\"#DejaVuSans-32\"/>\r\n      <use x=\"342.578125\" xlink:href=\"#DejaVuSans-75\"/>\r\n      <use x=\"403.154297\" xlink:href=\"#DejaVuSans-101\"/>\r\n      <use x=\"464.677734\" xlink:href=\"#DejaVuSans-114\"/>\r\n      <use x=\"504.041016\" xlink:href=\"#DejaVuSans-110\"/>\r\n      <use x=\"567.419922\" xlink:href=\"#DejaVuSans-101\"/>\r\n      <use x=\"628.943359\" xlink:href=\"#DejaVuSans-108\"/>\r\n     </g>\r\n    </g>\r\n    <g id=\"patch_33\">\r\n     <path d=\"M 628.1875 38.476562 \r\nL 648.1875 38.476562 \r\nL 648.1875 31.476562 \r\nL 628.1875 31.476562 \r\nz\r\n\" style=\"fill:#ff0000;\"/>\r\n    </g>\r\n    <g id=\"text_40\">\r\n     <!-- RBF Kernel -->\r\n     <g transform=\"translate(656.1875 38.476562)scale(0.1 -0.1)\">\r\n      <defs>\r\n       <path d=\"M 44.390625 34.1875 \r\nQ 47.5625 33.109375 50.5625 29.59375 \r\nQ 53.5625 26.078125 56.59375 19.921875 \r\nL 66.609375 0 \r\nL 56 0 \r\nL 46.6875 18.703125 \r\nQ 43.0625 26.03125 39.671875 28.421875 \r\nQ 36.28125 30.8125 30.421875 30.8125 \r\nL 19.671875 30.8125 \r\nL 19.671875 0 \r\nL 9.8125 0 \r\nL 9.8125 72.90625 \r\nL 32.078125 72.90625 \r\nQ 44.578125 72.90625 50.734375 67.671875 \r\nQ 56.890625 62.453125 56.890625 51.90625 \r\nQ 56.890625 45.015625 53.6875 40.46875 \r\nQ 50.484375 35.9375 44.390625 34.1875 \r\nz\r\nM 19.671875 64.796875 \r\nL 19.671875 38.921875 \r\nL 32.078125 38.921875 \r\nQ 39.203125 38.921875 42.84375 42.21875 \r\nQ 46.484375 45.515625 46.484375 51.90625 \r\nQ 46.484375 58.296875 42.84375 61.546875 \r\nQ 39.203125 64.796875 32.078125 64.796875 \r\nz\r\n\" id=\"DejaVuSans-82\"/>\r\n       <path d=\"M 19.671875 34.8125 \r\nL 19.671875 8.109375 \r\nL 35.5 8.109375 \r\nQ 43.453125 8.109375 47.28125 11.40625 \r\nQ 51.125 14.703125 51.125 21.484375 \r\nQ 51.125 28.328125 47.28125 31.5625 \r\nQ 43.453125 34.8125 35.5 34.8125 \r\nz\r\nM 19.671875 64.796875 \r\nL 19.671875 42.828125 \r\nL 34.28125 42.828125 \r\nQ 41.5 42.828125 45.03125 45.53125 \r\nQ 48.578125 48.25 48.578125 53.8125 \r\nQ 48.578125 59.328125 45.03125 62.0625 \r\nQ 41.5 64.796875 34.28125 64.796875 \r\nz\r\nM 9.8125 72.90625 \r\nL 35.015625 72.90625 \r\nQ 46.296875 72.90625 52.390625 68.21875 \r\nQ 58.5 63.53125 58.5 54.890625 \r\nQ 58.5 48.1875 55.375 44.234375 \r\nQ 52.25 40.28125 46.1875 39.3125 \r\nQ 53.46875 37.75 57.5 32.78125 \r\nQ 61.53125 27.828125 61.53125 20.40625 \r\nQ 61.53125 10.640625 54.890625 5.3125 \r\nQ 48.25 0 35.984375 0 \r\nL 9.8125 0 \r\nz\r\n\" id=\"DejaVuSans-66\"/>\r\n       <path d=\"M 9.8125 72.90625 \r\nL 51.703125 72.90625 \r\nL 51.703125 64.59375 \r\nL 19.671875 64.59375 \r\nL 19.671875 43.109375 \r\nL 48.578125 43.109375 \r\nL 48.578125 34.8125 \r\nL 19.671875 34.8125 \r\nL 19.671875 0 \r\nL 9.8125 0 \r\nz\r\n\" id=\"DejaVuSans-70\"/>\r\n      </defs>\r\n      <use xlink:href=\"#DejaVuSans-82\"/>\r\n      <use x=\"69.482422\" xlink:href=\"#DejaVuSans-66\"/>\r\n      <use x=\"138.085938\" xlink:href=\"#DejaVuSans-70\"/>\r\n      <use x=\"195.605469\" xlink:href=\"#DejaVuSans-32\"/>\r\n      <use x=\"227.392578\" xlink:href=\"#DejaVuSans-75\"/>\r\n      <use x=\"287.96875\" xlink:href=\"#DejaVuSans-101\"/>\r\n      <use x=\"349.492188\" xlink:href=\"#DejaVuSans-114\"/>\r\n      <use x=\"388.855469\" xlink:href=\"#DejaVuSans-110\"/>\r\n      <use x=\"452.234375\" xlink:href=\"#DejaVuSans-101\"/>\r\n      <use x=\"513.757812\" xlink:href=\"#DejaVuSans-108\"/>\r\n     </g>\r\n    </g>\r\n    <g id=\"patch_34\">\r\n     <path d=\"M 628.1875 53.154687 \r\nL 648.1875 53.154687 \r\nL 648.1875 46.154687 \r\nL 628.1875 46.154687 \r\nz\r\n\" style=\"fill:#008000;\"/>\r\n    </g>\r\n    <g id=\"text_41\">\r\n     <!-- Histogram Intersection Kernel -->\r\n     <g transform=\"translate(656.1875 53.154687)scale(0.1 -0.1)\">\r\n      <defs>\r\n       <path d=\"M 9.8125 72.90625 \r\nL 19.671875 72.90625 \r\nL 19.671875 43.015625 \r\nL 55.515625 43.015625 \r\nL 55.515625 72.90625 \r\nL 65.375 72.90625 \r\nL 65.375 0 \r\nL 55.515625 0 \r\nL 55.515625 34.71875 \r\nL 19.671875 34.71875 \r\nL 19.671875 0 \r\nL 9.8125 0 \r\nz\r\n\" id=\"DejaVuSans-72\"/>\r\n       <path d=\"M 18.3125 70.21875 \r\nL 18.3125 54.6875 \r\nL 36.8125 54.6875 \r\nL 36.8125 47.703125 \r\nL 18.3125 47.703125 \r\nL 18.3125 18.015625 \r\nQ 18.3125 11.328125 20.140625 9.421875 \r\nQ 21.96875 7.515625 27.59375 7.515625 \r\nL 36.8125 7.515625 \r\nL 36.8125 0 \r\nL 27.59375 0 \r\nQ 17.1875 0 13.234375 3.875 \r\nQ 9.28125 7.765625 9.28125 18.015625 \r\nL 9.28125 47.703125 \r\nL 2.6875 47.703125 \r\nL 2.6875 54.6875 \r\nL 9.28125 54.6875 \r\nL 9.28125 70.21875 \r\nz\r\n\" id=\"DejaVuSans-116\"/>\r\n       <path d=\"M 45.40625 27.984375 \r\nQ 45.40625 37.75 41.375 43.109375 \r\nQ 37.359375 48.484375 30.078125 48.484375 \r\nQ 22.859375 48.484375 18.828125 43.109375 \r\nQ 14.796875 37.75 14.796875 27.984375 \r\nQ 14.796875 18.265625 18.828125 12.890625 \r\nQ 22.859375 7.515625 30.078125 7.515625 \r\nQ 37.359375 7.515625 41.375 12.890625 \r\nQ 45.40625 18.265625 45.40625 27.984375 \r\nz\r\nM 54.390625 6.78125 \r\nQ 54.390625 -7.171875 48.1875 -13.984375 \r\nQ 42 -20.796875 29.203125 -20.796875 \r\nQ 24.46875 -20.796875 20.265625 -20.09375 \r\nQ 16.0625 -19.390625 12.109375 -17.921875 \r\nL 12.109375 -9.1875 \r\nQ 16.0625 -11.328125 19.921875 -12.34375 \r\nQ 23.78125 -13.375 27.78125 -13.375 \r\nQ 36.625 -13.375 41.015625 -8.765625 \r\nQ 45.40625 -4.15625 45.40625 5.171875 \r\nL 45.40625 9.625 \r\nQ 42.625 4.78125 38.28125 2.390625 \r\nQ 33.9375 0 27.875 0 \r\nQ 17.828125 0 11.671875 7.65625 \r\nQ 5.515625 15.328125 5.515625 27.984375 \r\nQ 5.515625 40.671875 11.671875 48.328125 \r\nQ 17.828125 56 27.875 56 \r\nQ 33.9375 56 38.28125 53.609375 \r\nQ 42.625 51.21875 45.40625 46.390625 \r\nL 45.40625 54.6875 \r\nL 54.390625 54.6875 \r\nz\r\n\" id=\"DejaVuSans-103\"/>\r\n       <path d=\"M 9.8125 72.90625 \r\nL 19.671875 72.90625 \r\nL 19.671875 0 \r\nL 9.8125 0 \r\nz\r\n\" id=\"DejaVuSans-73\"/>\r\n      </defs>\r\n      <use xlink:href=\"#DejaVuSans-72\"/>\r\n      <use x=\"75.195312\" xlink:href=\"#DejaVuSans-105\"/>\r\n      <use x=\"102.978516\" xlink:href=\"#DejaVuSans-115\"/>\r\n      <use x=\"155.078125\" xlink:href=\"#DejaVuSans-116\"/>\r\n      <use x=\"194.287109\" xlink:href=\"#DejaVuSans-111\"/>\r\n      <use x=\"255.46875\" xlink:href=\"#DejaVuSans-103\"/>\r\n      <use x=\"318.945312\" xlink:href=\"#DejaVuSans-114\"/>\r\n      <use x=\"360.058594\" xlink:href=\"#DejaVuSans-97\"/>\r\n      <use x=\"421.337891\" xlink:href=\"#DejaVuSans-109\"/>\r\n      <use x=\"518.75\" xlink:href=\"#DejaVuSans-32\"/>\r\n      <use x=\"550.537109\" xlink:href=\"#DejaVuSans-73\"/>\r\n      <use x=\"580.029297\" xlink:href=\"#DejaVuSans-110\"/>\r\n      <use x=\"643.408203\" xlink:href=\"#DejaVuSans-116\"/>\r\n      <use x=\"682.617188\" xlink:href=\"#DejaVuSans-101\"/>\r\n      <use x=\"744.140625\" xlink:href=\"#DejaVuSans-114\"/>\r\n      <use x=\"785.253906\" xlink:href=\"#DejaVuSans-115\"/>\r\n      <use x=\"837.353516\" xlink:href=\"#DejaVuSans-101\"/>\r\n      <use x=\"898.876953\" xlink:href=\"#DejaVuSans-99\"/>\r\n      <use x=\"953.857422\" xlink:href=\"#DejaVuSans-116\"/>\r\n      <use x=\"993.066406\" xlink:href=\"#DejaVuSans-105\"/>\r\n      <use x=\"1020.849609\" xlink:href=\"#DejaVuSans-111\"/>\r\n      <use x=\"1082.03125\" xlink:href=\"#DejaVuSans-110\"/>\r\n      <use x=\"1145.410156\" xlink:href=\"#DejaVuSans-32\"/>\r\n      <use x=\"1177.197266\" xlink:href=\"#DejaVuSans-75\"/>\r\n      <use x=\"1237.773438\" xlink:href=\"#DejaVuSans-101\"/>\r\n      <use x=\"1299.296875\" xlink:href=\"#DejaVuSans-114\"/>\r\n      <use x=\"1338.660156\" xlink:href=\"#DejaVuSans-110\"/>\r\n      <use x=\"1402.039062\" xlink:href=\"#DejaVuSans-101\"/>\r\n      <use x=\"1463.5625\" xlink:href=\"#DejaVuSans-108\"/>\r\n     </g>\r\n    </g>\r\n   </g>\r\n  </g>\r\n </g>\r\n <defs>\r\n  <clipPath id=\"pcee454d1b4\">\r\n   <rect height=\"434.88\" width=\"558\" x=\"33.2875\" y=\"7.2\"/>\r\n  </clipPath>\r\n </defs>\r\n</svg>\r\n",
      "image/png": "[encoded data removed]"
     },
     "metadata": {
      "needs_background": "light"
     }
    }
   ],
   "source": [
    "outputPickle = \"scale_norm_data.pkl\"\n",
    "file = open(outputPickle, 'rb')\n",
    "data = cPickle.load(file)\n",
    "file.close()\n",
    "for thing in data:\n",
    "    print(thing)\n",
    "\n",
    "lin_graph_data = []\n",
    "rbf_graph_data = []\n",
    "hist_graph_data = []\n",
    "\n",
    "lin_graph_data = data[0]\n",
    "rbf_graph_data = data[1]\n",
    "hist_graph_data = data[2]\n",
    "\n",
    "length = len(lin_graph_data)\n",
    "x = np.arange(length)\n",
    "\n",
    "categories_labels = [\"\", \"no scaler no norm\", \"no scaler, L1 norm\", \"no scaler, L2 norm\", \"no scaler, Max norm\", \"scaler, L1 norm\", \"scaler, L2 norm\", \"scaler, Max norm\", \"scaler, no norm\"]\n",
    "\n",
    "fig = plt.figure(figsize=(10,8))\n",
    "ax = fig.add_subplot(111)\n",
    "\n",
    "plt.axis([-1, 8, 0, 110])\n",
    "width = 0.2\n",
    "barwidth = 0.15\n",
    "\n",
    "plt.xticks(rotation=90, ha=\"center\")\n",
    "ax.set_xticklabels(categories_labels)\n",
    "\n",
    "\n",
    "# plt.scatter(categories_labels, lin_graph_data)\n",
    "\n",
    "ax.bar(x-width, lin_graph_data, barwidth, color='b', label='Linear Kernel')\n",
    "ax.bar(x, rbf_graph_data, barwidth, color='r', label='RBF Kernel')\n",
    "ax.bar(x + width, hist_graph_data, barwidth, color='g', label='Histogram Intersection Kernel')\n",
    "\n",
    "\n",
    "# ax.scatter(categories_labels, lin_graph_data, s=150, c='b', marker=\"D\", alpha=1, label='Linear Kernel')\n",
    "# ax.scatter(categories_labels, rbf_graph_data, s=150, c='r', marker=\"s\", alpha=0.5,  label='RBF Kernel')\n",
    "# ax.scatter(categories_labels, hist_graph_data, s=150, c='g', marker=\"P\", alpha=0.75,  label='Histogram Intersection Kernel')\n",
    "\n",
    "\n",
    "\n",
    "plt.legend(loc='upper left', bbox_to_anchor=(1.05, 1));\n",
    "\n",
    "idx = 0\n",
    "\n",
    "for i, txt in enumerate(lin_graph_data):\n",
    "    lin_txt = \"{:.2f}\".format(txt)\n",
    "    rbf_txt = \"{:.2f}\".format(rbf_graph_data[i])\n",
    "    hist_txt = \"{:.2f}\".format(hist_graph_data[i])\n",
    "    ax.annotate(lin_txt, (i - width, 1.15*lin_graph_data[i]), ha='center', va='center', c='b',weight='bold', size=14, rotation=90)\n",
    "    ax.annotate(rbf_txt, (i , 1.15*rbf_graph_data[i]), ha='center', va='bottom', c='r',weight='bold', size=14, rotation=90)\n",
    "    ax.annotate(hist_txt, (i+ width, 1.15*hist_graph_data[i]), ha='center', va='center', c='g',weight='bold', size=14, rotation=90)\n",
    "\n",
    "plt.show()"
   ]
  },
  {
   "cell_type": "code",
   "execution_count": null,
   "metadata": {},
   "outputs": [],
   "source": [
    "n = 0\n",
    "m = 1\n",
    "\n",
    "a\n",
    "print(\"k\")\n",
    "b"
   ]
  },
  {
   "cell_type": "code",
   "execution_count": null,
   "metadata": {},
   "outputs": [],
   "source": []
  },
  {
   "cell_type": "code",
   "execution_count": null,
   "metadata": {},
   "outputs": [],
   "source": []
  },
  {
   "cell_type": "code",
   "execution_count": null,
   "metadata": {},
   "outputs": [],
   "source": []
  },
  {
   "cell_type": "code",
   "execution_count": null,
   "metadata": {},
   "outputs": [],
   "source": []
  },
  {
   "cell_type": "code",
   "execution_count": null,
   "metadata": {},
   "outputs": [],
   "source": []
  },
  {
   "cell_type": "code",
   "execution_count": null,
   "metadata": {},
   "outputs": [],
   "source": []
  },
  {
   "cell_type": "code",
   "execution_count": null,
   "metadata": {},
   "outputs": [],
   "source": []
  },
  {
   "cell_type": "code",
   "execution_count": null,
   "metadata": {},
   "outputs": [],
   "source": []
  },
  {
   "cell_type": "code",
   "execution_count": null,
   "metadata": {},
   "outputs": [],
   "source": []
  },
  {
   "cell_type": "code",
   "execution_count": null,
   "metadata": {},
   "outputs": [],
   "source": []
  },
  {
   "cell_type": "code",
   "execution_count": null,
   "metadata": {},
   "outputs": [],
   "source": [
    "def get_pyramid_image_cells(image,level):\n",
    "    # CURRENTLY WORKING ONLY FOR LEVELS 0,1,2 (1,4, and 16 cells)\n",
    "    M = (image.shape[0])//(level+1)\n",
    "    N = (image.shape[1])//(level+1)\n",
    "    tiles = [image[x:x+M,y:y+N] for x in range(0,image.shape[0],M) for y in range(0,image.shape[1],N)]\n",
    "#     print(image.shape)\n",
    "#     print(\"level=\", level)\n",
    "#     print(\"returning \" + str(len(tiles)) + \" tiles\")\n",
    "    return tiles\n",
    "\n",
    "\n",
    "'''\n",
    "for filename,labels in zip(train_images_filenames,train_labels):\n",
    "    ima=cv2.imread(filename)\n",
    "    gray=cv2.cvtColor(ima,cv2.COLOR_BGR2GRAY)\n",
    "    break\n",
    "\n",
    "tiles = get_pyramid_image_cells(gray,2)\n",
    "'''"
   ]
  },
  {
   "cell_type": "markdown",
   "metadata": {},
   "source": [
    "## Calculating a histogram per cell and concatenating them\n",
    "Compute a histogram for each part of the image and put these histograms together in a weighted concatenation \n",
    "(since there will be less words overall in a smaller cell).\n",
    "The weighted concatenation can be a simple normalization of every histogram so the area of the histogram adds up to 1.\n",
    "A pyramid of l levels will yield in 2^(2l) histograms n_words = k*(1+2**(2*pyramid_levels)).\n",
    "the final image histogram is a concatenated vector  of  the  bin  values  of  all  the  histograms in  the  pyramid.\n",
    "concatenation method used in:\n",
    "http://lear.imag.fr/pub/203-bosch-civr07.pdf\n",
    "https://core.ac.uk/download/pdf/82695491.pdf\n",
    "\n",
    "TODO: Initialisation of concatenated_histogram. "
   ]
  },
  {
   "cell_type": "code",
   "execution_count": null,
   "metadata": {},
   "outputs": [],
   "source": [
    "step=5\n",
    "\n",
    "today = datetime.now()\n",
    "dt_string = today.strftime(\"%H:%M:%S\")\n",
    "print(f\"{dt_string} started doing step={step}\")\n",
    "\n",
    "Train_descriptors = []\n",
    "Train_label_per_descriptor = []\n",
    "pyramid_levels = 2 # level zero has 1 tile, level 1 has 4 tiles => 5 histograms that will be concatenated\n",
    "for filename,labels in zip(train_images_filenames,train_labels):\n",
    "    ima=cv2.imread(filename)\n",
    "    gray=cv2.cvtColor(ima,cv2.COLOR_BGR2GRAY)\n",
    "    # break the image into pieces\n",
    "    image_cells = []\n",
    "    for i in range(pyramid_levels+1):\n",
    "\n",
    "        level_cells = get_pyramid_image_cells(gray,level=i)\n",
    "        image_cells = image_cells + level_cells\n",
    "        # compute descriptors for each tile\n",
    "    Train_descriptors_cell = []\n",
    "    for cell in image_cells:\n",
    "        des=compute_dense_sift(cell,SIFTdetector, step)\n",
    "        Train_descriptors_cell.append(des)\n",
    "    \n",
    "    Train_descriptors.append(Train_descriptors_cell)\n",
    "    Train_label_per_descriptor.append(labels)\n",
    "    break\n",
    "    \n",
    "today = datetime.now()\n",
    "dt_string = today.strftime(\"%H:%M:%S\")\n",
    "print(f\"{dt_string} started doing step={step}\")"
   ]
  },
  {
   "cell_type": "code",
   "execution_count": null,
   "metadata": {},
   "outputs": [],
   "source": [
    "len(Train_descriptors[0])"
   ]
  },
  {
   "cell_type": "code",
   "execution_count": null,
   "metadata": {},
   "outputs": [],
   "source": [
    "len(Train_descriptors[0][0])"
   ]
  },
  {
   "cell_type": "code",
   "execution_count": null,
   "metadata": {},
   "outputs": [],
   "source": [
    "len(Train_descriptors[0][0][0])"
   ]
  },
  {
   "cell_type": "code",
   "execution_count": null,
   "metadata": {},
   "outputs": [],
   "source": [
    "Train_descriptors[0][0][0]"
   ]
  },
  {
   "cell_type": "code",
   "execution_count": null,
   "metadata": {},
   "outputs": [],
   "source": [
    "# train all cells as separate images\n",
    "D=np.vstack([des for descriptors_cells in Train_descriptors for des in descriptors_cells])"
   ]
  },
  {
   "cell_type": "code",
   "execution_count": null,
   "metadata": {},
   "outputs": [],
   "source": [
    "D.shape"
   ]
  },
  {
   "cell_type": "code",
   "execution_count": null,
   "metadata": {},
   "outputs": [],
   "source": [
    "k=128\n",
    "codebook = MiniBatchKMeans(n_clusters=k, verbose=False, batch_size=k * 20,compute_labels=False,reassignment_ratio=10**-4,random_state=42)\n",
    "codebook.fit(D)"
   ]
  },
  {
   "cell_type": "code",
   "execution_count": null,
   "metadata": {},
   "outputs": [],
   "source": [
    "print(k*(1+2**(2*pyramid_levels)))"
   ]
  },
  {
   "cell_type": "code",
   "execution_count": null,
   "metadata": {},
   "outputs": [],
   "source": [
    "len(Train_descriptors[0][0])"
   ]
  },
  {
   "cell_type": "code",
   "execution_count": null,
   "metadata": {},
   "outputs": [],
   "source": [
    "visual_words=np.zeros((len(Train_descriptors),k*(1+2**(2*pyramid_levels))),dtype=np.float32)\n",
    "for idx,cells in enumerate(Train_descriptors):\n",
    "\n",
    "    image_histograms = []\n",
    "    for id2,image_cell in enumerate(cells):\n",
    "        cell_words = codebook.predict(image_cell)\n",
    "        image_histograms.append(normalize(np.bincount(cell_words,minlength=k).reshape(1,-1)))\n",
    "        # concatenated histogram has k*(1+2**(2*pyramid_levels)) bins\n",
    "        # normalize(np.bincount(words,minlength=k).reshape(1,-1))\n",
    "\n",
    "    concatenated_histogram=image_histograms[0].copy()\n",
    "    for cell_idx in range(1,len(image_histograms)):\n",
    "        # concatenate histograms\n",
    "        concatenated_histogram = np.concatenate((concatenated_histogram,image_histograms[cell_idx]))\n",
    "    visual_words[idx,:]=concatenated_histogram.flatten()\n",
    "    \n",
    "    #visual_words[idx,:]=np.bincount(words,minlength=k*(2**(2*pyramid_levels))) # this will just be longer as levels \n",
    "                                                                                # increase \n",
    "                                                                                # see: k*(2**(2*pyramid_levels)) long\n",
    "\n",
    "# knn = KNeighborsClassifier(n_neighbors=37,n_jobs=-1,metric='manhattan')\n",
    "# knn.fit(visual_words, train_labels) "
   ]
  },
  {
   "cell_type": "code",
   "execution_count": null,
   "metadata": {},
   "outputs": [],
   "source": []
  },
  {
   "cell_type": "code",
   "execution_count": null,
   "metadata": {
    "scrolled": true
   },
   "outputs": [],
   "source": []
  },
  {
   "cell_type": "code",
   "execution_count": null,
   "metadata": {},
   "outputs": [],
   "source": [
    "visual_words[0,:].shape"
   ]
  },
  {
   "cell_type": "markdown",
   "metadata": {},
   "source": [
    "TRAINED Visual Words tryin further worked until now"
   ]
  },
  {
   "cell_type": "code",
   "execution_count": null,
   "metadata": {},
   "outputs": [],
   "source": [
    "from sklearn.preprocessing import StandardScaler\n",
    "scaler = StandardScaler()\n",
    "scaler.fit_transform(visual_words)"
   ]
  },
  {
   "cell_type": "code",
   "execution_count": null,
   "metadata": {},
   "outputs": [],
   "source": [
    "lin_clf = svm.LinearSVC(max_iter=2000,C=10)\n",
    "lin_clf.fit(visual_words, train_labels)"
   ]
  },
  {
   "cell_type": "code",
   "execution_count": null,
   "metadata": {},
   "outputs": [],
   "source": [
    "rbf_svc = svm.SVC(kernel='rbf',C=1000,gamma=0.001)\n",
    "rbf_svc.fit(visual_words, train_labels)"
   ]
  },
  {
   "cell_type": "code",
   "execution_count": null,
   "metadata": {},
   "outputs": [],
   "source": [
    "visual_words[1].shape"
   ]
  },
  {
   "cell_type": "code",
   "execution_count": null,
   "metadata": {},
   "outputs": [],
   "source": [
    "inter_svc = svm.SVC(kernel=intersection_kernel_cmp)\n",
    "inter_svc.fit(visual_words,train_labels)"
   ]
  },
  {
   "cell_type": "code",
   "execution_count": null,
   "metadata": {},
   "outputs": [],
   "source": [
    "today = datetime.now()\n",
    "dt_string = today.strftime(\"%H:%M:%S\")\n",
    "print(f\"{dt_string} started doing step={step}\")\n",
    "\n",
    "Test_descriptors = []\n",
    "Test_label_per_descriptor = []\n",
    "pyramid_levels = 1 # level zero has 1 tile, level 1 has 4 tiles => 5 histograms that will be concatenated\n",
    "for filename,labels in zip(test_images_filenames,test_labels):\n",
    "    ima=cv2.imread(filename)\n",
    "    gray=cv2.cvtColor(ima,cv2.COLOR_BGR2GRAY)\n",
    "    # break the image into pieces\n",
    "    image_cells = []\n",
    "    for i in range(pyramid_levels+1):\n",
    "\n",
    "        level_cells = get_pyramid_image_cells(gray,level=i)\n",
    "        image_cells = image_cells + level_cells\n",
    "        # compute descriptors for each tile\n",
    "    Test_descriptors_cell = []\n",
    "    for cell in image_cells:\n",
    "        des=compute_dense_sift(cell,SIFTdetector, step)\n",
    "        Test_descriptors_cell.append(des)\n",
    "        \n",
    "    Test_descriptors.append(Test_descriptors_cell)\n",
    "    Test_label_per_descriptor.append(labels)"
   ]
  },
  {
   "cell_type": "code",
   "execution_count": null,
   "metadata": {},
   "outputs": [],
   "source": [
    "visual_words_test=np.zeros((len(Test_descriptors),k*(1+2**(2*pyramid_levels))),dtype=np.float32)\n",
    "for idx,cells in enumerate(Test_descriptors):\n",
    "\n",
    "    image_histograms = []\n",
    "    for id2,image_cell in enumerate(cells):\n",
    "        cell_words = codebook.predict(image_cell)\n",
    "        image_histograms.append(normalize(np.bincount(cell_words,minlength=k).reshape(1,-1)))\n",
    "        # concatenated histogram has k*(1+2**(2*pyramid_levels)) bins\n",
    "        # normalize(np.bincount(words,minlength=k).reshape(1,-1))\n",
    "\n",
    "    concatenated_histogram=image_histograms[0].copy()\n",
    "    for cell_idx in range(1,len(image_histograms)):\n",
    "        # concatenate histograms\n",
    "        concatenated_histogram = np.concatenate((concatenated_histogram,image_histograms[cell_idx]))\n",
    "    visual_words_test[idx,:]=concatenated_histogram.flatten()"
   ]
  },
  {
   "cell_type": "code",
   "execution_count": null,
   "metadata": {},
   "outputs": [],
   "source": [
    "visual_words_test=scaler.transform(visual_words_test)\n",
    "scores = cross_val_score(lin_clf, visual_words_test, test_labels, cv=5)\n",
    "accuracy=scores.mean()*100\n",
    "\n",
    "print(accuracy)"
   ]
  },
  {
   "cell_type": "code",
   "execution_count": null,
   "metadata": {},
   "outputs": [],
   "source": [
    "# visual_words_test=scaler.transform(visual_words_test)\n",
    "scores = cross_val_score(rbf_svc, visual_words_test, test_labels, cv=5)\n",
    "accuracy=scores.mean()*100\n",
    "\n",
    "print(accuracy)"
   ]
  },
  {
   "cell_type": "markdown",
   "metadata": {},
   "source": [
    "## creating kernel for intersection of histograms"
   ]
  },
  {
   "cell_type": "code",
   "execution_count": null,
   "metadata": {},
   "outputs": [],
   "source": [
    "def intersection_kernel_cmp(X, Y):\n",
    "    return cv2.compareHist(X, Y, method=cv2.HISTCMP_INTERSECT)\n",
    "\n",
    "# clf = svm.SVC(kernel=my_kernel)"
   ]
  },
  {
   "cell_type": "code",
   "execution_count": null,
   "metadata": {},
   "outputs": [],
   "source": [
    "intersection_kernel_cmp(visual_words[0],visual_words[1])"
   ]
  },
  {
   "cell_type": "code",
   "execution_count": null,
   "metadata": {},
   "outputs": [],
   "source": [
    "import warnings\n",
    "warnings.filterwarnings('ignore')"
   ]
  },
  {
   "cell_type": "markdown",
   "metadata": {},
   "source": [
    "## GridSearchCV cross validation finding best parameters for RBF and Linear"
   ]
  },
  {
   "cell_type": "code",
   "execution_count": null,
   "metadata": {
    "scrolled": true
   },
   "outputs": [],
   "source": [
    "# Set the parameters by cross-validation\n",
    "tuned_parameters = [{'kernel': ['rbf'], 'gamma': [1e-3, 1e-4],\n",
    "                     'C': [1, 10, 100, 1000]},\n",
    "                    {'kernel': ['linear'], 'C': [1, 10, 100, 1000]}]\n",
    "\n",
    "scores = ['precision_macro', 'recall_macro','accuracy']\n",
    "\n",
    "today = datetime.now()\n",
    "dt_string = today.strftime(\"%H:%M:%S\")\n",
    "print(f\"{dt_string} started doing step={step}\")\n",
    "\n",
    "data_results=[]\n",
    "\n",
    "for score in scores:\n",
    "    print(\"# Tuning hyper-parameters for %s\" % score)\n",
    "    print()\n",
    "\n",
    "    clf = GridSearchCV(\n",
    "        SVC(), tuned_parameters, scoring=score\n",
    "    )\n",
    "    clf.fit(visual_words, train_labels)\n",
    "\n",
    "    print(\"Best parameters set found on development set:\")\n",
    "    print()\n",
    "    print(clf.best_params_)\n",
    "    print()\n",
    "    print(\"Grid scores on development set:\")\n",
    "    print()\n",
    "    means = clf.cv_results_['mean_test_score']\n",
    "    stds = clf.cv_results_['std_test_score']\n",
    "    for mean, std, params in zip(means, stds, clf.cv_results_['params']):\n",
    "        c=params['C']\n",
    "        ker=params['kernel']\n",
    "        if ker=='rbf': \n",
    "            gamma=params['gamma']\n",
    "        else: gamma=None\n",
    "            \n",
    "        data_results.append([mean,std,c,gamma,ker,score])\n",
    "        \n",
    "        print(\"%0.3f (+/-%0.03f) for %r\"\n",
    "              % (mean, std * 2, params))\n",
    "    print()\n",
    "\n",
    "#     print(\"Detailed classification report:\")\n",
    "#     print()\n",
    "#     print(\"The model is trained on the full development set.\")\n",
    "#     print(\"The scores are computed on the full evaluation set.\")\n",
    "#     print()\n",
    "#     y_true, y_pred = y_test, clf.predict(X_test)\n",
    "#     print(classification_report(y_true, y_pred))\n",
    "#     print()\n",
    "\n",
    "today = datetime.now()\n",
    "dt_string = today.strftime(\"%H:%M:%S\")\n",
    "print(f\"{dt_string} started doing step={step}\")"
   ]
  },
  {
   "cell_type": "code",
   "execution_count": null,
   "metadata": {},
   "outputs": [],
   "source": [
    "df=pd.DataFrame(data_results, columns=['mean_val','std_val','c','gamma','ker','score'])"
   ]
  },
  {
   "cell_type": "code",
   "execution_count": null,
   "metadata": {},
   "outputs": [],
   "source": [
    "from sklearn import metrics\n",
    "# sorted(metrics.SCORERS.keys())"
   ]
  },
  {
   "cell_type": "code",
   "execution_count": null,
   "metadata": {},
   "outputs": [],
   "source": [
    "with open('GridSearchCV_rbf_linear_params.pkl','wb') as f:\n",
    "    cPickle.dump(df,f)"
   ]
  },
  {
   "cell_type": "code",
   "execution_count": null,
   "metadata": {},
   "outputs": [],
   "source": []
  },
  {
   "cell_type": "code",
   "execution_count": null,
   "metadata": {
    "scrolled": true
   },
   "outputs": [],
   "source": []
  },
  {
   "cell_type": "code",
   "execution_count": null,
   "metadata": {},
   "outputs": [],
   "source": []
  },
  {
   "cell_type": "code",
   "execution_count": null,
   "metadata": {},
   "outputs": [],
   "source": [
    "fig, ax = plt.subplots(figsize=(10,8))\n",
    "ax.set(title='Accuracy vs C', xlim=(0,1200), ylim=(0,1))\n",
    "df2=df[df.score=='accuracy']\n",
    "df2_rbf=df2[(df2.ker=='rbf')]\n",
    "df2_linear=df2[(df2.ker=='linear')]\n",
    "print(\"max for rbf\\n\",df2_rbf[df2_rbf.mean_val==df2_rbf.mean_val.max()])\n",
    "print(\"max for linear\\n\",df2_linear.loc[df2_linear.mean_val==df2_linear.mean_val.max()])\n",
    "# print(df2[df2.recall==df2.recall.max()])\n",
    "\n",
    "ax.plot(df2_linear.c, df2_linear.mean_val, 'ro', label='linear')\n",
    "ax.plot(df2_rbf.c, df2_rbf.mean_val, 'go', label='rbf')\n",
    "ax.legend()\n",
    "\n",
    "max_val = max(df2.mean_val)\n",
    "max_idx = df2.c[df2.mean_val.idxmax()]\n",
    "# ax.annotate(\"Max {:.2f}\".format(max_val), xy=(max_idx, max_val),\n",
    "#            weight='bold', size=14)\n",
    "\n",
    "# arrowprops is a mpl.patches.FancyArrowPatch\n",
    "_ = ax.annotate(\"Max accuracy {:.2f}\".format(max_val), xy=(max_idx, max_val),\n",
    "                weight='bold', size=14, \n",
    "                xytext=(.5, .9),\n",
    "                textcoords='axes fraction',\n",
    "                family='comic sans ms',\n",
    "                arrowprops={})"
   ]
  },
  {
   "cell_type": "markdown",
   "metadata": {},
   "source": [
    "## My Analysis for different DENSE"
   ]
  },
  {
   "cell_type": "code",
   "execution_count": null,
   "metadata": {},
   "outputs": [],
   "source": [
    "def calculate_vis(step):\n",
    "    step=step\n",
    "\n",
    "    today = datetime.now()\n",
    "    dt_string = today.strftime(\"%H:%M:%S\")\n",
    "    print(f\"{dt_string} started doing step={step}\")\n",
    "\n",
    "    Train_descriptors = []\n",
    "    Train_label_per_descriptor = []\n",
    "\n",
    "    for filename,labels in zip(train_images_filenames,train_labels):\n",
    "        ima=cv2.imread(filename)\n",
    "        gray=cv2.cvtColor(ima,cv2.COLOR_BGR2GRAY)\n",
    "    #     kpt,des=SIFTdetector.detectAndCompute(gray,None)\n",
    "        des=compute_dense_sift(gray,SIFTdetector, step)\n",
    "        Train_descriptors.append(des)\n",
    "        Train_label_per_descriptor.append(labels)\n",
    "\n",
    "    D=np.vstack(Train_descriptors)\n",
    "\n",
    "    k=128\n",
    "    codebook = MiniBatchKMeans(n_clusters=k, verbose=False, batch_size=k * 20,compute_labels=False,reassignment_ratio=10**-4,random_state=42)\n",
    "    codebook.fit(D)\n",
    "\n",
    "    visual_words=np.zeros((len(Train_descriptors),k),dtype=np.float32)\n",
    "    for i in range(len(Train_descriptors)):\n",
    "        words=codebook.predict(Train_descriptors[i])\n",
    "        visual_words[i,:]=normalize(np.bincount(words,minlength=k).reshape(1,-1))\n",
    "\n",
    "    # knn = KNeighborsClassifier(n_neighbors=37,n_jobs=-1,metric='manhattan')\n",
    "    # knn.fit(visual_words, train_labels)\n",
    "\n",
    "    today = datetime.now()\n",
    "    dt_string = today.strftime(\"%H:%M:%S\")\n",
    "    print(f\"{dt_string} started doing step={step}\")\n",
    "    \n",
    "    scaler = StandardScaler()\n",
    "    scaler.fit_transform(visual_words)\n",
    "    \n",
    "    lin_clf = svm.LinearSVC(max_iter=2000, C=10)\n",
    "    lin_clf.fit(visual_words, train_labels)\n",
    "    \n",
    "    rbf_svc = svm.SVC(kernel='rbf', C=1000, gamma=0.001)\n",
    "    rbf_svc.fit(visual_words, train_labels)\n",
    "\n",
    "    visual_words_test=np.zeros((len(test_images_filenames),k),dtype=np.float32)\n",
    "    for i in range(len(test_images_filenames)):\n",
    "        filename=test_images_filenames[i]\n",
    "        ima=cv2.imread(filename)\n",
    "        gray=cv2.cvtColor(ima,cv2.COLOR_BGR2GRAY)\n",
    "    #     kpt,des=SIFTdetector.detectAndCompute(gray,None)\n",
    "        des=compute_dense_sift(gray,SIFTdetector, step)\n",
    "        words=codebook.predict(des)\n",
    "        visual_words_test[i,:]=normalize(np.bincount(words,minlength=k).reshape(1,-1))\n",
    "\n",
    "    visual_words_test=scaler.transform(visual_words_test)\n",
    "    \n",
    "    scores = cross_val_score(lin_clf, visual_words_test, test_labels, cv=5)\n",
    "    accuracy_linear=scores.mean()*100\n",
    "\n",
    "    print(\"linear=\",accuracy_linear)\n",
    "\n",
    "    scores = cross_val_score(rbf_svc, visual_words_test, test_labels, cv=5)\n",
    "    accuracy_rbf=scores.mean()*100\n",
    "\n",
    "    print(\"rbf=\",accuracy_rbf)\n",
    "    \n",
    "    return accuracy_linear,accuracy_rbf\n"
   ]
  },
  {
   "cell_type": "code",
   "execution_count": null,
   "metadata": {},
   "outputs": [],
   "source": [
    "data_results_step =[]\n",
    "steps_to_do=[5,20,50,100,300,500]\n",
    "for step in steps_to_do:\n",
    "    accuracy_linear,accuracy_rbf=calculate_vis(step)\n",
    "    data_results_step.append([step,accuracy_linear,accuracy_rbf,1,1])\n",
    "    \n",
    "df=pd.DataFrame(data_results_step, columns=['step','accuracy_linear','accuracy_rbf','normalized','scaler'])    "
   ]
  },
  {
   "cell_type": "code",
   "execution_count": null,
   "metadata": {},
   "outputs": [],
   "source": [
    "fig, ax = plt.subplots(figsize=(10,8))\n",
    "ax.set(title='Accuracy vs steps', xlim=(0,1200), ylim=(0,100))\n",
    "df2=df\n",
    "y_rbf=df2.accuracy_rbf\n",
    "y_lin=df2.accuracy_linear\n",
    "print(\"max for rbf\\n\",df2[df2.accuracy_rbf==df2.accuracy_rbf.max()])\n",
    "print(\"max for linear\\n\",df2[df2.accuracy_linear==df2.accuracy_linear.max()])\n",
    "# print(df2[df2.recall==df2.recall.max()])\n",
    "\n",
    "ax.plot(df2.step, y_lin, 'r', label='linear')\n",
    "ax.plot(df2.step, y_rbf, 'g', label='rbf')\n",
    "plt.xlabel('step in dense')\n",
    "plt.ylabel('accuracy')\n",
    "ax.legend()"
   ]
  },
  {
   "cell_type": "code",
   "execution_count": null,
   "metadata": {},
   "outputs": [],
   "source": [
    "df"
   ]
  },
  {
   "cell_type": "code",
   "execution_count": null,
   "metadata": {},
   "outputs": [],
   "source": [
    "with open('Different_densities_analysis.pkl','wb') as f:\n",
    "    cPickle.dump(df,f)"
   ]
  },
  {
   "cell_type": "markdown",
   "metadata": {},
   "source": [
    "## My Analysis on Pyramid level"
   ]
  },
  {
   "cell_type": "code",
   "execution_count": null,
   "metadata": {},
   "outputs": [],
   "source": [
    "def create_pyramid_levels(pyramid):\n",
    "    step=5\n",
    "\n",
    "    today = datetime.now()\n",
    "    dt_string = today.strftime(\"%H:%M:%S\")\n",
    "    print(f\"{dt_string} started doing step={pyramid}\")\n",
    "\n",
    "    Train_descriptors = []\n",
    "    Train_label_per_descriptor = []\n",
    "    pyramid_levels = pyramid # level zero has 1 tile, level 1 has 4 tiles => 5 histograms that will be concatenated\n",
    "\n",
    "    for filename,labels in zip(train_images_filenames,train_labels):\n",
    "        ima=cv2.imread(filename)\n",
    "        gray=cv2.cvtColor(ima,cv2.COLOR_BGR2GRAY)\n",
    "        # break the image into pieces\n",
    "        image_cells = []\n",
    "        for i in range(pyramid_levels+1):\n",
    "\n",
    "            level_cells = get_pyramid_image_cells(gray,level=i)\n",
    "            image_cells = image_cells + level_cells\n",
    "            # compute descriptors for each tile\n",
    "        Train_descriptors_cell = []\n",
    "        for cell in image_cells:\n",
    "            des=compute_dense_sift(cell,SIFTdetector, step)\n",
    "            Train_descriptors_cell.append(des)\n",
    "\n",
    "        Train_descriptors.append(Train_descriptors_cell)\n",
    "        Train_label_per_descriptor.append(labels)\n",
    "\n",
    "    D=np.vstack([des for descriptors_cells in Train_descriptors for des in descriptors_cells])\n",
    "\n",
    "    #codebook\n",
    "\n",
    "    k=128\n",
    "    codebook = MiniBatchKMeans(n_clusters=k, verbose=False, batch_size=k * 20,compute_labels=False,reassignment_ratio=10**-4,random_state=42)\n",
    "    codebook.fit(D)\n",
    "\n",
    "    #creating visual words for Training\n",
    "\n",
    "    visual_words=np.zeros((len(Train_descriptors),k*21),dtype=np.float32)\n",
    "    for idx,cells in enumerate(Train_descriptors):\n",
    "\n",
    "        image_histograms = []\n",
    "        for id2,image_cell in enumerate(cells):\n",
    "            cell_words = codebook.predict(image_cell)\n",
    "            image_histograms.append(normalize(np.bincount(cell_words,minlength=k).reshape(1,-1)))\n",
    "            # concatenated histogram has k*(1+2**(2*pyramid_levels)) bins\n",
    "            # normalize(np.bincount(words,minlength=k).reshape(1,-1))\n",
    "\n",
    "        concatenated_histogram=image_histograms[0].copy()\n",
    "        for cell_idx in range(1,len(image_histograms)):\n",
    "            # concatenate histograms\n",
    "            concatenated_histogram = np.concatenate((concatenated_histogram,image_histograms[cell_idx]))\n",
    "        visual_words[idx,:]=concatenated_histogram.flatten()\n",
    "        \n",
    "    #PCA\n",
    "    pca = PCA(n_components=127)\n",
    "    VWpca = pca.fit_transform(visual_words)\n",
    "\n",
    "    #SVN kernels\n",
    "\n",
    "    scaler = StandardScaler()\n",
    "    scaler.fit_transform(VWpca)\n",
    "\n",
    "    lin_clf = svm.LinearSVC(max_iter=2000, C=10)\n",
    "    lin_clf.fit(VWpca, train_labels)\n",
    "\n",
    "    rbf_svc = svm.SVC(kernel='rbf', C=1000, gamma=0.001)\n",
    "    rbf_svc.fit(VWpca, train_labels)\n",
    "\n",
    "    today = datetime.now()\n",
    "    dt_string = today.strftime(\"%H:%M:%S\")\n",
    "    print(f\"{dt_string} started doing test step={pyramid}\")\n",
    "\n",
    "    #creating SIFT descriptor\n",
    "\n",
    "    Test_descriptors = []\n",
    "    Test_label_per_descriptor = []\n",
    "    # pyramid_levels = 1 # level zero has 1 tile, level 1 has 4 tiles => 5 histograms that will be concatenated\n",
    "    for filename,labels in zip(test_images_filenames,test_labels):\n",
    "        ima=cv2.imread(filename)\n",
    "        gray=cv2.cvtColor(ima,cv2.COLOR_BGR2GRAY)\n",
    "        # break the image into pieces\n",
    "        image_cells = []\n",
    "        for i in range(pyramid_levels+1):\n",
    "\n",
    "            level_cells = get_pyramid_image_cells(gray,level=i)\n",
    "            image_cells = image_cells + level_cells\n",
    "            # compute descriptors for each tile\n",
    "        Test_descriptors_cell = []\n",
    "        for cell in image_cells:\n",
    "            des=compute_dense_sift(cell,SIFTdetector, step)\n",
    "            Test_descriptors_cell.append(des)\n",
    "\n",
    "        Test_descriptors.append(Test_descriptors_cell)\n",
    "        Test_label_per_descriptor.append(labels)\n",
    "\n",
    "    #creating visual tests\n",
    "\n",
    "    visual_words_test=np.zeros((len(Test_descriptors),k*21),dtype=np.float32)\n",
    "    for idx,cells in enumerate(Test_descriptors):\n",
    "\n",
    "        image_histograms = []\n",
    "        for id2,image_cell in enumerate(cells):\n",
    "            cell_words = codebook.predict(image_cell)\n",
    "            image_histograms.append(normalize(np.bincount(cell_words,minlength=k).reshape(1,-1)))\n",
    "            # concatenated histogram has k*(1+2**(2*pyramid_levels)) bins\n",
    "            # normalize(np.bincount(words,minlength=k).reshape(1,-1))\n",
    "\n",
    "        concatenated_histogram=image_histograms[0].copy()\n",
    "        for cell_idx in range(1,len(image_histograms)):\n",
    "            # concatenate histograms\n",
    "            concatenated_histogram = np.concatenate((concatenated_histogram,image_histograms[cell_idx]))\n",
    "        visual_words_test[idx,:]=concatenated_histogram.flatten()\n",
    "\n",
    "\n",
    "    #scaler test\n",
    "    visual_words_test=scaler.transform(visual_words_test)\n",
    "    \n",
    "    #PCA\n",
    "    vwtestpca = pca.transform(visual_words_test)\n",
    "\n",
    "    #accuracy for test linear\n",
    "#     scores = cross_val_score(lin_clf, visual_words_test, test_labels, cv=5)\n",
    "    scores = cross_val_score(lin_clf, vwtestpca, test_labels, cv=5)\n",
    "    accuracy_linear=scores.mean()*100\n",
    "\n",
    "    print(\"linear=\",accuracy_linear)\n",
    "\n",
    "\n",
    "    #accuracy for test rbf\n",
    "    scores = cross_val_score(rbf_svc, visual_words_test, test_labels, cv=5)\n",
    "    accuracy_rbf=scores.mean()*100\n",
    "\n",
    "    print(\"rbf=\",accuracy_rbf)\n",
    "\n",
    "    return accuracy_linear,accuracy_rbf"
   ]
  },
  {
   "cell_type": "code",
   "execution_count": null,
   "metadata": {},
   "outputs": [],
   "source": [
    "piramid=[2]\n",
    "data_pyramid_levels=[]\n",
    "for level in piramid:\n",
    "    accuracy_linear,accuracy_rbf=create_pyramid_levels(level)\n",
    "    data_pyramid_levels.append([level,5,accuracy_linear,accuracy_rbf,1,1])\n",
    "\n",
    "df_level=pd.DataFrame(data_pyramid_levels, columns=['level','step','accuracy_linear','accuracy_rbf','normalized','scaler'])    "
   ]
  },
  {
   "cell_type": "code",
   "execution_count": null,
   "metadata": {},
   "outputs": [],
   "source": [
    "df_level"
   ]
  },
  {
   "cell_type": "code",
   "execution_count": null,
   "metadata": {},
   "outputs": [],
   "source": [
    "with open('Different_pyramid_level_2.pkl','wb') as f:\n",
    "    cPickle.dump(df_level,f)"
   ]
  },
  {
   "cell_type": "code",
   "execution_count": null,
   "metadata": {},
   "outputs": [],
   "source": []
  }
 ],
 "metadata": {
  "kernelspec": {
   "name": "python3",
   "display_name": "Python 3.9.1 64-bit",
   "metadata": {
    "interpreter": {
     "hash": "da3dd0f921edccdc943f3be988bbfaa87992f338b5b6b26bfad62cc12513f174"
    }
   }
  },
  "language_info": {
   "codemirror_mode": {
    "name": "ipython",
    "version": 3
   },
   "file_extension": ".py",
   "mimetype": "text/x-python",
   "name": "python",
   "nbconvert_exporter": "python",
   "pygments_lexer": "ipython3",
   "version": "3.9.1-final"
  }
 },
 "nbformat": 4,
 "nbformat_minor": 4
}