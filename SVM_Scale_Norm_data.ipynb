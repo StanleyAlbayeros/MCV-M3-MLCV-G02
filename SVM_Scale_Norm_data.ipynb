{
 "cells": [
  {
   "cell_type": "code",
   "execution_count": 1,
   "metadata": {},
   "outputs": [],
   "source": [
    "import cv2\n",
    "import numpy as np\n",
    "import pandas as pd\n",
    "import pickle as cPickle\n",
    "import time\n",
    "from matplotlib import pyplot as plt\n",
    "from sklearn.cluster import MiniBatchKMeans\n",
    "from sklearn.neighbors import KNeighborsClassifier\n",
    "from sklearn.decomposition import PCA\n",
    "from sklearn.discriminant_analysis import LinearDiscriminantAnalysis\n",
    "from sklearn.model_selection import cross_val_score\n",
    "from sklearn.metrics import precision_score,confusion_matrix,multilabel_confusion_matrix,recall_score\n",
    "from sklearn.preprocessing import normalize\n",
    "from sklearn import svm\n",
    "from datetime import datetime\n",
    "from sklearn.model_selection import GridSearchCV\n",
    "from sklearn.metrics import classification_report\n",
    "from sklearn.svm import SVC\n",
    "from sklearn.preprocessing import StandardScaler"
   ]
  },
  {
   "cell_type": "code",
   "execution_count": 2,
   "metadata": {},
   "outputs": [],
   "source": [
    "train_images_filenames = cPickle.load(open('resources/train_images_filenames.dat','rb'))\n",
    "test_images_filenames = cPickle.load(open('resources/test_images_filenames.dat','rb'))\n",
    "train_labels = cPickle.load(open('resources/train_labels.dat','rb'))\n",
    "test_labels = cPickle.load(open('resources/test_labels.dat','rb'))"
   ]
  },
  {
   "cell_type": "code",
   "execution_count": 3,
   "metadata": {},
   "outputs": [],
   "source": [
    "import warnings\n",
    "warnings.filterwarnings('ignore')"
   ]
  },
  {
   "cell_type": "code",
   "execution_count": 4,
   "metadata": {},
   "outputs": [],
   "source": [
    "SIFTdetector = cv2.SIFT_create(nfeatures=300)"
   ]
  },
  {
   "cell_type": "code",
   "execution_count": 5,
   "metadata": {},
   "outputs": [],
   "source": [
    "def compute_dense_sift(gray,sift,step):\n",
    "    step_size = step\n",
    "    kp = [cv2.KeyPoint(x, y, step_size) for y in range(0, gray.shape[0], step_size) \n",
    "                                        for x in range(0, gray.shape[1], step_size)]\n",
    "    dense_feat = sift.compute(gray, kp)\n",
    "    dense_feat_des = dense_feat[1]\n",
    "    return dense_feat_des"
   ]
  },
  {
   "cell_type": "code",
   "execution_count": 6,
   "metadata": {},
   "outputs": [
    {
     "output_type": "stream",
     "name": "stdout",
     "text": [
      "13:17:30 started doing step=5\n",
      "13:18:29 finished doing step=5\n"
     ]
    }
   ],
   "source": [
    "step=5\n",
    "\n",
    "today = datetime.now()\n",
    "dt_string = today.strftime(\"%H:%M:%S\")\n",
    "print(f\"{dt_string} started doing step={step}\")\n",
    "\n",
    "Train_descriptors = []\n",
    "Train_label_per_descriptor = []\n",
    "\n",
    "for filename,labels in zip(train_images_filenames,train_labels):\n",
    "    ima=cv2.imread(filename)\n",
    "    gray=cv2.cvtColor(ima,cv2.COLOR_BGR2GRAY)\n",
    "    \n",
    "    des=compute_dense_sift(gray,SIFTdetector, step)\n",
    "    Train_descriptors.append(des)\n",
    "    Train_label_per_descriptor.append(labels)\n",
    "\n",
    "D=np.vstack(Train_descriptors)\n",
    "\n",
    "k=128\n",
    "codebook = MiniBatchKMeans(n_clusters=k, verbose=False, batch_size=k * 20,compute_labels=False,reassignment_ratio=10**-4,random_state=42)\n",
    "codebook.fit(D)\n",
    "\n",
    "visual_words=np.zeros((len(Train_descriptors),k),dtype=np.float32)\n",
    "for i in range(len(Train_descriptors)):\n",
    "    words=codebook.predict(Train_descriptors[i])\n",
    "    visual_words[i,:]=normalize(np.bincount(words,minlength=k).reshape(1,-1))\n",
    "\n",
    "# knn = KNeighborsClassifier(n_neighbors=37,n_jobs=-1,metric='manhattan')\n",
    "# knn.fit(visual_words, train_labels)\n",
    "\n",
    "today = datetime.now()\n",
    "dt_string = today.strftime(\"%H:%M:%S\")\n",
    "print(f\"{dt_string} finished doing step={step}\")\n"
   ]
  },
  {
   "cell_type": "code",
   "execution_count": 7,
   "metadata": {},
   "outputs": [
    {
     "output_type": "execute_result",
     "data": {
      "text/plain": [
       "<BarContainer object of 128 artists>"
      ]
     },
     "metadata": {},
     "execution_count": 7
    },
    {
     "output_type": "display_data",
     "data": {
      "text/plain": "<Figure size 720x288 with 1 Axes>",
      "image/svg+xml": "<?xml version=\"1.0\" encoding=\"utf-8\" standalone=\"no\"?>\r\n<!DOCTYPE svg PUBLIC \"-//W3C//DTD SVG 1.1//EN\"\r\n  \"http://www.w3.org/Graphics/SVG/1.1/DTD/svg11.dtd\">\r\n<!-- Created with matplotlib (https://matplotlib.org/) -->\r\n<svg height=\"248.518125pt\" version=\"1.1\" viewBox=\"0 0 601.665625 248.518125\" width=\"601.665625pt\" xmlns=\"http://www.w3.org/2000/svg\" xmlns:xlink=\"http://www.w3.org/1999/xlink\">\r\n <metadata>\r\n  <rdf:RDF xmlns:cc=\"http://creativecommons.org/ns#\" xmlns:dc=\"http://purl.org/dc/elements/1.1/\" xmlns:rdf=\"http://www.w3.org/1999/02/22-rdf-syntax-ns#\">\r\n   <cc:Work>\r\n    <dc:type rdf:resource=\"http://purl.org/dc/dcmitype/StillImage\"/>\r\n    <dc:date>2021-01-17T13:18:29.343596</dc:date>\r\n    <dc:format>image/svg+xml</dc:format>\r\n    <dc:creator>\r\n     <cc:Agent>\r\n      <dc:title>Matplotlib v3.3.3, https://matplotlib.org/</dc:title>\r\n     </cc:Agent>\r\n    </dc:creator>\r\n   </cc:Work>\r\n  </rdf:RDF>\r\n </metadata>\r\n <defs>\r\n  <style type=\"text/css\">*{stroke-linecap:butt;stroke-linejoin:round;}</style>\r\n </defs>\r\n <g id=\"figure_1\">\r\n  <g id=\"patch_1\">\r\n   <path d=\"M 0 248.518125 \r\nL 601.665625 248.518125 \r\nL 601.665625 0 \r\nL 0 0 \r\nz\r\n\" style=\"fill:none;\"/>\r\n  </g>\r\n  <g id=\"axes_1\">\r\n   <g id=\"patch_2\">\r\n    <path d=\"M 36.465625 224.64 \r\nL 594.465625 224.64 \r\nL 594.465625 7.2 \r\nL 36.465625 7.2 \r\nz\r\n\" style=\"fill:#ffffff;\"/>\r\n   </g>\r\n   <g id=\"patch_3\">\r\n    <path clip-path=\"url(#p9753e41822)\" d=\"M 61.829261 224.64 \r\nL 65.004677 224.64 \r\nL 65.004677 223.18165 \r\nL 61.829261 223.18165 \r\nz\r\n\" style=\"fill:#1f77b4;\"/>\r\n   </g>\r\n   <g id=\"patch_4\">\r\n    <path clip-path=\"url(#p9753e41822)\" d=\"M 65.798532 224.64 \r\nL 68.973948 224.64 \r\nL 68.973948 205.68145 \r\nL 65.798532 205.68145 \r\nz\r\n\" style=\"fill:#1f77b4;\"/>\r\n   </g>\r\n   <g id=\"patch_5\">\r\n    <path clip-path=\"url(#p9753e41822)\" d=\"M 69.767802 224.64 \r\nL 72.943218 224.64 \r\nL 72.943218 218.8066 \r\nL 69.767802 218.8066 \r\nz\r\n\" style=\"fill:#1f77b4;\"/>\r\n   </g>\r\n   <g id=\"patch_6\">\r\n    <path clip-path=\"url(#p9753e41822)\" d=\"M 73.737072 224.64 \r\nL 76.912488 224.64 \r\nL 76.912488 208.598149 \r\nL 73.737072 208.598149 \r\nz\r\n\" style=\"fill:#1f77b4;\"/>\r\n   </g>\r\n   <g id=\"patch_7\">\r\n    <path clip-path=\"url(#p9753e41822)\" d=\"M 77.706342 224.64 \r\nL 80.881758 224.64 \r\nL 80.881758 154.639197 \r\nL 77.706342 154.639197 \r\nz\r\n\" style=\"fill:#1f77b4;\"/>\r\n   </g>\r\n   <g id=\"patch_8\">\r\n    <path clip-path=\"url(#p9753e41822)\" d=\"M 81.675612 224.64 \r\nL 84.851028 224.64 \r\nL 84.851028 176.514447 \r\nL 81.675612 176.514447 \r\nz\r\n\" style=\"fill:#1f77b4;\"/>\r\n   </g>\r\n   <g id=\"patch_9\">\r\n    <path clip-path=\"url(#p9753e41822)\" d=\"M 85.644882 224.64 \r\nL 88.820298 224.64 \r\nL 88.820298 52.554695 \r\nL 85.644882 52.554695 \r\nz\r\n\" style=\"fill:#1f77b4;\"/>\r\n   </g>\r\n   <g id=\"patch_10\">\r\n    <path clip-path=\"url(#p9753e41822)\" d=\"M 89.614153 224.64 \r\nL 92.789569 224.64 \r\nL 92.789569 207.139799 \r\nL 89.614153 207.139799 \r\nz\r\n\" style=\"fill:#1f77b4;\"/>\r\n   </g>\r\n   <g id=\"patch_11\">\r\n    <path clip-path=\"url(#p9753e41822)\" d=\"M 93.583423 224.64 \r\nL 96.758839 224.64 \r\nL 96.758839 204.223099 \r\nL 93.583423 204.223099 \r\nz\r\n\" style=\"fill:#1f77b4;\"/>\r\n   </g>\r\n   <g id=\"patch_12\">\r\n    <path clip-path=\"url(#p9753e41822)\" d=\"M 97.552693 224.64 \r\nL 100.728109 224.64 \r\nL 100.728109 223.18165 \r\nL 97.552693 223.18165 \r\nz\r\n\" style=\"fill:#1f77b4;\"/>\r\n   </g>\r\n   <g id=\"patch_13\">\r\n    <path clip-path=\"url(#p9753e41822)\" d=\"M 101.521963 224.64 \r\nL 104.697379 224.64 \r\nL 104.697379 196.93135 \r\nL 101.521963 196.93135 \r\nz\r\n\" style=\"fill:#1f77b4;\"/>\r\n   </g>\r\n   <g id=\"patch_14\">\r\n    <path clip-path=\"url(#p9753e41822)\" d=\"M 105.491233 224.64 \r\nL 108.666649 224.64 \r\nL 108.666649 214.43155 \r\nL 105.491233 214.43155 \r\nz\r\n\" style=\"fill:#1f77b4;\"/>\r\n   </g>\r\n   <g id=\"patch_15\">\r\n    <path clip-path=\"url(#p9753e41822)\" d=\"M 109.460503 224.64 \r\nL 112.635919 224.64 \r\nL 112.635919 224.64 \r\nL 109.460503 224.64 \r\nz\r\n\" style=\"fill:#1f77b4;\"/>\r\n   </g>\r\n   <g id=\"patch_16\">\r\n    <path clip-path=\"url(#p9753e41822)\" d=\"M 113.429774 224.64 \r\nL 116.60519 224.64 \r\nL 116.60519 134.222299 \r\nL 113.429774 134.222299 \r\nz\r\n\" style=\"fill:#1f77b4;\"/>\r\n   </g>\r\n   <g id=\"patch_17\">\r\n    <path clip-path=\"url(#p9753e41822)\" d=\"M 117.399044 224.64 \r\nL 120.57446 224.64 \r\nL 120.57446 185.264549 \r\nL 117.399044 185.264549 \r\nz\r\n\" style=\"fill:#1f77b4;\"/>\r\n   </g>\r\n   <g id=\"patch_18\">\r\n    <path clip-path=\"url(#p9753e41822)\" d=\"M 121.368314 224.64 \r\nL 124.54373 224.64 \r\nL 124.54373 157.555899 \r\nL 121.368314 157.555899 \r\nz\r\n\" style=\"fill:#1f77b4;\"/>\r\n   </g>\r\n   <g id=\"patch_19\">\r\n    <path clip-path=\"url(#p9753e41822)\" d=\"M 125.337584 224.64 \r\nL 128.513 224.64 \r\nL 128.513 224.64 \r\nL 125.337584 224.64 \r\nz\r\n\" style=\"fill:#1f77b4;\"/>\r\n   </g>\r\n   <g id=\"patch_20\">\r\n    <path clip-path=\"url(#p9753e41822)\" d=\"M 129.306854 224.64 \r\nL 132.48227 224.64 \r\nL 132.48227 166.305998 \r\nL 129.306854 166.305998 \r\nz\r\n\" style=\"fill:#1f77b4;\"/>\r\n   </g>\r\n   <g id=\"patch_21\">\r\n    <path clip-path=\"url(#p9753e41822)\" d=\"M 133.276124 224.64 \r\nL 136.45154 224.64 \r\nL 136.45154 221.7233 \r\nL 133.276124 221.7233 \r\nz\r\n\" style=\"fill:#1f77b4;\"/>\r\n   </g>\r\n   <g id=\"patch_22\">\r\n    <path clip-path=\"url(#p9753e41822)\" d=\"M 137.245395 224.64 \r\nL 140.420811 224.64 \r\nL 140.420811 218.8066 \r\nL 137.245395 218.8066 \r\nz\r\n\" style=\"fill:#1f77b4;\"/>\r\n   </g>\r\n   <g id=\"patch_23\">\r\n    <path clip-path=\"url(#p9753e41822)\" d=\"M 141.214665 224.64 \r\nL 144.390081 224.64 \r\nL 144.390081 167.764349 \r\nL 141.214665 167.764349 \r\nz\r\n\" style=\"fill:#1f77b4;\"/>\r\n   </g>\r\n   <g id=\"patch_24\">\r\n    <path clip-path=\"url(#p9753e41822)\" d=\"M 145.183935 224.64 \r\nL 148.359351 224.64 \r\nL 148.359351 126.930547 \r\nL 145.183935 126.930547 \r\nz\r\n\" style=\"fill:#1f77b4;\"/>\r\n   </g>\r\n   <g id=\"patch_25\">\r\n    <path clip-path=\"url(#p9753e41822)\" d=\"M 149.153205 224.64 \r\nL 152.328621 224.64 \r\nL 152.328621 224.64 \r\nL 149.153205 224.64 \r\nz\r\n\" style=\"fill:#1f77b4;\"/>\r\n   </g>\r\n   <g id=\"patch_26\">\r\n    <path clip-path=\"url(#p9753e41822)\" d=\"M 153.122475 224.64 \r\nL 156.297891 224.64 \r\nL 156.297891 156.097548 \r\nL 153.122475 156.097548 \r\nz\r\n\" style=\"fill:#1f77b4;\"/>\r\n   </g>\r\n   <g id=\"patch_27\">\r\n    <path clip-path=\"url(#p9753e41822)\" d=\"M 157.091745 224.64 \r\nL 160.267161 224.64 \r\nL 160.267161 224.64 \r\nL 157.091745 224.64 \r\nz\r\n\" style=\"fill:#1f77b4;\"/>\r\n   </g>\r\n   <g id=\"patch_28\">\r\n    <path clip-path=\"url(#p9753e41822)\" d=\"M 161.061016 224.64 \r\nL 164.236432 224.64 \r\nL 164.236432 202.76475 \r\nL 161.061016 202.76475 \r\nz\r\n\" style=\"fill:#1f77b4;\"/>\r\n   </g>\r\n   <g id=\"patch_29\">\r\n    <path clip-path=\"url(#p9753e41822)\" d=\"M 165.030286 224.64 \r\nL 168.205702 224.64 \r\nL 168.205702 182.347847 \r\nL 165.030286 182.347847 \r\nz\r\n\" style=\"fill:#1f77b4;\"/>\r\n   </g>\r\n   <g id=\"patch_30\">\r\n    <path clip-path=\"url(#p9753e41822)\" d=\"M 168.999556 224.64 \r\nL 172.174972 224.64 \r\nL 172.174972 224.64 \r\nL 168.999556 224.64 \r\nz\r\n\" style=\"fill:#1f77b4;\"/>\r\n   </g>\r\n   <g id=\"patch_31\">\r\n    <path clip-path=\"url(#p9753e41822)\" d=\"M 172.968826 224.64 \r\nL 176.144242 224.64 \r\nL 176.144242 224.64 \r\nL 172.968826 224.64 \r\nz\r\n\" style=\"fill:#1f77b4;\"/>\r\n   </g>\r\n   <g id=\"patch_32\">\r\n    <path clip-path=\"url(#p9753e41822)\" d=\"M 176.938096 224.64 \r\nL 180.113512 224.64 \r\nL 180.113512 214.43155 \r\nL 176.938096 214.43155 \r\nz\r\n\" style=\"fill:#1f77b4;\"/>\r\n   </g>\r\n   <g id=\"patch_33\">\r\n    <path clip-path=\"url(#p9753e41822)\" d=\"M 180.907366 224.64 \r\nL 184.082782 224.64 \r\nL 184.082782 183.806198 \r\nL 180.907366 183.806198 \r\nz\r\n\" style=\"fill:#1f77b4;\"/>\r\n   </g>\r\n   <g id=\"patch_34\">\r\n    <path clip-path=\"url(#p9753e41822)\" d=\"M 184.876637 224.64 \r\nL 188.052053 224.64 \r\nL 188.052053 147.347446 \r\nL 184.876637 147.347446 \r\nz\r\n\" style=\"fill:#1f77b4;\"/>\r\n   </g>\r\n   <g id=\"patch_35\">\r\n    <path clip-path=\"url(#p9753e41822)\" d=\"M 188.845907 224.64 \r\nL 192.021323 224.64 \r\nL 192.021323 192.556299 \r\nL 188.845907 192.556299 \r\nz\r\n\" style=\"fill:#1f77b4;\"/>\r\n   </g>\r\n   <g id=\"patch_36\">\r\n    <path clip-path=\"url(#p9753e41822)\" d=\"M 192.815177 224.64 \r\nL 195.990593 224.64 \r\nL 195.990593 182.347847 \r\nL 192.815177 182.347847 \r\nz\r\n\" style=\"fill:#1f77b4;\"/>\r\n   </g>\r\n   <g id=\"patch_37\">\r\n    <path clip-path=\"url(#p9753e41822)\" d=\"M 196.784447 224.64 \r\nL 199.959863 224.64 \r\nL 199.959863 211.514849 \r\nL 196.784447 211.514849 \r\nz\r\n\" style=\"fill:#1f77b4;\"/>\r\n   </g>\r\n   <g id=\"patch_38\">\r\n    <path clip-path=\"url(#p9753e41822)\" d=\"M 200.753717 224.64 \r\nL 203.929133 224.64 \r\nL 203.929133 94.846848 \r\nL 200.753717 94.846848 \r\nz\r\n\" style=\"fill:#1f77b4;\"/>\r\n   </g>\r\n   <g id=\"patch_39\">\r\n    <path clip-path=\"url(#p9753e41822)\" d=\"M 204.722987 224.64 \r\nL 207.898403 224.64 \r\nL 207.898403 210.056499 \r\nL 204.722987 210.056499 \r\nz\r\n\" style=\"fill:#1f77b4;\"/>\r\n   </g>\r\n   <g id=\"patch_40\">\r\n    <path clip-path=\"url(#p9753e41822)\" d=\"M 208.692258 224.64 \r\nL 211.867674 224.64 \r\nL 211.867674 214.43155 \r\nL 208.692258 214.43155 \r\nz\r\n\" style=\"fill:#1f77b4;\"/>\r\n   </g>\r\n   <g id=\"patch_41\">\r\n    <path clip-path=\"url(#p9753e41822)\" d=\"M 212.661528 224.64 \r\nL 215.836944 224.64 \r\nL 215.836944 199.84805 \r\nL 212.661528 199.84805 \r\nz\r\n\" style=\"fill:#1f77b4;\"/>\r\n   </g>\r\n   <g id=\"patch_42\">\r\n    <path clip-path=\"url(#p9753e41822)\" d=\"M 216.630798 224.64 \r\nL 219.806214 224.64 \r\nL 219.806214 177.972798 \r\nL 216.630798 177.972798 \r\nz\r\n\" style=\"fill:#1f77b4;\"/>\r\n   </g>\r\n   <g id=\"patch_43\">\r\n    <path clip-path=\"url(#p9753e41822)\" d=\"M 220.600068 224.64 \r\nL 223.775484 224.64 \r\nL 223.775484 204.223099 \r\nL 220.600068 204.223099 \r\nz\r\n\" style=\"fill:#1f77b4;\"/>\r\n   </g>\r\n   <g id=\"patch_44\">\r\n    <path clip-path=\"url(#p9753e41822)\" d=\"M 224.569338 224.64 \r\nL 227.744754 224.64 \r\nL 227.744754 182.347847 \r\nL 224.569338 182.347847 \r\nz\r\n\" style=\"fill:#1f77b4;\"/>\r\n   </g>\r\n   <g id=\"patch_45\">\r\n    <path clip-path=\"url(#p9753e41822)\" d=\"M 228.538608 224.64 \r\nL 231.714024 224.64 \r\nL 231.714024 144.430744 \r\nL 228.538608 144.430744 \r\nz\r\n\" style=\"fill:#1f77b4;\"/>\r\n   </g>\r\n   <g id=\"patch_46\">\r\n    <path clip-path=\"url(#p9753e41822)\" d=\"M 232.507879 224.64 \r\nL 235.683295 224.64 \r\nL 235.683295 195.472999 \r\nL 232.507879 195.472999 \r\nz\r\n\" style=\"fill:#1f77b4;\"/>\r\n   </g>\r\n   <g id=\"patch_47\">\r\n    <path clip-path=\"url(#p9753e41822)\" d=\"M 236.477149 224.64 \r\nL 239.652565 224.64 \r\nL 239.652565 198.389699 \r\nL 236.477149 198.389699 \r\nz\r\n\" style=\"fill:#1f77b4;\"/>\r\n   </g>\r\n   <g id=\"patch_48\">\r\n    <path clip-path=\"url(#p9753e41822)\" d=\"M 240.446419 224.64 \r\nL 243.621835 224.64 \r\nL 243.621835 176.514447 \r\nL 240.446419 176.514447 \r\nz\r\n\" style=\"fill:#1f77b4;\"/>\r\n   </g>\r\n   <g id=\"patch_49\">\r\n    <path clip-path=\"url(#p9753e41822)\" d=\"M 244.415689 224.64 \r\nL 247.591105 224.64 \r\nL 247.591105 211.514849 \r\nL 244.415689 211.514849 \r\nz\r\n\" style=\"fill:#1f77b4;\"/>\r\n   </g>\r\n   <g id=\"patch_50\">\r\n    <path clip-path=\"url(#p9753e41822)\" d=\"M 248.384959 224.64 \r\nL 251.560375 224.64 \r\nL 251.560375 221.7233 \r\nL 248.384959 221.7233 \r\nz\r\n\" style=\"fill:#1f77b4;\"/>\r\n   </g>\r\n   <g id=\"patch_51\">\r\n    <path clip-path=\"url(#p9753e41822)\" d=\"M 252.354229 224.64 \r\nL 255.529645 224.64 \r\nL 255.529645 211.514849 \r\nL 252.354229 211.514849 \r\nz\r\n\" style=\"fill:#1f77b4;\"/>\r\n   </g>\r\n   <g id=\"patch_52\">\r\n    <path clip-path=\"url(#p9753e41822)\" d=\"M 256.3235 224.64 \r\nL 259.498916 224.64 \r\nL 259.498916 201.306399 \r\nL 256.3235 201.306399 \r\nz\r\n\" style=\"fill:#1f77b4;\"/>\r\n   </g>\r\n   <g id=\"patch_53\">\r\n    <path clip-path=\"url(#p9753e41822)\" d=\"M 260.29277 224.64 \r\nL 263.468186 224.64 \r\nL 263.468186 223.18165 \r\nL 260.29277 223.18165 \r\nz\r\n\" style=\"fill:#1f77b4;\"/>\r\n   </g>\r\n   <g id=\"patch_54\">\r\n    <path clip-path=\"url(#p9753e41822)\" d=\"M 264.26204 224.64 \r\nL 267.437456 224.64 \r\nL 267.437456 223.18165 \r\nL 264.26204 223.18165 \r\nz\r\n\" style=\"fill:#1f77b4;\"/>\r\n   </g>\r\n   <g id=\"patch_55\">\r\n    <path clip-path=\"url(#p9753e41822)\" d=\"M 268.23131 224.64 \r\nL 271.406726 224.64 \r\nL 271.406726 214.43155 \r\nL 268.23131 214.43155 \r\nz\r\n\" style=\"fill:#1f77b4;\"/>\r\n   </g>\r\n   <g id=\"patch_56\">\r\n    <path clip-path=\"url(#p9753e41822)\" d=\"M 272.20058 224.64 \r\nL 275.375996 224.64 \r\nL 275.375996 214.43155 \r\nL 272.20058 214.43155 \r\nz\r\n\" style=\"fill:#1f77b4;\"/>\r\n   </g>\r\n   <g id=\"patch_57\">\r\n    <path clip-path=\"url(#p9753e41822)\" d=\"M 276.16985 224.64 \r\nL 279.345266 224.64 \r\nL 279.345266 211.514849 \r\nL 276.16985 211.514849 \r\nz\r\n\" style=\"fill:#1f77b4;\"/>\r\n   </g>\r\n   <g id=\"patch_58\">\r\n    <path clip-path=\"url(#p9753e41822)\" d=\"M 280.139121 224.64 \r\nL 283.314537 224.64 \r\nL 283.314537 202.76475 \r\nL 280.139121 202.76475 \r\nz\r\n\" style=\"fill:#1f77b4;\"/>\r\n   </g>\r\n   <g id=\"patch_59\">\r\n    <path clip-path=\"url(#p9753e41822)\" d=\"M 284.108391 224.64 \r\nL 287.283807 224.64 \r\nL 287.283807 215.8899 \r\nL 284.108391 215.8899 \r\nz\r\n\" style=\"fill:#1f77b4;\"/>\r\n   </g>\r\n   <g id=\"patch_60\">\r\n    <path clip-path=\"url(#p9753e41822)\" d=\"M 288.077661 224.64 \r\nL 291.253077 224.64 \r\nL 291.253077 188.181248 \r\nL 288.077661 188.181248 \r\nz\r\n\" style=\"fill:#1f77b4;\"/>\r\n   </g>\r\n   <g id=\"patch_61\">\r\n    <path clip-path=\"url(#p9753e41822)\" d=\"M 292.046931 224.64 \r\nL 295.222347 224.64 \r\nL 295.222347 224.64 \r\nL 292.046931 224.64 \r\nz\r\n\" style=\"fill:#1f77b4;\"/>\r\n   </g>\r\n   <g id=\"patch_62\">\r\n    <path clip-path=\"url(#p9753e41822)\" d=\"M 296.016201 224.64 \r\nL 299.191617 224.64 \r\nL 299.191617 223.18165 \r\nL 296.016201 223.18165 \r\nz\r\n\" style=\"fill:#1f77b4;\"/>\r\n   </g>\r\n   <g id=\"patch_63\">\r\n    <path clip-path=\"url(#p9753e41822)\" d=\"M 299.985471 224.64 \r\nL 303.160887 224.64 \r\nL 303.160887 167.764349 \r\nL 299.985471 167.764349 \r\nz\r\n\" style=\"fill:#1f77b4;\"/>\r\n   </g>\r\n   <g id=\"patch_64\">\r\n    <path clip-path=\"url(#p9753e41822)\" d=\"M 303.954742 224.64 \r\nL 307.130158 224.64 \r\nL 307.130158 208.598149 \r\nL 303.954742 208.598149 \r\nz\r\n\" style=\"fill:#1f77b4;\"/>\r\n   </g>\r\n   <g id=\"patch_65\">\r\n    <path clip-path=\"url(#p9753e41822)\" d=\"M 307.924012 224.64 \r\nL 311.099428 224.64 \r\nL 311.099428 208.598149 \r\nL 307.924012 208.598149 \r\nz\r\n\" style=\"fill:#1f77b4;\"/>\r\n   </g>\r\n   <g id=\"patch_66\">\r\n    <path clip-path=\"url(#p9753e41822)\" d=\"M 311.893282 224.64 \r\nL 315.068698 224.64 \r\nL 315.068698 212.9732 \r\nL 311.893282 212.9732 \r\nz\r\n\" style=\"fill:#1f77b4;\"/>\r\n   </g>\r\n   <g id=\"patch_67\">\r\n    <path clip-path=\"url(#p9753e41822)\" d=\"M 315.862552 224.64 \r\nL 319.037968 224.64 \r\nL 319.037968 173.597749 \r\nL 315.862552 173.597749 \r\nz\r\n\" style=\"fill:#1f77b4;\"/>\r\n   </g>\r\n   <g id=\"patch_68\">\r\n    <path clip-path=\"url(#p9753e41822)\" d=\"M 319.831822 224.64 \r\nL 323.007238 224.64 \r\nL 323.007238 218.8066 \r\nL 319.831822 218.8066 \r\nz\r\n\" style=\"fill:#1f77b4;\"/>\r\n   </g>\r\n   <g id=\"patch_69\">\r\n    <path clip-path=\"url(#p9753e41822)\" d=\"M 323.801092 224.64 \r\nL 326.976508 224.64 \r\nL 326.976508 223.18165 \r\nL 323.801092 223.18165 \r\nz\r\n\" style=\"fill:#1f77b4;\"/>\r\n   </g>\r\n   <g id=\"patch_70\">\r\n    <path clip-path=\"url(#p9753e41822)\" d=\"M 327.770363 224.64 \r\nL 330.945779 224.64 \r\nL 330.945779 224.64 \r\nL 327.770363 224.64 \r\nz\r\n\" style=\"fill:#1f77b4;\"/>\r\n   </g>\r\n   <g id=\"patch_71\">\r\n    <path clip-path=\"url(#p9753e41822)\" d=\"M 331.739633 224.64 \r\nL 334.915049 224.64 \r\nL 334.915049 154.639197 \r\nL 331.739633 154.639197 \r\nz\r\n\" style=\"fill:#1f77b4;\"/>\r\n   </g>\r\n   <g id=\"patch_72\">\r\n    <path clip-path=\"url(#p9753e41822)\" d=\"M 335.708903 224.64 \r\nL 338.884319 224.64 \r\nL 338.884319 176.514447 \r\nL 335.708903 176.514447 \r\nz\r\n\" style=\"fill:#1f77b4;\"/>\r\n   </g>\r\n   <g id=\"patch_73\">\r\n    <path clip-path=\"url(#p9753e41822)\" d=\"M 339.678173 224.64 \r\nL 342.853589 224.64 \r\nL 342.853589 212.9732 \r\nL 339.678173 212.9732 \r\nz\r\n\" style=\"fill:#1f77b4;\"/>\r\n   </g>\r\n   <g id=\"patch_74\">\r\n    <path clip-path=\"url(#p9753e41822)\" d=\"M 343.647443 224.64 \r\nL 346.822859 224.64 \r\nL 346.822859 172.139398 \r\nL 343.647443 172.139398 \r\nz\r\n\" style=\"fill:#1f77b4;\"/>\r\n   </g>\r\n   <g id=\"patch_75\">\r\n    <path clip-path=\"url(#p9753e41822)\" d=\"M 347.616713 224.64 \r\nL 350.792129 224.64 \r\nL 350.792129 224.64 \r\nL 347.616713 224.64 \r\nz\r\n\" style=\"fill:#1f77b4;\"/>\r\n   </g>\r\n   <g id=\"patch_76\">\r\n    <path clip-path=\"url(#p9753e41822)\" d=\"M 351.585984 224.64 \r\nL 354.7614 224.64 \r\nL 354.7614 81.721701 \r\nL 351.585984 81.721701 \r\nz\r\n\" style=\"fill:#1f77b4;\"/>\r\n   </g>\r\n   <g id=\"patch_77\">\r\n    <path clip-path=\"url(#p9753e41822)\" d=\"M 355.555254 224.64 \r\nL 358.73067 224.64 \r\nL 358.73067 212.9732 \r\nL 355.555254 212.9732 \r\nz\r\n\" style=\"fill:#1f77b4;\"/>\r\n   </g>\r\n   <g id=\"patch_78\">\r\n    <path clip-path=\"url(#p9753e41822)\" d=\"M 359.524524 224.64 \r\nL 362.69994 224.64 \r\nL 362.69994 214.43155 \r\nL 359.524524 214.43155 \r\nz\r\n\" style=\"fill:#1f77b4;\"/>\r\n   </g>\r\n   <g id=\"patch_79\">\r\n    <path clip-path=\"url(#p9753e41822)\" d=\"M 363.493794 224.64 \r\nL 366.66921 224.64 \r\nL 366.66921 169.2227 \r\nL 363.493794 169.2227 \r\nz\r\n\" style=\"fill:#1f77b4;\"/>\r\n   </g>\r\n   <g id=\"patch_80\">\r\n    <path clip-path=\"url(#p9753e41822)\" d=\"M 367.463064 224.64 \r\nL 370.63848 224.64 \r\nL 370.63848 201.306399 \r\nL 367.463064 201.306399 \r\nz\r\n\" style=\"fill:#1f77b4;\"/>\r\n   </g>\r\n   <g id=\"patch_81\">\r\n    <path clip-path=\"url(#p9753e41822)\" d=\"M 371.432334 224.64 \r\nL 374.60775 224.64 \r\nL 374.60775 220.26495 \r\nL 371.432334 220.26495 \r\nz\r\n\" style=\"fill:#1f77b4;\"/>\r\n   </g>\r\n   <g id=\"patch_82\">\r\n    <path clip-path=\"url(#p9753e41822)\" d=\"M 375.401605 224.64 \r\nL 378.577021 224.64 \r\nL 378.577021 224.64 \r\nL 375.401605 224.64 \r\nz\r\n\" style=\"fill:#1f77b4;\"/>\r\n   </g>\r\n   <g id=\"patch_83\">\r\n    <path clip-path=\"url(#p9753e41822)\" d=\"M 379.370875 224.64 \r\nL 382.546291 224.64 \r\nL 382.546291 217.34825 \r\nL 379.370875 217.34825 \r\nz\r\n\" style=\"fill:#1f77b4;\"/>\r\n   </g>\r\n   <g id=\"patch_84\">\r\n    <path clip-path=\"url(#p9753e41822)\" d=\"M 383.340145 224.64 \r\nL 386.515561 224.64 \r\nL 386.515561 224.64 \r\nL 383.340145 224.64 \r\nz\r\n\" style=\"fill:#1f77b4;\"/>\r\n   </g>\r\n   <g id=\"patch_85\">\r\n    <path clip-path=\"url(#p9753e41822)\" d=\"M 387.309415 224.64 \r\nL 390.484831 224.64 \r\nL 390.484831 201.306399 \r\nL 387.309415 201.306399 \r\nz\r\n\" style=\"fill:#1f77b4;\"/>\r\n   </g>\r\n   <g id=\"patch_86\">\r\n    <path clip-path=\"url(#p9753e41822)\" d=\"M 391.278685 224.64 \r\nL 394.454101 224.64 \r\nL 394.454101 211.514849 \r\nL 391.278685 211.514849 \r\nz\r\n\" style=\"fill:#1f77b4;\"/>\r\n   </g>\r\n   <g id=\"patch_87\">\r\n    <path clip-path=\"url(#p9753e41822)\" d=\"M 395.247955 224.64 \r\nL 398.423371 224.64 \r\nL 398.423371 221.7233 \r\nL 395.247955 221.7233 \r\nz\r\n\" style=\"fill:#1f77b4;\"/>\r\n   </g>\r\n   <g id=\"patch_88\">\r\n    <path clip-path=\"url(#p9753e41822)\" d=\"M 399.217226 224.64 \r\nL 402.392642 224.64 \r\nL 402.392642 220.26495 \r\nL 399.217226 220.26495 \r\nz\r\n\" style=\"fill:#1f77b4;\"/>\r\n   </g>\r\n   <g id=\"patch_89\">\r\n    <path clip-path=\"url(#p9753e41822)\" d=\"M 403.186496 224.64 \r\nL 406.361912 224.64 \r\nL 406.361912 204.223099 \r\nL 403.186496 204.223099 \r\nz\r\n\" style=\"fill:#1f77b4;\"/>\r\n   </g>\r\n   <g id=\"patch_90\">\r\n    <path clip-path=\"url(#p9753e41822)\" d=\"M 407.155766 224.64 \r\nL 410.331182 224.64 \r\nL 410.331182 202.76475 \r\nL 407.155766 202.76475 \r\nz\r\n\" style=\"fill:#1f77b4;\"/>\r\n   </g>\r\n   <g id=\"patch_91\">\r\n    <path clip-path=\"url(#p9753e41822)\" d=\"M 411.125036 224.64 \r\nL 414.300452 224.64 \r\nL 414.300452 195.472999 \r\nL 411.125036 195.472999 \r\nz\r\n\" style=\"fill:#1f77b4;\"/>\r\n   </g>\r\n   <g id=\"patch_92\">\r\n    <path clip-path=\"url(#p9753e41822)\" d=\"M 415.094306 224.64 \r\nL 418.269722 224.64 \r\nL 418.269722 179.431149 \r\nL 415.094306 179.431149 \r\nz\r\n\" style=\"fill:#1f77b4;\"/>\r\n   </g>\r\n   <g id=\"patch_93\">\r\n    <path clip-path=\"url(#p9753e41822)\" d=\"M 419.063576 224.64 \r\nL 422.238992 224.64 \r\nL 422.238992 220.26495 \r\nL 419.063576 220.26495 \r\nz\r\n\" style=\"fill:#1f77b4;\"/>\r\n   </g>\r\n   <g id=\"patch_94\">\r\n    <path clip-path=\"url(#p9753e41822)\" d=\"M 423.032847 224.64 \r\nL 426.208263 224.64 \r\nL 426.208263 224.64 \r\nL 423.032847 224.64 \r\nz\r\n\" style=\"fill:#1f77b4;\"/>\r\n   </g>\r\n   <g id=\"patch_95\">\r\n    <path clip-path=\"url(#p9753e41822)\" d=\"M 427.002117 224.64 \r\nL 430.177533 224.64 \r\nL 430.177533 207.139799 \r\nL 427.002117 207.139799 \r\nz\r\n\" style=\"fill:#1f77b4;\"/>\r\n   </g>\r\n   <g id=\"patch_96\">\r\n    <path clip-path=\"url(#p9753e41822)\" d=\"M 430.971387 224.64 \r\nL 434.146803 224.64 \r\nL 434.146803 202.76475 \r\nL 430.971387 202.76475 \r\nz\r\n\" style=\"fill:#1f77b4;\"/>\r\n   </g>\r\n   <g id=\"patch_97\">\r\n    <path clip-path=\"url(#p9753e41822)\" d=\"M 434.940657 224.64 \r\nL 438.116073 224.64 \r\nL 438.116073 224.64 \r\nL 434.940657 224.64 \r\nz\r\n\" style=\"fill:#1f77b4;\"/>\r\n   </g>\r\n   <g id=\"patch_98\">\r\n    <path clip-path=\"url(#p9753e41822)\" d=\"M 438.909927 224.64 \r\nL 442.085343 224.64 \r\nL 442.085343 211.514849 \r\nL 438.909927 211.514849 \r\nz\r\n\" style=\"fill:#1f77b4;\"/>\r\n   </g>\r\n   <g id=\"patch_99\">\r\n    <path clip-path=\"url(#p9753e41822)\" d=\"M 442.879197 224.64 \r\nL 446.054613 224.64 \r\nL 446.054613 124.013845 \r\nL 442.879197 124.013845 \r\nz\r\n\" style=\"fill:#1f77b4;\"/>\r\n   </g>\r\n   <g id=\"patch_100\">\r\n    <path clip-path=\"url(#p9753e41822)\" d=\"M 446.848468 224.64 \r\nL 450.023884 224.64 \r\nL 450.023884 224.64 \r\nL 446.848468 224.64 \r\nz\r\n\" style=\"fill:#1f77b4;\"/>\r\n   </g>\r\n   <g id=\"patch_101\">\r\n    <path clip-path=\"url(#p9753e41822)\" d=\"M 450.817738 224.64 \r\nL 453.993154 224.64 \r\nL 453.993154 195.472999 \r\nL 450.817738 195.472999 \r\nz\r\n\" style=\"fill:#1f77b4;\"/>\r\n   </g>\r\n   <g id=\"patch_102\">\r\n    <path clip-path=\"url(#p9753e41822)\" d=\"M 454.787008 224.64 \r\nL 457.962424 224.64 \r\nL 457.962424 115.263747 \r\nL 454.787008 115.263747 \r\nz\r\n\" style=\"fill:#1f77b4;\"/>\r\n   </g>\r\n   <g id=\"patch_103\">\r\n    <path clip-path=\"url(#p9753e41822)\" d=\"M 458.756278 224.64 \r\nL 461.931694 224.64 \r\nL 461.931694 74.429941 \r\nL 458.756278 74.429941 \r\nz\r\n\" style=\"fill:#1f77b4;\"/>\r\n   </g>\r\n   <g id=\"patch_104\">\r\n    <path clip-path=\"url(#p9753e41822)\" d=\"M 462.725548 224.64 \r\nL 465.900964 224.64 \r\nL 465.900964 103.596946 \r\nL 462.725548 103.596946 \r\nz\r\n\" style=\"fill:#1f77b4;\"/>\r\n   </g>\r\n   <g id=\"patch_105\">\r\n    <path clip-path=\"url(#p9753e41822)\" d=\"M 466.694818 224.64 \r\nL 469.870234 224.64 \r\nL 469.870234 224.64 \r\nL 466.694818 224.64 \r\nz\r\n\" style=\"fill:#1f77b4;\"/>\r\n   </g>\r\n   <g id=\"patch_106\">\r\n    <path clip-path=\"url(#p9753e41822)\" d=\"M 470.664089 224.64 \r\nL 473.839505 224.64 \r\nL 473.839505 202.76475 \r\nL 470.664089 202.76475 \r\nz\r\n\" style=\"fill:#1f77b4;\"/>\r\n   </g>\r\n   <g id=\"patch_107\">\r\n    <path clip-path=\"url(#p9753e41822)\" d=\"M 474.633359 224.64 \r\nL 477.808775 224.64 \r\nL 477.808775 223.18165 \r\nL 474.633359 223.18165 \r\nz\r\n\" style=\"fill:#1f77b4;\"/>\r\n   </g>\r\n   <g id=\"patch_108\">\r\n    <path clip-path=\"url(#p9753e41822)\" d=\"M 478.602629 224.64 \r\nL 481.778045 224.64 \r\nL 481.778045 207.139799 \r\nL 478.602629 207.139799 \r\nz\r\n\" style=\"fill:#1f77b4;\"/>\r\n   </g>\r\n   <g id=\"patch_109\">\r\n    <path clip-path=\"url(#p9753e41822)\" d=\"M 482.571899 224.64 \r\nL 485.747315 224.64 \r\nL 485.747315 17.554286 \r\nL 482.571899 17.554286 \r\nz\r\n\" style=\"fill:#1f77b4;\"/>\r\n   </g>\r\n   <g id=\"patch_110\">\r\n    <path clip-path=\"url(#p9753e41822)\" d=\"M 486.541169 224.64 \r\nL 489.716585 224.64 \r\nL 489.716585 224.64 \r\nL 486.541169 224.64 \r\nz\r\n\" style=\"fill:#1f77b4;\"/>\r\n   </g>\r\n   <g id=\"patch_111\">\r\n    <path clip-path=\"url(#p9753e41822)\" d=\"M 490.510439 224.64 \r\nL 493.685855 224.64 \r\nL 493.685855 195.472999 \r\nL 490.510439 195.472999 \r\nz\r\n\" style=\"fill:#1f77b4;\"/>\r\n   </g>\r\n   <g id=\"patch_112\">\r\n    <path clip-path=\"url(#p9753e41822)\" d=\"M 494.47971 224.64 \r\nL 497.655126 224.64 \r\nL 497.655126 191.09795 \r\nL 494.47971 191.09795 \r\nz\r\n\" style=\"fill:#1f77b4;\"/>\r\n   </g>\r\n   <g id=\"patch_113\">\r\n    <path clip-path=\"url(#p9753e41822)\" d=\"M 498.44898 224.64 \r\nL 501.624396 224.64 \r\nL 501.624396 186.722901 \r\nL 498.44898 186.722901 \r\nz\r\n\" style=\"fill:#1f77b4;\"/>\r\n   </g>\r\n   <g id=\"patch_114\">\r\n    <path clip-path=\"url(#p9753e41822)\" d=\"M 502.41825 224.64 \r\nL 505.593666 224.64 \r\nL 505.593666 221.7233 \r\nL 502.41825 221.7233 \r\nz\r\n\" style=\"fill:#1f77b4;\"/>\r\n   </g>\r\n   <g id=\"patch_115\">\r\n    <path clip-path=\"url(#p9753e41822)\" d=\"M 506.38752 224.64 \r\nL 509.562936 224.64 \r\nL 509.562936 224.64 \r\nL 506.38752 224.64 \r\nz\r\n\" style=\"fill:#1f77b4;\"/>\r\n   </g>\r\n   <g id=\"patch_116\">\r\n    <path clip-path=\"url(#p9753e41822)\" d=\"M 510.35679 224.64 \r\nL 513.532206 224.64 \r\nL 513.532206 179.431149 \r\nL 510.35679 179.431149 \r\nz\r\n\" style=\"fill:#1f77b4;\"/>\r\n   </g>\r\n   <g id=\"patch_117\">\r\n    <path clip-path=\"url(#p9753e41822)\" d=\"M 514.32606 224.64 \r\nL 517.501476 224.64 \r\nL 517.501476 224.64 \r\nL 514.32606 224.64 \r\nz\r\n\" style=\"fill:#1f77b4;\"/>\r\n   </g>\r\n   <g id=\"patch_118\">\r\n    <path clip-path=\"url(#p9753e41822)\" d=\"M 518.295331 224.64 \r\nL 521.470747 224.64 \r\nL 521.470747 224.64 \r\nL 518.295331 224.64 \r\nz\r\n\" style=\"fill:#1f77b4;\"/>\r\n   </g>\r\n   <g id=\"patch_119\">\r\n    <path clip-path=\"url(#p9753e41822)\" d=\"M 522.264601 224.64 \r\nL 525.440017 224.64 \r\nL 525.440017 160.472597 \r\nL 522.264601 160.472597 \r\nz\r\n\" style=\"fill:#1f77b4;\"/>\r\n   </g>\r\n   <g id=\"patch_120\">\r\n    <path clip-path=\"url(#p9753e41822)\" d=\"M 526.233871 224.64 \r\nL 529.409287 224.64 \r\nL 529.409287 214.43155 \r\nL 526.233871 214.43155 \r\nz\r\n\" style=\"fill:#1f77b4;\"/>\r\n   </g>\r\n   <g id=\"patch_121\">\r\n    <path clip-path=\"url(#p9753e41822)\" d=\"M 530.203141 224.64 \r\nL 533.378557 224.64 \r\nL 533.378557 224.64 \r\nL 530.203141 224.64 \r\nz\r\n\" style=\"fill:#1f77b4;\"/>\r\n   </g>\r\n   <g id=\"patch_122\">\r\n    <path clip-path=\"url(#p9753e41822)\" d=\"M 534.172411 224.64 \r\nL 537.347827 224.64 \r\nL 537.347827 223.18165 \r\nL 534.172411 223.18165 \r\nz\r\n\" style=\"fill:#1f77b4;\"/>\r\n   </g>\r\n   <g id=\"patch_123\">\r\n    <path clip-path=\"url(#p9753e41822)\" d=\"M 538.141681 224.64 \r\nL 541.317097 224.64 \r\nL 541.317097 201.306399 \r\nL 538.141681 201.306399 \r\nz\r\n\" style=\"fill:#1f77b4;\"/>\r\n   </g>\r\n   <g id=\"patch_124\">\r\n    <path clip-path=\"url(#p9753e41822)\" d=\"M 542.110952 224.64 \r\nL 545.286368 224.64 \r\nL 545.286368 223.18165 \r\nL 542.110952 223.18165 \r\nz\r\n\" style=\"fill:#1f77b4;\"/>\r\n   </g>\r\n   <g id=\"patch_125\">\r\n    <path clip-path=\"url(#p9753e41822)\" d=\"M 546.080222 224.64 \r\nL 549.255638 224.64 \r\nL 549.255638 208.598149 \r\nL 546.080222 208.598149 \r\nz\r\n\" style=\"fill:#1f77b4;\"/>\r\n   </g>\r\n   <g id=\"patch_126\">\r\n    <path clip-path=\"url(#p9753e41822)\" d=\"M 550.049492 224.64 \r\nL 553.224908 224.64 \r\nL 553.224908 128.388894 \r\nL 550.049492 128.388894 \r\nz\r\n\" style=\"fill:#1f77b4;\"/>\r\n   </g>\r\n   <g id=\"patch_127\">\r\n    <path clip-path=\"url(#p9753e41822)\" d=\"M 554.018762 224.64 \r\nL 557.194178 224.64 \r\nL 557.194178 176.514447 \r\nL 554.018762 176.514447 \r\nz\r\n\" style=\"fill:#1f77b4;\"/>\r\n   </g>\r\n   <g id=\"patch_128\">\r\n    <path clip-path=\"url(#p9753e41822)\" d=\"M 557.988032 224.64 \r\nL 561.163448 224.64 \r\nL 561.163448 189.639599 \r\nL 557.988032 189.639599 \r\nz\r\n\" style=\"fill:#1f77b4;\"/>\r\n   </g>\r\n   <g id=\"patch_129\">\r\n    <path clip-path=\"url(#p9753e41822)\" d=\"M 561.957302 224.64 \r\nL 565.132718 224.64 \r\nL 565.132718 159.014246 \r\nL 561.957302 159.014246 \r\nz\r\n\" style=\"fill:#1f77b4;\"/>\r\n   </g>\r\n   <g id=\"patch_130\">\r\n    <path clip-path=\"url(#p9753e41822)\" d=\"M 565.926573 224.64 \r\nL 569.101989 224.64 \r\nL 569.101989 170.681047 \r\nL 565.926573 170.681047 \r\nz\r\n\" style=\"fill:#1f77b4;\"/>\r\n   </g>\r\n   <g id=\"matplotlib.axis_1\">\r\n    <g id=\"xtick_1\">\r\n     <g id=\"line2d_1\">\r\n      <defs>\r\n       <path d=\"M 0 0 \r\nL 0 3.5 \r\n\" id=\"m95fe72cd00\" style=\"stroke:#000000;stroke-width:0.8;\"/>\r\n      </defs>\r\n      <g>\r\n       <use style=\"stroke:#000000;stroke-width:0.8;\" x=\"63.416969\" xlink:href=\"#m95fe72cd00\" y=\"224.64\"/>\r\n      </g>\r\n     </g>\r\n     <g id=\"text_1\">\r\n      <!-- 0 -->\r\n      <g transform=\"translate(60.235719 239.238437)scale(0.1 -0.1)\">\r\n       <defs>\r\n        <path d=\"M 31.78125 66.40625 \r\nQ 24.171875 66.40625 20.328125 58.90625 \r\nQ 16.5 51.421875 16.5 36.375 \r\nQ 16.5 21.390625 20.328125 13.890625 \r\nQ 24.171875 6.390625 31.78125 6.390625 \r\nQ 39.453125 6.390625 43.28125 13.890625 \r\nQ 47.125 21.390625 47.125 36.375 \r\nQ 47.125 51.421875 43.28125 58.90625 \r\nQ 39.453125 66.40625 31.78125 66.40625 \r\nz\r\nM 31.78125 74.21875 \r\nQ 44.046875 74.21875 50.515625 64.515625 \r\nQ 56.984375 54.828125 56.984375 36.375 \r\nQ 56.984375 17.96875 50.515625 8.265625 \r\nQ 44.046875 -1.421875 31.78125 -1.421875 \r\nQ 19.53125 -1.421875 13.0625 8.265625 \r\nQ 6.59375 17.96875 6.59375 36.375 \r\nQ 6.59375 54.828125 13.0625 64.515625 \r\nQ 19.53125 74.21875 31.78125 74.21875 \r\nz\r\n\" id=\"DejaVuSans-48\"/>\r\n       </defs>\r\n       <use xlink:href=\"#DejaVuSans-48\"/>\r\n      </g>\r\n     </g>\r\n    </g>\r\n    <g id=\"xtick_2\">\r\n     <g id=\"line2d_2\">\r\n      <g>\r\n       <use style=\"stroke:#000000;stroke-width:0.8;\" x=\"142.802373\" xlink:href=\"#m95fe72cd00\" y=\"224.64\"/>\r\n      </g>\r\n     </g>\r\n     <g id=\"text_2\">\r\n      <!-- 20 -->\r\n      <g transform=\"translate(136.439873 239.238437)scale(0.1 -0.1)\">\r\n       <defs>\r\n        <path d=\"M 19.1875 8.296875 \r\nL 53.609375 8.296875 \r\nL 53.609375 0 \r\nL 7.328125 0 \r\nL 7.328125 8.296875 \r\nQ 12.9375 14.109375 22.625 23.890625 \r\nQ 32.328125 33.6875 34.8125 36.53125 \r\nQ 39.546875 41.84375 41.421875 45.53125 \r\nQ 43.3125 49.21875 43.3125 52.78125 \r\nQ 43.3125 58.59375 39.234375 62.25 \r\nQ 35.15625 65.921875 28.609375 65.921875 \r\nQ 23.96875 65.921875 18.8125 64.3125 \r\nQ 13.671875 62.703125 7.8125 59.421875 \r\nL 7.8125 69.390625 \r\nQ 13.765625 71.78125 18.9375 73 \r\nQ 24.125 74.21875 28.421875 74.21875 \r\nQ 39.75 74.21875 46.484375 68.546875 \r\nQ 53.21875 62.890625 53.21875 53.421875 \r\nQ 53.21875 48.921875 51.53125 44.890625 \r\nQ 49.859375 40.875 45.40625 35.40625 \r\nQ 44.1875 33.984375 37.640625 27.21875 \r\nQ 31.109375 20.453125 19.1875 8.296875 \r\nz\r\n\" id=\"DejaVuSans-50\"/>\r\n       </defs>\r\n       <use xlink:href=\"#DejaVuSans-50\"/>\r\n       <use x=\"63.623047\" xlink:href=\"#DejaVuSans-48\"/>\r\n      </g>\r\n     </g>\r\n    </g>\r\n    <g id=\"xtick_3\">\r\n     <g id=\"line2d_3\">\r\n      <g>\r\n       <use style=\"stroke:#000000;stroke-width:0.8;\" x=\"222.187776\" xlink:href=\"#m95fe72cd00\" y=\"224.64\"/>\r\n      </g>\r\n     </g>\r\n     <g id=\"text_3\">\r\n      <!-- 40 -->\r\n      <g transform=\"translate(215.825276 239.238437)scale(0.1 -0.1)\">\r\n       <defs>\r\n        <path d=\"M 37.796875 64.3125 \r\nL 12.890625 25.390625 \r\nL 37.796875 25.390625 \r\nz\r\nM 35.203125 72.90625 \r\nL 47.609375 72.90625 \r\nL 47.609375 25.390625 \r\nL 58.015625 25.390625 \r\nL 58.015625 17.1875 \r\nL 47.609375 17.1875 \r\nL 47.609375 0 \r\nL 37.796875 0 \r\nL 37.796875 17.1875 \r\nL 4.890625 17.1875 \r\nL 4.890625 26.703125 \r\nz\r\n\" id=\"DejaVuSans-52\"/>\r\n       </defs>\r\n       <use xlink:href=\"#DejaVuSans-52\"/>\r\n       <use x=\"63.623047\" xlink:href=\"#DejaVuSans-48\"/>\r\n      </g>\r\n     </g>\r\n    </g>\r\n    <g id=\"xtick_4\">\r\n     <g id=\"line2d_4\">\r\n      <g>\r\n       <use style=\"stroke:#000000;stroke-width:0.8;\" x=\"301.573179\" xlink:href=\"#m95fe72cd00\" y=\"224.64\"/>\r\n      </g>\r\n     </g>\r\n     <g id=\"text_4\">\r\n      <!-- 60 -->\r\n      <g transform=\"translate(295.210679 239.238437)scale(0.1 -0.1)\">\r\n       <defs>\r\n        <path d=\"M 33.015625 40.375 \r\nQ 26.375 40.375 22.484375 35.828125 \r\nQ 18.609375 31.296875 18.609375 23.390625 \r\nQ 18.609375 15.53125 22.484375 10.953125 \r\nQ 26.375 6.390625 33.015625 6.390625 \r\nQ 39.65625 6.390625 43.53125 10.953125 \r\nQ 47.40625 15.53125 47.40625 23.390625 \r\nQ 47.40625 31.296875 43.53125 35.828125 \r\nQ 39.65625 40.375 33.015625 40.375 \r\nz\r\nM 52.59375 71.296875 \r\nL 52.59375 62.3125 \r\nQ 48.875 64.0625 45.09375 64.984375 \r\nQ 41.3125 65.921875 37.59375 65.921875 \r\nQ 27.828125 65.921875 22.671875 59.328125 \r\nQ 17.53125 52.734375 16.796875 39.40625 \r\nQ 19.671875 43.65625 24.015625 45.921875 \r\nQ 28.375 48.1875 33.59375 48.1875 \r\nQ 44.578125 48.1875 50.953125 41.515625 \r\nQ 57.328125 34.859375 57.328125 23.390625 \r\nQ 57.328125 12.15625 50.6875 5.359375 \r\nQ 44.046875 -1.421875 33.015625 -1.421875 \r\nQ 20.359375 -1.421875 13.671875 8.265625 \r\nQ 6.984375 17.96875 6.984375 36.375 \r\nQ 6.984375 53.65625 15.1875 63.9375 \r\nQ 23.390625 74.21875 37.203125 74.21875 \r\nQ 40.921875 74.21875 44.703125 73.484375 \r\nQ 48.484375 72.75 52.59375 71.296875 \r\nz\r\n\" id=\"DejaVuSans-54\"/>\r\n       </defs>\r\n       <use xlink:href=\"#DejaVuSans-54\"/>\r\n       <use x=\"63.623047\" xlink:href=\"#DejaVuSans-48\"/>\r\n      </g>\r\n     </g>\r\n    </g>\r\n    <g id=\"xtick_5\">\r\n     <g id=\"line2d_5\">\r\n      <g>\r\n       <use style=\"stroke:#000000;stroke-width:0.8;\" x=\"380.958583\" xlink:href=\"#m95fe72cd00\" y=\"224.64\"/>\r\n      </g>\r\n     </g>\r\n     <g id=\"text_5\">\r\n      <!-- 80 -->\r\n      <g transform=\"translate(374.596083 239.238437)scale(0.1 -0.1)\">\r\n       <defs>\r\n        <path d=\"M 31.78125 34.625 \r\nQ 24.75 34.625 20.71875 30.859375 \r\nQ 16.703125 27.09375 16.703125 20.515625 \r\nQ 16.703125 13.921875 20.71875 10.15625 \r\nQ 24.75 6.390625 31.78125 6.390625 \r\nQ 38.8125 6.390625 42.859375 10.171875 \r\nQ 46.921875 13.96875 46.921875 20.515625 \r\nQ 46.921875 27.09375 42.890625 30.859375 \r\nQ 38.875 34.625 31.78125 34.625 \r\nz\r\nM 21.921875 38.8125 \r\nQ 15.578125 40.375 12.03125 44.71875 \r\nQ 8.5 49.078125 8.5 55.328125 \r\nQ 8.5 64.0625 14.71875 69.140625 \r\nQ 20.953125 74.21875 31.78125 74.21875 \r\nQ 42.671875 74.21875 48.875 69.140625 \r\nQ 55.078125 64.0625 55.078125 55.328125 \r\nQ 55.078125 49.078125 51.53125 44.71875 \r\nQ 48 40.375 41.703125 38.8125 \r\nQ 48.828125 37.15625 52.796875 32.3125 \r\nQ 56.78125 27.484375 56.78125 20.515625 \r\nQ 56.78125 9.90625 50.3125 4.234375 \r\nQ 43.84375 -1.421875 31.78125 -1.421875 \r\nQ 19.734375 -1.421875 13.25 4.234375 \r\nQ 6.78125 9.90625 6.78125 20.515625 \r\nQ 6.78125 27.484375 10.78125 32.3125 \r\nQ 14.796875 37.15625 21.921875 38.8125 \r\nz\r\nM 18.3125 54.390625 \r\nQ 18.3125 48.734375 21.84375 45.5625 \r\nQ 25.390625 42.390625 31.78125 42.390625 \r\nQ 38.140625 42.390625 41.71875 45.5625 \r\nQ 45.3125 48.734375 45.3125 54.390625 \r\nQ 45.3125 60.0625 41.71875 63.234375 \r\nQ 38.140625 66.40625 31.78125 66.40625 \r\nQ 25.390625 66.40625 21.84375 63.234375 \r\nQ 18.3125 60.0625 18.3125 54.390625 \r\nz\r\n\" id=\"DejaVuSans-56\"/>\r\n       </defs>\r\n       <use xlink:href=\"#DejaVuSans-56\"/>\r\n       <use x=\"63.623047\" xlink:href=\"#DejaVuSans-48\"/>\r\n      </g>\r\n     </g>\r\n    </g>\r\n    <g id=\"xtick_6\">\r\n     <g id=\"line2d_6\">\r\n      <g>\r\n       <use style=\"stroke:#000000;stroke-width:0.8;\" x=\"460.343986\" xlink:href=\"#m95fe72cd00\" y=\"224.64\"/>\r\n      </g>\r\n     </g>\r\n     <g id=\"text_6\">\r\n      <!-- 100 -->\r\n      <g transform=\"translate(450.800236 239.238437)scale(0.1 -0.1)\">\r\n       <defs>\r\n        <path d=\"M 12.40625 8.296875 \r\nL 28.515625 8.296875 \r\nL 28.515625 63.921875 \r\nL 10.984375 60.40625 \r\nL 10.984375 69.390625 \r\nL 28.421875 72.90625 \r\nL 38.28125 72.90625 \r\nL 38.28125 8.296875 \r\nL 54.390625 8.296875 \r\nL 54.390625 0 \r\nL 12.40625 0 \r\nz\r\n\" id=\"DejaVuSans-49\"/>\r\n       </defs>\r\n       <use xlink:href=\"#DejaVuSans-49\"/>\r\n       <use x=\"63.623047\" xlink:href=\"#DejaVuSans-48\"/>\r\n       <use x=\"127.246094\" xlink:href=\"#DejaVuSans-48\"/>\r\n      </g>\r\n     </g>\r\n    </g>\r\n    <g id=\"xtick_7\">\r\n     <g id=\"line2d_7\">\r\n      <g>\r\n       <use style=\"stroke:#000000;stroke-width:0.8;\" x=\"539.729389\" xlink:href=\"#m95fe72cd00\" y=\"224.64\"/>\r\n      </g>\r\n     </g>\r\n     <g id=\"text_7\">\r\n      <!-- 120 -->\r\n      <g transform=\"translate(530.185639 239.238437)scale(0.1 -0.1)\">\r\n       <use xlink:href=\"#DejaVuSans-49\"/>\r\n       <use x=\"63.623047\" xlink:href=\"#DejaVuSans-50\"/>\r\n       <use x=\"127.246094\" xlink:href=\"#DejaVuSans-48\"/>\r\n      </g>\r\n     </g>\r\n    </g>\r\n   </g>\r\n   <g id=\"matplotlib.axis_2\">\r\n    <g id=\"ytick_1\">\r\n     <g id=\"line2d_8\">\r\n      <defs>\r\n       <path d=\"M 0 0 \r\nL -3.5 0 \r\n\" id=\"m735edec89d\" style=\"stroke:#000000;stroke-width:0.8;\"/>\r\n      </defs>\r\n      <g>\r\n       <use style=\"stroke:#000000;stroke-width:0.8;\" x=\"36.465625\" xlink:href=\"#m735edec89d\" y=\"224.64\"/>\r\n      </g>\r\n     </g>\r\n     <g id=\"text_8\">\r\n      <!-- 0.00 -->\r\n      <g transform=\"translate(7.2 228.439219)scale(0.1 -0.1)\">\r\n       <defs>\r\n        <path d=\"M 10.6875 12.40625 \r\nL 21 12.40625 \r\nL 21 0 \r\nL 10.6875 0 \r\nz\r\n\" id=\"DejaVuSans-46\"/>\r\n       </defs>\r\n       <use xlink:href=\"#DejaVuSans-48\"/>\r\n       <use x=\"63.623047\" xlink:href=\"#DejaVuSans-46\"/>\r\n       <use x=\"95.410156\" xlink:href=\"#DejaVuSans-48\"/>\r\n       <use x=\"159.033203\" xlink:href=\"#DejaVuSans-48\"/>\r\n      </g>\r\n     </g>\r\n    </g>\r\n    <g id=\"ytick_2\">\r\n     <g id=\"line2d_9\">\r\n      <g>\r\n       <use style=\"stroke:#000000;stroke-width:0.8;\" x=\"36.465625\" xlink:href=\"#m735edec89d\" y=\"197.085673\"/>\r\n      </g>\r\n     </g>\r\n     <g id=\"text_9\">\r\n      <!-- 0.05 -->\r\n      <g transform=\"translate(7.2 200.884892)scale(0.1 -0.1)\">\r\n       <defs>\r\n        <path d=\"M 10.796875 72.90625 \r\nL 49.515625 72.90625 \r\nL 49.515625 64.59375 \r\nL 19.828125 64.59375 \r\nL 19.828125 46.734375 \r\nQ 21.96875 47.46875 24.109375 47.828125 \r\nQ 26.265625 48.1875 28.421875 48.1875 \r\nQ 40.625 48.1875 47.75 41.5 \r\nQ 54.890625 34.8125 54.890625 23.390625 \r\nQ 54.890625 11.625 47.5625 5.09375 \r\nQ 40.234375 -1.421875 26.90625 -1.421875 \r\nQ 22.3125 -1.421875 17.546875 -0.640625 \r\nQ 12.796875 0.140625 7.71875 1.703125 \r\nL 7.71875 11.625 \r\nQ 12.109375 9.234375 16.796875 8.0625 \r\nQ 21.484375 6.890625 26.703125 6.890625 \r\nQ 35.15625 6.890625 40.078125 11.328125 \r\nQ 45.015625 15.765625 45.015625 23.390625 \r\nQ 45.015625 31 40.078125 35.4375 \r\nQ 35.15625 39.890625 26.703125 39.890625 \r\nQ 22.75 39.890625 18.8125 39.015625 \r\nQ 14.890625 38.140625 10.796875 36.28125 \r\nz\r\n\" id=\"DejaVuSans-53\"/>\r\n       </defs>\r\n       <use xlink:href=\"#DejaVuSans-48\"/>\r\n       <use x=\"63.623047\" xlink:href=\"#DejaVuSans-46\"/>\r\n       <use x=\"95.410156\" xlink:href=\"#DejaVuSans-48\"/>\r\n       <use x=\"159.033203\" xlink:href=\"#DejaVuSans-53\"/>\r\n      </g>\r\n     </g>\r\n    </g>\r\n    <g id=\"ytick_3\">\r\n     <g id=\"line2d_10\">\r\n      <g>\r\n       <use style=\"stroke:#000000;stroke-width:0.8;\" x=\"36.465625\" xlink:href=\"#m735edec89d\" y=\"169.531346\"/>\r\n      </g>\r\n     </g>\r\n     <g id=\"text_10\">\r\n      <!-- 0.10 -->\r\n      <g transform=\"translate(7.2 173.330565)scale(0.1 -0.1)\">\r\n       <use xlink:href=\"#DejaVuSans-48\"/>\r\n       <use x=\"63.623047\" xlink:href=\"#DejaVuSans-46\"/>\r\n       <use x=\"95.410156\" xlink:href=\"#DejaVuSans-49\"/>\r\n       <use x=\"159.033203\" xlink:href=\"#DejaVuSans-48\"/>\r\n      </g>\r\n     </g>\r\n    </g>\r\n    <g id=\"ytick_4\">\r\n     <g id=\"line2d_11\">\r\n      <g>\r\n       <use style=\"stroke:#000000;stroke-width:0.8;\" x=\"36.465625\" xlink:href=\"#m735edec89d\" y=\"141.97702\"/>\r\n      </g>\r\n     </g>\r\n     <g id=\"text_11\">\r\n      <!-- 0.15 -->\r\n      <g transform=\"translate(7.2 145.776238)scale(0.1 -0.1)\">\r\n       <use xlink:href=\"#DejaVuSans-48\"/>\r\n       <use x=\"63.623047\" xlink:href=\"#DejaVuSans-46\"/>\r\n       <use x=\"95.410156\" xlink:href=\"#DejaVuSans-49\"/>\r\n       <use x=\"159.033203\" xlink:href=\"#DejaVuSans-53\"/>\r\n      </g>\r\n     </g>\r\n    </g>\r\n    <g id=\"ytick_5\">\r\n     <g id=\"line2d_12\">\r\n      <g>\r\n       <use style=\"stroke:#000000;stroke-width:0.8;\" x=\"36.465625\" xlink:href=\"#m735edec89d\" y=\"114.422693\"/>\r\n      </g>\r\n     </g>\r\n     <g id=\"text_12\">\r\n      <!-- 0.20 -->\r\n      <g transform=\"translate(7.2 118.221912)scale(0.1 -0.1)\">\r\n       <use xlink:href=\"#DejaVuSans-48\"/>\r\n       <use x=\"63.623047\" xlink:href=\"#DejaVuSans-46\"/>\r\n       <use x=\"95.410156\" xlink:href=\"#DejaVuSans-50\"/>\r\n       <use x=\"159.033203\" xlink:href=\"#DejaVuSans-48\"/>\r\n      </g>\r\n     </g>\r\n    </g>\r\n    <g id=\"ytick_6\">\r\n     <g id=\"line2d_13\">\r\n      <g>\r\n       <use style=\"stroke:#000000;stroke-width:0.8;\" x=\"36.465625\" xlink:href=\"#m735edec89d\" y=\"86.868366\"/>\r\n      </g>\r\n     </g>\r\n     <g id=\"text_13\">\r\n      <!-- 0.25 -->\r\n      <g transform=\"translate(7.2 90.667585)scale(0.1 -0.1)\">\r\n       <use xlink:href=\"#DejaVuSans-48\"/>\r\n       <use x=\"63.623047\" xlink:href=\"#DejaVuSans-46\"/>\r\n       <use x=\"95.410156\" xlink:href=\"#DejaVuSans-50\"/>\r\n       <use x=\"159.033203\" xlink:href=\"#DejaVuSans-53\"/>\r\n      </g>\r\n     </g>\r\n    </g>\r\n    <g id=\"ytick_7\">\r\n     <g id=\"line2d_14\">\r\n      <g>\r\n       <use style=\"stroke:#000000;stroke-width:0.8;\" x=\"36.465625\" xlink:href=\"#m735edec89d\" y=\"59.314039\"/>\r\n      </g>\r\n     </g>\r\n     <g id=\"text_14\">\r\n      <!-- 0.30 -->\r\n      <g transform=\"translate(7.2 63.113258)scale(0.1 -0.1)\">\r\n       <defs>\r\n        <path d=\"M 40.578125 39.3125 \r\nQ 47.65625 37.796875 51.625 33 \r\nQ 55.609375 28.21875 55.609375 21.1875 \r\nQ 55.609375 10.40625 48.1875 4.484375 \r\nQ 40.765625 -1.421875 27.09375 -1.421875 \r\nQ 22.515625 -1.421875 17.65625 -0.515625 \r\nQ 12.796875 0.390625 7.625 2.203125 \r\nL 7.625 11.71875 \r\nQ 11.71875 9.328125 16.59375 8.109375 \r\nQ 21.484375 6.890625 26.8125 6.890625 \r\nQ 36.078125 6.890625 40.9375 10.546875 \r\nQ 45.796875 14.203125 45.796875 21.1875 \r\nQ 45.796875 27.640625 41.28125 31.265625 \r\nQ 36.765625 34.90625 28.71875 34.90625 \r\nL 20.21875 34.90625 \r\nL 20.21875 43.015625 \r\nL 29.109375 43.015625 \r\nQ 36.375 43.015625 40.234375 45.921875 \r\nQ 44.09375 48.828125 44.09375 54.296875 \r\nQ 44.09375 59.90625 40.109375 62.90625 \r\nQ 36.140625 65.921875 28.71875 65.921875 \r\nQ 24.65625 65.921875 20.015625 65.03125 \r\nQ 15.375 64.15625 9.8125 62.3125 \r\nL 9.8125 71.09375 \r\nQ 15.4375 72.65625 20.34375 73.4375 \r\nQ 25.25 74.21875 29.59375 74.21875 \r\nQ 40.828125 74.21875 47.359375 69.109375 \r\nQ 53.90625 64.015625 53.90625 55.328125 \r\nQ 53.90625 49.265625 50.4375 45.09375 \r\nQ 46.96875 40.921875 40.578125 39.3125 \r\nz\r\n\" id=\"DejaVuSans-51\"/>\r\n       </defs>\r\n       <use xlink:href=\"#DejaVuSans-48\"/>\r\n       <use x=\"63.623047\" xlink:href=\"#DejaVuSans-46\"/>\r\n       <use x=\"95.410156\" xlink:href=\"#DejaVuSans-51\"/>\r\n       <use x=\"159.033203\" xlink:href=\"#DejaVuSans-48\"/>\r\n      </g>\r\n     </g>\r\n    </g>\r\n    <g id=\"ytick_8\">\r\n     <g id=\"line2d_15\">\r\n      <g>\r\n       <use style=\"stroke:#000000;stroke-width:0.8;\" x=\"36.465625\" xlink:href=\"#m735edec89d\" y=\"31.759712\"/>\r\n      </g>\r\n     </g>\r\n     <g id=\"text_15\">\r\n      <!-- 0.35 -->\r\n      <g transform=\"translate(7.2 35.558931)scale(0.1 -0.1)\">\r\n       <use xlink:href=\"#DejaVuSans-48\"/>\r\n       <use x=\"63.623047\" xlink:href=\"#DejaVuSans-46\"/>\r\n       <use x=\"95.410156\" xlink:href=\"#DejaVuSans-51\"/>\r\n       <use x=\"159.033203\" xlink:href=\"#DejaVuSans-53\"/>\r\n      </g>\r\n     </g>\r\n    </g>\r\n   </g>\r\n   <g id=\"patch_131\">\r\n    <path d=\"M 36.465625 224.64 \r\nL 36.465625 7.2 \r\n\" style=\"fill:none;stroke:#000000;stroke-linecap:square;stroke-linejoin:miter;stroke-width:0.8;\"/>\r\n   </g>\r\n   <g id=\"patch_132\">\r\n    <path d=\"M 594.465625 224.64 \r\nL 594.465625 7.2 \r\n\" style=\"fill:none;stroke:#000000;stroke-linecap:square;stroke-linejoin:miter;stroke-width:0.8;\"/>\r\n   </g>\r\n   <g id=\"patch_133\">\r\n    <path d=\"M 36.465625 224.64 \r\nL 594.465625 224.64 \r\n\" style=\"fill:none;stroke:#000000;stroke-linecap:square;stroke-linejoin:miter;stroke-width:0.8;\"/>\r\n   </g>\r\n   <g id=\"patch_134\">\r\n    <path d=\"M 36.465625 7.2 \r\nL 594.465625 7.2 \r\n\" style=\"fill:none;stroke:#000000;stroke-linecap:square;stroke-linejoin:miter;stroke-width:0.8;\"/>\r\n   </g>\r\n  </g>\r\n </g>\r\n <defs>\r\n  <clipPath id=\"p9753e41822\">\r\n   <rect height=\"217.44\" width=\"558\" x=\"36.465625\" y=\"7.2\"/>\r\n  </clipPath>\r\n </defs>\r\n</svg>\r\n",
      "image/png": "[encoded data removed]"
     },
     "metadata": {
      "needs_background": "light"
     }
    }
   ],
   "source": [
    "import matplotlib.pyplot as plt\n",
    "fig, ax = plt.subplots(figsize=(10,4))\n",
    "ax.bar(range(0,len(visual_words[0])),visual_words[1])"
   ]
  },
  {
   "source": [
    "## Linear Kernel without scaler without normalization"
   ],
   "cell_type": "markdown",
   "metadata": {}
  },
  {
   "cell_type": "code",
   "execution_count": 8,
   "metadata": {},
   "outputs": [
    {
     "output_type": "stream",
     "name": "stdout",
     "text": [
      "Linear kernel without scaler without normalization accuracy: 67.9043018173453\n"
     ]
    }
   ],
   "source": [
    "start = time.process_time()\n",
    "\n",
    "lin_clf = svm.LinearSVC(max_iter=2000, C=10)\n",
    "lin_clf.fit(visual_words, train_labels)\n",
    "\n",
    "visual_words_test=np.zeros((len(test_images_filenames),k),dtype=np.float32)\n",
    "for i in range(len(test_images_filenames)):\n",
    "    filename=test_images_filenames[i]\n",
    "    ima=cv2.imread(filename)\n",
    "    gray=cv2.cvtColor(ima,cv2.COLOR_BGR2GRAY)\n",
    "    \n",
    "    des=compute_dense_sift(gray,SIFTdetector, step)\n",
    "    words=codebook.predict(des)\n",
    "    visual_words_test[i,:]=np.bincount(words,minlength=k).reshape(1,-1)\n",
    "\n",
    "scores = cross_val_score(lin_clf, visual_words_test, test_labels, cv=5)\n",
    "lin_accuracy_noNorm_noScaler=scores.mean()*100\n",
    "\n",
    "end = time.process_time()\n",
    "time_elapsed = end-start\n",
    "\n",
    "print(\"Linear kernel without scaler without normalization accuracy: {}\".format(lin_accuracy_noNorm_noScaler))"
   ]
  },
  {
   "cell_type": "markdown",
   "metadata": {},
   "source": [
    "## Linear Kernel without scaler with normalization (L1, L2, Max)"
   ]
  },
  {
   "cell_type": "code",
   "execution_count": 9,
   "metadata": {},
   "outputs": [
    {
     "output_type": "stream",
     "name": "stdout",
     "text": [
      "Linear kernel without scaler with normalization \n\tL1-norm accuracy: 76.82846407484088 \n\tL2-norm accuracy: 73.8539989264627 \n\tMax-norm accuracy: 71.25297139789893\n"
     ]
    }
   ],
   "source": [
    "start = time.process_time()\n",
    "\n",
    "lin_clf = svm.LinearSVC(max_iter=2000, C=10)\n",
    "lin_clf.fit(visual_words, train_labels)\n",
    "\n",
    "visual_words_test_L1=np.zeros((len(test_images_filenames),k),dtype=np.float32)\n",
    "visual_words_test_L2=np.zeros((len(test_images_filenames),k),dtype=np.float32)\n",
    "visual_words_test_Max=np.zeros((len(test_images_filenames),k),dtype=np.float32)\n",
    "\n",
    "for i in range(len(test_images_filenames)):\n",
    "    filename=test_images_filenames[i]\n",
    "    ima=cv2.imread(filename)\n",
    "    gray=cv2.cvtColor(ima,cv2.COLOR_BGR2GRAY)\n",
    "    \n",
    "    des=compute_dense_sift(gray,SIFTdetector, step)\n",
    "    words=codebook.predict(des)\n",
    "    visual_words_test_L1[i,:]=normalize(np.bincount(words,minlength=k).reshape(1,-1), norm='l1')\n",
    "    visual_words_test_L2[i,:]=normalize(np.bincount(words,minlength=k).reshape(1,-1), norm='l2')\n",
    "    visual_words_test_Max[i,:]=normalize(np.bincount(words,minlength=k).reshape(1,-1), norm='max')\n",
    "\n",
    "scores_L1 = cross_val_score(lin_clf, visual_words_test_L1, test_labels, cv=5)\n",
    "scores_L2 = cross_val_score(lin_clf, visual_words_test_L2, test_labels, cv=5)\n",
    "scores_Max = cross_val_score(lin_clf, visual_words_test_Max, test_labels, cv=5)\n",
    "\n",
    "lin_accuracy_L1norm_noScaler=scores_L1.mean()*100\n",
    "lin_accuracy_L2norm_noScaler=scores_L2.mean()*100\n",
    "lin_accuracy_Maxnorm_noScaler=scores_Max.mean()*100\n",
    "\n",
    "end = time.process_time()\n",
    "time_elapsed = end-start\n",
    "\n",
    "print(\"Linear kernel without scaler with normalization \\n\\tL1-norm accuracy: {} \\n\\tL2-norm accuracy: {} \\n\\tMax-norm accuracy: {}\".format(lin_accuracy_L1norm_noScaler, lin_accuracy_L2norm_noScaler, lin_accuracy_Maxnorm_noScaler))"
   ]
  },
  {
   "source": [
    "## Linear kernel with scaler with normalization (L1, L2, Max)"
   ],
   "cell_type": "markdown",
   "metadata": {}
  },
  {
   "cell_type": "code",
   "execution_count": 10,
   "metadata": {},
   "outputs": [
    {
     "output_type": "stream",
     "name": "stdout",
     "text": [
      "Linear kernel with scaler with normalization \n\tL1-norm accuracy: 71.37336093857833 \n\tL2-norm accuracy: 67.9043018173453 \n\tMax-norm accuracy: 67.9043018173453\n"
     ]
    }
   ],
   "source": [
    "start = time.process_time()\n",
    "\n",
    "scaler = StandardScaler()\n",
    "scaler.fit_transform(visual_words)\n",
    "\n",
    "lin_clf = svm.LinearSVC(max_iter=2000, C=10)\n",
    "lin_clf.fit(visual_words, train_labels)\n",
    "\n",
    "visual_words_test_L1=np.zeros((len(test_images_filenames),k),dtype=np.float32)\n",
    "visual_words_test_L2=np.zeros((len(test_images_filenames),k),dtype=np.float32)\n",
    "visual_words_test_Max=np.zeros((len(test_images_filenames),k),dtype=np.float32)\n",
    "\n",
    "for i in range(len(test_images_filenames)):\n",
    "    filename=test_images_filenames[i]\n",
    "    ima=cv2.imread(filename)\n",
    "    gray=cv2.cvtColor(ima,cv2.COLOR_BGR2GRAY)\n",
    "    \n",
    "    des=compute_dense_sift(gray,SIFTdetector, step)\n",
    "    words=codebook.predict(des)\n",
    "    visual_words_test_L1[i,:]=normalize(np.bincount(words,minlength=k).reshape(1,-1), norm='l1')\n",
    "    visual_words_test_L2[i,:]=normalize(np.bincount(words,minlength=k).reshape(1,-1), norm='l2')\n",
    "    visual_words_test_Max[i,:]=normalize(np.bincount(words,minlength=k).reshape(1,-1), norm='max')\n",
    "\n",
    "visual_words_test_L1=scaler.transform(visual_words_test_L1)\n",
    "visual_words_test_L2=scaler.transform(visual_words_test_L2)\n",
    "visual_words_test_Max=scaler.transform(visual_words_test_Max)\n",
    "\n",
    "\n",
    "scores_L1 = cross_val_score(lin_clf, visual_words_test_L1, test_labels, cv=5)\n",
    "scores_L2 = cross_val_score(lin_clf, visual_words_test_L2, test_labels, cv=5)\n",
    "scores_Max = cross_val_score(lin_clf, visual_words_test_Max, test_labels, cv=5)\n",
    "\n",
    "\n",
    "lin_accuracy_L1norm_scaler=scores_L1.mean()*100\n",
    "lin_accuracy_L2norm_scaler=scores.mean()*100\n",
    "lin_accuracy_Maxnorm_scaler=scores.mean()*100\n",
    "\n",
    "\n",
    "end = time.process_time()\n",
    "time_elapsed = end-start\n",
    "\n",
    "\n",
    "print(\"Linear kernel with scaler with normalization \\n\\tL1-norm accuracy: {} \\n\\tL2-norm accuracy: {} \\n\\tMax-norm accuracy: {}\".format(lin_accuracy_L1norm_scaler, lin_accuracy_L2norm_scaler, lin_accuracy_Maxnorm_scaler))"
   ]
  },
  {
   "source": [
    "## Linear kernel with scaler without normalization\n"
   ],
   "cell_type": "markdown",
   "metadata": {}
  },
  {
   "cell_type": "code",
   "execution_count": 11,
   "metadata": {},
   "outputs": [
    {
     "output_type": "stream",
     "name": "stdout",
     "text": [
      "Linear kernel with scaler without normalization accuracy: 67.65662142473737\n"
     ]
    }
   ],
   "source": [
    "start = time.process_time()\n",
    "\n",
    "scaler = StandardScaler()\n",
    "scaler.fit_transform(visual_words)\n",
    "\n",
    "lin_clf = svm.LinearSVC(max_iter=2000, C=10)\n",
    "lin_clf.fit(visual_words, train_labels)\n",
    "\n",
    "visual_words_test=np.zeros((len(test_images_filenames),k),dtype=np.float32)\n",
    "for i in range(len(test_images_filenames)):\n",
    "    filename=test_images_filenames[i]\n",
    "    ima=cv2.imread(filename)\n",
    "    gray=cv2.cvtColor(ima,cv2.COLOR_BGR2GRAY)\n",
    "    \n",
    "    des=compute_dense_sift(gray,SIFTdetector, step)\n",
    "    words=codebook.predict(des)\n",
    "    visual_words_test[i,:]=np.bincount(words,minlength=k).reshape(1,-1)\n",
    "\n",
    "visual_words_test=scaler.transform(visual_words_test)\n",
    "scores = cross_val_score(lin_clf, visual_words_test, test_labels, cv=5)\n",
    "lin_accuracy_noNorm_scaler=scores.mean()*100\n",
    "\n",
    "\n",
    "end = time.process_time()\n",
    "time_elapsed = end-start\n",
    "\n",
    "print(\"Linear kernel with scaler without normalization accuracy: {}\".format(lin_accuracy_noNorm_scaler))"
   ]
  },
  {
   "source": [
    "## RBF Kernel without scaler without normalization"
   ],
   "cell_type": "markdown",
   "metadata": {}
  },
  {
   "cell_type": "code",
   "execution_count": 12,
   "metadata": {},
   "outputs": [
    {
     "output_type": "stream",
     "name": "stdout",
     "text": [
      "RBF kernel without scaler with normalization accuracy: 14.621578099838967\n"
     ]
    }
   ],
   "source": [
    "start = time.process_time()\n",
    "\n",
    "rbf_svc = svm.SVC(kernel='rbf', C=1000, gamma=0.001)\n",
    "rbf_svc.fit(visual_words, train_labels)\n",
    "\n",
    "visual_words_test=np.zeros((len(test_images_filenames),k),dtype=np.float32)\n",
    "for i in range(len(test_images_filenames)):\n",
    "    filename=test_images_filenames[i]\n",
    "    ima=cv2.imread(filename)\n",
    "    gray=cv2.cvtColor(ima,cv2.COLOR_BGR2GRAY)\n",
    "    \n",
    "    des=compute_dense_sift(gray,SIFTdetector, step)\n",
    "    words=codebook.predict(des)\n",
    "    visual_words_test[i,:]=np.bincount(words,minlength=k).reshape(1,-1)\n",
    "\n",
    "scores = cross_val_score(rbf_svc, visual_words_test, test_labels, cv=5)\n",
    "\n",
    "rbf_accuracy_noNorm_noScaler=scores.mean()*100\n",
    "\n",
    "end = time.process_time()\n",
    "time_elapsed = end-start\n",
    "\n",
    "print(\"RBF kernel without scaler with normalization accuracy: {}\".format(rbf_accuracy_noNorm_noScaler))"
   ]
  },
  {
   "source": [
    "## RBF Kernel without scaler with normalization (L1, L2, max)"
   ],
   "cell_type": "markdown",
   "metadata": {}
  },
  {
   "cell_type": "code",
   "execution_count": 13,
   "metadata": {},
   "outputs": [
    {
     "output_type": "stream",
     "name": "stdout",
     "text": [
      "RBF kernel without scaler with normalization \n\tL1-norm accuracy: 76.82846407484088 \n\tL2-norm accuracy: 14.621578099838967 \n\tMax-norm accuracy: 14.621578099838967\n"
     ]
    }
   ],
   "source": [
    "start = time.process_time()\n",
    "\n",
    "rbf_svc = svm.SVC(kernel='rbf', C=1000, gamma=0.001)\n",
    "rbf_svc.fit(visual_words, train_labels)\n",
    "\n",
    "\n",
    "visual_words_test_L1=np.zeros((len(test_images_filenames),k),dtype=np.float32)\n",
    "visual_words_test_L2=np.zeros((len(test_images_filenames),k),dtype=np.float32)\n",
    "visual_words_test_Max=np.zeros((len(test_images_filenames),k),dtype=np.float32)\n",
    "\n",
    "\n",
    "for i in range(len(test_images_filenames)):\n",
    "    filename=test_images_filenames[i]\n",
    "    ima=cv2.imread(filename)\n",
    "    gray=cv2.cvtColor(ima,cv2.COLOR_BGR2GRAY)\n",
    "\n",
    "    des=compute_dense_sift(gray,SIFTdetector, step)\n",
    "    words=codebook.predict(des)\n",
    "    visual_words_test_L1[i,:]=normalize(np.bincount(words,minlength=k).reshape(1,-1), norm='l1')\n",
    "    visual_words_test_L2[i,:]=normalize(np.bincount(words,minlength=k).reshape(1,-1), norm='l2')\n",
    "    visual_words_test_Max[i,:]=normalize(np.bincount(words,minlength=k).reshape(1,-1), norm='max')\n",
    "\n",
    "scores_L1 = cross_val_score(lin_clf, visual_words_test_L1, test_labels, cv=5)\n",
    "scores_L2 = cross_val_score(lin_clf, visual_words_test_L2, test_labels, cv=5)\n",
    "scores_Max = cross_val_score(lin_clf, visual_words_test_Max, test_labels, cv=5)\n",
    "\n",
    "\n",
    "rbf_accuracy_L1norm_noScaler=scores_L1.mean()*100\n",
    "rbf_accuracy_L2norm_noScaler=scores.mean()*100\n",
    "rbf_accuracy_Maxnorm_noScaler=scores.mean()*100\n",
    "\n",
    "\n",
    "end = time.process_time()\n",
    "time_elapsed = end-start\n",
    "\n",
    "print(\"RBF kernel without scaler with normalization \\n\\tL1-norm accuracy: {} \\n\\tL2-norm accuracy: {} \\n\\tMax-norm accuracy: {}\".format(rbf_accuracy_L1norm_noScaler, rbf_accuracy_L2norm_noScaler, rbf_accuracy_Maxnorm_noScaler))\n"
   ]
  },
  {
   "cell_type": "markdown",
   "metadata": {},
   "source": [
    "## RBF Kernel with scaler with normalization (L1, L2, Max)"
   ]
  },
  {
   "cell_type": "code",
   "execution_count": 14,
   "metadata": {},
   "outputs": [
    {
     "output_type": "stream",
     "name": "stdout",
     "text": [
      "RBF kernel with scaler with normalization \n\tL1-norm accuracy: 72.11793574112416 \n\tL2-norm accuracy: 14.621578099838967 \n\tMax-norm accuracy: 14.621578099838967\n"
     ]
    }
   ],
   "source": [
    "start = time.process_time()\n",
    "\n",
    "scaler = StandardScaler()\n",
    "scaler.fit_transform(visual_words)\n",
    "\n",
    "rbf_svc = svm.SVC(kernel='rbf', C=1000, gamma=0.001)\n",
    "rbf_svc.fit(visual_words, train_labels)\n",
    "\n",
    "\n",
    "visual_words_test_L1=np.zeros((len(test_images_filenames),k),dtype=np.float32)\n",
    "visual_words_test_L2=np.zeros((len(test_images_filenames),k),dtype=np.float32)\n",
    "visual_words_test_Max=np.zeros((len(test_images_filenames),k),dtype=np.float32)\n",
    "\n",
    "\n",
    "for i in range(len(test_images_filenames)):\n",
    "    filename=test_images_filenames[i]\n",
    "    ima=cv2.imread(filename)\n",
    "    gray=cv2.cvtColor(ima,cv2.COLOR_BGR2GRAY)\n",
    "\n",
    "    des=compute_dense_sift(gray,SIFTdetector, step)\n",
    "    words=codebook.predict(des)\n",
    "    visual_words_test_L1[i,:]=normalize(np.bincount(words,minlength=k).reshape(1,-1), norm='l1')\n",
    "    visual_words_test_L2[i,:]=normalize(np.bincount(words,minlength=k).reshape(1,-1), norm='l2')\n",
    "    visual_words_test_Max[i,:]=normalize(np.bincount(words,minlength=k).reshape(1,-1), norm='max')\n",
    "\n",
    "visual_words_test_L1=scaler.transform(visual_words_test_L1)\n",
    "visual_words_test_L2=scaler.transform(visual_words_test_L2)\n",
    "visual_words_test_Max=scaler.transform(visual_words_test_Max)\n",
    "\n",
    "scores_L1 = cross_val_score(lin_clf, visual_words_test_L1, test_labels, cv=5)\n",
    "scores_L2 = cross_val_score(lin_clf, visual_words_test_L2, test_labels, cv=5)\n",
    "scores_Max = cross_val_score(lin_clf, visual_words_test_Max, test_labels, cv=5)\n",
    "\n",
    "\n",
    "rbf_accuracy_L1norm_scaler=scores_L1.mean()*100\n",
    "rbf_accuracy_L2norm_scaler=scores.mean()*100\n",
    "rbf_accuracy_Maxnorm_scaler=scores.mean()*100\n",
    "\n",
    "\n",
    "end = time.process_time()\n",
    "time_elapsed = end-start\n",
    "\n",
    "print(\"RBF kernel with scaler with normalization \\n\\tL1-norm accuracy: {} \\n\\tL2-norm accuracy: {} \\n\\tMax-norm accuracy: {}\".format(rbf_accuracy_L1norm_scaler, rbf_accuracy_L2norm_scaler, rbf_accuracy_Maxnorm_scaler))\n"
   ]
  },
  {
   "source": [
    "## RBF Kernel with scaler without normalization"
   ],
   "cell_type": "markdown",
   "metadata": {}
  },
  {
   "cell_type": "code",
   "execution_count": 15,
   "metadata": {},
   "outputs": [
    {
     "output_type": "stream",
     "name": "stdout",
     "text": [
      "RBF kernel without scaler with normalization accuracy: 14.621578099838967 Time elapsed: 150.09375 seconds\n"
     ]
    }
   ],
   "source": [
    "start = time.process_time()\n",
    "\n",
    "scaler = StandardScaler()\n",
    "scaler.fit_transform(visual_words)\n",
    "\n",
    "rbf_svc = svm.SVC(kernel='rbf', C=1000, gamma=0.001)\n",
    "rbf_svc.fit(visual_words, train_labels)\n",
    "\n",
    "visual_words_test=np.zeros((len(test_images_filenames),k),dtype=np.float32)\n",
    "for i in range(len(test_images_filenames)):\n",
    "    filename=test_images_filenames[i]\n",
    "    ima=cv2.imread(filename)\n",
    "    gray=cv2.cvtColor(ima,cv2.COLOR_BGR2GRAY)\n",
    "    \n",
    "    des=compute_dense_sift(gray,SIFTdetector, step)\n",
    "    words=codebook.predict(des)\n",
    "    visual_words_test[i,:]=np.bincount(words,minlength=k).reshape(1,-1)\n",
    "\n",
    "visual_words_test=scaler.transform(visual_words_test)\n",
    "\n",
    "scores = cross_val_score(rbf_svc, visual_words_test, test_labels, cv=5)\n",
    "\n",
    "rbf_accuracy_noNorm_noScaler=scores.mean()*100\n",
    "\n",
    "end = time.process_time()\n",
    "time_elapsed = end-start\n",
    "\n",
    "print(\"RBF kernel without scaler with normalization accuracy: {}\".format(rbf_accuracy_noNorm_noScaler))"
   ]
  },
  {
   "cell_type": "code",
   "execution_count": null,
   "metadata": {},
   "outputs": [],
   "source": []
  },
  {
   "cell_type": "code",
   "execution_count": null,
   "metadata": {},
   "outputs": [],
   "source": []
  },
  {
   "cell_type": "code",
   "execution_count": null,
   "metadata": {},
   "outputs": [],
   "source": []
  },
  {
   "cell_type": "code",
   "execution_count": null,
   "metadata": {},
   "outputs": [],
   "source": []
  },
  {
   "cell_type": "code",
   "execution_count": null,
   "metadata": {},
   "outputs": [],
   "source": []
  },
  {
   "cell_type": "code",
   "execution_count": null,
   "metadata": {},
   "outputs": [],
   "source": []
  },
  {
   "cell_type": "code",
   "execution_count": null,
   "metadata": {},
   "outputs": [],
   "source": []
  },
  {
   "cell_type": "code",
   "execution_count": null,
   "metadata": {},
   "outputs": [],
   "source": []
  },
  {
   "cell_type": "code",
   "execution_count": null,
   "metadata": {},
   "outputs": [],
   "source": []
  },
  {
   "cell_type": "code",
   "execution_count": null,
   "metadata": {},
   "outputs": [],
   "source": []
  },
  {
   "cell_type": "code",
   "execution_count": null,
   "metadata": {},
   "outputs": [],
   "source": []
  },
  {
   "cell_type": "code",
   "execution_count": null,
   "metadata": {},
   "outputs": [],
   "source": [
    "def get_pyramid_image_cells(image,level):\n",
    "    # CURRENTLY WORKING ONLY FOR LEVELS 0,1,2 (1,4, and 16 cells)\n",
    "    M = (image.shape[0])//(level+1)\n",
    "    N = (image.shape[1])//(level+1)\n",
    "    tiles = [image[x:x+M,y:y+N] for x in range(0,image.shape[0],M) for y in range(0,image.shape[1],N)]\n",
    "#     print(image.shape)\n",
    "#     print(\"level=\", level)\n",
    "#     print(\"returning \" + str(len(tiles)) + \" tiles\")\n",
    "    return tiles\n",
    "\n",
    "\n",
    "'''\n",
    "for filename,labels in zip(train_images_filenames,train_labels):\n",
    "    ima=cv2.imread(filename)\n",
    "    gray=cv2.cvtColor(ima,cv2.COLOR_BGR2GRAY)\n",
    "    break\n",
    "\n",
    "tiles = get_pyramid_image_cells(gray,2)\n",
    "'''"
   ]
  },
  {
   "cell_type": "markdown",
   "metadata": {},
   "source": [
    "## Calculating a histogram per cell and concatenating them\n",
    "Compute a histogram for each part of the image and put these histograms together in a weighted concatenation \n",
    "(since there will be less words overall in a smaller cell).\n",
    "The weighted concatenation can be a simple normalization of every histogram so the area of the histogram adds up to 1.\n",
    "A pyramid of l levels will yield in 2^(2l) histograms n_words = k*(1+2**(2*pyramid_levels)).\n",
    "the final image histogram is a concatenated vector  of  the  bin  values  of  all  the  histograms in  the  pyramid.\n",
    "concatenation method used in:\n",
    "http://lear.imag.fr/pub/203-bosch-civr07.pdf\n",
    "https://core.ac.uk/download/pdf/82695491.pdf\n",
    "\n",
    "TODO: Initialisation of concatenated_histogram. "
   ]
  },
  {
   "cell_type": "code",
   "execution_count": null,
   "metadata": {},
   "outputs": [],
   "source": [
    "step=5\n",
    "\n",
    "today = datetime.now()\n",
    "dt_string = today.strftime(\"%H:%M:%S\")\n",
    "print(f\"{dt_string} started doing step={step}\")\n",
    "\n",
    "Train_descriptors = []\n",
    "Train_label_per_descriptor = []\n",
    "pyramid_levels = 2 # level zero has 1 tile, level 1 has 4 tiles => 5 histograms that will be concatenated\n",
    "for filename,labels in zip(train_images_filenames,train_labels):\n",
    "    ima=cv2.imread(filename)\n",
    "    gray=cv2.cvtColor(ima,cv2.COLOR_BGR2GRAY)\n",
    "    # break the image into pieces\n",
    "    image_cells = []\n",
    "    for i in range(pyramid_levels+1):\n",
    "\n",
    "        level_cells = get_pyramid_image_cells(gray,level=i)\n",
    "        image_cells = image_cells + level_cells\n",
    "        # compute descriptors for each tile\n",
    "    Train_descriptors_cell = []\n",
    "    for cell in image_cells:\n",
    "        des=compute_dense_sift(cell,SIFTdetector, step)\n",
    "        Train_descriptors_cell.append(des)\n",
    "    \n",
    "    Train_descriptors.append(Train_descriptors_cell)\n",
    "    Train_label_per_descriptor.append(labels)\n",
    "    break\n",
    "    \n",
    "today = datetime.now()\n",
    "dt_string = today.strftime(\"%H:%M:%S\")\n",
    "print(f\"{dt_string} started doing step={step}\")"
   ]
  },
  {
   "cell_type": "code",
   "execution_count": null,
   "metadata": {},
   "outputs": [],
   "source": [
    "len(Train_descriptors[0])"
   ]
  },
  {
   "cell_type": "code",
   "execution_count": null,
   "metadata": {},
   "outputs": [],
   "source": [
    "len(Train_descriptors[0][0])"
   ]
  },
  {
   "cell_type": "code",
   "execution_count": null,
   "metadata": {},
   "outputs": [],
   "source": [
    "len(Train_descriptors[0][0][0])"
   ]
  },
  {
   "cell_type": "code",
   "execution_count": null,
   "metadata": {},
   "outputs": [],
   "source": [
    "Train_descriptors[0][0][0]"
   ]
  },
  {
   "cell_type": "code",
   "execution_count": null,
   "metadata": {},
   "outputs": [],
   "source": [
    "# train all cells as separate images\n",
    "D=np.vstack([des for descriptors_cells in Train_descriptors for des in descriptors_cells])"
   ]
  },
  {
   "cell_type": "code",
   "execution_count": null,
   "metadata": {},
   "outputs": [],
   "source": [
    "D.shape"
   ]
  },
  {
   "cell_type": "code",
   "execution_count": null,
   "metadata": {},
   "outputs": [],
   "source": [
    "k=128\n",
    "codebook = MiniBatchKMeans(n_clusters=k, verbose=False, batch_size=k * 20,compute_labels=False,reassignment_ratio=10**-4,random_state=42)\n",
    "codebook.fit(D)"
   ]
  },
  {
   "cell_type": "code",
   "execution_count": null,
   "metadata": {},
   "outputs": [],
   "source": [
    "print(k*(1+2**(2*pyramid_levels)))"
   ]
  },
  {
   "cell_type": "code",
   "execution_count": null,
   "metadata": {},
   "outputs": [],
   "source": [
    "len(Train_descriptors[0][0])"
   ]
  },
  {
   "cell_type": "code",
   "execution_count": null,
   "metadata": {},
   "outputs": [],
   "source": [
    "visual_words=np.zeros((len(Train_descriptors),k*(1+2**(2*pyramid_levels))),dtype=np.float32)\n",
    "for idx,cells in enumerate(Train_descriptors):\n",
    "\n",
    "    image_histograms = []\n",
    "    for id2,image_cell in enumerate(cells):\n",
    "        cell_words = codebook.predict(image_cell)\n",
    "        image_histograms.append(normalize(np.bincount(cell_words,minlength=k).reshape(1,-1)))\n",
    "        # concatenated histogram has k*(1+2**(2*pyramid_levels)) bins\n",
    "        # normalize(np.bincount(words,minlength=k).reshape(1,-1))\n",
    "\n",
    "    concatenated_histogram=image_histograms[0].copy()\n",
    "    for cell_idx in range(1,len(image_histograms)):\n",
    "        # concatenate histograms\n",
    "        concatenated_histogram = np.concatenate((concatenated_histogram,image_histograms[cell_idx]))\n",
    "    visual_words[idx,:]=concatenated_histogram.flatten()\n",
    "    \n",
    "    #visual_words[idx,:]=np.bincount(words,minlength=k*(2**(2*pyramid_levels))) # this will just be longer as levels \n",
    "                                                                                # increase \n",
    "                                                                                # see: k*(2**(2*pyramid_levels)) long\n",
    "\n",
    "# knn = KNeighborsClassifier(n_neighbors=37,n_jobs=-1,metric='manhattan')\n",
    "# knn.fit(visual_words, train_labels) "
   ]
  },
  {
   "cell_type": "code",
   "execution_count": null,
   "metadata": {},
   "outputs": [],
   "source": []
  },
  {
   "cell_type": "code",
   "execution_count": null,
   "metadata": {
    "scrolled": true
   },
   "outputs": [],
   "source": []
  },
  {
   "cell_type": "code",
   "execution_count": null,
   "metadata": {},
   "outputs": [],
   "source": [
    "visual_words[0,:].shape"
   ]
  },
  {
   "cell_type": "markdown",
   "metadata": {},
   "source": [
    "TRAINED Visual Words tryin further worked until now"
   ]
  },
  {
   "cell_type": "code",
   "execution_count": null,
   "metadata": {},
   "outputs": [],
   "source": [
    "from sklearn.preprocessing import StandardScaler\n",
    "scaler = StandardScaler()\n",
    "scaler.fit_transform(visual_words)"
   ]
  },
  {
   "cell_type": "code",
   "execution_count": null,
   "metadata": {},
   "outputs": [],
   "source": [
    "lin_clf = svm.LinearSVC(max_iter=2000,C=10)\n",
    "lin_clf.fit(visual_words, train_labels)"
   ]
  },
  {
   "cell_type": "code",
   "execution_count": null,
   "metadata": {},
   "outputs": [],
   "source": [
    "rbf_svc = svm.SVC(kernel='rbf',C=1000,gamma=0.001)\n",
    "rbf_svc.fit(visual_words, train_labels)"
   ]
  },
  {
   "cell_type": "code",
   "execution_count": null,
   "metadata": {},
   "outputs": [],
   "source": [
    "visual_words[1].shape"
   ]
  },
  {
   "cell_type": "code",
   "execution_count": null,
   "metadata": {},
   "outputs": [],
   "source": [
    "inter_svc = svm.SVC(kernel=intersection_kernel_cmp)\n",
    "inter_svc.fit(visual_words,train_labels)"
   ]
  },
  {
   "cell_type": "code",
   "execution_count": null,
   "metadata": {},
   "outputs": [],
   "source": [
    "today = datetime.now()\n",
    "dt_string = today.strftime(\"%H:%M:%S\")\n",
    "print(f\"{dt_string} started doing step={step}\")\n",
    "\n",
    "Test_descriptors = []\n",
    "Test_label_per_descriptor = []\n",
    "pyramid_levels = 1 # level zero has 1 tile, level 1 has 4 tiles => 5 histograms that will be concatenated\n",
    "for filename,labels in zip(test_images_filenames,test_labels):\n",
    "    ima=cv2.imread(filename)\n",
    "    gray=cv2.cvtColor(ima,cv2.COLOR_BGR2GRAY)\n",
    "    # break the image into pieces\n",
    "    image_cells = []\n",
    "    for i in range(pyramid_levels+1):\n",
    "\n",
    "        level_cells = get_pyramid_image_cells(gray,level=i)\n",
    "        image_cells = image_cells + level_cells\n",
    "        # compute descriptors for each tile\n",
    "    Test_descriptors_cell = []\n",
    "    for cell in image_cells:\n",
    "        des=compute_dense_sift(cell,SIFTdetector, step)\n",
    "        Test_descriptors_cell.append(des)\n",
    "        \n",
    "    Test_descriptors.append(Test_descriptors_cell)\n",
    "    Test_label_per_descriptor.append(labels)"
   ]
  },
  {
   "cell_type": "code",
   "execution_count": null,
   "metadata": {},
   "outputs": [],
   "source": [
    "visual_words_test=np.zeros((len(Test_descriptors),k*(1+2**(2*pyramid_levels))),dtype=np.float32)\n",
    "for idx,cells in enumerate(Test_descriptors):\n",
    "\n",
    "    image_histograms = []\n",
    "    for id2,image_cell in enumerate(cells):\n",
    "        cell_words = codebook.predict(image_cell)\n",
    "        image_histograms.append(normalize(np.bincount(cell_words,minlength=k).reshape(1,-1)))\n",
    "        # concatenated histogram has k*(1+2**(2*pyramid_levels)) bins\n",
    "        # normalize(np.bincount(words,minlength=k).reshape(1,-1))\n",
    "\n",
    "    concatenated_histogram=image_histograms[0].copy()\n",
    "    for cell_idx in range(1,len(image_histograms)):\n",
    "        # concatenate histograms\n",
    "        concatenated_histogram = np.concatenate((concatenated_histogram,image_histograms[cell_idx]))\n",
    "    visual_words_test[idx,:]=concatenated_histogram.flatten()"
   ]
  },
  {
   "cell_type": "code",
   "execution_count": null,
   "metadata": {},
   "outputs": [],
   "source": [
    "visual_words_test=scaler.transform(visual_words_test)\n",
    "scores = cross_val_score(lin_clf, visual_words_test, test_labels, cv=5)\n",
    "accuracy=scores.mean()*100\n",
    "\n",
    "print(accuracy)"
   ]
  },
  {
   "cell_type": "code",
   "execution_count": null,
   "metadata": {},
   "outputs": [],
   "source": [
    "# visual_words_test=scaler.transform(visual_words_test)\n",
    "scores = cross_val_score(rbf_svc, visual_words_test, test_labels, cv=5)\n",
    "accuracy=scores.mean()*100\n",
    "\n",
    "print(accuracy)"
   ]
  },
  {
   "cell_type": "markdown",
   "metadata": {},
   "source": [
    "## creating kernel for intersection of histograms"
   ]
  },
  {
   "cell_type": "code",
   "execution_count": null,
   "metadata": {},
   "outputs": [],
   "source": [
    "def intersection_kernel_cmp(X, Y):\n",
    "    return cv2.compareHist(X, Y, method=cv2.HISTCMP_INTERSECT)\n",
    "\n",
    "# clf = svm.SVC(kernel=my_kernel)"
   ]
  },
  {
   "cell_type": "code",
   "execution_count": null,
   "metadata": {},
   "outputs": [],
   "source": [
    "intersection_kernel_cmp(visual_words[0],visual_words[1])"
   ]
  },
  {
   "cell_type": "code",
   "execution_count": null,
   "metadata": {},
   "outputs": [],
   "source": [
    "import warnings\n",
    "warnings.filterwarnings('ignore')"
   ]
  },
  {
   "cell_type": "markdown",
   "metadata": {},
   "source": [
    "## GridSearchCV cross validation finding best parameters for RBF and Linear"
   ]
  },
  {
   "cell_type": "code",
   "execution_count": null,
   "metadata": {
    "scrolled": true
   },
   "outputs": [],
   "source": [
    "# Set the parameters by cross-validation\n",
    "tuned_parameters = [{'kernel': ['rbf'], 'gamma': [1e-3, 1e-4],\n",
    "                     'C': [1, 10, 100, 1000]},\n",
    "                    {'kernel': ['linear'], 'C': [1, 10, 100, 1000]}]\n",
    "\n",
    "scores = ['precision_macro', 'recall_macro','accuracy']\n",
    "\n",
    "today = datetime.now()\n",
    "dt_string = today.strftime(\"%H:%M:%S\")\n",
    "print(f\"{dt_string} started doing step={step}\")\n",
    "\n",
    "data_results=[]\n",
    "\n",
    "for score in scores:\n",
    "    print(\"# Tuning hyper-parameters for %s\" % score)\n",
    "    print()\n",
    "\n",
    "    clf = GridSearchCV(\n",
    "        SVC(), tuned_parameters, scoring=score\n",
    "    )\n",
    "    clf.fit(visual_words, train_labels)\n",
    "\n",
    "    print(\"Best parameters set found on development set:\")\n",
    "    print()\n",
    "    print(clf.best_params_)\n",
    "    print()\n",
    "    print(\"Grid scores on development set:\")\n",
    "    print()\n",
    "    means = clf.cv_results_['mean_test_score']\n",
    "    stds = clf.cv_results_['std_test_score']\n",
    "    for mean, std, params in zip(means, stds, clf.cv_results_['params']):\n",
    "        c=params['C']\n",
    "        ker=params['kernel']\n",
    "        if ker=='rbf': \n",
    "            gamma=params['gamma']\n",
    "        else: gamma=None\n",
    "            \n",
    "        data_results.append([mean,std,c,gamma,ker,score])\n",
    "        \n",
    "        print(\"%0.3f (+/-%0.03f) for %r\"\n",
    "              % (mean, std * 2, params))\n",
    "    print()\n",
    "\n",
    "#     print(\"Detailed classification report:\")\n",
    "#     print()\n",
    "#     print(\"The model is trained on the full development set.\")\n",
    "#     print(\"The scores are computed on the full evaluation set.\")\n",
    "#     print()\n",
    "#     y_true, y_pred = y_test, clf.predict(X_test)\n",
    "#     print(classification_report(y_true, y_pred))\n",
    "#     print()\n",
    "\n",
    "today = datetime.now()\n",
    "dt_string = today.strftime(\"%H:%M:%S\")\n",
    "print(f\"{dt_string} started doing step={step}\")"
   ]
  },
  {
   "cell_type": "code",
   "execution_count": null,
   "metadata": {},
   "outputs": [],
   "source": [
    "df=pd.DataFrame(data_results, columns=['mean_val','std_val','c','gamma','ker','score'])"
   ]
  },
  {
   "cell_type": "code",
   "execution_count": null,
   "metadata": {},
   "outputs": [],
   "source": [
    "from sklearn import metrics\n",
    "# sorted(metrics.SCORERS.keys())"
   ]
  },
  {
   "cell_type": "code",
   "execution_count": null,
   "metadata": {},
   "outputs": [],
   "source": [
    "with open('GridSearchCV_rbf_linear_params.pkl','wb') as f:\n",
    "    cPickle.dump(df,f)"
   ]
  },
  {
   "cell_type": "code",
   "execution_count": null,
   "metadata": {},
   "outputs": [],
   "source": []
  },
  {
   "cell_type": "code",
   "execution_count": null,
   "metadata": {
    "scrolled": true
   },
   "outputs": [],
   "source": []
  },
  {
   "cell_type": "code",
   "execution_count": null,
   "metadata": {},
   "outputs": [],
   "source": []
  },
  {
   "cell_type": "code",
   "execution_count": null,
   "metadata": {},
   "outputs": [],
   "source": [
    "fig, ax = plt.subplots(figsize=(10,8))\n",
    "ax.set(title='Accuracy vs C', xlim=(0,1200), ylim=(0,1))\n",
    "df2=df[df.score=='accuracy']\n",
    "df2_rbf=df2[(df2.ker=='rbf')]\n",
    "df2_linear=df2[(df2.ker=='linear')]\n",
    "print(\"max for rbf\\n\",df2_rbf[df2_rbf.mean_val==df2_rbf.mean_val.max()])\n",
    "print(\"max for linear\\n\",df2_linear.loc[df2_linear.mean_val==df2_linear.mean_val.max()])\n",
    "# print(df2[df2.recall==df2.recall.max()])\n",
    "\n",
    "ax.plot(df2_linear.c, df2_linear.mean_val, 'ro', label='linear')\n",
    "ax.plot(df2_rbf.c, df2_rbf.mean_val, 'go', label='rbf')\n",
    "ax.legend()\n",
    "\n",
    "max_val = max(df2.mean_val)\n",
    "max_idx = df2.c[df2.mean_val.idxmax()]\n",
    "# ax.annotate(\"Max {:.2f}\".format(max_val), xy=(max_idx, max_val),\n",
    "#            weight='bold', size=14)\n",
    "\n",
    "# arrowprops is a mpl.patches.FancyArrowPatch\n",
    "_ = ax.annotate(\"Max accuracy {:.2f}\".format(max_val), xy=(max_idx, max_val),\n",
    "                weight='bold', size=14, \n",
    "                xytext=(.5, .9),\n",
    "                textcoords='axes fraction',\n",
    "                family='comic sans ms',\n",
    "                arrowprops={})"
   ]
  },
  {
   "cell_type": "markdown",
   "metadata": {},
   "source": [
    "## My Analysis for different DENSE"
   ]
  },
  {
   "cell_type": "code",
   "execution_count": null,
   "metadata": {},
   "outputs": [],
   "source": [
    "def calculate_vis(step):\n",
    "    step=step\n",
    "\n",
    "    today = datetime.now()\n",
    "    dt_string = today.strftime(\"%H:%M:%S\")\n",
    "    print(f\"{dt_string} started doing step={step}\")\n",
    "\n",
    "    Train_descriptors = []\n",
    "    Train_label_per_descriptor = []\n",
    "\n",
    "    for filename,labels in zip(train_images_filenames,train_labels):\n",
    "        ima=cv2.imread(filename)\n",
    "        gray=cv2.cvtColor(ima,cv2.COLOR_BGR2GRAY)\n",
    "    #     kpt,des=SIFTdetector.detectAndCompute(gray,None)\n",
    "        des=compute_dense_sift(gray,SIFTdetector, step)\n",
    "        Train_descriptors.append(des)\n",
    "        Train_label_per_descriptor.append(labels)\n",
    "\n",
    "    D=np.vstack(Train_descriptors)\n",
    "\n",
    "    k=128\n",
    "    codebook = MiniBatchKMeans(n_clusters=k, verbose=False, batch_size=k * 20,compute_labels=False,reassignment_ratio=10**-4,random_state=42)\n",
    "    codebook.fit(D)\n",
    "\n",
    "    visual_words=np.zeros((len(Train_descriptors),k),dtype=np.float32)\n",
    "    for i in range(len(Train_descriptors)):\n",
    "        words=codebook.predict(Train_descriptors[i])\n",
    "        visual_words[i,:]=normalize(np.bincount(words,minlength=k).reshape(1,-1))\n",
    "\n",
    "    # knn = KNeighborsClassifier(n_neighbors=37,n_jobs=-1,metric='manhattan')\n",
    "    # knn.fit(visual_words, train_labels)\n",
    "\n",
    "    today = datetime.now()\n",
    "    dt_string = today.strftime(\"%H:%M:%S\")\n",
    "    print(f\"{dt_string} started doing step={step}\")\n",
    "    \n",
    "    scaler = StandardScaler()\n",
    "    scaler.fit_transform(visual_words)\n",
    "    \n",
    "    lin_clf = svm.LinearSVC(max_iter=2000, C=10)\n",
    "    lin_clf.fit(visual_words, train_labels)\n",
    "    \n",
    "    rbf_svc = svm.SVC(kernel='rbf', C=1000, gamma=0.001)\n",
    "    rbf_svc.fit(visual_words, train_labels)\n",
    "\n",
    "    visual_words_test=np.zeros((len(test_images_filenames),k),dtype=np.float32)\n",
    "    for i in range(len(test_images_filenames)):\n",
    "        filename=test_images_filenames[i]\n",
    "        ima=cv2.imread(filename)\n",
    "        gray=cv2.cvtColor(ima,cv2.COLOR_BGR2GRAY)\n",
    "    #     kpt,des=SIFTdetector.detectAndCompute(gray,None)\n",
    "        des=compute_dense_sift(gray,SIFTdetector, step)\n",
    "        words=codebook.predict(des)\n",
    "        visual_words_test[i,:]=normalize(np.bincount(words,minlength=k).reshape(1,-1))\n",
    "\n",
    "    visual_words_test=scaler.transform(visual_words_test)\n",
    "    \n",
    "    scores = cross_val_score(lin_clf, visual_words_test, test_labels, cv=5)\n",
    "    accuracy_linear=scores.mean()*100\n",
    "\n",
    "    print(\"linear=\",accuracy_linear)\n",
    "\n",
    "    scores = cross_val_score(rbf_svc, visual_words_test, test_labels, cv=5)\n",
    "    accuracy_rbf=scores.mean()*100\n",
    "\n",
    "    print(\"rbf=\",accuracy_rbf)\n",
    "    \n",
    "    return accuracy_linear,accuracy_rbf\n"
   ]
  },
  {
   "cell_type": "code",
   "execution_count": null,
   "metadata": {},
   "outputs": [],
   "source": [
    "data_results_step =[]\n",
    "steps_to_do=[5,20,50,100,300,500]\n",
    "for step in steps_to_do:\n",
    "    accuracy_linear,accuracy_rbf=calculate_vis(step)\n",
    "    data_results_step.append([step,accuracy_linear,accuracy_rbf,1,1])\n",
    "    \n",
    "df=pd.DataFrame(data_results_step, columns=['step','accuracy_linear','accuracy_rbf','normalized','scaler'])    "
   ]
  },
  {
   "cell_type": "code",
   "execution_count": null,
   "metadata": {},
   "outputs": [],
   "source": [
    "fig, ax = plt.subplots(figsize=(10,8))\n",
    "ax.set(title='Accuracy vs steps', xlim=(0,1200), ylim=(0,100))\n",
    "df2=df\n",
    "y_rbf=df2.accuracy_rbf\n",
    "y_lin=df2.accuracy_linear\n",
    "print(\"max for rbf\\n\",df2[df2.accuracy_rbf==df2.accuracy_rbf.max()])\n",
    "print(\"max for linear\\n\",df2[df2.accuracy_linear==df2.accuracy_linear.max()])\n",
    "# print(df2[df2.recall==df2.recall.max()])\n",
    "\n",
    "ax.plot(df2.step, y_lin, 'r', label='linear')\n",
    "ax.plot(df2.step, y_rbf, 'g', label='rbf')\n",
    "plt.xlabel('step in dense')\n",
    "plt.ylabel('accuracy')\n",
    "ax.legend()"
   ]
  },
  {
   "cell_type": "code",
   "execution_count": null,
   "metadata": {},
   "outputs": [],
   "source": [
    "df"
   ]
  },
  {
   "cell_type": "code",
   "execution_count": null,
   "metadata": {},
   "outputs": [],
   "source": [
    "with open('Different_densities_analysis.pkl','wb') as f:\n",
    "    cPickle.dump(df,f)"
   ]
  },
  {
   "cell_type": "markdown",
   "metadata": {},
   "source": [
    "## My Analysis on Pyramid level"
   ]
  },
  {
   "cell_type": "code",
   "execution_count": null,
   "metadata": {},
   "outputs": [],
   "source": [
    "def create_pyramid_levels(pyramid):\n",
    "    step=5\n",
    "\n",
    "    today = datetime.now()\n",
    "    dt_string = today.strftime(\"%H:%M:%S\")\n",
    "    print(f\"{dt_string} started doing step={pyramid}\")\n",
    "\n",
    "    Train_descriptors = []\n",
    "    Train_label_per_descriptor = []\n",
    "    pyramid_levels = pyramid # level zero has 1 tile, level 1 has 4 tiles => 5 histograms that will be concatenated\n",
    "\n",
    "    for filename,labels in zip(train_images_filenames,train_labels):\n",
    "        ima=cv2.imread(filename)\n",
    "        gray=cv2.cvtColor(ima,cv2.COLOR_BGR2GRAY)\n",
    "        # break the image into pieces\n",
    "        image_cells = []\n",
    "        for i in range(pyramid_levels+1):\n",
    "\n",
    "            level_cells = get_pyramid_image_cells(gray,level=i)\n",
    "            image_cells = image_cells + level_cells\n",
    "            # compute descriptors for each tile\n",
    "        Train_descriptors_cell = []\n",
    "        for cell in image_cells:\n",
    "            des=compute_dense_sift(cell,SIFTdetector, step)\n",
    "            Train_descriptors_cell.append(des)\n",
    "\n",
    "        Train_descriptors.append(Train_descriptors_cell)\n",
    "        Train_label_per_descriptor.append(labels)\n",
    "\n",
    "    D=np.vstack([des for descriptors_cells in Train_descriptors for des in descriptors_cells])\n",
    "\n",
    "    #codebook\n",
    "\n",
    "    k=128\n",
    "    codebook = MiniBatchKMeans(n_clusters=k, verbose=False, batch_size=k * 20,compute_labels=False,reassignment_ratio=10**-4,random_state=42)\n",
    "    codebook.fit(D)\n",
    "\n",
    "    #creating visual words for Training\n",
    "\n",
    "    visual_words=np.zeros((len(Train_descriptors),k*21),dtype=np.float32)\n",
    "    for idx,cells in enumerate(Train_descriptors):\n",
    "\n",
    "        image_histograms = []\n",
    "        for id2,image_cell in enumerate(cells):\n",
    "            cell_words = codebook.predict(image_cell)\n",
    "            image_histograms.append(normalize(np.bincount(cell_words,minlength=k).reshape(1,-1)))\n",
    "            # concatenated histogram has k*(1+2**(2*pyramid_levels)) bins\n",
    "            # normalize(np.bincount(words,minlength=k).reshape(1,-1))\n",
    "\n",
    "        concatenated_histogram=image_histograms[0].copy()\n",
    "        for cell_idx in range(1,len(image_histograms)):\n",
    "            # concatenate histograms\n",
    "            concatenated_histogram = np.concatenate((concatenated_histogram,image_histograms[cell_idx]))\n",
    "        visual_words[idx,:]=concatenated_histogram.flatten()\n",
    "        \n",
    "    #PCA\n",
    "    pca = PCA(n_components=127)\n",
    "    VWpca = pca.fit_transform(visual_words)\n",
    "\n",
    "    #SVN kernels\n",
    "\n",
    "    scaler = StandardScaler()\n",
    "    scaler.fit_transform(VWpca)\n",
    "\n",
    "    lin_clf = svm.LinearSVC(max_iter=2000, C=10)\n",
    "    lin_clf.fit(VWpca, train_labels)\n",
    "\n",
    "    rbf_svc = svm.SVC(kernel='rbf', C=1000, gamma=0.001)\n",
    "    rbf_svc.fit(VWpca, train_labels)\n",
    "\n",
    "    today = datetime.now()\n",
    "    dt_string = today.strftime(\"%H:%M:%S\")\n",
    "    print(f\"{dt_string} started doing test step={pyramid}\")\n",
    "\n",
    "    #creating SIFT descriptor\n",
    "\n",
    "    Test_descriptors = []\n",
    "    Test_label_per_descriptor = []\n",
    "    # pyramid_levels = 1 # level zero has 1 tile, level 1 has 4 tiles => 5 histograms that will be concatenated\n",
    "    for filename,labels in zip(test_images_filenames,test_labels):\n",
    "        ima=cv2.imread(filename)\n",
    "        gray=cv2.cvtColor(ima,cv2.COLOR_BGR2GRAY)\n",
    "        # break the image into pieces\n",
    "        image_cells = []\n",
    "        for i in range(pyramid_levels+1):\n",
    "\n",
    "            level_cells = get_pyramid_image_cells(gray,level=i)\n",
    "            image_cells = image_cells + level_cells\n",
    "            # compute descriptors for each tile\n",
    "        Test_descriptors_cell = []\n",
    "        for cell in image_cells:\n",
    "            des=compute_dense_sift(cell,SIFTdetector, step)\n",
    "            Test_descriptors_cell.append(des)\n",
    "\n",
    "        Test_descriptors.append(Test_descriptors_cell)\n",
    "        Test_label_per_descriptor.append(labels)\n",
    "\n",
    "    #creating visual tests\n",
    "\n",
    "    visual_words_test=np.zeros((len(Test_descriptors),k*21),dtype=np.float32)\n",
    "    for idx,cells in enumerate(Test_descriptors):\n",
    "\n",
    "        image_histograms = []\n",
    "        for id2,image_cell in enumerate(cells):\n",
    "            cell_words = codebook.predict(image_cell)\n",
    "            image_histograms.append(normalize(np.bincount(cell_words,minlength=k).reshape(1,-1)))\n",
    "            # concatenated histogram has k*(1+2**(2*pyramid_levels)) bins\n",
    "            # normalize(np.bincount(words,minlength=k).reshape(1,-1))\n",
    "\n",
    "        concatenated_histogram=image_histograms[0].copy()\n",
    "        for cell_idx in range(1,len(image_histograms)):\n",
    "            # concatenate histograms\n",
    "            concatenated_histogram = np.concatenate((concatenated_histogram,image_histograms[cell_idx]))\n",
    "        visual_words_test[idx,:]=concatenated_histogram.flatten()\n",
    "\n",
    "\n",
    "    #scaler test\n",
    "    visual_words_test=scaler.transform(visual_words_test)\n",
    "    \n",
    "    #PCA\n",
    "    vwtestpca = pca.transform(visual_words_test)\n",
    "\n",
    "    #accuracy for test linear\n",
    "#     scores = cross_val_score(lin_clf, visual_words_test, test_labels, cv=5)\n",
    "    scores = cross_val_score(lin_clf, vwtestpca, test_labels, cv=5)\n",
    "    accuracy_linear=scores.mean()*100\n",
    "\n",
    "    print(\"linear=\",accuracy_linear)\n",
    "\n",
    "\n",
    "    #accuracy for test rbf\n",
    "    scores = cross_val_score(rbf_svc, visual_words_test, test_labels, cv=5)\n",
    "    accuracy_rbf=scores.mean()*100\n",
    "\n",
    "    print(\"rbf=\",accuracy_rbf)\n",
    "\n",
    "    return accuracy_linear,accuracy_rbf"
   ]
  },
  {
   "cell_type": "code",
   "execution_count": null,
   "metadata": {},
   "outputs": [],
   "source": [
    "piramid=[2]\n",
    "data_pyramid_levels=[]\n",
    "for level in piramid:\n",
    "    accuracy_linear,accuracy_rbf=create_pyramid_levels(level)\n",
    "    data_pyramid_levels.append([level,5,accuracy_linear,accuracy_rbf,1,1])\n",
    "\n",
    "df_level=pd.DataFrame(data_pyramid_levels, columns=['level','step','accuracy_linear','accuracy_rbf','normalized','scaler'])    "
   ]
  },
  {
   "cell_type": "code",
   "execution_count": null,
   "metadata": {},
   "outputs": [],
   "source": [
    "df_level"
   ]
  },
  {
   "cell_type": "code",
   "execution_count": null,
   "metadata": {},
   "outputs": [],
   "source": [
    "with open('Different_pyramid_level_2.pkl','wb') as f:\n",
    "    cPickle.dump(df_level,f)"
   ]
  },
  {
   "cell_type": "code",
   "execution_count": null,
   "metadata": {},
   "outputs": [],
   "source": []
  }
 ],
 "metadata": {
  "kernelspec": {
   "name": "python3",
   "display_name": "Python 3.9.1 64-bit",
   "metadata": {
    "interpreter": {
     "hash": "da3dd0f921edccdc943f3be988bbfaa87992f338b5b6b26bfad62cc12513f174"
    }
   }
  },
  "language_info": {
   "codemirror_mode": {
    "name": "ipython",
    "version": 3
   },
   "file_extension": ".py",
   "mimetype": "text/x-python",
   "name": "python",
   "nbconvert_exporter": "python",
   "pygments_lexer": "ipython3",
   "version": "3.9.1-final"
  }
 },
 "nbformat": 4,
 "nbformat_minor": 4
}