{
 "cells": [
  {
   "cell_type": "code",
   "execution_count": 8,
   "metadata": {},
   "outputs": [],
   "source": [
    "import cv2\n",
    "import numpy as np\n",
    "import pandas as pd\n",
    "import pickle as cPickle\n",
    "from matplotlib import pyplot as plt\n",
    "from sklearn.cluster import MiniBatchKMeans\n",
    "from sklearn.neighbors import KNeighborsClassifier\n",
    "from sklearn.decomposition import PCA\n",
    "from sklearn.discriminant_analysis import LinearDiscriminantAnalysis\n",
    "from sklearn.model_selection import cross_val_score\n",
    "from sklearn.metrics import precision_score,confusion_matrix,multilabel_confusion_matrix,recall_score\n",
    "from sklearn.preprocessing import normalize\n",
    "from sklearn import svm\n",
    "from datetime import datetime\n",
    "from sklearn.model_selection import GridSearchCV\n",
    "from sklearn.metrics import classification_report\n",
    "from sklearn.svm import SVC\n",
    "from sklearn.preprocessing import StandardScaler"
   ]
  },
  {
   "cell_type": "code",
   "execution_count": 9,
   "metadata": {},
   "outputs": [],
   "source": [
    "train_images_filenames = cPickle.load(open('resources/train_images_filenames.dat','rb'))\n",
    "test_images_filenames = cPickle.load(open('resources/test_images_filenames.dat','rb'))\n",
    "train_labels = cPickle.load(open('resources/train_labels.dat','rb'))\n",
    "test_labels = cPickle.load(open('resources/test_labels.dat','rb'))"
   ]
  },
  {
   "cell_type": "code",
   "execution_count": 10,
   "metadata": {},
   "outputs": [],
   "source": [
    "import warnings\n",
    "warnings.filterwarnings('ignore')"
   ]
  },
  {
   "cell_type": "code",
   "execution_count": 11,
   "metadata": {},
   "outputs": [],
   "source": [
    "SIFTdetector = cv2.SIFT_create(nfeatures=300)"
   ]
  },
  {
   "cell_type": "code",
   "execution_count": 12,
   "metadata": {},
   "outputs": [],
   "source": [
    "def compute_dense_sift(gray,sift,step):\n",
    "    step_size = step\n",
    "    kp = [cv2.KeyPoint(x, y, step_size) for y in range(0, gray.shape[0], step_size) \n",
    "                                        for x in range(0, gray.shape[1], step_size)]\n",
    "    dense_feat = sift.compute(gray, kp)\n",
    "    dense_feat_des = dense_feat[1]\n",
    "    return dense_feat_des"
   ]
  },
  {
   "cell_type": "code",
   "execution_count": null,
   "metadata": {},
   "outputs": [],
   "source": [
    "step=5\n",
    "\n",
    "today = datetime.now()\n",
    "dt_string = today.strftime(\"%H:%M:%S\")\n",
    "print(f\"{dt_string} started doing step={step}\")\n",
    "\n",
    "Train_descriptors = []\n",
    "Train_label_per_descriptor = []\n",
    "\n",
    "for filename,labels in zip(train_images_filenames,train_labels):\n",
    "    ima=cv2.imread(filename)\n",
    "    gray=cv2.cvtColor(ima,cv2.COLOR_BGR2GRAY)\n",
    "#     kpt,des=SIFTdetector.detectAndCompute(gray,None)\n",
    "    des=compute_dense_sift(gray,SIFTdetector, step)\n",
    "    Train_descriptors.append(des)\n",
    "    Train_label_per_descriptor.append(labels)\n",
    "\n",
    "D=np.vstack(Train_descriptors)\n",
    "\n",
    "k=128\n",
    "codebook = MiniBatchKMeans(n_clusters=k, verbose=False, batch_size=k * 20,compute_labels=False,reassignment_ratio=10**-4,random_state=42)\n",
    "codebook.fit(D)\n",
    "\n",
    "visual_words=np.zeros((len(Train_descriptors),k),dtype=np.float32)\n",
    "for i in range(len(Train_descriptors)):\n",
    "    words=codebook.predict(Train_descriptors[i])\n",
    "    visual_words[i,:]=normalize(np.bincount(words,minlength=k).reshape(1,-1))\n",
    "\n",
    "# knn = KNeighborsClassifier(n_neighbors=37,n_jobs=-1,metric='manhattan')\n",
    "# knn.fit(visual_words, train_labels)\n",
    "\n",
    "today = datetime.now()\n",
    "dt_string = today.strftime(\"%H:%M:%S\")\n",
    "print(f\"{dt_string} started doing step={step}\")\n"
   ]
  },
  {
   "cell_type": "code",
   "execution_count": null,
   "metadata": {},
   "outputs": [],
   "source": []
  },
  {
   "cell_type": "code",
   "execution_count": null,
   "metadata": {},
   "outputs": [],
   "source": []
  },
  {
   "cell_type": "code",
   "execution_count": null,
   "metadata": {},
   "outputs": [],
   "source": []
  },
  {
   "cell_type": "code",
   "execution_count": null,
   "metadata": {},
   "outputs": [],
   "source": []
  },
  {
   "cell_type": "code",
   "execution_count": null,
   "metadata": {},
   "outputs": [],
   "source": []
  },
  {
   "cell_type": "code",
   "execution_count": null,
   "metadata": {},
   "outputs": [],
   "source": [
    "import matplotlib.pyplot as plt\n",
    "fig, ax = plt.subplots(figsize=(10,4))\n",
    "ax.bar(range(0,len(visual_words[0])),visual_words[1])"
   ]
  },
  {
   "cell_type": "code",
   "execution_count": null,
   "metadata": {},
   "outputs": [],
   "source": []
  },
  {
   "cell_type": "code",
   "execution_count": null,
   "metadata": {},
   "outputs": [],
   "source": []
  },
  {
   "cell_type": "code",
   "execution_count": null,
   "metadata": {},
   "outputs": [],
   "source": []
  },
  {
   "cell_type": "code",
   "execution_count": null,
   "metadata": {},
   "outputs": [],
   "source": [
    "scaler = StandardScaler()\n",
    "scaler.fit_transform(visual_words)"
   ]
  },
  {
   "cell_type": "markdown",
   "metadata": {},
   "source": [
    "## Linear Kernel with scaler"
   ]
  },
  {
   "cell_type": "code",
   "execution_count": null,
   "metadata": {},
   "outputs": [],
   "source": [
    "lin_clf = svm.LinearSVC(max_iter=2000, C=10)\n",
    "lin_clf.fit(visual_words, train_labels)\n",
    "\n",
    "visual_words_test=np.zeros((len(test_images_filenames),k),dtype=np.float32)\n",
    "for i in range(len(test_images_filenames)):\n",
    "    filename=test_images_filenames[i]\n",
    "    ima=cv2.imread(filename)\n",
    "    gray=cv2.cvtColor(ima,cv2.COLOR_BGR2GRAY)\n",
    "#     kpt,des=SIFTdetector.detectAndCompute(gray,None)\n",
    "    des=compute_dense_sift(gray,SIFTdetector, step)\n",
    "    words=codebook.predict(des)\n",
    "    visual_words_test[i,:]=normalize(np.bincount(words,minlength=k).reshape(1,-1))\n",
    "\n",
    "visual_words_test=scaler.transform(visual_words_test)\n",
    "scores = cross_val_score(lin_clf, visual_words_test, test_labels, cv=5)\n",
    "accuracy=scores.mean()*100\n",
    "\n",
    "print(accuracy)"
   ]
  },
  {
   "cell_type": "markdown",
   "metadata": {},
   "source": [
    "## RBF Kernel with scaler"
   ]
  },
  {
   "cell_type": "code",
   "execution_count": null,
   "metadata": {},
   "outputs": [],
   "source": [
    "rbf_svc = svm.SVC(kernel='rbf', C=1000, gamma=0.001)\n",
    "rbf_svc.fit(visual_words, train_labels)\n",
    "\n",
    "visual_words_test=np.zeros((len(test_images_filenames),k),dtype=np.float32)\n",
    "for i in range(len(test_images_filenames)):\n",
    "    filename=test_images_filenames[i]\n",
    "    ima=cv2.imread(filename)\n",
    "    gray=cv2.cvtColor(ima,cv2.COLOR_BGR2GRAY)\n",
    "#     kpt,des=SIFTdetector.detectAndCompute(gray,None)\n",
    "    des=compute_dense_sift(gray,SIFTdetector, step)\n",
    "    words=codebook.predict(des)\n",
    "    visual_words_test[i,:]=normalize(np.bincount(words,minlength=k).reshape(1,-1))\n",
    "\n",
    "visual_words_test=scaler.transform(visual_words_test)\n",
    "scores = cross_val_score(rbf_svc, visual_words_test, test_labels, cv=5)\n",
    "\n",
    "accuracy=scores.mean()*100\n",
    "\n",
    "print(accuracy)"
   ]
  },
  {
   "cell_type": "code",
   "execution_count": 28,
   "metadata": {},
   "outputs": [
    {
     "data": {
      "text/plain": [
       "'\\nfor filename,labels in zip(train_images_filenames,train_labels):\\n    ima=cv2.imread(filename)\\n    gray=cv2.cvtColor(ima,cv2.COLOR_BGR2GRAY)\\n    break\\n\\ntiles = get_pyramid_image_cells(gray,2)\\n'"
      ]
     },
     "execution_count": 28,
     "metadata": {},
     "output_type": "execute_result"
    }
   ],
   "source": [
    "def get_pyramid_image_cells(image,level):\n",
    "    # CURRENTLY WORKING ONLY FOR LEVELS 0,1,2 (1,4, and 16 cells)\n",
    "    M = (image.shape[0])//(level+1)\n",
    "    N = (image.shape[1])//(level+1)\n",
    "    tiles = [image[x:x+M,y:y+N] for x in range(0,image.shape[0],M) for y in range(0,image.shape[1],N)]\n",
    "#     print(image.shape)\n",
    "#     print(\"level=\", level)\n",
    "#     print(\"returning \" + str(len(tiles)) + \" tiles\")\n",
    "    return tiles\n",
    "\n",
    "\n",
    "'''\n",
    "for filename,labels in zip(train_images_filenames,train_labels):\n",
    "    ima=cv2.imread(filename)\n",
    "    gray=cv2.cvtColor(ima,cv2.COLOR_BGR2GRAY)\n",
    "    break\n",
    "\n",
    "tiles = get_pyramid_image_cells(gray,2)\n",
    "'''"
   ]
  },
  {
   "cell_type": "markdown",
   "metadata": {},
   "source": [
    "## Calculating a histogram per cell and concatenating them\n",
    "Compute a histogram for each part of the image and put these histograms together in a weighted concatenation \n",
    "(since there will be less words overall in a smaller cell).\n",
    "The weighted concatenation can be a simple normalization of every histogram so the area of the histogram adds up to 1.\n",
    "A pyramid of l levels will yield in 2^(2l) histograms n_words = k*(1+2**(2*pyramid_levels)).\n",
    "the final image histogram is a concatenated vector  of  the  bin  values  of  all  the  histograms in  the  pyramid.\n",
    "concatenation method used in:\n",
    "http://lear.imag.fr/pub/203-bosch-civr07.pdf\n",
    "https://core.ac.uk/download/pdf/82695491.pdf\n",
    "\n",
    "TODO: Initialisation of concatenated_histogram. "
   ]
  },
  {
   "cell_type": "code",
   "execution_count": 46,
   "metadata": {},
   "outputs": [
    {
     "name": "stdout",
     "output_type": "stream",
     "text": [
      "19:20:54 started doing step=5\n",
      "(256, 256)\n",
      "level= 0\n",
      "returning 1 tiles\n",
      "(256, 256)\n",
      "level= 1\n",
      "returning 4 tiles\n",
      "(256, 256)\n",
      "level= 2\n",
      "returning 16 tiles\n",
      "19:21:09 started doing step=5\n"
     ]
    }
   ],
   "source": [
    "step=5\n",
    "\n",
    "today = datetime.now()\n",
    "dt_string = today.strftime(\"%H:%M:%S\")\n",
    "print(f\"{dt_string} started doing step={step}\")\n",
    "\n",
    "Train_descriptors = []\n",
    "Train_label_per_descriptor = []\n",
    "pyramid_levels = 2 # level zero has 1 tile, level 1 has 4 tiles => 5 histograms that will be concatenated\n",
    "for filename,labels in zip(train_images_filenames,train_labels):\n",
    "    ima=cv2.imread(filename)\n",
    "    gray=cv2.cvtColor(ima,cv2.COLOR_BGR2GRAY)\n",
    "    # break the image into pieces\n",
    "    image_cells = []\n",
    "    for i in range(pyramid_levels+1):\n",
    "\n",
    "        level_cells = get_pyramid_image_cells(gray,level=i)\n",
    "        image_cells = image_cells + level_cells\n",
    "        # compute descriptors for each tile\n",
    "    Train_descriptors_cell = []\n",
    "    for cell in image_cells:\n",
    "        des=compute_dense_sift(cell,SIFTdetector, step)\n",
    "        Train_descriptors_cell.append(des)\n",
    "    \n",
    "    Train_descriptors.append(Train_descriptors_cell)\n",
    "    Train_label_per_descriptor.append(labels)\n",
    "    break\n",
    "    \n",
    "today = datetime.now()\n",
    "dt_string = today.strftime(\"%H:%M:%S\")\n",
    "print(f\"{dt_string} started doing step={step}\")"
   ]
  },
  {
   "cell_type": "code",
   "execution_count": 41,
   "metadata": {},
   "outputs": [
    {
     "data": {
      "text/plain": [
       "21"
      ]
     },
     "execution_count": 41,
     "metadata": {},
     "output_type": "execute_result"
    }
   ],
   "source": [
    "len(Train_descriptors[0])"
   ]
  },
  {
   "cell_type": "code",
   "execution_count": 42,
   "metadata": {},
   "outputs": [
    {
     "data": {
      "text/plain": [
       "2704"
      ]
     },
     "execution_count": 42,
     "metadata": {},
     "output_type": "execute_result"
    }
   ],
   "source": [
    "len(Train_descriptors[0][0])"
   ]
  },
  {
   "cell_type": "code",
   "execution_count": 43,
   "metadata": {},
   "outputs": [
    {
     "data": {
      "text/plain": [
       "128"
      ]
     },
     "execution_count": 43,
     "metadata": {},
     "output_type": "execute_result"
    }
   ],
   "source": [
    "len(Train_descriptors[0][0][0])"
   ]
  },
  {
   "cell_type": "code",
   "execution_count": 44,
   "metadata": {},
   "outputs": [
    {
     "data": {
      "text/plain": [
       "array([  0.,   0.,   0.,   0.,   0.,   0.,   0.,   0.,   0.,   0.,   0.,\n",
       "         0.,   0.,   0.,   0.,   0.,   0.,   0.,   0.,   0.,   0.,   0.,\n",
       "         0.,   0.,   0.,   0.,   0.,   0.,   0.,   0.,   0.,   0.,   0.,\n",
       "         0.,   0.,   0.,   0.,   0.,   0.,   0.,   0.,   0.,   1.,   2.,\n",
       "         0.,   0.,   0.,   0.,   2.,   2.,   4.,  26.,   4.,   0.,   0.,\n",
       "         0.,  26.,   5.,   3.,   5.,   0.,   0.,   0.,   8.,   0.,   0.,\n",
       "         0.,   0.,   0.,   0.,   0.,   0.,   0.,   0.,  57.,  31.,   1.,\n",
       "         0.,   0.,   0.,  96.,  82., 156., 156.,   8.,   0.,   0.,  17.,\n",
       "       156.,  41.,  24.,  19.,   0.,   0.,   0., 125.,   0.,   0.,   0.,\n",
       "         0.,   0.,   0.,   0.,   0.,   0.,   0.,  25.,  29.,   0.,   0.,\n",
       "        23.,   7., 156., 116., 124.,  76.,   0.,   0., 105., 156., 156.,\n",
       "        57.,   4.,   0.,   0.,   0.,   5., 156.], dtype=float32)"
      ]
     },
     "execution_count": 44,
     "metadata": {},
     "output_type": "execute_result"
    }
   ],
   "source": [
    "Train_descriptors[0][0][0]"
   ]
  },
  {
   "cell_type": "code",
   "execution_count": null,
   "metadata": {},
   "outputs": [],
   "source": [
    "# train all cells as separate images\n",
    "D=np.vstack([des for descriptors_cells in Train_descriptors for des in descriptors_cells])"
   ]
  },
  {
   "cell_type": "code",
   "execution_count": null,
   "metadata": {},
   "outputs": [],
   "source": [
    "D.shape"
   ]
  },
  {
   "cell_type": "code",
   "execution_count": null,
   "metadata": {},
   "outputs": [],
   "source": [
    "k=128\n",
    "codebook = MiniBatchKMeans(n_clusters=k, verbose=False, batch_size=k * 20,compute_labels=False,reassignment_ratio=10**-4,random_state=42)\n",
    "codebook.fit(D)"
   ]
  },
  {
   "cell_type": "code",
   "execution_count": null,
   "metadata": {},
   "outputs": [],
   "source": [
    "print(k*(1+2**(2*pyramid_levels)))"
   ]
  },
  {
   "cell_type": "code",
   "execution_count": null,
   "metadata": {},
   "outputs": [],
   "source": [
    "len(Train_descriptors[0][0])"
   ]
  },
  {
   "cell_type": "code",
   "execution_count": null,
   "metadata": {},
   "outputs": [],
   "source": [
    "visual_words=np.zeros((len(Train_descriptors),k*(1+2**(2*pyramid_levels))),dtype=np.float32)\n",
    "for idx,cells in enumerate(Train_descriptors):\n",
    "\n",
    "    image_histograms = []\n",
    "    for id2,image_cell in enumerate(cells):\n",
    "        cell_words = codebook.predict(image_cell)\n",
    "        image_histograms.append(normalize(np.bincount(cell_words,minlength=k).reshape(1,-1)))\n",
    "        # concatenated histogram has k*(1+2**(2*pyramid_levels)) bins\n",
    "        # normalize(np.bincount(words,minlength=k).reshape(1,-1))\n",
    "\n",
    "    concatenated_histogram=image_histograms[0].copy()\n",
    "    for cell_idx in range(1,len(image_histograms)):\n",
    "        # concatenate histograms\n",
    "        concatenated_histogram = np.concatenate((concatenated_histogram,image_histograms[cell_idx]))\n",
    "    visual_words[idx,:]=concatenated_histogram.flatten()\n",
    "    \n",
    "    #visual_words[idx,:]=np.bincount(words,minlength=k*(2**(2*pyramid_levels))) # this will just be longer as levels \n",
    "                                                                                # increase \n",
    "                                                                                # see: k*(2**(2*pyramid_levels)) long\n",
    "\n",
    "# knn = KNeighborsClassifier(n_neighbors=37,n_jobs=-1,metric='manhattan')\n",
    "# knn.fit(visual_words, train_labels) "
   ]
  },
  {
   "cell_type": "code",
   "execution_count": null,
   "metadata": {},
   "outputs": [],
   "source": []
  },
  {
   "cell_type": "code",
   "execution_count": null,
   "metadata": {
    "scrolled": true
   },
   "outputs": [],
   "source": []
  },
  {
   "cell_type": "code",
   "execution_count": null,
   "metadata": {},
   "outputs": [],
   "source": [
    "visual_words[0,:].shape"
   ]
  },
  {
   "cell_type": "markdown",
   "metadata": {},
   "source": [
    "TRAINED Visual Words tryin further worked until now"
   ]
  },
  {
   "cell_type": "code",
   "execution_count": null,
   "metadata": {},
   "outputs": [],
   "source": [
    "from sklearn.preprocessing import StandardScaler\n",
    "scaler = StandardScaler()\n",
    "scaler.fit_transform(visual_words)"
   ]
  },
  {
   "cell_type": "code",
   "execution_count": null,
   "metadata": {},
   "outputs": [],
   "source": [
    "lin_clf = svm.LinearSVC(max_iter=2000,C=10)\n",
    "lin_clf.fit(visual_words, train_labels)"
   ]
  },
  {
   "cell_type": "code",
   "execution_count": null,
   "metadata": {},
   "outputs": [],
   "source": [
    "rbf_svc = svm.SVC(kernel='rbf',C=1000,gamma=0.001)\n",
    "rbf_svc.fit(visual_words, train_labels)"
   ]
  },
  {
   "cell_type": "code",
   "execution_count": null,
   "metadata": {},
   "outputs": [],
   "source": [
    "visual_words[1].shape"
   ]
  },
  {
   "cell_type": "code",
   "execution_count": null,
   "metadata": {},
   "outputs": [],
   "source": [
    "inter_svc = svm.SVC(kernel=intersection_kernel_cmp)\n",
    "inter_svc.fit(visual_words,train_labels)"
   ]
  },
  {
   "cell_type": "code",
   "execution_count": null,
   "metadata": {},
   "outputs": [],
   "source": [
    "today = datetime.now()\n",
    "dt_string = today.strftime(\"%H:%M:%S\")\n",
    "print(f\"{dt_string} started doing step={step}\")\n",
    "\n",
    "Test_descriptors = []\n",
    "Test_label_per_descriptor = []\n",
    "pyramid_levels = 1 # level zero has 1 tile, level 1 has 4 tiles => 5 histograms that will be concatenated\n",
    "for filename,labels in zip(test_images_filenames,test_labels):\n",
    "    ima=cv2.imread(filename)\n",
    "    gray=cv2.cvtColor(ima,cv2.COLOR_BGR2GRAY)\n",
    "    # break the image into pieces\n",
    "    image_cells = []\n",
    "    for i in range(pyramid_levels+1):\n",
    "\n",
    "        level_cells = get_pyramid_image_cells(gray,level=i)\n",
    "        image_cells = image_cells + level_cells\n",
    "        # compute descriptors for each tile\n",
    "    Test_descriptors_cell = []\n",
    "    for cell in image_cells:\n",
    "        des=compute_dense_sift(cell,SIFTdetector, step)\n",
    "        Test_descriptors_cell.append(des)\n",
    "        \n",
    "    Test_descriptors.append(Test_descriptors_cell)\n",
    "    Test_label_per_descriptor.append(labels)"
   ]
  },
  {
   "cell_type": "code",
   "execution_count": null,
   "metadata": {},
   "outputs": [],
   "source": [
    "visual_words_test=np.zeros((len(Test_descriptors),k*(1+2**(2*pyramid_levels))),dtype=np.float32)\n",
    "for idx,cells in enumerate(Test_descriptors):\n",
    "\n",
    "    image_histograms = []\n",
    "    for id2,image_cell in enumerate(cells):\n",
    "        cell_words = codebook.predict(image_cell)\n",
    "        image_histograms.append(normalize(np.bincount(cell_words,minlength=k).reshape(1,-1)))\n",
    "        # concatenated histogram has k*(1+2**(2*pyramid_levels)) bins\n",
    "        # normalize(np.bincount(words,minlength=k).reshape(1,-1))\n",
    "\n",
    "    concatenated_histogram=image_histograms[0].copy()\n",
    "    for cell_idx in range(1,len(image_histograms)):\n",
    "        # concatenate histograms\n",
    "        concatenated_histogram = np.concatenate((concatenated_histogram,image_histograms[cell_idx]))\n",
    "    visual_words_test[idx,:]=concatenated_histogram.flatten()"
   ]
  },
  {
   "cell_type": "code",
   "execution_count": null,
   "metadata": {},
   "outputs": [],
   "source": [
    "visual_words_test=scaler.transform(visual_words_test)\n",
    "scores = cross_val_score(lin_clf, visual_words_test, test_labels, cv=5)\n",
    "accuracy=scores.mean()*100\n",
    "\n",
    "print(accuracy)"
   ]
  },
  {
   "cell_type": "code",
   "execution_count": null,
   "metadata": {},
   "outputs": [],
   "source": [
    "# visual_words_test=scaler.transform(visual_words_test)\n",
    "scores = cross_val_score(rbf_svc, visual_words_test, test_labels, cv=5)\n",
    "accuracy=scores.mean()*100\n",
    "\n",
    "print(accuracy)"
   ]
  },
  {
   "cell_type": "markdown",
   "metadata": {},
   "source": [
    "## creating kernel for intersection of histograms"
   ]
  },
  {
   "cell_type": "code",
   "execution_count": null,
   "metadata": {},
   "outputs": [],
   "source": [
    "def intersection_kernel_cmp(X, Y):\n",
    "    return cv2.compareHist(X, Y, method=cv2.HISTCMP_INTERSECT)\n",
    "\n",
    "# clf = svm.SVC(kernel=my_kernel)"
   ]
  },
  {
   "cell_type": "code",
   "execution_count": null,
   "metadata": {},
   "outputs": [],
   "source": [
    "intersection_kernel_cmp(visual_words[0],visual_words[1])"
   ]
  },
  {
   "cell_type": "code",
   "execution_count": null,
   "metadata": {},
   "outputs": [],
   "source": [
    "import warnings\n",
    "warnings.filterwarnings('ignore')"
   ]
  },
  {
   "cell_type": "markdown",
   "metadata": {},
   "source": [
    "## GridSearchCV cross validation finding best parameters for RBF and Linear"
   ]
  },
  {
   "cell_type": "code",
   "execution_count": null,
   "metadata": {
    "scrolled": true
   },
   "outputs": [],
   "source": [
    "# Set the parameters by cross-validation\n",
    "tuned_parameters = [{'kernel': ['rbf'], 'gamma': [1e-3, 1e-4],\n",
    "                     'C': [1, 10, 100, 1000]},\n",
    "                    {'kernel': ['linear'], 'C': [1, 10, 100, 1000]}]\n",
    "\n",
    "scores = ['precision_macro', 'recall_macro','accuracy']\n",
    "\n",
    "today = datetime.now()\n",
    "dt_string = today.strftime(\"%H:%M:%S\")\n",
    "print(f\"{dt_string} started doing step={step}\")\n",
    "\n",
    "data_results=[]\n",
    "\n",
    "for score in scores:\n",
    "    print(\"# Tuning hyper-parameters for %s\" % score)\n",
    "    print()\n",
    "\n",
    "    clf = GridSearchCV(\n",
    "        SVC(), tuned_parameters, scoring=score\n",
    "    )\n",
    "    clf.fit(visual_words, train_labels)\n",
    "\n",
    "    print(\"Best parameters set found on development set:\")\n",
    "    print()\n",
    "    print(clf.best_params_)\n",
    "    print()\n",
    "    print(\"Grid scores on development set:\")\n",
    "    print()\n",
    "    means = clf.cv_results_['mean_test_score']\n",
    "    stds = clf.cv_results_['std_test_score']\n",
    "    for mean, std, params in zip(means, stds, clf.cv_results_['params']):\n",
    "        c=params['C']\n",
    "        ker=params['kernel']\n",
    "        if ker=='rbf': \n",
    "            gamma=params['gamma']\n",
    "        else: gamma=None\n",
    "            \n",
    "        data_results.append([mean,std,c,gamma,ker,score])\n",
    "        \n",
    "        print(\"%0.3f (+/-%0.03f) for %r\"\n",
    "              % (mean, std * 2, params))\n",
    "    print()\n",
    "\n",
    "#     print(\"Detailed classification report:\")\n",
    "#     print()\n",
    "#     print(\"The model is trained on the full development set.\")\n",
    "#     print(\"The scores are computed on the full evaluation set.\")\n",
    "#     print()\n",
    "#     y_true, y_pred = y_test, clf.predict(X_test)\n",
    "#     print(classification_report(y_true, y_pred))\n",
    "#     print()\n",
    "\n",
    "today = datetime.now()\n",
    "dt_string = today.strftime(\"%H:%M:%S\")\n",
    "print(f\"{dt_string} started doing step={step}\")"
   ]
  },
  {
   "cell_type": "code",
   "execution_count": null,
   "metadata": {},
   "outputs": [],
   "source": [
    "df=pd.DataFrame(data_results, columns=['mean_val','std_val','c','gamma','ker','score'])"
   ]
  },
  {
   "cell_type": "code",
   "execution_count": null,
   "metadata": {},
   "outputs": [],
   "source": [
    "from sklearn import metrics\n",
    "# sorted(metrics.SCORERS.keys())"
   ]
  },
  {
   "cell_type": "code",
   "execution_count": null,
   "metadata": {},
   "outputs": [],
   "source": [
    "with open('GridSearchCV_rbf_linear_params.pkl','wb') as f:\n",
    "    cPickle.dump(df,f)"
   ]
  },
  {
   "cell_type": "code",
   "execution_count": null,
   "metadata": {},
   "outputs": [],
   "source": []
  },
  {
   "cell_type": "code",
   "execution_count": null,
   "metadata": {
    "scrolled": true
   },
   "outputs": [],
   "source": []
  },
  {
   "cell_type": "code",
   "execution_count": null,
   "metadata": {},
   "outputs": [],
   "source": []
  },
  {
   "cell_type": "code",
   "execution_count": null,
   "metadata": {},
   "outputs": [],
   "source": [
    "fig, ax = plt.subplots(figsize=(10,8))\n",
    "ax.set(title='Accuracy vs C', xlim=(0,1200), ylim=(0,1))\n",
    "df2=df[df.score=='accuracy']\n",
    "df2_rbf=df2[(df2.ker=='rbf')]\n",
    "df2_linear=df2[(df2.ker=='linear')]\n",
    "print(\"max for rbf\\n\",df2_rbf[df2_rbf.mean_val==df2_rbf.mean_val.max()])\n",
    "print(\"max for linear\\n\",df2_linear.loc[df2_linear.mean_val==df2_linear.mean_val.max()])\n",
    "# print(df2[df2.recall==df2.recall.max()])\n",
    "\n",
    "ax.plot(df2_linear.c, df2_linear.mean_val, 'ro', label='linear')\n",
    "ax.plot(df2_rbf.c, df2_rbf.mean_val, 'go', label='rbf')\n",
    "ax.legend()\n",
    "\n",
    "max_val = max(df2.mean_val)\n",
    "max_idx = df2.c[df2.mean_val.idxmax()]\n",
    "# ax.annotate(\"Max {:.2f}\".format(max_val), xy=(max_idx, max_val),\n",
    "#            weight='bold', size=14)\n",
    "\n",
    "# arrowprops is a mpl.patches.FancyArrowPatch\n",
    "_ = ax.annotate(\"Max accuracy {:.2f}\".format(max_val), xy=(max_idx, max_val),\n",
    "                weight='bold', size=14, \n",
    "                xytext=(.5, .9),\n",
    "                textcoords='axes fraction',\n",
    "                family='comic sans ms',\n",
    "                arrowprops={})"
   ]
  },
  {
   "cell_type": "code",
   "execution_count": null,
   "metadata": {},
   "outputs": [],
   "source": []
  },
  {
   "cell_type": "markdown",
   "metadata": {},
   "source": [
    "## My Analysis for different DENSE"
   ]
  },
  {
   "cell_type": "code",
   "execution_count": 13,
   "metadata": {},
   "outputs": [],
   "source": [
    "def intersection_kernel_cmp(X, Y):\n",
    "    kernel = np.zeros((X.shape[0], Y.shape[0]))\n",
    "\n",
    "    for d in range(X.shape[1]):\n",
    "        column_1 = X[:, d].reshape(-1, 1)\n",
    "        column_2 = Y[:, d].reshape(-1, 1)\n",
    "        kernel += np.minimum(column_1, column_2.T)\n",
    "\n",
    "    return kernel"
   ]
  },
  {
   "cell_type": "code",
   "execution_count": 14,
   "metadata": {},
   "outputs": [],
   "source": [
    "def calculate_vis(step):\n",
    "    step=step\n",
    "\n",
    "    today = datetime.now()\n",
    "    dt_string = today.strftime(\"%H:%M:%S\")\n",
    "    print(f\"{dt_string} started doing step={step}\")\n",
    "\n",
    "    Train_descriptors = []\n",
    "    Train_label_per_descriptor = []\n",
    "\n",
    "    for filename,labels in zip(train_images_filenames,train_labels):\n",
    "        ima=cv2.imread(filename)\n",
    "        gray=cv2.cvtColor(ima,cv2.COLOR_BGR2GRAY)\n",
    "    #     kpt,des=SIFTdetector.detectAndCompute(gray,None)\n",
    "        des=compute_dense_sift(gray,SIFTdetector, step)\n",
    "        Train_descriptors.append(des)\n",
    "        Train_label_per_descriptor.append(labels)\n",
    "\n",
    "    D=np.vstack(Train_descriptors)\n",
    "\n",
    "    k=128\n",
    "    codebook = MiniBatchKMeans(n_clusters=k, verbose=False, batch_size=k * 20,compute_labels=False,reassignment_ratio=10**-4,random_state=42)\n",
    "    codebook.fit(D)\n",
    "\n",
    "    visual_words=np.zeros((len(Train_descriptors),k),dtype=np.float32)\n",
    "    for i in range(len(Train_descriptors)):\n",
    "        words=codebook.predict(Train_descriptors[i])\n",
    "        visual_words[i,:]=normalize(np.bincount(words,minlength=k).reshape(1,-1))\n",
    "\n",
    "    # knn = KNeighborsClassifier(n_neighbors=37,n_jobs=-1,metric='manhattan')\n",
    "    # knn.fit(visual_words, train_labels)\n",
    "\n",
    "    today = datetime.now()\n",
    "    dt_string = today.strftime(\"%H:%M:%S\")\n",
    "    print(f\"{dt_string} started doing step={step}\")\n",
    "    \n",
    "    scaler = StandardScaler()\n",
    "    scaler.fit_transform(visual_words)\n",
    "    \n",
    "#     lin_clf = svm.LinearSVC(max_iter=2000, C=10)\n",
    "#     lin_clf.fit(visual_words, train_labels)\n",
    "    \n",
    "#     rbf_svc = svm.SVC(kernel='rbf', C=1000, gamma=0.001)\n",
    "#     rbf_svc.fit(visual_words, train_labels)\n",
    "    \n",
    "    intersection_clf = svm.SVC(kernel=intersection_kernel_cmp)\n",
    "    intersection_clf.fit(visual_words, train_labels)\n",
    "\n",
    "    visual_words_test=np.zeros((len(test_images_filenames),k),dtype=np.float32)\n",
    "    for i in range(len(test_images_filenames)):\n",
    "        filename=test_images_filenames[i]\n",
    "        ima=cv2.imread(filename)\n",
    "        gray=cv2.cvtColor(ima,cv2.COLOR_BGR2GRAY)\n",
    "    #     kpt,des=SIFTdetector.detectAndCompute(gray,None)\n",
    "        des=compute_dense_sift(gray,SIFTdetector, step)\n",
    "        words=codebook.predict(des)\n",
    "        visual_words_test[i,:]=normalize(np.bincount(words,minlength=k).reshape(1,-1))\n",
    "\n",
    "    visual_words_test=scaler.transform(visual_words_test)\n",
    "    \n",
    "#     scores = cross_val_score(lin_clf, visual_words_test, test_labels, cv=5)\n",
    "#     accuracy_linear=scores.mean()*100\n",
    "\n",
    "#     print(\"linear=\",accuracy_linear)\n",
    "\n",
    "#     scores = cross_val_score(rbf_svc, visual_words_test, test_labels, cv=5)\n",
    "#     accuracy_rbf=scores.mean()*100\n",
    "\n",
    "#     print(\"rbf=\",accuracy_rbf)\n",
    "    \n",
    "    scores = cross_val_score(intersection_clf, visual_words_test, test_labels, cv=5)\n",
    "    accuracy_inter=scores.mean()*100\n",
    "\n",
    "    print(\"inter=\",accuracy_inter)\n",
    "    \n",
    "    return accuracy_inter\n",
    "#     return accuracy_linear,accuracy_rbf,accuracy_inter\n"
   ]
  },
  {
   "cell_type": "code",
   "execution_count": 15,
   "metadata": {},
   "outputs": [
    {
     "name": "stdout",
     "output_type": "stream",
     "text": [
      "14:41:27 started doing step=5\n",
      "14:44:04 started doing step=5\n",
      "inter= 80.17560003067251\n",
      "14:45:11 started doing step=20\n",
      "14:47:05 started doing step=20\n",
      "inter= 77.56767119085958\n",
      "14:47:59 started doing step=50\n",
      "14:49:26 started doing step=50\n",
      "inter= 65.0502262096465\n",
      "14:50:11 started doing step=100\n",
      "14:50:59 started doing step=100\n",
      "inter= 61.58116708841346\n",
      "14:51:29 started doing step=300\n",
      "14:51:48 started doing step=300\n",
      "inter= 56.25718886588451\n",
      "14:52:03 started doing step=500\n",
      "14:52:19 started doing step=500\n",
      "inter= 56.12989801395598\n"
     ]
    }
   ],
   "source": [
    "data_results_step =[]\n",
    "steps_to_do=[5,20,50,100,300,500]\n",
    "for step in steps_to_do:\n",
    "#     accuracy_linear,accuracy_rbf=calculate_vis(step)\n",
    "    accuracy_inter=calculate_vis(step)\n",
    "    data_results_step.append([step,accuracy_inter,1,1])\n",
    "    \n",
    "df=pd.DataFrame(data_results_step, columns=['step','accuracy_inter','normalized','scaler'])    "
   ]
  },
  {
   "cell_type": "code",
   "execution_count": 16,
   "metadata": {},
   "outputs": [
    {
     "data": {
      "text/html": [
       "<div>\n",
       "<style scoped>\n",
       "    .dataframe tbody tr th:only-of-type {\n",
       "        vertical-align: middle;\n",
       "    }\n",
       "\n",
       "    .dataframe tbody tr th {\n",
       "        vertical-align: top;\n",
       "    }\n",
       "\n",
       "    .dataframe thead th {\n",
       "        text-align: right;\n",
       "    }\n",
       "</style>\n",
       "<table border=\"1\" class=\"dataframe\">\n",
       "  <thead>\n",
       "    <tr style=\"text-align: right;\">\n",
       "      <th></th>\n",
       "      <th>step</th>\n",
       "      <th>accuracy_inter</th>\n",
       "      <th>normalized</th>\n",
       "      <th>scaler</th>\n",
       "    </tr>\n",
       "  </thead>\n",
       "  <tbody>\n",
       "    <tr>\n",
       "      <th>0</th>\n",
       "      <td>5</td>\n",
       "      <td>80.175600</td>\n",
       "      <td>1</td>\n",
       "      <td>1</td>\n",
       "    </tr>\n",
       "    <tr>\n",
       "      <th>1</th>\n",
       "      <td>20</td>\n",
       "      <td>77.567671</td>\n",
       "      <td>1</td>\n",
       "      <td>1</td>\n",
       "    </tr>\n",
       "    <tr>\n",
       "      <th>2</th>\n",
       "      <td>50</td>\n",
       "      <td>65.050226</td>\n",
       "      <td>1</td>\n",
       "      <td>1</td>\n",
       "    </tr>\n",
       "    <tr>\n",
       "      <th>3</th>\n",
       "      <td>100</td>\n",
       "      <td>61.581167</td>\n",
       "      <td>1</td>\n",
       "      <td>1</td>\n",
       "    </tr>\n",
       "    <tr>\n",
       "      <th>4</th>\n",
       "      <td>300</td>\n",
       "      <td>56.257189</td>\n",
       "      <td>1</td>\n",
       "      <td>1</td>\n",
       "    </tr>\n",
       "    <tr>\n",
       "      <th>5</th>\n",
       "      <td>500</td>\n",
       "      <td>56.129898</td>\n",
       "      <td>1</td>\n",
       "      <td>1</td>\n",
       "    </tr>\n",
       "  </tbody>\n",
       "</table>\n",
       "</div>"
      ],
      "text/plain": [
       "   step  accuracy_inter  normalized  scaler\n",
       "0     5       80.175600           1       1\n",
       "1    20       77.567671           1       1\n",
       "2    50       65.050226           1       1\n",
       "3   100       61.581167           1       1\n",
       "4   300       56.257189           1       1\n",
       "5   500       56.129898           1       1"
      ]
     },
     "execution_count": 16,
     "metadata": {},
     "output_type": "execute_result"
    }
   ],
   "source": [
    "df"
   ]
  },
  {
   "cell_type": "code",
   "execution_count": 21,
   "metadata": {},
   "outputs": [
    {
     "data": {
      "text/html": [
       "<div>\n",
       "<style scoped>\n",
       "    .dataframe tbody tr th:only-of-type {\n",
       "        vertical-align: middle;\n",
       "    }\n",
       "\n",
       "    .dataframe tbody tr th {\n",
       "        vertical-align: top;\n",
       "    }\n",
       "\n",
       "    .dataframe thead th {\n",
       "        text-align: right;\n",
       "    }\n",
       "</style>\n",
       "<table border=\"1\" class=\"dataframe\">\n",
       "  <thead>\n",
       "    <tr style=\"text-align: right;\">\n",
       "      <th></th>\n",
       "      <th>step</th>\n",
       "      <th>accuracy_linear</th>\n",
       "      <th>accuracy_rbf</th>\n",
       "      <th>normalized</th>\n",
       "      <th>scaler</th>\n",
       "      <th>accuracy_inter</th>\n",
       "    </tr>\n",
       "  </thead>\n",
       "  <tbody>\n",
       "    <tr>\n",
       "      <th>0</th>\n",
       "      <td>5</td>\n",
       "      <td>65.548654</td>\n",
       "      <td>78.937198</td>\n",
       "      <td>1</td>\n",
       "      <td>1</td>\n",
       "      <td>80.175600</td>\n",
       "    </tr>\n",
       "    <tr>\n",
       "      <th>1</th>\n",
       "      <td>20</td>\n",
       "      <td>63.446055</td>\n",
       "      <td>72.614063</td>\n",
       "      <td>1</td>\n",
       "      <td>1</td>\n",
       "      <td>77.567671</td>\n",
       "    </tr>\n",
       "    <tr>\n",
       "      <th>2</th>\n",
       "      <td>50</td>\n",
       "      <td>52.413159</td>\n",
       "      <td>62.947627</td>\n",
       "      <td>1</td>\n",
       "      <td>1</td>\n",
       "      <td>65.050226</td>\n",
       "    </tr>\n",
       "    <tr>\n",
       "      <th>3</th>\n",
       "      <td>100</td>\n",
       "      <td>53.275056</td>\n",
       "      <td>59.352810</td>\n",
       "      <td>1</td>\n",
       "      <td>1</td>\n",
       "      <td>61.581167</td>\n",
       "    </tr>\n",
       "    <tr>\n",
       "      <th>4</th>\n",
       "      <td>300</td>\n",
       "      <td>54.897631</td>\n",
       "      <td>57.619048</td>\n",
       "      <td>1</td>\n",
       "      <td>1</td>\n",
       "      <td>56.257189</td>\n",
       "    </tr>\n",
       "    <tr>\n",
       "      <th>5</th>\n",
       "      <td>500</td>\n",
       "      <td>53.771950</td>\n",
       "      <td>57.119086</td>\n",
       "      <td>1</td>\n",
       "      <td>1</td>\n",
       "      <td>56.129898</td>\n",
       "    </tr>\n",
       "  </tbody>\n",
       "</table>\n",
       "</div>"
      ],
      "text/plain": [
       "   step  accuracy_linear  accuracy_rbf  normalized  scaler  accuracy_inter\n",
       "0     5        65.548654     78.937198           1       1       80.175600\n",
       "1    20        63.446055     72.614063           1       1       77.567671\n",
       "2    50        52.413159     62.947627           1       1       65.050226\n",
       "3   100        53.275056     59.352810           1       1       61.581167\n",
       "4   300        54.897631     57.619048           1       1       56.257189\n",
       "5   500        53.771950     57.119086           1       1       56.129898"
      ]
     },
     "execution_count": 21,
     "metadata": {},
     "output_type": "execute_result"
    }
   ],
   "source": [
    "df_all"
   ]
  },
  {
   "cell_type": "code",
   "execution_count": 22,
   "metadata": {},
   "outputs": [],
   "source": [
    "with open('Different_densities_analysis.pkl','wb') as f:\n",
    "    cPickle.dump(df_all,f)"
   ]
  },
  {
   "cell_type": "code",
   "execution_count": 28,
   "metadata": {},
   "outputs": [
    {
     "name": "stdout",
     "output_type": "stream",
     "text": [
      "max for rbf\n",
      "    step  accuracy_linear  accuracy_rbf  normalized  scaler\n",
      "0     5        65.548654     78.937198           1       1\n",
      "max for linear\n",
      "    step  accuracy_linear  accuracy_rbf  normalized  scaler\n",
      "0     5        65.548654     78.937198           1       1\n"
     ]
    },
    {
     "data": {
      "text/plain": [
       "<matplotlib.legend.Legend at 0x1d206583220>"
      ]
     },
     "execution_count": 28,
     "metadata": {},
     "output_type": "execute_result"
    },
    {
     "data": {
      "image/png": "[encoded data removed]",
      "text/plain": [
       "<Figure size 720x576 with 1 Axes>"
      ]
     },
     "metadata": {
      "needs_background": "light"
     },
     "output_type": "display_data"
    }
   ],
   "source": [
    "fig, ax = plt.subplots(figsize=(10,8))\n",
    "ax.set(title='Accuracy vs steps', xlim=(0,1200), ylim=(0,100))\n",
    "df2=df\n",
    "y_rbf=df2.accuracy_rbf\n",
    "y_lin=df2.accuracy_linear\n",
    "print(\"max for rbf\\n\",df2[df2.accuracy_rbf==df2.accuracy_rbf.max()])\n",
    "print(\"max for linear\\n\",df2[df2.accuracy_linear==df2.accuracy_linear.max()])\n",
    "# print(df2[df2.recall==df2.recall.max()])\n",
    "\n",
    "ax.plot(df2.step, y_lin, 'r', label='linear')\n",
    "ax.plot(df2.step, y_rbf, 'g', label='rbf')\n",
    "plt.xlabel('step in dense')\n",
    "plt.ylabel('accuracy')\n",
    "ax.legend()"
   ]
  },
  {
   "cell_type": "code",
   "execution_count": 14,
   "metadata": {},
   "outputs": [
    {
     "data": {
      "text/html": [
       "<div>\n",
       "<style scoped>\n",
       "    .dataframe tbody tr th:only-of-type {\n",
       "        vertical-align: middle;\n",
       "    }\n",
       "\n",
       "    .dataframe tbody tr th {\n",
       "        vertical-align: top;\n",
       "    }\n",
       "\n",
       "    .dataframe thead th {\n",
       "        text-align: right;\n",
       "    }\n",
       "</style>\n",
       "<table border=\"1\" class=\"dataframe\">\n",
       "  <thead>\n",
       "    <tr style=\"text-align: right;\">\n",
       "      <th></th>\n",
       "      <th>step</th>\n",
       "      <th>accuracy_linear</th>\n",
       "      <th>accuracy_rbf</th>\n",
       "      <th>normalized</th>\n",
       "      <th>scaler</th>\n",
       "    </tr>\n",
       "  </thead>\n",
       "  <tbody>\n",
       "    <tr>\n",
       "      <th>0</th>\n",
       "      <td>5</td>\n",
       "      <td>65.548654</td>\n",
       "      <td>78.937198</td>\n",
       "      <td>1</td>\n",
       "      <td>1</td>\n",
       "    </tr>\n",
       "    <tr>\n",
       "      <th>1</th>\n",
       "      <td>20</td>\n",
       "      <td>63.446055</td>\n",
       "      <td>72.614063</td>\n",
       "      <td>1</td>\n",
       "      <td>1</td>\n",
       "    </tr>\n",
       "    <tr>\n",
       "      <th>2</th>\n",
       "      <td>50</td>\n",
       "      <td>52.413159</td>\n",
       "      <td>62.947627</td>\n",
       "      <td>1</td>\n",
       "      <td>1</td>\n",
       "    </tr>\n",
       "    <tr>\n",
       "      <th>3</th>\n",
       "      <td>100</td>\n",
       "      <td>53.275056</td>\n",
       "      <td>59.352810</td>\n",
       "      <td>1</td>\n",
       "      <td>1</td>\n",
       "    </tr>\n",
       "    <tr>\n",
       "      <th>4</th>\n",
       "      <td>300</td>\n",
       "      <td>54.897631</td>\n",
       "      <td>57.619048</td>\n",
       "      <td>1</td>\n",
       "      <td>1</td>\n",
       "    </tr>\n",
       "    <tr>\n",
       "      <th>5</th>\n",
       "      <td>500</td>\n",
       "      <td>53.771950</td>\n",
       "      <td>57.119086</td>\n",
       "      <td>1</td>\n",
       "      <td>1</td>\n",
       "    </tr>\n",
       "  </tbody>\n",
       "</table>\n",
       "</div>"
      ],
      "text/plain": [
       "   step  accuracy_linear  accuracy_rbf  normalized  scaler\n",
       "0     5        65.548654     78.937198           1       1\n",
       "1    20        63.446055     72.614063           1       1\n",
       "2    50        52.413159     62.947627           1       1\n",
       "3   100        53.275056     59.352810           1       1\n",
       "4   300        54.897631     57.619048           1       1\n",
       "5   500        53.771950     57.119086           1       1"
      ]
     },
     "execution_count": 14,
     "metadata": {},
     "output_type": "execute_result"
    }
   ],
   "source": [
    "df"
   ]
  },
  {
   "cell_type": "code",
   "execution_count": 12,
   "metadata": {},
   "outputs": [],
   "source": [
    "with open('Different_densities_analysis.pkl','wb') as f:\n",
    "    cPickle.dump(df,f)"
   ]
  },
  {
   "cell_type": "markdown",
   "metadata": {},
   "source": [
    "## My Analysis on Pyramid level"
   ]
  },
  {
   "cell_type": "code",
   "execution_count": 55,
   "metadata": {},
   "outputs": [],
   "source": [
    "def create_pyramid_levels(pyramid):\n",
    "    step=5\n",
    "\n",
    "    today = datetime.now()\n",
    "    dt_string = today.strftime(\"%H:%M:%S\")\n",
    "    print(f\"{dt_string} started doing step={pyramid}\")\n",
    "\n",
    "    Train_descriptors = []\n",
    "    Train_label_per_descriptor = []\n",
    "    pyramid_levels = pyramid # level zero has 1 tile, level 1 has 4 tiles => 5 histograms that will be concatenated\n",
    "\n",
    "    for filename,labels in zip(train_images_filenames,train_labels):\n",
    "        ima=cv2.imread(filename)\n",
    "        gray=cv2.cvtColor(ima,cv2.COLOR_BGR2GRAY)\n",
    "        # break the image into pieces\n",
    "        image_cells = []\n",
    "        for i in range(pyramid_levels+1):\n",
    "\n",
    "            level_cells = get_pyramid_image_cells(gray,level=i)\n",
    "            image_cells = image_cells + level_cells\n",
    "            # compute descriptors for each tile\n",
    "        Train_descriptors_cell = []\n",
    "        for cell in image_cells:\n",
    "            des=compute_dense_sift(cell,SIFTdetector, step)\n",
    "            Train_descriptors_cell.append(des)\n",
    "\n",
    "        Train_descriptors.append(Train_descriptors_cell)\n",
    "        Train_label_per_descriptor.append(labels)\n",
    "\n",
    "    D=np.vstack([des for descriptors_cells in Train_descriptors for des in descriptors_cells])\n",
    "\n",
    "    #codebook\n",
    "\n",
    "    k=128\n",
    "    codebook = MiniBatchKMeans(n_clusters=k, verbose=False, batch_size=k * 20,compute_labels=False,reassignment_ratio=10**-4,random_state=42)\n",
    "    codebook.fit(D)\n",
    "\n",
    "    #creating visual words for Training\n",
    "\n",
    "    visual_words=np.zeros((len(Train_descriptors),k*21),dtype=np.float32)\n",
    "    for idx,cells in enumerate(Train_descriptors):\n",
    "\n",
    "        image_histograms = []\n",
    "        for id2,image_cell in enumerate(cells):\n",
    "            cell_words = codebook.predict(image_cell)\n",
    "            image_histograms.append(normalize(np.bincount(cell_words,minlength=k).reshape(1,-1)))\n",
    "            # concatenated histogram has k*(1+2**(2*pyramid_levels)) bins\n",
    "            # normalize(np.bincount(words,minlength=k).reshape(1,-1))\n",
    "\n",
    "        concatenated_histogram=image_histograms[0].copy()\n",
    "        for cell_idx in range(1,len(image_histograms)):\n",
    "            # concatenate histograms\n",
    "            concatenated_histogram = np.concatenate((concatenated_histogram,image_histograms[cell_idx]))\n",
    "        visual_words[idx,:]=concatenated_histogram.flatten()\n",
    "        \n",
    "    #PCA\n",
    "    pca = PCA(n_components=0.95)\n",
    "    VWpca = pca.fit_transform(visual_words)\n",
    "    \n",
    "    #LDA\n",
    "#     lda = LinearDiscriminantAnalysis(n_components=7)\n",
    "#     VWlda = lda.fit_transform(visual_words,train_labels)\n",
    "\n",
    "    #SVN kernels\n",
    "\n",
    "    scaler = StandardScaler()\n",
    "    scaler.fit_transform(VWpca)\n",
    "\n",
    "    lin_clf = svm.LinearSVC(max_iter=2000, C=10)\n",
    "    lin_clf.fit(VWpca, train_labels)\n",
    "\n",
    "    rbf_svc = svm.SVC(kernel='rbf', C=1000, gamma=0.001)\n",
    "    rbf_svc.fit(VWpca, train_labels)\n",
    "    \n",
    "    intersection_clf = svm.SVC(kernel=intersection_kernel_cmp)\n",
    "    intersection_clf.fit(VWpca, train_labels)\n",
    "\n",
    "    today = datetime.now()\n",
    "    dt_string = today.strftime(\"%H:%M:%S\")\n",
    "    print(f\"{dt_string} started doing test step={pyramid}\")\n",
    "\n",
    "    #creating SIFT descriptor\n",
    "\n",
    "    Test_descriptors = []\n",
    "    Test_label_per_descriptor = []\n",
    "    # pyramid_levels = 1 # level zero has 1 tile, level 1 has 4 tiles => 5 histograms that will be concatenated\n",
    "    for filename,labels in zip(test_images_filenames,test_labels):\n",
    "        ima=cv2.imread(filename)\n",
    "        gray=cv2.cvtColor(ima,cv2.COLOR_BGR2GRAY)\n",
    "        # break the image into pieces\n",
    "        image_cells = []\n",
    "        for i in range(pyramid_levels+1):\n",
    "\n",
    "            level_cells = get_pyramid_image_cells(gray,level=i)\n",
    "            image_cells = image_cells + level_cells\n",
    "            # compute descriptors for each tile\n",
    "        Test_descriptors_cell = []\n",
    "        for cell in image_cells:\n",
    "            des=compute_dense_sift(cell,SIFTdetector, step)\n",
    "            Test_descriptors_cell.append(des)\n",
    "\n",
    "        Test_descriptors.append(Test_descriptors_cell)\n",
    "        Test_label_per_descriptor.append(labels)\n",
    "\n",
    "    #creating visual tests\n",
    "\n",
    "    visual_words_test=np.zeros((len(Test_descriptors),k*21),dtype=np.float32)\n",
    "    for idx,cells in enumerate(Test_descriptors):\n",
    "\n",
    "        image_histograms = []\n",
    "        for id2,image_cell in enumerate(cells):\n",
    "            cell_words = codebook.predict(image_cell)\n",
    "            image_histograms.append(normalize(np.bincount(cell_words,minlength=k).reshape(1,-1)))\n",
    "            # concatenated histogram has k*(1+2**(2*pyramid_levels)) bins\n",
    "            # normalize(np.bincount(words,minlength=k).reshape(1,-1))\n",
    "\n",
    "        concatenated_histogram=image_histograms[0].copy()\n",
    "        for cell_idx in range(1,len(image_histograms)):\n",
    "            # concatenate histograms\n",
    "            concatenated_histogram = np.concatenate((concatenated_histogram,image_histograms[cell_idx]))\n",
    "        visual_words_test[idx,:]=concatenated_histogram.flatten()\n",
    "\n",
    "\n",
    "\n",
    "    \n",
    "    #PCA\n",
    "    vwtestpca = pca.transform(visual_words_test)\n",
    "    \n",
    "    #LDA\n",
    "#     vwtestlda = lda.transform(visual_words_test)\n",
    "    \n",
    "    #scaler test\n",
    "    visual_words_test=scaler.transform(vwtestpca)\n",
    "    \n",
    "\n",
    "    #accuracy for test linear\n",
    "    scores = cross_val_score(lin_clf, visual_words_test, test_labels, cv=5)\n",
    "    accuracy_linear=scores.mean()*100\n",
    "\n",
    "    print(\"linear=\",accuracy_linear)\n",
    "\n",
    "\n",
    "    #accuracy for test rbf\n",
    "    scores = cross_val_score(rbf_svc, visual_words_test, test_labels, cv=5)\n",
    "    accuracy_rbf=scores.mean()*100\n",
    "\n",
    "    print(\"rbf=\",accuracy_rbf)\n",
    "    \n",
    "    #accuracy for test inter\n",
    "    scores = cross_val_score(intersection_clf, visual_words_test, test_labels, cv=5)\n",
    "    accuracy_inter=scores.mean()*100\n",
    "\n",
    "    print(\"inter=\",accuracy_inter)\n",
    "    \n",
    "    return accuracy_linear,accuracy_rbf,accuracy_inter\n"
   ]
  },
  {
   "cell_type": "code",
   "execution_count": 43,
   "metadata": {},
   "outputs": [],
   "source": [
    "df_level=pd.DataFrame(data_pyramid_levels, columns=['level','step','accuracy_linear','accuracy_rbf','accuracy_inter','normalized','scaler','lda']) "
   ]
  },
  {
   "cell_type": "code",
   "execution_count": 56,
   "metadata": {},
   "outputs": [
    {
     "name": "stdout",
     "output_type": "stream",
     "text": [
      "00:25:21 started doing step=2\n"
     ]
    },
    {
     "ename": "KeyboardInterrupt",
     "evalue": "",
     "output_type": "error",
     "traceback": [
      "\u001b[1;31m---------------------------------------------------------------------------\u001b[0m",
      "\u001b[1;31mKeyboardInterrupt\u001b[0m                         Traceback (most recent call last)",
      "\u001b[1;32m<ipython-input-56-eb4d65352f00>\u001b[0m in \u001b[0;36m<module>\u001b[1;34m\u001b[0m\n\u001b[0;32m      2\u001b[0m \u001b[0mdata_pyramid_levels\u001b[0m\u001b[1;33m=\u001b[0m\u001b[1;33m[\u001b[0m\u001b[1;33m]\u001b[0m\u001b[1;33m\u001b[0m\u001b[1;33m\u001b[0m\u001b[0m\n\u001b[0;32m      3\u001b[0m \u001b[1;32mfor\u001b[0m \u001b[0mlevel\u001b[0m \u001b[1;32min\u001b[0m \u001b[0mpiramid\u001b[0m\u001b[1;33m:\u001b[0m\u001b[1;33m\u001b[0m\u001b[1;33m\u001b[0m\u001b[0m\n\u001b[1;32m----> 4\u001b[1;33m     \u001b[0maccuracy_linear\u001b[0m\u001b[1;33m,\u001b[0m\u001b[0maccuracy_rbf\u001b[0m\u001b[1;33m,\u001b[0m \u001b[0maccuracy_inter\u001b[0m\u001b[1;33m=\u001b[0m\u001b[0mcreate_pyramid_levels\u001b[0m\u001b[1;33m(\u001b[0m\u001b[0mlevel\u001b[0m\u001b[1;33m)\u001b[0m\u001b[1;33m\u001b[0m\u001b[1;33m\u001b[0m\u001b[0m\n\u001b[0m\u001b[0;32m      5\u001b[0m     \u001b[0mdata_pyramid_levels\u001b[0m\u001b[1;33m.\u001b[0m\u001b[0mappend\u001b[0m\u001b[1;33m(\u001b[0m\u001b[1;33m[\u001b[0m\u001b[0mlevel\u001b[0m\u001b[1;33m,\u001b[0m\u001b[1;36m5\u001b[0m\u001b[1;33m,\u001b[0m\u001b[0maccuracy_linear\u001b[0m\u001b[1;33m,\u001b[0m\u001b[0maccuracy_rbf\u001b[0m\u001b[1;33m,\u001b[0m \u001b[0maccuracy_inter\u001b[0m\u001b[1;33m,\u001b[0m\u001b[1;36m1\u001b[0m\u001b[1;33m,\u001b[0m\u001b[1;36m1\u001b[0m\u001b[1;33m,\u001b[0m\u001b[1;36m0.95\u001b[0m\u001b[1;33m]\u001b[0m\u001b[1;33m)\u001b[0m\u001b[1;33m\u001b[0m\u001b[1;33m\u001b[0m\u001b[0m\n\u001b[0;32m      6\u001b[0m \u001b[1;33m\u001b[0m\u001b[0m\n",
      "\u001b[1;32m<ipython-input-55-c63973a869a8>\u001b[0m in \u001b[0;36mcreate_pyramid_levels\u001b[1;34m(pyramid)\u001b[0m\n\u001b[0;32m     22\u001b[0m         \u001b[0mTrain_descriptors_cell\u001b[0m \u001b[1;33m=\u001b[0m \u001b[1;33m[\u001b[0m\u001b[1;33m]\u001b[0m\u001b[1;33m\u001b[0m\u001b[1;33m\u001b[0m\u001b[0m\n\u001b[0;32m     23\u001b[0m         \u001b[1;32mfor\u001b[0m \u001b[0mcell\u001b[0m \u001b[1;32min\u001b[0m \u001b[0mimage_cells\u001b[0m\u001b[1;33m:\u001b[0m\u001b[1;33m\u001b[0m\u001b[1;33m\u001b[0m\u001b[0m\n\u001b[1;32m---> 24\u001b[1;33m             \u001b[0mdes\u001b[0m\u001b[1;33m=\u001b[0m\u001b[0mcompute_dense_sift\u001b[0m\u001b[1;33m(\u001b[0m\u001b[0mcell\u001b[0m\u001b[1;33m,\u001b[0m\u001b[0mSIFTdetector\u001b[0m\u001b[1;33m,\u001b[0m \u001b[0mstep\u001b[0m\u001b[1;33m)\u001b[0m\u001b[1;33m\u001b[0m\u001b[1;33m\u001b[0m\u001b[0m\n\u001b[0m\u001b[0;32m     25\u001b[0m             \u001b[0mTrain_descriptors_cell\u001b[0m\u001b[1;33m.\u001b[0m\u001b[0mappend\u001b[0m\u001b[1;33m(\u001b[0m\u001b[0mdes\u001b[0m\u001b[1;33m)\u001b[0m\u001b[1;33m\u001b[0m\u001b[1;33m\u001b[0m\u001b[0m\n\u001b[0;32m     26\u001b[0m \u001b[1;33m\u001b[0m\u001b[0m\n",
      "\u001b[1;32m<ipython-input-12-d2310b441c0e>\u001b[0m in \u001b[0;36mcompute_dense_sift\u001b[1;34m(gray, sift, step)\u001b[0m\n\u001b[0;32m      3\u001b[0m     kp = [cv2.KeyPoint(x, y, step_size) for y in range(0, gray.shape[0], step_size) \n\u001b[0;32m      4\u001b[0m                                         for x in range(0, gray.shape[1], step_size)]\n\u001b[1;32m----> 5\u001b[1;33m     \u001b[0mdense_feat\u001b[0m \u001b[1;33m=\u001b[0m \u001b[0msift\u001b[0m\u001b[1;33m.\u001b[0m\u001b[0mcompute\u001b[0m\u001b[1;33m(\u001b[0m\u001b[0mgray\u001b[0m\u001b[1;33m,\u001b[0m \u001b[0mkp\u001b[0m\u001b[1;33m)\u001b[0m\u001b[1;33m\u001b[0m\u001b[1;33m\u001b[0m\u001b[0m\n\u001b[0m\u001b[0;32m      6\u001b[0m     \u001b[0mdense_feat_des\u001b[0m \u001b[1;33m=\u001b[0m \u001b[0mdense_feat\u001b[0m\u001b[1;33m[\u001b[0m\u001b[1;36m1\u001b[0m\u001b[1;33m]\u001b[0m\u001b[1;33m\u001b[0m\u001b[1;33m\u001b[0m\u001b[0m\n\u001b[0;32m      7\u001b[0m     \u001b[1;32mreturn\u001b[0m \u001b[0mdense_feat_des\u001b[0m\u001b[1;33m\u001b[0m\u001b[1;33m\u001b[0m\u001b[0m\n",
      "\u001b[1;31mKeyboardInterrupt\u001b[0m: "
     ]
    }
   ],
   "source": [
    "piramid=[2]\n",
    "data_pyramid_levels=[]\n",
    "for level in piramid:\n",
    "    accuracy_linear,accuracy_rbf, accuracy_inter=create_pyramid_levels(level)\n",
    "    data_pyramid_levels.append([level,5,accuracy_linear,accuracy_rbf, accuracy_inter,1,1,0.95])\n",
    "\n",
    "df_level=pd.DataFrame(data_pyramid_levels, columns=['level','step','accuracy_linear','accuracy_rbf','accuracy_inter','normalized','scaler','pca'])    "
   ]
  },
  {
   "cell_type": "code",
   "execution_count": 34,
   "metadata": {},
   "outputs": [
    {
     "name": "stdout",
     "output_type": "stream",
     "text": [
      "15:31:36 started doing step=1\n",
      "15:35:18 started doing test step=1\n",
      "inter= 72.73982056590754\n"
     ]
    }
   ],
   "source": [
    "piramid=[2]\n",
    "data_pyramid_levels=[]\n",
    "for level in piramid:\n",
    "    accuracy_inter=create_pyramid_levels(level)\n",
    "    data_pyramid_levels.append([level,5,accuracy_inter,1,1])\n",
    "\n",
    "df_level=pd.DataFrame(data_pyramid_levels, columns=['level','step','accuracy_inter','normalized','scaler'])    "
   ]
  },
  {
   "cell_type": "code",
   "execution_count": 35,
   "metadata": {},
   "outputs": [],
   "source": [
    "df_level['pca']=127"
   ]
  },
  {
   "cell_type": "code",
   "execution_count": null,
   "metadata": {},
   "outputs": [],
   "source": [
    "with open('Different_pyramid_level_2_all_pca_0_95.pkl','wb') as f:\n",
    "    cPickle.dump(df_level,f)"
   ]
  },
  {
   "cell_type": "code",
   "execution_count": null,
   "metadata": {},
   "outputs": [],
   "source": [
    "df_level"
   ]
  },
  {
   "cell_type": "code",
   "execution_count": null,
   "metadata": {},
   "outputs": [],
   "source": []
  },
  {
   "cell_type": "code",
   "execution_count": null,
   "metadata": {},
   "outputs": [],
   "source": []
  }
 ],
 "metadata": {
  "kernelspec": {
   "display_name": "Python 3",
   "language": "python",
   "name": "python3"
  },
  "language_info": {
   "codemirror_mode": {
    "name": "ipython",
    "version": 3
   },
   "file_extension": ".py",
   "mimetype": "text/x-python",
   "name": "python",
   "nbconvert_exporter": "python",
   "pygments_lexer": "ipython3",
   "version": "3.8.3"
  }
 },
 "nbformat": 4,
 "nbformat_minor": 4
}
