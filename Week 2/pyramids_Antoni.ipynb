{
 "cells": [
  {
   "cell_type": "code",
   "execution_count": 2,
   "metadata": {},
   "outputs": [],
   "source": [
    "import cv2\n",
    "import numpy as np\n",
    "import pandas as pd\n",
    "import pickle as cPickle\n",
    "from matplotlib import pyplot as plt\n",
    "from sklearn.cluster import MiniBatchKMeans\n",
    "from sklearn.neighbors import KNeighborsClassifier\n",
    "from sklearn.decomposition import PCA\n",
    "from sklearn.discriminant_analysis import LinearDiscriminantAnalysis\n",
    "from sklearn.model_selection import cross_val_score\n",
    "from sklearn.metrics import precision_score,confusion_matrix,multilabel_confusion_matrix,recall_score\n",
    "from sklearn.preprocessing import normalize\n",
    "from sklearn import svm\n",
    "from datetime import datetime\n",
    "from sklearn.model_selection import GridSearchCV\n",
    "from sklearn.metrics import classification_report\n",
    "from sklearn.svm import SVC"
   ]
  },
  {
   "cell_type": "code",
   "execution_count": 3,
   "metadata": {},
   "outputs": [],
   "source": [
    "train_images_filenames = cPickle.load(open('resources/train_images_filenames.dat','rb'))\n",
    "test_images_filenames = cPickle.load(open('resources/test_images_filenames.dat','rb'))\n",
    "train_labels = cPickle.load(open('resources/train_labels.dat','rb'))\n",
    "test_labels = cPickle.load(open('resources/test_labels.dat','rb'))"
   ]
  },
  {
   "cell_type": "code",
   "execution_count": 4,
   "metadata": {},
   "outputs": [],
   "source": [
    "SIFTdetector = cv2.SIFT_create(nfeatures=300)"
   ]
  },
  {
   "cell_type": "code",
   "execution_count": 5,
   "metadata": {},
   "outputs": [],
   "source": [
    "def compute_dense_sift(gray,sift,step):\n",
    "    step_size = step\n",
    "    kp = [cv2.KeyPoint(x, y, step_size) for y in range(0, gray.shape[0], step_size) \n",
    "                                        for x in range(0, gray.shape[1], step_size)]\n",
    "    dense_feat = sift.compute(gray, kp)\n",
    "    dense_feat_des = dense_feat[1]\n",
    "    return dense_feat_des"
   ]
  },
  {
   "cell_type": "code",
   "execution_count": 8,
   "metadata": {},
   "outputs": [
    {
     "name": "stdout",
     "output_type": "stream",
     "text": [
      "16:29:06 started doing step=5\n",
      "16:30:43 started doing step=5\n"
     ]
    }
   ],
   "source": [
    "step=5\n",
    "\n",
    "today = datetime.now()\n",
    "dt_string = today.strftime(\"%H:%M:%S\")\n",
    "print(f\"{dt_string} started doing step={step}\")\n",
    "\n",
    "Train_descriptors = []\n",
    "Train_label_per_descriptor = []\n",
    "\n",
    "for filename,labels in zip(train_images_filenames,train_labels):\n",
    "    ima=cv2.imread(filename)\n",
    "    gray=cv2.cvtColor(ima,cv2.COLOR_BGR2GRAY)\n",
    "#     kpt,des=SIFTdetector.detectAndCompute(gray,None)\n",
    "    des=compute_dense_sift(gray,SIFTdetector, step)\n",
    "    Train_descriptors.append(des)\n",
    "    Train_label_per_descriptor.append(labels)\n",
    "\n",
    "D=np.vstack(Train_descriptors)\n",
    "\n",
    "k=128\n",
    "codebook = MiniBatchKMeans(n_clusters=k, verbose=False, batch_size=k * 20,compute_labels=False,reassignment_ratio=10**-4,random_state=42)\n",
    "codebook.fit(D)\n",
    "\n",
    "visual_words=np.zeros((len(Train_descriptors),k),dtype=np.float32)\n",
    "for i in range(len(Train_descriptors)):\n",
    "    words=codebook.predict(Train_descriptors[i])\n",
    "    visual_words[i,:]=normalize(np.bincount(words,minlength=k).reshape(1,-1))\n",
    "\n",
    "# knn = KNeighborsClassifier(n_neighbors=37,n_jobs=-1,metric='manhattan')\n",
    "# knn.fit(visual_words, train_labels)\n",
    "\n",
    "today = datetime.now()\n",
    "dt_string = today.strftime(\"%H:%M:%S\")\n",
    "print(f\"{dt_string} started doing step={step}\")\n"
   ]
  },
  {
   "cell_type": "code",
   "execution_count": 6,
   "metadata": {},
   "outputs": [
    {
     "ename": "NameError",
     "evalue": "name 'Train_descriptors' is not defined",
     "output_type": "error",
     "traceback": [
      "\u001b[0;31m---------------------------------------------------------------------------\u001b[0m",
      "\u001b[0;31mNameError\u001b[0m                                 Traceback (most recent call last)",
      "\u001b[0;32m<ipython-input-6-4cf253a70745>\u001b[0m in \u001b[0;36m<module>\u001b[0;34m\u001b[0m\n\u001b[0;32m----> 1\u001b[0;31m \u001b[0mlen\u001b[0m\u001b[0;34m(\u001b[0m\u001b[0mTrain_descriptors\u001b[0m\u001b[0;34m[\u001b[0m\u001b[0;36m0\u001b[0m\u001b[0;34m]\u001b[0m\u001b[0;34m)\u001b[0m\u001b[0;34m\u001b[0m\u001b[0;34m\u001b[0m\u001b[0m\n\u001b[0m",
      "\u001b[0;31mNameError\u001b[0m: name 'Train_descriptors' is not defined"
     ]
    }
   ],
   "source": [
    "len(Train_descriptors[0])"
   ]
  },
  {
   "cell_type": "code",
   "execution_count": 7,
   "metadata": {},
   "outputs": [
    {
     "data": {
      "text/plain": [
       "128"
      ]
     },
     "execution_count": 7,
     "metadata": {},
     "output_type": "execute_result"
    }
   ],
   "source": [
    "len(Train_descriptors[0][0])"
   ]
  },
  {
   "cell_type": "code",
   "execution_count": 8,
   "metadata": {},
   "outputs": [
    {
     "data": {
      "text/plain": [
       "array([[  0.,   0.,   0., ...,   0.,   5., 156.],\n",
       "       [  0.,   0.,   0., ...,   0.,   0.,  19.],\n",
       "       [  0.,   0.,   0., ...,   1.,   0.,   0.],\n",
       "       ...,\n",
       "       [121.,  55.,  71., ...,   0.,   0.,   0.],\n",
       "       [127.,  68.,  56., ...,   0.,   0.,   0.],\n",
       "       [ 65.,  26.,  23., ...,   0.,   0.,   0.]], dtype=float32)"
      ]
     },
     "execution_count": 8,
     "metadata": {},
     "output_type": "execute_result"
    }
   ],
   "source": [
    "Train_descriptors[0]"
   ]
  },
  {
   "cell_type": "code",
   "execution_count": 9,
   "metadata": {},
   "outputs": [
    {
     "data": {
      "text/plain": [
       "array([  0.,   0.,   0.,   0.,   0.,   0.,   0.,   0.,   0.,   0.,   0.,\n",
       "         0.,   0.,   0.,   0.,   0.,   0.,   0.,   0.,   0.,   0.,   0.,\n",
       "         0.,   0.,   0.,   0.,   0.,   0.,   0.,   0.,   0.,   0.,   0.,\n",
       "         0.,   0.,   0.,   0.,   0.,   0.,   0.,   0.,   0.,   1.,   2.,\n",
       "         0.,   0.,   0.,   0.,   2.,   2.,   4.,  26.,   4.,   0.,   0.,\n",
       "         0.,  26.,   5.,   3.,   5.,   0.,   0.,   0.,   8.,   0.,   0.,\n",
       "         0.,   0.,   0.,   0.,   0.,   0.,   0.,   0.,  57.,  31.,   1.,\n",
       "         0.,   0.,   0.,  96.,  82., 156., 156.,   8.,   0.,   0.,  17.,\n",
       "       156.,  41.,  24.,  19.,   0.,   0.,   0., 125.,   0.,   0.,   0.,\n",
       "         0.,   0.,   0.,   0.,   0.,   0.,   0.,  25.,  29.,   0.,   0.,\n",
       "        23.,   7., 156., 116., 124.,  76.,   0.,   0., 105., 156., 156.,\n",
       "        57.,   4.,   0.,   0.,   0.,   5., 156.], dtype=float32)"
      ]
     },
     "execution_count": 9,
     "metadata": {},
     "output_type": "execute_result"
    }
   ],
   "source": [
    "Train_descriptors[0][0]"
   ]
  },
  {
   "cell_type": "code",
   "execution_count": 10,
   "metadata": {},
   "outputs": [
    {
     "data": {
      "text/plain": [
       "array([0.01851464, 0.08331587, 0.05554392, 0.0802301 , 0.20983258,\n",
       "       0.09565897, 0.1604602 , 0.07714432, 0.00617155, 0.0462866 ,\n",
       "       0.01542887, 0.0925732 , 0.        , 0.07405856, 0.0802301 ,\n",
       "       0.2777196 , 0.00617155, 0.06788701, 0.00925732, 0.07405856,\n",
       "       0.09565897, 0.03702928, 0.00308577, 0.06480124, 0.06480124,\n",
       "       0.00308577, 0.00308577, 0.        , 0.        , 0.19748949,\n",
       "       0.20366102, 0.00617155, 0.08948742, 0.04320082, 0.1604602 ,\n",
       "       0.04011505, 0.03702928, 0.0925732 , 0.02777196, 0.13577402,\n",
       "       0.07097279, 0.02160041, 0.17897484, 0.05862969, 0.0925732 ,\n",
       "       0.        , 0.07405856, 0.0462866 , 0.16663174, 0.11725938,\n",
       "       0.01234309, 0.01542887, 0.02160041, 0.06171546, 0.04011505,\n",
       "       0.01542887, 0.06171546, 0.08640165, 0.0462866 , 0.08331587,\n",
       "       0.01851464, 0.23143299, 0.02777196, 0.0462866 , 0.1388598 ,\n",
       "       0.01542887, 0.02777196, 0.        , 0.05245814, 0.06788701,\n",
       "       0.07714432, 0.01851464, 0.        , 0.12034515, 0.01234309,\n",
       "       0.02160041, 0.06171546, 0.07097279, 0.05245814, 0.03702928,\n",
       "       0.01851464, 0.        , 0.14194557, 0.02160041, 0.02468619,\n",
       "       0.04320082, 0.05862969, 0.04937237, 0.01234309, 0.06171546,\n",
       "       0.15737443, 0.        , 0.05245814, 0.04937237, 0.        ,\n",
       "       0.13577402, 0.07097279, 0.00308577, 0.02468619, 0.13268824,\n",
       "       0.04937237, 0.12034515, 0.        , 0.12034515, 0.01851464,\n",
       "       0.1388598 , 0.10183051, 0.        , 0.13268824, 0.14811711,\n",
       "       0.12960248, 0.00617155, 0.        , 0.02160041, 0.02160041,\n",
       "       0.02160041, 0.00617155, 0.03085773, 0.0339435 , 0.02160041,\n",
       "       0.22217567, 0.00617155, 0.10183051, 0.1604602 , 0.14194557,\n",
       "       0.15428865, 0.14503133, 0.02468619], dtype=float32)"
      ]
     },
     "execution_count": 10,
     "metadata": {},
     "output_type": "execute_result"
    }
   ],
   "source": [
    "visual_words[0]"
   ]
  },
  {
   "cell_type": "code",
   "execution_count": 11,
   "metadata": {},
   "outputs": [
    {
     "data": {
      "text/plain": [
       "<BarContainer object of 128 artists>"
      ]
     },
     "execution_count": 11,
     "metadata": {},
     "output_type": "execute_result"
    },
    {
     "data": {
      "image/png": "[encoded data removed]",
      "text/plain": [
       "<Figure size 720x288 with 1 Axes>"
      ]
     },
     "metadata": {
      "needs_background": "light"
     },
     "output_type": "display_data"
    }
   ],
   "source": [
    "import matplotlib.pyplot as plt\n",
    "fig, ax = plt.subplots(figsize=(10,4))\n",
    "ax.bar(range(0,len(visual_words[0])),visual_words[1])"
   ]
  },
  {
   "cell_type": "code",
   "execution_count": null,
   "metadata": {},
   "outputs": [],
   "source": []
  },
  {
   "cell_type": "markdown",
   "metadata": {},
   "source": [
    "### Custom kernel: histogram intersection"
   ]
  },
  {
   "cell_type": "code",
   "execution_count": 16,
   "metadata": {},
   "outputs": [
    {
     "data": {
      "text/plain": [
       "array([[-3.2898468e-01,  2.8374344e-01,  3.9690768e-04, ...,\n",
       "         2.7051375e+00,  1.5258644e+00, -5.0902247e-01],\n",
       "       [-5.0083750e-01, -4.2245153e-01, -9.4691133e-01, ...,\n",
       "         3.7798339e-01,  1.0511870e+00,  1.0143219e+00],\n",
       "       [-3.7261152e-01,  1.7570398e+00, -2.5423008e-01, ...,\n",
       "        -3.5727862e-01,  1.8395721e+00,  2.7174678e+00],\n",
       "       ...,\n",
       "       [-4.6840474e-01, -9.1847771e-01, -6.9452047e-01, ...,\n",
       "        -8.8681769e-01, -1.1179303e+00, -5.5335021e-01],\n",
       "       [-5.2947098e-01, -9.1847771e-01, -1.0413202e+00, ...,\n",
       "        -9.8774433e-01, -1.1179303e+00, -9.3847406e-01],\n",
       "       [ 2.8544490e+00, -3.2635009e-01, -6.3774532e-01, ...,\n",
       "        -6.0102755e-01, -2.5480774e-01,  4.2304775e-01]], dtype=float32)"
      ]
     },
     "execution_count": 16,
     "metadata": {},
     "output_type": "execute_result"
    }
   ],
   "source": [
    "from sklearn.preprocessing import StandardScaler\n",
    "scaler = StandardScaler()\n",
    "scaler.fit_transform(visual_words)"
   ]
  },
  {
   "cell_type": "code",
   "execution_count": 18,
   "metadata": {},
   "outputs": [
    {
     "ename": "ValueError",
     "evalue": "X.shape[1] = 128 should be equal to 1881, the number of samples at training time",
     "output_type": "error",
     "traceback": [
      "\u001b[0;31m---------------------------------------------------------------------------\u001b[0m",
      "\u001b[0;31mValueError\u001b[0m                                Traceback (most recent call last)",
      "\u001b[0;32m<ipython-input-18-f8a6122760a0>\u001b[0m in \u001b[0;36m<module>\u001b[0;34m\u001b[0m\n\u001b[1;32m     16\u001b[0m \u001b[0mvisual_words_test\u001b[0m\u001b[0;34m=\u001b[0m\u001b[0mscaler\u001b[0m\u001b[0;34m.\u001b[0m\u001b[0mtransform\u001b[0m\u001b[0;34m(\u001b[0m\u001b[0mvisual_words_test\u001b[0m\u001b[0;34m)\u001b[0m\u001b[0;34m\u001b[0m\u001b[0;34m\u001b[0m\u001b[0m\n\u001b[1;32m     17\u001b[0m \u001b[0;31m#scores = cross_val_score(inter_svc, visual_words_test, test_labels, cv=5)\u001b[0m\u001b[0;34m\u001b[0m\u001b[0;34m\u001b[0m\u001b[0;34m\u001b[0m\u001b[0m\n\u001b[0;32m---> 18\u001b[0;31m \u001b[0my_pred\u001b[0m \u001b[0;34m=\u001b[0m \u001b[0minter_svc\u001b[0m\u001b[0;34m.\u001b[0m\u001b[0mpredict\u001b[0m\u001b[0;34m(\u001b[0m\u001b[0mvisual_words_test\u001b[0m\u001b[0;34m)\u001b[0m\u001b[0;34m\u001b[0m\u001b[0;34m\u001b[0m\u001b[0m\n\u001b[0m\u001b[1;32m     19\u001b[0m \u001b[0mprecision\u001b[0m\u001b[0;34m=\u001b[0m\u001b[0;36m100\u001b[0m\u001b[0;34m*\u001b[0m\u001b[0mprecision_score\u001b[0m\u001b[0;34m(\u001b[0m\u001b[0my_pred\u001b[0m\u001b[0;34m,\u001b[0m \u001b[0mtest_labels\u001b[0m\u001b[0;34m,\u001b[0m\u001b[0maverage\u001b[0m\u001b[0;34m=\u001b[0m\u001b[0;34m'macro'\u001b[0m\u001b[0;34m)\u001b[0m\u001b[0;34m\u001b[0m\u001b[0;34m\u001b[0m\u001b[0m\n\u001b[1;32m     20\u001b[0m \u001b[0;34m\u001b[0m\u001b[0m\n",
      "\u001b[0;32m/usr/local/lib/python3.9/site-packages/sklearn/svm/_base.py\u001b[0m in \u001b[0;36mpredict\u001b[0;34m(self, X)\u001b[0m\n\u001b[1;32m    613\u001b[0m             \u001b[0my\u001b[0m \u001b[0;34m=\u001b[0m \u001b[0mnp\u001b[0m\u001b[0;34m.\u001b[0m\u001b[0margmax\u001b[0m\u001b[0;34m(\u001b[0m\u001b[0mself\u001b[0m\u001b[0;34m.\u001b[0m\u001b[0mdecision_function\u001b[0m\u001b[0;34m(\u001b[0m\u001b[0mX\u001b[0m\u001b[0;34m)\u001b[0m\u001b[0;34m,\u001b[0m \u001b[0maxis\u001b[0m\u001b[0;34m=\u001b[0m\u001b[0;36m1\u001b[0m\u001b[0;34m)\u001b[0m\u001b[0;34m\u001b[0m\u001b[0;34m\u001b[0m\u001b[0m\n\u001b[1;32m    614\u001b[0m         \u001b[0;32melse\u001b[0m\u001b[0;34m:\u001b[0m\u001b[0;34m\u001b[0m\u001b[0;34m\u001b[0m\u001b[0m\n\u001b[0;32m--> 615\u001b[0;31m             \u001b[0my\u001b[0m \u001b[0;34m=\u001b[0m \u001b[0msuper\u001b[0m\u001b[0;34m(\u001b[0m\u001b[0;34m)\u001b[0m\u001b[0;34m.\u001b[0m\u001b[0mpredict\u001b[0m\u001b[0;34m(\u001b[0m\u001b[0mX\u001b[0m\u001b[0;34m)\u001b[0m\u001b[0;34m\u001b[0m\u001b[0;34m\u001b[0m\u001b[0m\n\u001b[0m\u001b[1;32m    616\u001b[0m         \u001b[0;32mreturn\u001b[0m \u001b[0mself\u001b[0m\u001b[0;34m.\u001b[0m\u001b[0mclasses_\u001b[0m\u001b[0;34m.\u001b[0m\u001b[0mtake\u001b[0m\u001b[0;34m(\u001b[0m\u001b[0mnp\u001b[0m\u001b[0;34m.\u001b[0m\u001b[0masarray\u001b[0m\u001b[0;34m(\u001b[0m\u001b[0my\u001b[0m\u001b[0;34m,\u001b[0m \u001b[0mdtype\u001b[0m\u001b[0;34m=\u001b[0m\u001b[0mnp\u001b[0m\u001b[0;34m.\u001b[0m\u001b[0mintp\u001b[0m\u001b[0;34m)\u001b[0m\u001b[0;34m)\u001b[0m\u001b[0;34m\u001b[0m\u001b[0;34m\u001b[0m\u001b[0m\n\u001b[1;32m    617\u001b[0m \u001b[0;34m\u001b[0m\u001b[0m\n",
      "\u001b[0;32m/usr/local/lib/python3.9/site-packages/sklearn/svm/_base.py\u001b[0m in \u001b[0;36mpredict\u001b[0;34m(self, X)\u001b[0m\n\u001b[1;32m    331\u001b[0m         \u001b[0my_pred\u001b[0m \u001b[0;34m:\u001b[0m \u001b[0mndarray\u001b[0m \u001b[0mof\u001b[0m \u001b[0mshape\u001b[0m \u001b[0;34m(\u001b[0m\u001b[0mn_samples\u001b[0m\u001b[0;34m,\u001b[0m\u001b[0;34m)\u001b[0m\u001b[0;34m\u001b[0m\u001b[0;34m\u001b[0m\u001b[0m\n\u001b[1;32m    332\u001b[0m         \"\"\"\n\u001b[0;32m--> 333\u001b[0;31m         \u001b[0mX\u001b[0m \u001b[0;34m=\u001b[0m \u001b[0mself\u001b[0m\u001b[0;34m.\u001b[0m\u001b[0m_validate_for_predict\u001b[0m\u001b[0;34m(\u001b[0m\u001b[0mX\u001b[0m\u001b[0;34m)\u001b[0m\u001b[0;34m\u001b[0m\u001b[0;34m\u001b[0m\u001b[0m\n\u001b[0m\u001b[1;32m    334\u001b[0m         \u001b[0mpredict\u001b[0m \u001b[0;34m=\u001b[0m \u001b[0mself\u001b[0m\u001b[0;34m.\u001b[0m\u001b[0m_sparse_predict\u001b[0m \u001b[0;32mif\u001b[0m \u001b[0mself\u001b[0m\u001b[0;34m.\u001b[0m\u001b[0m_sparse\u001b[0m \u001b[0;32melse\u001b[0m \u001b[0mself\u001b[0m\u001b[0;34m.\u001b[0m\u001b[0m_dense_predict\u001b[0m\u001b[0;34m\u001b[0m\u001b[0;34m\u001b[0m\u001b[0m\n\u001b[1;32m    335\u001b[0m         \u001b[0;32mreturn\u001b[0m \u001b[0mpredict\u001b[0m\u001b[0;34m(\u001b[0m\u001b[0mX\u001b[0m\u001b[0;34m)\u001b[0m\u001b[0;34m\u001b[0m\u001b[0;34m\u001b[0m\u001b[0m\n",
      "\u001b[0;32m/usr/local/lib/python3.9/site-packages/sklearn/svm/_base.py\u001b[0m in \u001b[0;36m_validate_for_predict\u001b[0;34m(self, X)\u001b[0m\n\u001b[1;32m    478\u001b[0m         \u001b[0;32mif\u001b[0m \u001b[0mself\u001b[0m\u001b[0;34m.\u001b[0m\u001b[0mkernel\u001b[0m \u001b[0;34m==\u001b[0m \u001b[0;34m\"precomputed\"\u001b[0m\u001b[0;34m:\u001b[0m\u001b[0;34m\u001b[0m\u001b[0;34m\u001b[0m\u001b[0m\n\u001b[1;32m    479\u001b[0m             \u001b[0;32mif\u001b[0m \u001b[0mX\u001b[0m\u001b[0;34m.\u001b[0m\u001b[0mshape\u001b[0m\u001b[0;34m[\u001b[0m\u001b[0;36m1\u001b[0m\u001b[0;34m]\u001b[0m \u001b[0;34m!=\u001b[0m \u001b[0mself\u001b[0m\u001b[0;34m.\u001b[0m\u001b[0mshape_fit_\u001b[0m\u001b[0;34m[\u001b[0m\u001b[0;36m0\u001b[0m\u001b[0;34m]\u001b[0m\u001b[0;34m:\u001b[0m\u001b[0;34m\u001b[0m\u001b[0;34m\u001b[0m\u001b[0m\n\u001b[0;32m--> 480\u001b[0;31m                 raise ValueError(\"X.shape[1] = %d should be equal to %d, \"\n\u001b[0m\u001b[1;32m    481\u001b[0m                                  \u001b[0;34m\"the number of samples at training time\"\u001b[0m \u001b[0;34m%\u001b[0m\u001b[0;34m\u001b[0m\u001b[0;34m\u001b[0m\u001b[0m\n\u001b[1;32m    482\u001b[0m                                  (X.shape[1], self.shape_fit_[0]))\n",
      "\u001b[0;31mValueError\u001b[0m: X.shape[1] = 128 should be equal to 1881, the number of samples at training time"
     ]
    }
   ],
   "source": [
    "inter_svc = svm.SVC(kernel='precomputed')\n",
    "gram = intersection_kernel_cmp(visual_words, visual_words)\n",
    "inter_svc.fit(gram, train_labels)\n",
    "#inter_svc.fit(visual_words,train_labels)\n",
    "\n",
    "visual_words_test=np.zeros((len(test_images_filenames),k),dtype=np.float32)\n",
    "for i in range(len(test_images_filenames)):\n",
    "    filename=test_images_filenames[i]\n",
    "    ima=cv2.imread(filename)\n",
    "    gray=cv2.cvtColor(ima,cv2.COLOR_BGR2GRAY)\n",
    "#     kpt,des=SIFTdetector.detectAndCompute(gray,None)\n",
    "    des=compute_dense_sift(gray,SIFTdetector, step)\n",
    "    words=codebook.predict(des)\n",
    "    visual_words_test[i,:]=normalize(np.bincount(words,minlength=k).reshape(1,-1))\n",
    "\n",
    "visual_words_test=scaler.transform(visual_words_test)\n",
    "#scores = cross_val_score(inter_svc, visual_words_test, test_labels, cv=5)\n",
    "y_pred = inter_svc.predict(visual_words_test)\n",
    "precision=100*precision_score(y_pred, test_labels,average='macro')\n",
    "\n",
    "#accuracy=scores.mean()*100\n",
    "\n",
    "print(precision)"
   ]
  },
  {
   "cell_type": "markdown",
   "metadata": {},
   "source": [
    "## Linear Kernel with scaler"
   ]
  },
  {
   "cell_type": "code",
   "execution_count": 13,
   "metadata": {},
   "outputs": [
    {
     "name": "stderr",
     "output_type": "stream",
     "text": [
      "/usr/local/lib/python3.9/site-packages/sklearn/svm/_base.py:976: ConvergenceWarning: Liblinear failed to converge, increase the number of iterations.\n",
      "  warnings.warn(\"Liblinear failed to converge, increase \"\n",
      "/usr/local/lib/python3.9/site-packages/sklearn/svm/_base.py:976: ConvergenceWarning: Liblinear failed to converge, increase the number of iterations.\n",
      "  warnings.warn(\"Liblinear failed to converge, increase \"\n",
      "/usr/local/lib/python3.9/site-packages/sklearn/svm/_base.py:976: ConvergenceWarning: Liblinear failed to converge, increase the number of iterations.\n",
      "  warnings.warn(\"Liblinear failed to converge, increase \"\n",
      "/usr/local/lib/python3.9/site-packages/sklearn/svm/_base.py:976: ConvergenceWarning: Liblinear failed to converge, increase the number of iterations.\n",
      "  warnings.warn(\"Liblinear failed to converge, increase \"\n"
     ]
    },
    {
     "name": "stdout",
     "output_type": "stream",
     "text": [
      "65.79940188635842\n"
     ]
    },
    {
     "name": "stderr",
     "output_type": "stream",
     "text": [
      "/usr/local/lib/python3.9/site-packages/sklearn/svm/_base.py:976: ConvergenceWarning: Liblinear failed to converge, increase the number of iterations.\n",
      "  warnings.warn(\"Liblinear failed to converge, increase \"\n"
     ]
    }
   ],
   "source": [
    "lin_clf = svm.LinearSVC(max_iter=2000, C=10)\n",
    "lin_clf.fit(visual_words, train_labels)\n",
    "\n",
    "visual_words_test=np.zeros((len(test_images_filenames),k),dtype=np.float32)\n",
    "for i in range(len(test_images_filenames)):\n",
    "    filename=test_images_filenames[i]\n",
    "    ima=cv2.imread(filename)\n",
    "    gray=cv2.cvtColor(ima,cv2.COLOR_BGR2GRAY)\n",
    "#     kpt,des=SIFTdetector.detectAndCompute(gray,None)\n",
    "    des=compute_dense_sift(gray,SIFTdetector, step)\n",
    "    words=codebook.predict(des)\n",
    "    visual_words_test[i,:]=normalize(np.bincount(words,minlength=k).reshape(1,-1))\n",
    "\n",
    "visual_words_test=scaler.transform(visual_words_test)\n",
    "scores = cross_val_score(lin_clf, visual_words_test, test_labels, cv=5)\n",
    "accuracy=scores.mean()*100\n",
    "\n",
    "print(accuracy)"
   ]
  },
  {
   "cell_type": "markdown",
   "metadata": {},
   "source": [
    "## RBF Kernel with scaler"
   ]
  },
  {
   "cell_type": "code",
   "execution_count": 14,
   "metadata": {},
   "outputs": [
    {
     "name": "stdout",
     "output_type": "stream",
     "text": [
      "78.81374127750938\n"
     ]
    }
   ],
   "source": [
    "rbf_svc = svm.SVC(kernel='rbf', C=1000, gamma=0.001)\n",
    "rbf_svc.fit(visual_words, train_labels)\n",
    "\n",
    "visual_words_test=np.zeros((len(test_images_filenames),k),dtype=np.float32)\n",
    "for i in range(len(test_images_filenames)):\n",
    "    filename=test_images_filenames[i]\n",
    "    ima=cv2.imread(filename)\n",
    "    gray=cv2.cvtColor(ima,cv2.COLOR_BGR2GRAY)\n",
    "#     kpt,des=SIFTdetector.detectAndCompute(gray,None)\n",
    "    des=compute_dense_sift(gray,SIFTdetector, step)\n",
    "    words=codebook.predict(des)\n",
    "    visual_words_test[i,:]=normalize(np.bincount(words,minlength=k).reshape(1,-1))\n",
    "\n",
    "visual_words_test=scaler.transform(visual_words_test)\n",
    "scores = cross_val_score(rbf_svc, visual_words_test, test_labels, cv=5)\n",
    "\n",
    "accuracy=scores.mean()*100\n",
    "\n",
    "print(accuracy)"
   ]
  },
  {
   "cell_type": "code",
   "execution_count": 15,
   "metadata": {},
   "outputs": [
    {
     "data": {
      "text/plain": [
       "'\\nfor filename,labels in zip(train_images_filenames,train_labels):\\n    ima=cv2.imread(filename)\\n    gray=cv2.cvtColor(ima,cv2.COLOR_BGR2GRAY)\\n    break\\n\\ntiles = get_pyramid_image_cells(gray,2)\\n'"
      ]
     },
     "execution_count": 15,
     "metadata": {},
     "output_type": "execute_result"
    }
   ],
   "source": [
    "def get_pyramid_image_cells(image,level):\n",
    "    # CURRENTLY WORKING ONLY FOR LEVELS 0,1,2 (1,4, and 16 cells)\n",
    "    M = (image.shape[0])//(level+1)\n",
    "    N = (image.shape[1])//(level+1)\n",
    "    tiles = [image[x:x+M,y:y+N] for x in range(0,image.shape[0],M) for y in range(0,image.shape[1],N)]\n",
    "    #print(image.shape)\n",
    "    #print(\"level=\", level)\n",
    "    #print(\"returning \" + str(len(tiles)) + \" tiles\")\n",
    "    return tiles\n",
    "\n",
    "\n",
    "'''\n",
    "for filename,labels in zip(train_images_filenames,train_labels):\n",
    "    ima=cv2.imread(filename)\n",
    "    gray=cv2.cvtColor(ima,cv2.COLOR_BGR2GRAY)\n",
    "    break\n",
    "\n",
    "tiles = get_pyramid_image_cells(gray,2)\n",
    "'''"
   ]
  },
  {
   "cell_type": "markdown",
   "metadata": {},
   "source": [
    "## Calculating a histogram per cell and concatenating them\n",
    "Compute a histogram for each part of the image and put these histograms together in a weighted concatenation \n",
    "(since there will be less words overall in a smaller cell).\n",
    "The weighted concatenation can be a simple normalization of every histogram so the area of the histogram adds up to 1.\n",
    "A pyramid of l levels will yield in 2^(2l) histograms n_words = k*(1+2**(2*pyramid_levels)).\n",
    "the final image histogram is a concatenated vector  of  the  bin  values  of  all  the  histograms in  the  pyramid.\n",
    "concatenation method used in:\n",
    "http://lear.imag.fr/pub/203-bosch-civr07.pdf\n",
    "https://core.ac.uk/download/pdf/82695491.pdf\n",
    "\n",
    "TODO: Initialisation of concatenated_histogram. "
   ]
  },
  {
   "cell_type": "code",
   "execution_count": 7,
   "metadata": {},
   "outputs": [
    {
     "name": "stdout",
     "output_type": "stream",
     "text": [
      "16:27:48 started doing step=5\n"
     ]
    },
    {
     "ename": "NameError",
     "evalue": "name 'get_pyramid_image_cells' is not defined",
     "output_type": "error",
     "traceback": [
      "\u001b[0;31m---------------------------------------------------------------------------\u001b[0m",
      "\u001b[0;31mNameError\u001b[0m                                 Traceback (most recent call last)",
      "\u001b[0;32m<ipython-input-7-536ca8bd1293>\u001b[0m in \u001b[0;36m<module>\u001b[0;34m\u001b[0m\n\u001b[1;32m     15\u001b[0m     \u001b[0;32mfor\u001b[0m \u001b[0mi\u001b[0m \u001b[0;32min\u001b[0m \u001b[0mrange\u001b[0m\u001b[0;34m(\u001b[0m\u001b[0mpyramid_levels\u001b[0m\u001b[0;34m+\u001b[0m\u001b[0;36m1\u001b[0m\u001b[0;34m)\u001b[0m\u001b[0;34m:\u001b[0m\u001b[0;34m\u001b[0m\u001b[0;34m\u001b[0m\u001b[0m\n\u001b[1;32m     16\u001b[0m \u001b[0;34m\u001b[0m\u001b[0m\n\u001b[0;32m---> 17\u001b[0;31m         \u001b[0mlevel_cells\u001b[0m \u001b[0;34m=\u001b[0m \u001b[0mget_pyramid_image_cells\u001b[0m\u001b[0;34m(\u001b[0m\u001b[0mgray\u001b[0m\u001b[0;34m,\u001b[0m\u001b[0mlevel\u001b[0m\u001b[0;34m=\u001b[0m\u001b[0mi\u001b[0m\u001b[0;34m)\u001b[0m\u001b[0;34m\u001b[0m\u001b[0;34m\u001b[0m\u001b[0m\n\u001b[0m\u001b[1;32m     18\u001b[0m         \u001b[0mimage_cells\u001b[0m \u001b[0;34m=\u001b[0m \u001b[0mimage_cells\u001b[0m \u001b[0;34m+\u001b[0m \u001b[0mlevel_cells\u001b[0m\u001b[0;34m\u001b[0m\u001b[0;34m\u001b[0m\u001b[0m\n\u001b[1;32m     19\u001b[0m         \u001b[0;31m# compute descriptors for each tile\u001b[0m\u001b[0;34m\u001b[0m\u001b[0;34m\u001b[0m\u001b[0;34m\u001b[0m\u001b[0m\n",
      "\u001b[0;31mNameError\u001b[0m: name 'get_pyramid_image_cells' is not defined"
     ]
    }
   ],
   "source": [
    "step=5\n",
    "\n",
    "today = datetime.now()\n",
    "dt_string = today.strftime(\"%H:%M:%S\")\n",
    "print(f\"{dt_string} started doing step={step}\")\n",
    "\n",
    "Train_descriptors = []\n",
    "Train_label_per_descriptor = []\n",
    "pyramid_levels = 1 # level zero has 1 tile, level 1 has 4 tiles => 5 histograms that will be concatenated\n",
    "for filename,labels in zip(train_images_filenames,train_labels):\n",
    "    ima=cv2.imread(filename)\n",
    "    gray=cv2.cvtColor(ima,cv2.COLOR_BGR2GRAY)\n",
    "    # break the image into pieces\n",
    "    image_cells = []\n",
    "    for i in range(pyramid_levels+1):\n",
    "\n",
    "        level_cells = get_pyramid_image_cells(gray,level=i)\n",
    "        image_cells = image_cells + level_cells\n",
    "        # compute descriptors for each tile\n",
    "    Train_descriptors_cell = []\n",
    "    for cell in image_cells:\n",
    "        des=compute_dense_sift(cell,SIFTdetector, step)\n",
    "        Train_descriptors_cell.append(des)\n",
    "        \n",
    "    Train_descriptors.append(Train_descriptors_cell)\n",
    "    Train_label_per_descriptor.append(labels)"
   ]
  },
  {
   "cell_type": "code",
   "execution_count": 17,
   "metadata": {},
   "outputs": [
    {
     "data": {
      "text/plain": [
       "5"
      ]
     },
     "execution_count": 17,
     "metadata": {},
     "output_type": "execute_result"
    }
   ],
   "source": [
    "len(Train_descriptors[0])"
   ]
  },
  {
   "cell_type": "code",
   "execution_count": 18,
   "metadata": {},
   "outputs": [
    {
     "data": {
      "text/plain": [
       "2704"
      ]
     },
     "execution_count": 18,
     "metadata": {},
     "output_type": "execute_result"
    }
   ],
   "source": [
    "len(Train_descriptors[0][0])"
   ]
  },
  {
   "cell_type": "code",
   "execution_count": 19,
   "metadata": {},
   "outputs": [
    {
     "data": {
      "text/plain": [
       "128"
      ]
     },
     "execution_count": 19,
     "metadata": {},
     "output_type": "execute_result"
    }
   ],
   "source": [
    "len(Train_descriptors[0][0][0])"
   ]
  },
  {
   "cell_type": "code",
   "execution_count": 20,
   "metadata": {},
   "outputs": [
    {
     "data": {
      "text/plain": [
       "array([  0.,   0.,   0.,   0.,   0.,   0.,   0.,   0.,   0.,   0.,   0.,\n",
       "         0.,   0.,   0.,   0.,   0.,   0.,   0.,   0.,   0.,   0.,   0.,\n",
       "         0.,   0.,   0.,   0.,   0.,   0.,   0.,   0.,   0.,   0.,   0.,\n",
       "         0.,   0.,   0.,   0.,   0.,   0.,   0.,   0.,   0.,   1.,   2.,\n",
       "         0.,   0.,   0.,   0.,   2.,   2.,   4.,  26.,   4.,   0.,   0.,\n",
       "         0.,  26.,   5.,   3.,   5.,   0.,   0.,   0.,   8.,   0.,   0.,\n",
       "         0.,   0.,   0.,   0.,   0.,   0.,   0.,   0.,  57.,  31.,   1.,\n",
       "         0.,   0.,   0.,  96.,  82., 156., 156.,   8.,   0.,   0.,  17.,\n",
       "       156.,  41.,  24.,  19.,   0.,   0.,   0., 125.,   0.,   0.,   0.,\n",
       "         0.,   0.,   0.,   0.,   0.,   0.,   0.,  25.,  29.,   0.,   0.,\n",
       "        23.,   7., 156., 116., 124.,  76.,   0.,   0., 105., 156., 156.,\n",
       "        57.,   4.,   0.,   0.,   0.,   5., 156.], dtype=float32)"
      ]
     },
     "execution_count": 20,
     "metadata": {},
     "output_type": "execute_result"
    }
   ],
   "source": [
    "Train_descriptors[0][0][0]"
   ]
  },
  {
   "cell_type": "code",
   "execution_count": 21,
   "metadata": {},
   "outputs": [],
   "source": [
    "# train all cells as separate images\n",
    "D=np.vstack([des for descriptors_cells in Train_descriptors for des in descriptors_cells])\n"
   ]
  },
  {
   "cell_type": "code",
   "execution_count": 22,
   "metadata": {},
   "outputs": [
    {
     "data": {
      "text/plain": [
       "(10172448, 128)"
      ]
     },
     "execution_count": 22,
     "metadata": {},
     "output_type": "execute_result"
    }
   ],
   "source": [
    "D.shape"
   ]
  },
  {
   "cell_type": "code",
   "execution_count": 23,
   "metadata": {},
   "outputs": [
    {
     "data": {
      "text/plain": [
       "MiniBatchKMeans(batch_size=2560, compute_labels=False, n_clusters=128,\n",
       "                random_state=42, reassignment_ratio=0.0001, verbose=False)"
      ]
     },
     "execution_count": 23,
     "metadata": {},
     "output_type": "execute_result"
    }
   ],
   "source": [
    "k=128\n",
    "codebook = MiniBatchKMeans(n_clusters=k, verbose=False, batch_size=k * 20,compute_labels=False,reassignment_ratio=10**-4,random_state=42)\n",
    "codebook.fit(D)"
   ]
  },
  {
   "cell_type": "code",
   "execution_count": 24,
   "metadata": {},
   "outputs": [
    {
     "name": "stdout",
     "output_type": "stream",
     "text": [
      "640\n"
     ]
    }
   ],
   "source": [
    "print(k*(1+2**(2*pyramid_levels)))"
   ]
  },
  {
   "cell_type": "code",
   "execution_count": 25,
   "metadata": {},
   "outputs": [
    {
     "data": {
      "text/plain": [
       "2704"
      ]
     },
     "execution_count": 25,
     "metadata": {},
     "output_type": "execute_result"
    }
   ],
   "source": [
    "len(Train_descriptors[0][0])"
   ]
  },
  {
   "cell_type": "code",
   "execution_count": 26,
   "metadata": {},
   "outputs": [],
   "source": [
    "visual_words=np.zeros((len(Train_descriptors),k*(1+2**(2*pyramid_levels))),dtype=np.float32)\n",
    "for idx,cells in enumerate(Train_descriptors):\n",
    "\n",
    "    image_histograms = []\n",
    "    for id2,image_cell in enumerate(cells):\n",
    "        cell_words = codebook.predict(image_cell)\n",
    "        image_histograms.append(normalize(np.bincount(cell_words,minlength=k).reshape(1,-1)))\n",
    "        # concatenated histogram has k*(1+2**(2*pyramid_levels)) bins\n",
    "        # normalize(np.bincount(words,minlength=k).reshape(1,-1))\n",
    "\n",
    "    concatenated_histogram=image_histograms[0].copy()\n",
    "    for cell_idx in range(1,len(image_histograms)):\n",
    "        # concatenate histograms\n",
    "        concatenated_histogram = np.concatenate((concatenated_histogram,image_histograms[cell_idx]))\n",
    "    visual_words[idx,:]=concatenated_histogram.flatten()\n",
    "    \n",
    "    #visual_words[idx,:]=np.bincount(words,minlength=k*(2**(2*pyramid_levels))) # this will just be longer as levels \n",
    "                                                                                # increase \n",
    "                                                                                # see: k*(2**(2*pyramid_levels)) long\n",
    "\n",
    "# knn = KNeighborsClassifier(n_neighbors=37,n_jobs=-1,metric='manhattan')\n",
    "# knn.fit(visual_words, train_labels) "
   ]
  },
  {
   "cell_type": "code",
   "execution_count": null,
   "metadata": {},
   "outputs": [],
   "source": []
  },
  {
   "cell_type": "code",
   "execution_count": null,
   "metadata": {
    "scrolled": true
   },
   "outputs": [],
   "source": []
  },
  {
   "cell_type": "code",
   "execution_count": 27,
   "metadata": {},
   "outputs": [
    {
     "data": {
      "text/plain": [
       "(640,)"
      ]
     },
     "execution_count": 27,
     "metadata": {},
     "output_type": "execute_result"
    }
   ],
   "source": [
    "visual_words[0,:].shape"
   ]
  },
  {
   "cell_type": "markdown",
   "metadata": {},
   "source": [
    "TRAINED Visual Words tryin further worked until now"
   ]
  },
  {
   "cell_type": "code",
   "execution_count": 28,
   "metadata": {},
   "outputs": [
    {
     "data": {
      "text/plain": [
       "array([[-0.40743104,  0.691564  , -0.45499456, ..., -0.23339981,\n",
       "        -0.67541283, -0.54027516],\n",
       "       [ 2.599838  , -0.16170104, -0.55361885, ..., -0.696951  ,\n",
       "        -0.67541283, -0.54027516],\n",
       "       [-0.78722453,  0.53634024, -0.30402434, ..., -0.5664135 ,\n",
       "        -0.4231108 , -0.2187593 ],\n",
       "       ...,\n",
       "       [-0.85207844, -1.134025  , -0.24911992, ..., -0.696951  ,\n",
       "        -0.67541283,  1.5286832 ],\n",
       "       [-0.19365373, -1.2181159 , -0.5328071 , ..., -0.696951  ,\n",
       "        -0.67541283,  1.507457  ],\n",
       "       [ 0.6191304 ,  0.6266088 ,  2.9528873 , ...,  0.1015804 ,\n",
       "         0.5593044 , -0.54027516]], dtype=float32)"
      ]
     },
     "execution_count": 28,
     "metadata": {},
     "output_type": "execute_result"
    }
   ],
   "source": [
    "from sklearn.preprocessing import StandardScaler\n",
    "scaler = StandardScaler()\n",
    "scaler.fit_transform(visual_words)"
   ]
  },
  {
   "cell_type": "code",
   "execution_count": 29,
   "metadata": {},
   "outputs": [
    {
     "data": {
      "text/plain": [
       "LinearSVC(C=10, max_iter=2000)"
      ]
     },
     "execution_count": 29,
     "metadata": {},
     "output_type": "execute_result"
    }
   ],
   "source": [
    "lin_clf = svm.LinearSVC(max_iter=2000,C=10)\n",
    "lin_clf.fit(visual_words, train_labels)"
   ]
  },
  {
   "cell_type": "code",
   "execution_count": 30,
   "metadata": {},
   "outputs": [
    {
     "data": {
      "text/plain": [
       "SVC(C=1000, gamma=0.001)"
      ]
     },
     "execution_count": 30,
     "metadata": {},
     "output_type": "execute_result"
    }
   ],
   "source": [
    "rbf_svc = svm.SVC(kernel='rbf',C=1000,gamma=0.001)\n",
    "rbf_svc.fit(visual_words, train_labels)"
   ]
  },
  {
   "cell_type": "code",
   "execution_count": 52,
   "metadata": {},
   "outputs": [
    {
     "data": {
      "text/plain": [
       "(1881, 640)"
      ]
     },
     "execution_count": 52,
     "metadata": {},
     "output_type": "execute_result"
    }
   ],
   "source": [
    "visual_words.shape"
   ]
  },
  {
   "cell_type": "code",
   "execution_count": 14,
   "metadata": {},
   "outputs": [
    {
     "data": {
      "text/plain": [
       "SVC(kernel='precomputed')"
      ]
     },
     "execution_count": 14,
     "metadata": {},
     "output_type": "execute_result"
    }
   ],
   "source": [
    "inter_svc = svm.SVC(kernel='precomputed')\n",
    "gram = intersection_kernel_cmp(visual_words, visual_words)\n",
    "inter_svc.fit(gram, train_labels)\n",
    "#inter_svc.fit(visual_words,train_labels)"
   ]
  },
  {
   "cell_type": "code",
   "execution_count": 112,
   "metadata": {},
   "outputs": [
    {
     "name": "stdout",
     "output_type": "stream",
     "text": [
      "13:40:37 started doing step=5\n"
     ]
    }
   ],
   "source": [
    "today = datetime.now()\n",
    "dt_string = today.strftime(\"%H:%M:%S\")\n",
    "print(f\"{dt_string} started doing step={step}\")\n",
    "\n",
    "Test_descriptors = []\n",
    "Test_label_per_descriptor = []\n",
    "pyramid_levels = 1 # level zero has 1 tile, level 1 has 4 tiles => 5 histograms that will be concatenated\n",
    "for filename,labels in zip(test_images_filenames,test_labels):\n",
    "    ima=cv2.imread(filename)\n",
    "    gray=cv2.cvtColor(ima,cv2.COLOR_BGR2GRAY)\n",
    "    # break the image into pieces\n",
    "    image_cells = []\n",
    "    for i in range(pyramid_levels+1):\n",
    "\n",
    "        level_cells = get_pyramid_image_cells(gray,level=i)\n",
    "        image_cells = image_cells + level_cells\n",
    "        # compute descriptors for each tile\n",
    "    Test_descriptors_cell = []\n",
    "    for cell in image_cells:\n",
    "        des=compute_dense_sift(cell,SIFTdetector, step)\n",
    "        Test_descriptors_cell.append(des)\n",
    "        \n",
    "    Test_descriptors.append(Test_descriptors_cell)\n",
    "    Test_label_per_descriptor.append(labels)"
   ]
  },
  {
   "cell_type": "code",
   "execution_count": 113,
   "metadata": {},
   "outputs": [],
   "source": [
    "visual_words_test=np.zeros((len(Test_descriptors),k*(1+2**(2*pyramid_levels))),dtype=np.float32)\n",
    "for idx,cells in enumerate(Test_descriptors):\n",
    "\n",
    "    image_histograms = []\n",
    "    for id2,image_cell in enumerate(cells):\n",
    "        cell_words = codebook.predict(image_cell)\n",
    "        image_histograms.append(normalize(np.bincount(cell_words,minlength=k).reshape(1,-1)))\n",
    "        # concatenated histogram has k*(1+2**(2*pyramid_levels)) bins\n",
    "        # normalize(np.bincount(words,minlength=k).reshape(1,-1))\n",
    "\n",
    "    concatenated_histogram=image_histograms[0].copy()\n",
    "    for cell_idx in range(1,len(image_histograms)):\n",
    "        # concatenate histograms\n",
    "        concatenated_histogram = np.concatenate((concatenated_histogram,image_histograms[cell_idx]))\n",
    "    visual_words_test[idx,:]=concatenated_histogram.flatten()"
   ]
  },
  {
   "cell_type": "code",
   "execution_count": 114,
   "metadata": {},
   "outputs": [
    {
     "name": "stdout",
     "output_type": "stream",
     "text": [
      "73.60785215857679\n"
     ]
    }
   ],
   "source": [
    "visual_words_test=scaler.transform(visual_words_test)\n",
    "scores = cross_val_score(lin_clf, visual_words_test, test_labels, cv=5)\n",
    "accuracy=scores.mean()*100\n",
    "\n",
    "print(accuracy)"
   ]
  },
  {
   "cell_type": "code",
   "execution_count": 115,
   "metadata": {},
   "outputs": [
    {
     "name": "stdout",
     "output_type": "stream",
     "text": [
      "80.79058354420671\n"
     ]
    }
   ],
   "source": [
    "# visual_words_test=scaler.transform(visual_words_test)\n",
    "scores = cross_val_score(rbf_svc, visual_words_test, test_labels, cv=5)\n",
    "accuracy=scores.mean()*100\n",
    "\n",
    "print(accuracy)"
   ]
  },
  {
   "cell_type": "markdown",
   "metadata": {},
   "source": [
    "## creating kernel for intersection of histograms"
   ]
  },
  {
   "cell_type": "code",
   "execution_count": 13,
   "metadata": {},
   "outputs": [],
   "source": [
    "def intersection_kernel_cmp(X, Y):\n",
    "    # return cv2.compareHist(X, Y, method=cv2.HISTCMP_INTERSECT) problem: this returns a single number\n",
    "    minim = np.minimum(X[:, :, None], Y[:, :, None].T)\n",
    "    intersection = np.sum(minim, axis=1)\n",
    "    return intersection"
   ]
  },
  {
   "cell_type": "code",
   "execution_count": 46,
   "metadata": {},
   "outputs": [],
   "source": [
    "intersection = intersection_kernel_cmp(visual_words[0],visual_words[1])\n",
    "clf = svm.SVC(kernel=intersection_kernel_cmp)\n"
   ]
  },
  {
   "cell_type": "code",
   "execution_count": 41,
   "metadata": {},
   "outputs": [],
   "source": [
    "import warnings\n",
    "warnings.filterwarnings('ignore')"
   ]
  },
  {
   "cell_type": "markdown",
   "metadata": {},
   "source": [
    "## GridSearchCV cross validation finding best parameters for RBF and Linear"
   ]
  },
  {
   "cell_type": "code",
   "execution_count": 93,
   "metadata": {},
   "outputs": [
    {
     "name": "stdout",
     "output_type": "stream",
     "text": [
      "12:10:17 started doing step=5\n",
      "# Tuning hyper-parameters for precision_macro\n",
      "\n"
     ]
    },
    {
     "name": "stderr",
     "output_type": "stream",
     "text": [
      "/usr/local/lib/python3.9/site-packages/sklearn/metrics/_classification.py:1221: UndefinedMetricWarning: Precision is ill-defined and being set to 0.0 in labels with no predicted samples. Use `zero_division` parameter to control this behavior.\n",
      "  _warn_prf(average, modifier, msg_start, len(result))\n",
      "/usr/local/lib/python3.9/site-packages/sklearn/metrics/_classification.py:1221: UndefinedMetricWarning: Precision is ill-defined and being set to 0.0 in labels with no predicted samples. Use `zero_division` parameter to control this behavior.\n",
      "  _warn_prf(average, modifier, msg_start, len(result))\n",
      "/usr/local/lib/python3.9/site-packages/sklearn/metrics/_classification.py:1221: UndefinedMetricWarning: Precision is ill-defined and being set to 0.0 in labels with no predicted samples. Use `zero_division` parameter to control this behavior.\n",
      "  _warn_prf(average, modifier, msg_start, len(result))\n",
      "/usr/local/lib/python3.9/site-packages/sklearn/metrics/_classification.py:1221: UndefinedMetricWarning: Precision is ill-defined and being set to 0.0 in labels with no predicted samples. Use `zero_division` parameter to control this behavior.\n",
      "  _warn_prf(average, modifier, msg_start, len(result))\n",
      "/usr/local/lib/python3.9/site-packages/sklearn/metrics/_classification.py:1221: UndefinedMetricWarning: Precision is ill-defined and being set to 0.0 in labels with no predicted samples. Use `zero_division` parameter to control this behavior.\n",
      "  _warn_prf(average, modifier, msg_start, len(result))\n",
      "/usr/local/lib/python3.9/site-packages/sklearn/metrics/_classification.py:1221: UndefinedMetricWarning: Precision is ill-defined and being set to 0.0 in labels with no predicted samples. Use `zero_division` parameter to control this behavior.\n",
      "  _warn_prf(average, modifier, msg_start, len(result))\n",
      "/usr/local/lib/python3.9/site-packages/sklearn/metrics/_classification.py:1221: UndefinedMetricWarning: Precision is ill-defined and being set to 0.0 in labels with no predicted samples. Use `zero_division` parameter to control this behavior.\n",
      "  _warn_prf(average, modifier, msg_start, len(result))\n",
      "/usr/local/lib/python3.9/site-packages/sklearn/metrics/_classification.py:1221: UndefinedMetricWarning: Precision is ill-defined and being set to 0.0 in labels with no predicted samples. Use `zero_division` parameter to control this behavior.\n",
      "  _warn_prf(average, modifier, msg_start, len(result))\n",
      "/usr/local/lib/python3.9/site-packages/sklearn/metrics/_classification.py:1221: UndefinedMetricWarning: Precision is ill-defined and being set to 0.0 in labels with no predicted samples. Use `zero_division` parameter to control this behavior.\n",
      "  _warn_prf(average, modifier, msg_start, len(result))\n",
      "/usr/local/lib/python3.9/site-packages/sklearn/metrics/_classification.py:1221: UndefinedMetricWarning: Precision is ill-defined and being set to 0.0 in labels with no predicted samples. Use `zero_division` parameter to control this behavior.\n",
      "  _warn_prf(average, modifier, msg_start, len(result))\n",
      "/usr/local/lib/python3.9/site-packages/sklearn/metrics/_classification.py:1221: UndefinedMetricWarning: Precision is ill-defined and being set to 0.0 in labels with no predicted samples. Use `zero_division` parameter to control this behavior.\n",
      "  _warn_prf(average, modifier, msg_start, len(result))\n",
      "/usr/local/lib/python3.9/site-packages/sklearn/metrics/_classification.py:1221: UndefinedMetricWarning: Precision is ill-defined and being set to 0.0 in labels with no predicted samples. Use `zero_division` parameter to control this behavior.\n",
      "  _warn_prf(average, modifier, msg_start, len(result))\n",
      "/usr/local/lib/python3.9/site-packages/sklearn/metrics/_classification.py:1221: UndefinedMetricWarning: Precision is ill-defined and being set to 0.0 in labels with no predicted samples. Use `zero_division` parameter to control this behavior.\n",
      "  _warn_prf(average, modifier, msg_start, len(result))\n",
      "/usr/local/lib/python3.9/site-packages/sklearn/metrics/_classification.py:1221: UndefinedMetricWarning: Precision is ill-defined and being set to 0.0 in labels with no predicted samples. Use `zero_division` parameter to control this behavior.\n",
      "  _warn_prf(average, modifier, msg_start, len(result))\n",
      "/usr/local/lib/python3.9/site-packages/sklearn/metrics/_classification.py:1221: UndefinedMetricWarning: Precision is ill-defined and being set to 0.0 in labels with no predicted samples. Use `zero_division` parameter to control this behavior.\n",
      "  _warn_prf(average, modifier, msg_start, len(result))\n",
      "/usr/local/lib/python3.9/site-packages/sklearn/metrics/_classification.py:1221: UndefinedMetricWarning: Precision is ill-defined and being set to 0.0 in labels with no predicted samples. Use `zero_division` parameter to control this behavior.\n",
      "  _warn_prf(average, modifier, msg_start, len(result))\n",
      "/usr/local/lib/python3.9/site-packages/sklearn/metrics/_classification.py:1221: UndefinedMetricWarning: Precision is ill-defined and being set to 0.0 in labels with no predicted samples. Use `zero_division` parameter to control this behavior.\n",
      "  _warn_prf(average, modifier, msg_start, len(result))\n",
      "/usr/local/lib/python3.9/site-packages/sklearn/metrics/_classification.py:1221: UndefinedMetricWarning: Precision is ill-defined and being set to 0.0 in labels with no predicted samples. Use `zero_division` parameter to control this behavior.\n",
      "  _warn_prf(average, modifier, msg_start, len(result))\n",
      "/usr/local/lib/python3.9/site-packages/sklearn/metrics/_classification.py:1221: UndefinedMetricWarning: Precision is ill-defined and being set to 0.0 in labels with no predicted samples. Use `zero_division` parameter to control this behavior.\n",
      "  _warn_prf(average, modifier, msg_start, len(result))\n",
      "/usr/local/lib/python3.9/site-packages/sklearn/metrics/_classification.py:1221: UndefinedMetricWarning: Precision is ill-defined and being set to 0.0 in labels with no predicted samples. Use `zero_division` parameter to control this behavior.\n",
      "  _warn_prf(average, modifier, msg_start, len(result))\n",
      "/usr/local/lib/python3.9/site-packages/sklearn/metrics/_classification.py:1221: UndefinedMetricWarning: Precision is ill-defined and being set to 0.0 in labels with no predicted samples. Use `zero_division` parameter to control this behavior.\n",
      "  _warn_prf(average, modifier, msg_start, len(result))\n",
      "/usr/local/lib/python3.9/site-packages/sklearn/metrics/_classification.py:1221: UndefinedMetricWarning: Precision is ill-defined and being set to 0.0 in labels with no predicted samples. Use `zero_division` parameter to control this behavior.\n",
      "  _warn_prf(average, modifier, msg_start, len(result))\n",
      "/usr/local/lib/python3.9/site-packages/sklearn/metrics/_classification.py:1221: UndefinedMetricWarning: Precision is ill-defined and being set to 0.0 in labels with no predicted samples. Use `zero_division` parameter to control this behavior.\n",
      "  _warn_prf(average, modifier, msg_start, len(result))\n",
      "/usr/local/lib/python3.9/site-packages/sklearn/metrics/_classification.py:1221: UndefinedMetricWarning: Precision is ill-defined and being set to 0.0 in labels with no predicted samples. Use `zero_division` parameter to control this behavior.\n",
      "  _warn_prf(average, modifier, msg_start, len(result))\n",
      "/usr/local/lib/python3.9/site-packages/sklearn/metrics/_classification.py:1221: UndefinedMetricWarning: Precision is ill-defined and being set to 0.0 in labels with no predicted samples. Use `zero_division` parameter to control this behavior.\n",
      "  _warn_prf(average, modifier, msg_start, len(result))\n",
      "/usr/local/lib/python3.9/site-packages/sklearn/metrics/_classification.py:1221: UndefinedMetricWarning: Precision is ill-defined and being set to 0.0 in labels with no predicted samples. Use `zero_division` parameter to control this behavior.\n",
      "  _warn_prf(average, modifier, msg_start, len(result))\n",
      "/usr/local/lib/python3.9/site-packages/sklearn/metrics/_classification.py:1221: UndefinedMetricWarning: Precision is ill-defined and being set to 0.0 in labels with no predicted samples. Use `zero_division` parameter to control this behavior.\n",
      "  _warn_prf(average, modifier, msg_start, len(result))\n",
      "/usr/local/lib/python3.9/site-packages/sklearn/metrics/_classification.py:1221: UndefinedMetricWarning: Precision is ill-defined and being set to 0.0 in labels with no predicted samples. Use `zero_division` parameter to control this behavior.\n",
      "  _warn_prf(average, modifier, msg_start, len(result))\n"
     ]
    },
    {
     "name": "stderr",
     "output_type": "stream",
     "text": [
      "/usr/local/lib/python3.9/site-packages/sklearn/metrics/_classification.py:1221: UndefinedMetricWarning: Precision is ill-defined and being set to 0.0 in labels with no predicted samples. Use `zero_division` parameter to control this behavior.\n",
      "  _warn_prf(average, modifier, msg_start, len(result))\n",
      "/usr/local/lib/python3.9/site-packages/sklearn/metrics/_classification.py:1221: UndefinedMetricWarning: Precision is ill-defined and being set to 0.0 in labels with no predicted samples. Use `zero_division` parameter to control this behavior.\n",
      "  _warn_prf(average, modifier, msg_start, len(result))\n",
      "/usr/local/lib/python3.9/site-packages/sklearn/metrics/_classification.py:1221: UndefinedMetricWarning: Precision is ill-defined and being set to 0.0 in labels with no predicted samples. Use `zero_division` parameter to control this behavior.\n",
      "  _warn_prf(average, modifier, msg_start, len(result))\n",
      "/usr/local/lib/python3.9/site-packages/sklearn/metrics/_classification.py:1221: UndefinedMetricWarning: Precision is ill-defined and being set to 0.0 in labels with no predicted samples. Use `zero_division` parameter to control this behavior.\n",
      "  _warn_prf(average, modifier, msg_start, len(result))\n",
      "/usr/local/lib/python3.9/site-packages/sklearn/metrics/_classification.py:1221: UndefinedMetricWarning: Precision is ill-defined and being set to 0.0 in labels with no predicted samples. Use `zero_division` parameter to control this behavior.\n",
      "  _warn_prf(average, modifier, msg_start, len(result))\n",
      "/usr/local/lib/python3.9/site-packages/sklearn/metrics/_classification.py:1221: UndefinedMetricWarning: Precision is ill-defined and being set to 0.0 in labels with no predicted samples. Use `zero_division` parameter to control this behavior.\n",
      "  _warn_prf(average, modifier, msg_start, len(result))\n",
      "/usr/local/lib/python3.9/site-packages/sklearn/metrics/_classification.py:1221: UndefinedMetricWarning: Precision is ill-defined and being set to 0.0 in labels with no predicted samples. Use `zero_division` parameter to control this behavior.\n",
      "  _warn_prf(average, modifier, msg_start, len(result))\n",
      "/usr/local/lib/python3.9/site-packages/sklearn/metrics/_classification.py:1221: UndefinedMetricWarning: Precision is ill-defined and being set to 0.0 in labels with no predicted samples. Use `zero_division` parameter to control this behavior.\n",
      "  _warn_prf(average, modifier, msg_start, len(result))\n",
      "/usr/local/lib/python3.9/site-packages/sklearn/metrics/_classification.py:1221: UndefinedMetricWarning: Precision is ill-defined and being set to 0.0 in labels with no predicted samples. Use `zero_division` parameter to control this behavior.\n",
      "  _warn_prf(average, modifier, msg_start, len(result))\n",
      "/usr/local/lib/python3.9/site-packages/sklearn/metrics/_classification.py:1221: UndefinedMetricWarning: Precision is ill-defined and being set to 0.0 in labels with no predicted samples. Use `zero_division` parameter to control this behavior.\n",
      "  _warn_prf(average, modifier, msg_start, len(result))\n",
      "/usr/local/lib/python3.9/site-packages/sklearn/metrics/_classification.py:1221: UndefinedMetricWarning: Precision is ill-defined and being set to 0.0 in labels with no predicted samples. Use `zero_division` parameter to control this behavior.\n",
      "  _warn_prf(average, modifier, msg_start, len(result))\n",
      "/usr/local/lib/python3.9/site-packages/sklearn/metrics/_classification.py:1221: UndefinedMetricWarning: Precision is ill-defined and being set to 0.0 in labels with no predicted samples. Use `zero_division` parameter to control this behavior.\n",
      "  _warn_prf(average, modifier, msg_start, len(result))\n",
      "/usr/local/lib/python3.9/site-packages/sklearn/metrics/_classification.py:1221: UndefinedMetricWarning: Precision is ill-defined and being set to 0.0 in labels with no predicted samples. Use `zero_division` parameter to control this behavior.\n",
      "  _warn_prf(average, modifier, msg_start, len(result))\n",
      "/usr/local/lib/python3.9/site-packages/sklearn/metrics/_classification.py:1221: UndefinedMetricWarning: Precision is ill-defined and being set to 0.0 in labels with no predicted samples. Use `zero_division` parameter to control this behavior.\n",
      "  _warn_prf(average, modifier, msg_start, len(result))\n",
      "/usr/local/lib/python3.9/site-packages/sklearn/metrics/_classification.py:1221: UndefinedMetricWarning: Precision is ill-defined and being set to 0.0 in labels with no predicted samples. Use `zero_division` parameter to control this behavior.\n",
      "  _warn_prf(average, modifier, msg_start, len(result))\n",
      "/usr/local/lib/python3.9/site-packages/sklearn/metrics/_classification.py:1221: UndefinedMetricWarning: Precision is ill-defined and being set to 0.0 in labels with no predicted samples. Use `zero_division` parameter to control this behavior.\n",
      "  _warn_prf(average, modifier, msg_start, len(result))\n",
      "/usr/local/lib/python3.9/site-packages/sklearn/metrics/_classification.py:1221: UndefinedMetricWarning: Precision is ill-defined and being set to 0.0 in labels with no predicted samples. Use `zero_division` parameter to control this behavior.\n",
      "  _warn_prf(average, modifier, msg_start, len(result))\n",
      "/usr/local/lib/python3.9/site-packages/sklearn/metrics/_classification.py:1221: UndefinedMetricWarning: Precision is ill-defined and being set to 0.0 in labels with no predicted samples. Use `zero_division` parameter to control this behavior.\n",
      "  _warn_prf(average, modifier, msg_start, len(result))\n",
      "/usr/local/lib/python3.9/site-packages/sklearn/metrics/_classification.py:1221: UndefinedMetricWarning: Precision is ill-defined and being set to 0.0 in labels with no predicted samples. Use `zero_division` parameter to control this behavior.\n",
      "  _warn_prf(average, modifier, msg_start, len(result))\n",
      "/usr/local/lib/python3.9/site-packages/sklearn/metrics/_classification.py:1221: UndefinedMetricWarning: Precision is ill-defined and being set to 0.0 in labels with no predicted samples. Use `zero_division` parameter to control this behavior.\n",
      "  _warn_prf(average, modifier, msg_start, len(result))\n",
      "/usr/local/lib/python3.9/site-packages/sklearn/metrics/_classification.py:1221: UndefinedMetricWarning: Precision is ill-defined and being set to 0.0 in labels with no predicted samples. Use `zero_division` parameter to control this behavior.\n",
      "  _warn_prf(average, modifier, msg_start, len(result))\n",
      "/usr/local/lib/python3.9/site-packages/sklearn/metrics/_classification.py:1221: UndefinedMetricWarning: Precision is ill-defined and being set to 0.0 in labels with no predicted samples. Use `zero_division` parameter to control this behavior.\n",
      "  _warn_prf(average, modifier, msg_start, len(result))\n",
      "/usr/local/lib/python3.9/site-packages/sklearn/metrics/_classification.py:1221: UndefinedMetricWarning: Precision is ill-defined and being set to 0.0 in labels with no predicted samples. Use `zero_division` parameter to control this behavior.\n",
      "  _warn_prf(average, modifier, msg_start, len(result))\n",
      "/usr/local/lib/python3.9/site-packages/sklearn/metrics/_classification.py:1221: UndefinedMetricWarning: Precision is ill-defined and being set to 0.0 in labels with no predicted samples. Use `zero_division` parameter to control this behavior.\n",
      "  _warn_prf(average, modifier, msg_start, len(result))\n",
      "/usr/local/lib/python3.9/site-packages/sklearn/metrics/_classification.py:1221: UndefinedMetricWarning: Precision is ill-defined and being set to 0.0 in labels with no predicted samples. Use `zero_division` parameter to control this behavior.\n",
      "  _warn_prf(average, modifier, msg_start, len(result))\n",
      "/usr/local/lib/python3.9/site-packages/sklearn/metrics/_classification.py:1221: UndefinedMetricWarning: Precision is ill-defined and being set to 0.0 in labels with no predicted samples. Use `zero_division` parameter to control this behavior.\n",
      "  _warn_prf(average, modifier, msg_start, len(result))\n",
      "/usr/local/lib/python3.9/site-packages/sklearn/metrics/_classification.py:1221: UndefinedMetricWarning: Precision is ill-defined and being set to 0.0 in labels with no predicted samples. Use `zero_division` parameter to control this behavior.\n",
      "  _warn_prf(average, modifier, msg_start, len(result))\n",
      "/usr/local/lib/python3.9/site-packages/sklearn/metrics/_classification.py:1221: UndefinedMetricWarning: Precision is ill-defined and being set to 0.0 in labels with no predicted samples. Use `zero_division` parameter to control this behavior.\n",
      "  _warn_prf(average, modifier, msg_start, len(result))\n"
     ]
    },
    {
     "name": "stderr",
     "output_type": "stream",
     "text": [
      "/usr/local/lib/python3.9/site-packages/sklearn/metrics/_classification.py:1221: UndefinedMetricWarning: Precision is ill-defined and being set to 0.0 in labels with no predicted samples. Use `zero_division` parameter to control this behavior.\n",
      "  _warn_prf(average, modifier, msg_start, len(result))\n"
     ]
    },
    {
     "name": "stdout",
     "output_type": "stream",
     "text": [
      "Best parameters set found on development set:\n",
      "\n",
      "{'C': 10, 'gamma': 1, 'kernel': 'rbf'}\n",
      "\n",
      "Grid scores on development set:\n",
      "\n",
      "0.019 (+/-0.000) for {'C': 1, 'gamma': 0, 'kernel': 'rbf'}\n",
      "0.019 (+/-0.000) for {'C': 1, 'gamma': 0.001, 'kernel': 'rbf'}\n",
      "0.019 (+/-0.000) for {'C': 1, 'gamma': 0.003, 'kernel': 'rbf'}\n",
      "0.387 (+/-0.139) for {'C': 1, 'gamma': 0.01, 'kernel': 'rbf'}\n",
      "0.696 (+/-0.167) for {'C': 1, 'gamma': 0.03, 'kernel': 'rbf'}\n",
      "0.743 (+/-0.077) for {'C': 1, 'gamma': 0.1, 'kernel': 'rbf'}\n",
      "0.777 (+/-0.086) for {'C': 1, 'gamma': 0.3, 'kernel': 'rbf'}\n",
      "0.790 (+/-0.062) for {'C': 1, 'gamma': 1, 'kernel': 'rbf'}\n",
      "0.795 (+/-0.074) for {'C': 1, 'gamma': 1.5, 'kernel': 'rbf'}\n",
      "0.019 (+/-0.000) for {'C': 10, 'gamma': 0, 'kernel': 'rbf'}\n",
      "0.390 (+/-0.140) for {'C': 10, 'gamma': 0.001, 'kernel': 'rbf'}\n",
      "0.691 (+/-0.157) for {'C': 10, 'gamma': 0.003, 'kernel': 'rbf'}\n",
      "0.742 (+/-0.083) for {'C': 10, 'gamma': 0.01, 'kernel': 'rbf'}\n",
      "0.776 (+/-0.082) for {'C': 10, 'gamma': 0.03, 'kernel': 'rbf'}\n",
      "0.797 (+/-0.074) for {'C': 10, 'gamma': 0.1, 'kernel': 'rbf'}\n",
      "0.808 (+/-0.082) for {'C': 10, 'gamma': 0.3, 'kernel': 'rbf'}\n",
      "0.810 (+/-0.065) for {'C': 10, 'gamma': 1, 'kernel': 'rbf'}\n",
      "0.807 (+/-0.078) for {'C': 10, 'gamma': 1.5, 'kernel': 'rbf'}\n",
      "0.019 (+/-0.000) for {'C': 100, 'gamma': 0, 'kernel': 'rbf'}\n",
      "0.743 (+/-0.085) for {'C': 100, 'gamma': 0.001, 'kernel': 'rbf'}\n",
      "0.778 (+/-0.081) for {'C': 100, 'gamma': 0.003, 'kernel': 'rbf'}\n",
      "0.798 (+/-0.082) for {'C': 100, 'gamma': 0.01, 'kernel': 'rbf'}\n",
      "0.799 (+/-0.086) for {'C': 100, 'gamma': 0.03, 'kernel': 'rbf'}\n",
      "0.795 (+/-0.064) for {'C': 100, 'gamma': 0.1, 'kernel': 'rbf'}\n",
      "0.799 (+/-0.066) for {'C': 100, 'gamma': 0.3, 'kernel': 'rbf'}\n",
      "0.808 (+/-0.068) for {'C': 100, 'gamma': 1, 'kernel': 'rbf'}\n",
      "0.807 (+/-0.075) for {'C': 100, 'gamma': 1.5, 'kernel': 'rbf'}\n",
      "0.019 (+/-0.000) for {'C': 1000, 'gamma': 0, 'kernel': 'rbf'}\n",
      "0.798 (+/-0.082) for {'C': 1000, 'gamma': 0.001, 'kernel': 'rbf'}\n",
      "0.797 (+/-0.084) for {'C': 1000, 'gamma': 0.003, 'kernel': 'rbf'}\n",
      "0.790 (+/-0.061) for {'C': 1000, 'gamma': 0.01, 'kernel': 'rbf'}\n",
      "0.778 (+/-0.074) for {'C': 1000, 'gamma': 0.03, 'kernel': 'rbf'}\n",
      "0.786 (+/-0.078) for {'C': 1000, 'gamma': 0.1, 'kernel': 'rbf'}\n",
      "0.799 (+/-0.070) for {'C': 1000, 'gamma': 0.3, 'kernel': 'rbf'}\n",
      "0.808 (+/-0.068) for {'C': 1000, 'gamma': 1, 'kernel': 'rbf'}\n",
      "0.807 (+/-0.075) for {'C': 1000, 'gamma': 1.5, 'kernel': 'rbf'}\n",
      "0.019 (+/-0.000) for {'C': 2000, 'gamma': 0, 'kernel': 'rbf'}\n",
      "0.798 (+/-0.095) for {'C': 2000, 'gamma': 0.001, 'kernel': 'rbf'}\n",
      "0.794 (+/-0.079) for {'C': 2000, 'gamma': 0.003, 'kernel': 'rbf'}\n",
      "0.774 (+/-0.069) for {'C': 2000, 'gamma': 0.01, 'kernel': 'rbf'}\n",
      "0.774 (+/-0.075) for {'C': 2000, 'gamma': 0.03, 'kernel': 'rbf'}\n",
      "0.786 (+/-0.078) for {'C': 2000, 'gamma': 0.1, 'kernel': 'rbf'}\n",
      "0.799 (+/-0.070) for {'C': 2000, 'gamma': 0.3, 'kernel': 'rbf'}\n",
      "0.808 (+/-0.068) for {'C': 2000, 'gamma': 1, 'kernel': 'rbf'}\n",
      "0.807 (+/-0.075) for {'C': 2000, 'gamma': 1.5, 'kernel': 'rbf'}\n",
      "0.019 (+/-0.000) for {'C': 3000, 'gamma': 0, 'kernel': 'rbf'}\n",
      "0.797 (+/-0.084) for {'C': 3000, 'gamma': 0.001, 'kernel': 'rbf'}\n",
      "0.791 (+/-0.064) for {'C': 3000, 'gamma': 0.003, 'kernel': 'rbf'}\n",
      "0.769 (+/-0.070) for {'C': 3000, 'gamma': 0.01, 'kernel': 'rbf'}\n",
      "0.776 (+/-0.075) for {'C': 3000, 'gamma': 0.03, 'kernel': 'rbf'}\n",
      "0.786 (+/-0.078) for {'C': 3000, 'gamma': 0.1, 'kernel': 'rbf'}\n",
      "0.799 (+/-0.070) for {'C': 3000, 'gamma': 0.3, 'kernel': 'rbf'}\n",
      "0.808 (+/-0.068) for {'C': 3000, 'gamma': 1, 'kernel': 'rbf'}\n",
      "0.807 (+/-0.075) for {'C': 3000, 'gamma': 1.5, 'kernel': 'rbf'}\n",
      "0.019 (+/-0.000) for {'C': 5000, 'gamma': 0, 'kernel': 'rbf'}\n",
      "0.796 (+/-0.074) for {'C': 5000, 'gamma': 0.001, 'kernel': 'rbf'}\n",
      "0.780 (+/-0.058) for {'C': 5000, 'gamma': 0.003, 'kernel': 'rbf'}\n",
      "0.769 (+/-0.071) for {'C': 5000, 'gamma': 0.01, 'kernel': 'rbf'}\n",
      "0.776 (+/-0.073) for {'C': 5000, 'gamma': 0.03, 'kernel': 'rbf'}\n",
      "0.786 (+/-0.078) for {'C': 5000, 'gamma': 0.1, 'kernel': 'rbf'}\n",
      "0.799 (+/-0.070) for {'C': 5000, 'gamma': 0.3, 'kernel': 'rbf'}\n",
      "0.808 (+/-0.068) for {'C': 5000, 'gamma': 1, 'kernel': 'rbf'}\n",
      "0.807 (+/-0.075) for {'C': 5000, 'gamma': 1.5, 'kernel': 'rbf'}\n",
      "0.785 (+/-0.067) for {'C': 1, 'kernel': 'linear'}\n",
      "0.798 (+/-0.082) for {'C': 2, 'kernel': 'linear'}\n",
      "0.797 (+/-0.089) for {'C': 3, 'kernel': 'linear'}\n",
      "0.798 (+/-0.095) for {'C': 4, 'kernel': 'linear'}\n",
      "0.798 (+/-0.095) for {'C': 5, 'kernel': 'linear'}\n",
      "0.796 (+/-0.082) for {'C': 6, 'kernel': 'linear'}\n",
      "0.799 (+/-0.080) for {'C': 7, 'kernel': 'linear'}\n",
      "0.798 (+/-0.072) for {'C': 8, 'kernel': 'linear'}\n",
      "0.798 (+/-0.073) for {'C': 9, 'kernel': 'linear'}\n",
      "0.796 (+/-0.073) for {'C': 10, 'kernel': 'linear'}\n",
      "0.795 (+/-0.075) for {'C': 11, 'kernel': 'linear'}\n",
      "0.794 (+/-0.076) for {'C': 12, 'kernel': 'linear'}\n",
      "0.794 (+/-0.073) for {'C': 13, 'kernel': 'linear'}\n",
      "0.792 (+/-0.066) for {'C': 14, 'kernel': 'linear'}\n",
      "0.789 (+/-0.064) for {'C': 15, 'kernel': 'linear'}\n",
      "0.789 (+/-0.069) for {'C': 16, 'kernel': 'linear'}\n",
      "0.788 (+/-0.067) for {'C': 17, 'kernel': 'linear'}\n",
      "0.789 (+/-0.062) for {'C': 18, 'kernel': 'linear'}\n",
      "0.789 (+/-0.064) for {'C': 19, 'kernel': 'linear'}\n",
      "\n",
      "# Tuning hyper-parameters for recall_macro\n",
      "\n",
      "Best parameters set found on development set:\n",
      "\n",
      "{'C': 10, 'gamma': 1, 'kernel': 'rbf'}\n",
      "\n",
      "Grid scores on development set:\n",
      "\n",
      "0.125 (+/-0.000) for {'C': 1, 'gamma': 0, 'kernel': 'rbf'}\n",
      "0.125 (+/-0.000) for {'C': 1, 'gamma': 0.001, 'kernel': 'rbf'}\n",
      "0.125 (+/-0.000) for {'C': 1, 'gamma': 0.003, 'kernel': 'rbf'}\n",
      "0.364 (+/-0.019) for {'C': 1, 'gamma': 0.01, 'kernel': 'rbf'}\n",
      "0.662 (+/-0.099) for {'C': 1, 'gamma': 0.03, 'kernel': 'rbf'}\n",
      "0.725 (+/-0.082) for {'C': 1, 'gamma': 0.1, 'kernel': 'rbf'}\n",
      "0.761 (+/-0.083) for {'C': 1, 'gamma': 0.3, 'kernel': 'rbf'}\n",
      "0.780 (+/-0.063) for {'C': 1, 'gamma': 1, 'kernel': 'rbf'}\n",
      "0.783 (+/-0.075) for {'C': 1, 'gamma': 1.5, 'kernel': 'rbf'}\n",
      "0.125 (+/-0.000) for {'C': 10, 'gamma': 0, 'kernel': 'rbf'}\n",
      "0.366 (+/-0.015) for {'C': 10, 'gamma': 0.001, 'kernel': 'rbf'}\n",
      "0.661 (+/-0.093) for {'C': 10, 'gamma': 0.003, 'kernel': 'rbf'}\n",
      "0.726 (+/-0.087) for {'C': 10, 'gamma': 0.01, 'kernel': 'rbf'}\n",
      "0.764 (+/-0.084) for {'C': 10, 'gamma': 0.03, 'kernel': 'rbf'}\n",
      "0.788 (+/-0.077) for {'C': 10, 'gamma': 0.1, 'kernel': 'rbf'}\n",
      "0.802 (+/-0.089) for {'C': 10, 'gamma': 0.3, 'kernel': 'rbf'}\n",
      "0.802 (+/-0.078) for {'C': 10, 'gamma': 1, 'kernel': 'rbf'}\n",
      "0.800 (+/-0.088) for {'C': 10, 'gamma': 1.5, 'kernel': 'rbf'}\n",
      "0.125 (+/-0.000) for {'C': 100, 'gamma': 0, 'kernel': 'rbf'}\n",
      "0.727 (+/-0.088) for {'C': 100, 'gamma': 0.001, 'kernel': 'rbf'}\n",
      "0.766 (+/-0.083) for {'C': 100, 'gamma': 0.003, 'kernel': 'rbf'}\n",
      "0.788 (+/-0.088) for {'C': 100, 'gamma': 0.01, 'kernel': 'rbf'}\n",
      "0.792 (+/-0.093) for {'C': 100, 'gamma': 0.03, 'kernel': 'rbf'}\n",
      "0.787 (+/-0.076) for {'C': 100, 'gamma': 0.1, 'kernel': 'rbf'}\n",
      "0.791 (+/-0.078) for {'C': 100, 'gamma': 0.3, 'kernel': 'rbf'}\n",
      "0.801 (+/-0.080) for {'C': 100, 'gamma': 1, 'kernel': 'rbf'}\n",
      "0.799 (+/-0.082) for {'C': 100, 'gamma': 1.5, 'kernel': 'rbf'}\n",
      "0.125 (+/-0.000) for {'C': 1000, 'gamma': 0, 'kernel': 'rbf'}\n",
      "0.788 (+/-0.088) for {'C': 1000, 'gamma': 0.001, 'kernel': 'rbf'}\n",
      "0.790 (+/-0.093) for {'C': 1000, 'gamma': 0.003, 'kernel': 'rbf'}\n",
      "0.780 (+/-0.067) for {'C': 1000, 'gamma': 0.01, 'kernel': 'rbf'}\n",
      "0.769 (+/-0.080) for {'C': 1000, 'gamma': 0.03, 'kernel': 'rbf'}\n",
      "0.778 (+/-0.086) for {'C': 1000, 'gamma': 0.1, 'kernel': 'rbf'}\n",
      "0.791 (+/-0.080) for {'C': 1000, 'gamma': 0.3, 'kernel': 'rbf'}\n",
      "0.801 (+/-0.080) for {'C': 1000, 'gamma': 1, 'kernel': 'rbf'}\n",
      "0.799 (+/-0.082) for {'C': 1000, 'gamma': 1.5, 'kernel': 'rbf'}\n",
      "0.125 (+/-0.000) for {'C': 2000, 'gamma': 0, 'kernel': 'rbf'}\n",
      "0.791 (+/-0.102) for {'C': 2000, 'gamma': 0.001, 'kernel': 'rbf'}\n",
      "0.785 (+/-0.081) for {'C': 2000, 'gamma': 0.003, 'kernel': 'rbf'}\n",
      "0.765 (+/-0.078) for {'C': 2000, 'gamma': 0.01, 'kernel': 'rbf'}\n",
      "0.767 (+/-0.081) for {'C': 2000, 'gamma': 0.03, 'kernel': 'rbf'}\n",
      "0.778 (+/-0.086) for {'C': 2000, 'gamma': 0.1, 'kernel': 'rbf'}\n",
      "0.791 (+/-0.080) for {'C': 2000, 'gamma': 0.3, 'kernel': 'rbf'}\n",
      "0.801 (+/-0.080) for {'C': 2000, 'gamma': 1, 'kernel': 'rbf'}\n",
      "0.799 (+/-0.082) for {'C': 2000, 'gamma': 1.5, 'kernel': 'rbf'}\n",
      "0.125 (+/-0.000) for {'C': 3000, 'gamma': 0, 'kernel': 'rbf'}\n",
      "0.789 (+/-0.093) for {'C': 3000, 'gamma': 0.001, 'kernel': 'rbf'}\n",
      "0.781 (+/-0.070) for {'C': 3000, 'gamma': 0.003, 'kernel': 'rbf'}\n",
      "0.761 (+/-0.076) for {'C': 3000, 'gamma': 0.01, 'kernel': 'rbf'}\n",
      "0.767 (+/-0.080) for {'C': 3000, 'gamma': 0.03, 'kernel': 'rbf'}\n",
      "0.778 (+/-0.086) for {'C': 3000, 'gamma': 0.1, 'kernel': 'rbf'}\n",
      "0.791 (+/-0.080) for {'C': 3000, 'gamma': 0.3, 'kernel': 'rbf'}\n",
      "0.801 (+/-0.080) for {'C': 3000, 'gamma': 1, 'kernel': 'rbf'}\n",
      "0.799 (+/-0.082) for {'C': 3000, 'gamma': 1.5, 'kernel': 'rbf'}\n",
      "0.125 (+/-0.000) for {'C': 5000, 'gamma': 0, 'kernel': 'rbf'}\n",
      "0.789 (+/-0.075) for {'C': 5000, 'gamma': 0.001, 'kernel': 'rbf'}\n",
      "0.771 (+/-0.066) for {'C': 5000, 'gamma': 0.003, 'kernel': 'rbf'}\n",
      "0.760 (+/-0.075) for {'C': 5000, 'gamma': 0.01, 'kernel': 'rbf'}\n",
      "0.767 (+/-0.078) for {'C': 5000, 'gamma': 0.03, 'kernel': 'rbf'}\n",
      "0.778 (+/-0.086) for {'C': 5000, 'gamma': 0.1, 'kernel': 'rbf'}\n",
      "0.791 (+/-0.080) for {'C': 5000, 'gamma': 0.3, 'kernel': 'rbf'}\n",
      "0.801 (+/-0.080) for {'C': 5000, 'gamma': 1, 'kernel': 'rbf'}\n",
      "0.799 (+/-0.082) for {'C': 5000, 'gamma': 1.5, 'kernel': 'rbf'}\n",
      "0.773 (+/-0.072) for {'C': 1, 'kernel': 'linear'}\n",
      "0.788 (+/-0.088) for {'C': 2, 'kernel': 'linear'}\n",
      "0.789 (+/-0.094) for {'C': 3, 'kernel': 'linear'}\n",
      "0.791 (+/-0.102) for {'C': 4, 'kernel': 'linear'}\n",
      "0.791 (+/-0.102) for {'C': 5, 'kernel': 'linear'}\n",
      "0.789 (+/-0.091) for {'C': 6, 'kernel': 'linear'}\n",
      "0.791 (+/-0.087) for {'C': 7, 'kernel': 'linear'}\n",
      "0.791 (+/-0.077) for {'C': 8, 'kernel': 'linear'}\n",
      "0.790 (+/-0.078) for {'C': 9, 'kernel': 'linear'}\n",
      "0.788 (+/-0.075) for {'C': 10, 'kernel': 'linear'}\n",
      "0.787 (+/-0.077) for {'C': 11, 'kernel': 'linear'}\n",
      "0.785 (+/-0.079) for {'C': 12, 'kernel': 'linear'}\n",
      "0.784 (+/-0.074) for {'C': 13, 'kernel': 'linear'}\n",
      "0.782 (+/-0.068) for {'C': 14, 'kernel': 'linear'}\n",
      "0.780 (+/-0.066) for {'C': 15, 'kernel': 'linear'}\n",
      "0.778 (+/-0.072) for {'C': 16, 'kernel': 'linear'}\n",
      "0.777 (+/-0.070) for {'C': 17, 'kernel': 'linear'}\n",
      "0.779 (+/-0.068) for {'C': 18, 'kernel': 'linear'}\n",
      "0.779 (+/-0.070) for {'C': 19, 'kernel': 'linear'}\n",
      "\n",
      "# Tuning hyper-parameters for accuracy\n",
      "\n"
     ]
    },
    {
     "name": "stdout",
     "output_type": "stream",
     "text": [
      "Best parameters set found on development set:\n",
      "\n",
      "{'C': 10, 'gamma': 0.3, 'kernel': 'rbf'}\n",
      "\n",
      "Grid scores on development set:\n",
      "\n",
      "0.155 (+/-0.002) for {'C': 1, 'gamma': 0, 'kernel': 'rbf'}\n",
      "0.155 (+/-0.002) for {'C': 1, 'gamma': 0.001, 'kernel': 'rbf'}\n",
      "0.155 (+/-0.002) for {'C': 1, 'gamma': 0.003, 'kernel': 'rbf'}\n",
      "0.397 (+/-0.021) for {'C': 1, 'gamma': 0.01, 'kernel': 'rbf'}\n",
      "0.684 (+/-0.097) for {'C': 1, 'gamma': 0.03, 'kernel': 'rbf'}\n",
      "0.735 (+/-0.075) for {'C': 1, 'gamma': 0.1, 'kernel': 'rbf'}\n",
      "0.769 (+/-0.076) for {'C': 1, 'gamma': 0.3, 'kernel': 'rbf'}\n",
      "0.784 (+/-0.054) for {'C': 1, 'gamma': 1, 'kernel': 'rbf'}\n",
      "0.787 (+/-0.067) for {'C': 1, 'gamma': 1.5, 'kernel': 'rbf'}\n",
      "0.155 (+/-0.002) for {'C': 10, 'gamma': 0, 'kernel': 'rbf'}\n",
      "0.399 (+/-0.017) for {'C': 10, 'gamma': 0.001, 'kernel': 'rbf'}\n",
      "0.684 (+/-0.090) for {'C': 10, 'gamma': 0.003, 'kernel': 'rbf'}\n",
      "0.736 (+/-0.080) for {'C': 10, 'gamma': 0.01, 'kernel': 'rbf'}\n",
      "0.770 (+/-0.077) for {'C': 10, 'gamma': 0.03, 'kernel': 'rbf'}\n",
      "0.792 (+/-0.070) for {'C': 10, 'gamma': 0.1, 'kernel': 'rbf'}\n",
      "0.803 (+/-0.081) for {'C': 10, 'gamma': 0.3, 'kernel': 'rbf'}\n",
      "0.803 (+/-0.067) for {'C': 10, 'gamma': 1, 'kernel': 'rbf'}\n",
      "0.801 (+/-0.078) for {'C': 10, 'gamma': 1.5, 'kernel': 'rbf'}\n",
      "0.155 (+/-0.002) for {'C': 100, 'gamma': 0, 'kernel': 'rbf'}\n",
      "0.736 (+/-0.082) for {'C': 100, 'gamma': 0.001, 'kernel': 'rbf'}\n",
      "0.772 (+/-0.077) for {'C': 100, 'gamma': 0.003, 'kernel': 'rbf'}\n",
      "0.792 (+/-0.080) for {'C': 100, 'gamma': 0.01, 'kernel': 'rbf'}\n",
      "0.795 (+/-0.086) for {'C': 100, 'gamma': 0.03, 'kernel': 'rbf'}\n",
      "0.788 (+/-0.065) for {'C': 100, 'gamma': 0.1, 'kernel': 'rbf'}\n",
      "0.791 (+/-0.071) for {'C': 100, 'gamma': 0.3, 'kernel': 'rbf'}\n",
      "0.802 (+/-0.070) for {'C': 100, 'gamma': 1, 'kernel': 'rbf'}\n",
      "0.800 (+/-0.073) for {'C': 100, 'gamma': 1.5, 'kernel': 'rbf'}\n",
      "0.155 (+/-0.002) for {'C': 1000, 'gamma': 0, 'kernel': 'rbf'}\n",
      "0.792 (+/-0.080) for {'C': 1000, 'gamma': 0.001, 'kernel': 'rbf'}\n",
      "0.793 (+/-0.086) for {'C': 1000, 'gamma': 0.003, 'kernel': 'rbf'}\n",
      "0.783 (+/-0.058) for {'C': 1000, 'gamma': 0.01, 'kernel': 'rbf'}\n",
      "0.771 (+/-0.073) for {'C': 1000, 'gamma': 0.03, 'kernel': 'rbf'}\n",
      "0.779 (+/-0.078) for {'C': 1000, 'gamma': 0.1, 'kernel': 'rbf'}\n",
      "0.791 (+/-0.074) for {'C': 1000, 'gamma': 0.3, 'kernel': 'rbf'}\n",
      "0.802 (+/-0.070) for {'C': 1000, 'gamma': 1, 'kernel': 'rbf'}\n",
      "0.800 (+/-0.073) for {'C': 1000, 'gamma': 1.5, 'kernel': 'rbf'}\n",
      "0.155 (+/-0.002) for {'C': 2000, 'gamma': 0, 'kernel': 'rbf'}\n",
      "0.795 (+/-0.092) for {'C': 2000, 'gamma': 0.001, 'kernel': 'rbf'}\n",
      "0.788 (+/-0.075) for {'C': 2000, 'gamma': 0.003, 'kernel': 'rbf'}\n",
      "0.767 (+/-0.069) for {'C': 2000, 'gamma': 0.01, 'kernel': 'rbf'}\n",
      "0.769 (+/-0.075) for {'C': 2000, 'gamma': 0.03, 'kernel': 'rbf'}\n",
      "0.779 (+/-0.078) for {'C': 2000, 'gamma': 0.1, 'kernel': 'rbf'}\n",
      "0.791 (+/-0.074) for {'C': 2000, 'gamma': 0.3, 'kernel': 'rbf'}\n",
      "0.802 (+/-0.070) for {'C': 2000, 'gamma': 1, 'kernel': 'rbf'}\n",
      "0.800 (+/-0.073) for {'C': 2000, 'gamma': 1.5, 'kernel': 'rbf'}\n",
      "0.155 (+/-0.002) for {'C': 3000, 'gamma': 0, 'kernel': 'rbf'}\n",
      "0.792 (+/-0.086) for {'C': 3000, 'gamma': 0.001, 'kernel': 'rbf'}\n",
      "0.784 (+/-0.063) for {'C': 3000, 'gamma': 0.003, 'kernel': 'rbf'}\n",
      "0.763 (+/-0.067) for {'C': 3000, 'gamma': 0.01, 'kernel': 'rbf'}\n",
      "0.769 (+/-0.074) for {'C': 3000, 'gamma': 0.03, 'kernel': 'rbf'}\n",
      "0.779 (+/-0.078) for {'C': 3000, 'gamma': 0.1, 'kernel': 'rbf'}\n",
      "0.791 (+/-0.074) for {'C': 3000, 'gamma': 0.3, 'kernel': 'rbf'}\n",
      "0.802 (+/-0.070) for {'C': 3000, 'gamma': 1, 'kernel': 'rbf'}\n",
      "0.800 (+/-0.073) for {'C': 3000, 'gamma': 1.5, 'kernel': 'rbf'}\n",
      "0.155 (+/-0.002) for {'C': 5000, 'gamma': 0, 'kernel': 'rbf'}\n",
      "0.791 (+/-0.070) for {'C': 5000, 'gamma': 0.001, 'kernel': 'rbf'}\n",
      "0.773 (+/-0.057) for {'C': 5000, 'gamma': 0.003, 'kernel': 'rbf'}\n",
      "0.762 (+/-0.067) for {'C': 5000, 'gamma': 0.01, 'kernel': 'rbf'}\n",
      "0.769 (+/-0.071) for {'C': 5000, 'gamma': 0.03, 'kernel': 'rbf'}\n",
      "0.779 (+/-0.078) for {'C': 5000, 'gamma': 0.1, 'kernel': 'rbf'}\n",
      "0.791 (+/-0.074) for {'C': 5000, 'gamma': 0.3, 'kernel': 'rbf'}\n",
      "0.802 (+/-0.070) for {'C': 5000, 'gamma': 1, 'kernel': 'rbf'}\n",
      "0.800 (+/-0.073) for {'C': 5000, 'gamma': 1.5, 'kernel': 'rbf'}\n",
      "0.778 (+/-0.065) for {'C': 1, 'kernel': 'linear'}\n",
      "0.792 (+/-0.080) for {'C': 2, 'kernel': 'linear'}\n",
      "0.794 (+/-0.084) for {'C': 3, 'kernel': 'linear'}\n",
      "0.795 (+/-0.092) for {'C': 4, 'kernel': 'linear'}\n",
      "0.794 (+/-0.091) for {'C': 5, 'kernel': 'linear'}\n",
      "0.792 (+/-0.084) for {'C': 6, 'kernel': 'linear'}\n",
      "0.794 (+/-0.080) for {'C': 7, 'kernel': 'linear'}\n",
      "0.793 (+/-0.071) for {'C': 8, 'kernel': 'linear'}\n",
      "0.792 (+/-0.072) for {'C': 9, 'kernel': 'linear'}\n",
      "0.791 (+/-0.069) for {'C': 10, 'kernel': 'linear'}\n",
      "0.789 (+/-0.070) for {'C': 11, 'kernel': 'linear'}\n",
      "0.788 (+/-0.073) for {'C': 12, 'kernel': 'linear'}\n",
      "0.787 (+/-0.069) for {'C': 13, 'kernel': 'linear'}\n",
      "0.785 (+/-0.062) for {'C': 14, 'kernel': 'linear'}\n",
      "0.783 (+/-0.059) for {'C': 15, 'kernel': 'linear'}\n",
      "0.782 (+/-0.064) for {'C': 16, 'kernel': 'linear'}\n",
      "0.781 (+/-0.063) for {'C': 17, 'kernel': 'linear'}\n",
      "0.782 (+/-0.061) for {'C': 18, 'kernel': 'linear'}\n",
      "0.782 (+/-0.062) for {'C': 19, 'kernel': 'linear'}\n",
      "\n",
      "12:15:35 started doing step=5\n"
     ]
    }
   ],
   "source": [
    "# Set the parameters by cross-validation\n",
    "tuned_parameters = [{'kernel': ['rbf'], 'gamma': [0,.001,.003,.01,.03,.1,.3,1,1.5],\n",
    "                     'C': [1, 10, 100, 1000, 2000, 3000, 5000]},\n",
    "                    {'kernel': ['linear'], 'C': [i for i in range(1,20,1)]}]\n",
    "\n",
    "scores = ['precision_macro', 'recall_macro','accuracy']\n",
    "\n",
    "today = datetime.now()\n",
    "dt_string = today.strftime(\"%H:%M:%S\")\n",
    "print(f\"{dt_string} started doing step={step}\")\n",
    "\n",
    "data_results=[]\n",
    "\n",
    "for score in scores:\n",
    "    print(\"# Tuning hyper-parameters for %s\" % score)\n",
    "    print()\n",
    "\n",
    "    clf = GridSearchCV(\n",
    "        SVC(), tuned_parameters, scoring=score\n",
    "    )\n",
    "    clf.fit(visual_words, train_labels)\n",
    "\n",
    "    print(\"Best parameters set found on development set:\")\n",
    "    print()\n",
    "    print(clf.best_params_)\n",
    "    print()\n",
    "    print(\"Grid scores on development set:\")\n",
    "    print()\n",
    "    means = clf.cv_results_['mean_test_score']\n",
    "    stds = clf.cv_results_['std_test_score']\n",
    "    for mean, std, params in zip(means, stds, clf.cv_results_['params']):\n",
    "        c=params['C']\n",
    "        ker=params['kernel']\n",
    "        if ker=='rbf': \n",
    "            gamma=params['gamma']\n",
    "        else: gamma=None\n",
    "            \n",
    "        data_results.append([mean,std,c,gamma,ker,score])\n",
    "        \n",
    "        print(\"%0.3f (+/-%0.03f) for %r\"\n",
    "              % (mean, std * 2, params))\n",
    "    print()\n",
    "\n",
    "#     print(\"Detailed classification report:\")\n",
    "#     print()\n",
    "#     print(\"The model is trained on the full development set.\")\n",
    "#     print(\"The scores are computed on the full evaluation set.\")\n",
    "#     print()\n",
    "#     y_true, y_pred = y_test, clf.predict(X_test)\n",
    "#     print(classification_report(y_true, y_pred))\n",
    "#     print()\n",
    "\n",
    "today = datetime.now()\n",
    "dt_string = today.strftime(\"%H:%M:%S\")\n",
    "print(f\"{dt_string} started doing step={step}\")"
   ]
  },
  {
   "cell_type": "code",
   "execution_count": 94,
   "metadata": {},
   "outputs": [],
   "source": [
    "df=pd.DataFrame(data_results, columns=['mean_val','std_val','c','gamma','ker','score'])"
   ]
  },
  {
   "cell_type": "code",
   "execution_count": 95,
   "metadata": {},
   "outputs": [],
   "source": [
    "from sklearn import metrics\n",
    "# sorted(metrics.SCORERS.keys())"
   ]
  },
  {
   "cell_type": "code",
   "execution_count": null,
   "metadata": {},
   "outputs": [],
   "source": [
    "with open('GridSearchCV_rbf_linear_params.pkl','wb') as f:\n",
    "    cPickle.dump(df,f)"
   ]
  },
  {
   "cell_type": "code",
   "execution_count": 19,
   "metadata": {},
   "outputs": [
    {
     "ename": "NameError",
     "evalue": "name 'df' is not defined",
     "output_type": "error",
     "traceback": [
      "\u001b[0;31m---------------------------------------------------------------------------\u001b[0m",
      "\u001b[0;31mNameError\u001b[0m                                 Traceback (most recent call last)",
      "\u001b[0;32m<ipython-input-19-00cf07b74dcd>\u001b[0m in \u001b[0;36m<module>\u001b[0;34m\u001b[0m\n\u001b[0;32m----> 1\u001b[0;31m \u001b[0mdf\u001b[0m\u001b[0;34m\u001b[0m\u001b[0;34m\u001b[0m\u001b[0m\n\u001b[0m",
      "\u001b[0;31mNameError\u001b[0m: name 'df' is not defined"
     ]
    }
   ],
   "source": [
    "with open('GridSearchCV_rbf_linear_params.pkl','wb') as f:\n",
    "    df = cPickle.load(f)\n",
    "df"
   ]
  },
  {
   "cell_type": "code",
   "execution_count": 98,
   "metadata": {
    "scrolled": true
   },
   "outputs": [
    {
     "data": {
      "image/png": "[encoded data removed]",
      "text/plain": [
       "<Figure size 432x288 with 1 Axes>"
      ]
     },
     "metadata": {
      "needs_background": "light"
     },
     "output_type": "display_data"
    },
    {
     "data": {
      "image/png": "[encoded data removed]",
      "text/plain": [
       "<Figure size 432x288 with 1 Axes>"
      ]
     },
     "metadata": {
      "needs_background": "light"
     },
     "output_type": "display_data"
    },
    {
     "data": {
      "image/png": "[encoded data removed]",
      "text/plain": [
       "<Figure size 432x288 with 1 Axes>"
      ]
     },
     "metadata": {
      "needs_background": "light"
     },
     "output_type": "display_data"
    }
   ],
   "source": [
    "###### RBF KERNEL ###### \n",
    "rbf = df[(df.ker == 'rbf')]\n",
    "# C VALUES: 4 data points\n",
    "precision_c_values_rbf = rbf[(rbf.gamma==0.0010)&(rbf.score=='precision_macro')]['mean_val'].tolist()\n",
    "recall_c_values_rbf = rbf[(rbf.gamma==0.0010)&(rbf.score=='recall_macro')]['mean_val'].tolist()\n",
    "accuracy_c_values_rbf = rbf[(rbf.gamma==0.0010)&(rbf.score=='accuracy')]['mean_val'].tolist()\n",
    "\n",
    "\n",
    "# GAMMA VALUES: 2 data points\n",
    "precision_gamma_values_rbf = rbf[(rbf.c==1000)&(rbf.score=='precision_macro')]['mean_val'].tolist()\n",
    "recall_gamma_values_rbf = rbf[(rbf.c==1000)&(rbf.score=='recall_macro')]['mean_val'].tolist()\n",
    "accuracy_gamma_values_rbf = rbf[(rbf.c==1000)&(rbf.score=='accuracy')]['mean_val'].tolist()\n",
    "\n",
    "\n",
    "###### LINEAR KERNEL ###### \n",
    "linear = df[(df.ker == 'linear')]\n",
    "precision_c_values_linear = linear[(linear.score=='precision_macro')]['mean_val'].tolist()\n",
    "recall_c_values_linear = linear[(linear.score=='recall_macro')]['mean_val'].tolist()\n",
    "accuracy_c_values_linear = linear[(linear.score=='accuracy')]['mean_val'].tolist()\n",
    "\n",
    "# PLOTS\n",
    "# Precision - recall\n",
    "#plot_data(recall_c_values_rbf,precision_c_values_rbf, 'Recall', 'Precision', 'precision-recall for C=[1,10,100,1000], rbf kernel')\n",
    "#plot_data(recall_gamma_values_rbf,precision_gamma_values_rbf, 'Recall', 'Precision', 'precision-recall for gamma=[0.0010,0.0001], rbf kernel')\n",
    "#plot_data(recall_c_values_linear,precision_c_values_linear, 'Recall', 'Precision', 'precision-recall for C=[1,10,100,1000], linear kernel')\n",
    "\n",
    "# Accuracy\n",
    "C_values_rbf=[1, 10, 100, 1000, 2000, 3000,5000]\n",
    "C_values_linear=[i for i in range(1,20,1)]\n",
    "gamma_values=[0,.001,.003,.01,.03,.1,.3,1,1.5]\n",
    "plot_data(C_values_rbf,accuracy_c_values_rbf,'C','Accuracy','Accuracy for different C values, rbf kernel')\n",
    "plot_data(gamma_values,accuracy_gamma_values_rbf,'gamma','Accuracy','Accuracy for different gamma values, rbf kernel')\n",
    "plot_data(C_values_linear,accuracy_c_values_linear,'C','Accuracy','Accuracy for different C values, linear kernel')\n",
    "\n"
   ]
  },
  {
   "cell_type": "code",
   "execution_count": 71,
   "metadata": {},
   "outputs": [
    {
     "data": {
      "text/html": [
       "<div>\n",
       "<style scoped>\n",
       "    .dataframe tbody tr th:only-of-type {\n",
       "        vertical-align: middle;\n",
       "    }\n",
       "\n",
       "    .dataframe tbody tr th {\n",
       "        vertical-align: top;\n",
       "    }\n",
       "\n",
       "    .dataframe thead th {\n",
       "        text-align: right;\n",
       "    }\n",
       "</style>\n",
       "<table border=\"1\" class=\"dataframe\">\n",
       "  <thead>\n",
       "    <tr style=\"text-align: right;\">\n",
       "      <th></th>\n",
       "      <th>mean_val</th>\n",
       "      <th>std_val</th>\n",
       "      <th>c</th>\n",
       "      <th>gamma</th>\n",
       "      <th>ker</th>\n",
       "      <th>score</th>\n",
       "    </tr>\n",
       "  </thead>\n",
       "  <tbody>\n",
       "    <tr>\n",
       "      <th>0</th>\n",
       "      <td>0.019404</td>\n",
       "      <td>0.000151</td>\n",
       "      <td>1</td>\n",
       "      <td>0.0010</td>\n",
       "      <td>rbf</td>\n",
       "      <td>precision_macro</td>\n",
       "    </tr>\n",
       "    <tr>\n",
       "      <th>1</th>\n",
       "      <td>0.019404</td>\n",
       "      <td>0.000151</td>\n",
       "      <td>1</td>\n",
       "      <td>0.0001</td>\n",
       "      <td>rbf</td>\n",
       "      <td>precision_macro</td>\n",
       "    </tr>\n",
       "    <tr>\n",
       "      <th>2</th>\n",
       "      <td>0.390429</td>\n",
       "      <td>0.069874</td>\n",
       "      <td>10</td>\n",
       "      <td>0.0010</td>\n",
       "      <td>rbf</td>\n",
       "      <td>precision_macro</td>\n",
       "    </tr>\n",
       "    <tr>\n",
       "      <th>3</th>\n",
       "      <td>0.019404</td>\n",
       "      <td>0.000151</td>\n",
       "      <td>10</td>\n",
       "      <td>0.0001</td>\n",
       "      <td>rbf</td>\n",
       "      <td>precision_macro</td>\n",
       "    </tr>\n",
       "    <tr>\n",
       "      <th>4</th>\n",
       "      <td>0.742567</td>\n",
       "      <td>0.042393</td>\n",
       "      <td>100</td>\n",
       "      <td>0.0010</td>\n",
       "      <td>rbf</td>\n",
       "      <td>precision_macro</td>\n",
       "    </tr>\n",
       "    <tr>\n",
       "      <th>5</th>\n",
       "      <td>0.391881</td>\n",
       "      <td>0.071370</td>\n",
       "      <td>100</td>\n",
       "      <td>0.0001</td>\n",
       "      <td>rbf</td>\n",
       "      <td>precision_macro</td>\n",
       "    </tr>\n",
       "    <tr>\n",
       "      <th>6</th>\n",
       "      <td>0.798291</td>\n",
       "      <td>0.040844</td>\n",
       "      <td>1000</td>\n",
       "      <td>0.0010</td>\n",
       "      <td>rbf</td>\n",
       "      <td>precision_macro</td>\n",
       "    </tr>\n",
       "    <tr>\n",
       "      <th>7</th>\n",
       "      <td>0.742977</td>\n",
       "      <td>0.041979</td>\n",
       "      <td>1000</td>\n",
       "      <td>0.0001</td>\n",
       "      <td>rbf</td>\n",
       "      <td>precision_macro</td>\n",
       "    </tr>\n",
       "    <tr>\n",
       "      <th>8</th>\n",
       "      <td>0.785433</td>\n",
       "      <td>0.033328</td>\n",
       "      <td>1</td>\n",
       "      <td>NaN</td>\n",
       "      <td>linear</td>\n",
       "      <td>precision_macro</td>\n",
       "    </tr>\n",
       "    <tr>\n",
       "      <th>9</th>\n",
       "      <td>0.795908</td>\n",
       "      <td>0.036385</td>\n",
       "      <td>10</td>\n",
       "      <td>NaN</td>\n",
       "      <td>linear</td>\n",
       "      <td>precision_macro</td>\n",
       "    </tr>\n",
       "    <tr>\n",
       "      <th>10</th>\n",
       "      <td>0.760804</td>\n",
       "      <td>0.030239</td>\n",
       "      <td>100</td>\n",
       "      <td>NaN</td>\n",
       "      <td>linear</td>\n",
       "      <td>precision_macro</td>\n",
       "    </tr>\n",
       "    <tr>\n",
       "      <th>11</th>\n",
       "      <td>0.758828</td>\n",
       "      <td>0.027303</td>\n",
       "      <td>1000</td>\n",
       "      <td>NaN</td>\n",
       "      <td>linear</td>\n",
       "      <td>precision_macro</td>\n",
       "    </tr>\n",
       "    <tr>\n",
       "      <th>12</th>\n",
       "      <td>0.125000</td>\n",
       "      <td>0.000000</td>\n",
       "      <td>1</td>\n",
       "      <td>0.0010</td>\n",
       "      <td>rbf</td>\n",
       "      <td>recall_macro</td>\n",
       "    </tr>\n",
       "    <tr>\n",
       "      <th>13</th>\n",
       "      <td>0.125000</td>\n",
       "      <td>0.000000</td>\n",
       "      <td>1</td>\n",
       "      <td>0.0001</td>\n",
       "      <td>rbf</td>\n",
       "      <td>recall_macro</td>\n",
       "    </tr>\n",
       "    <tr>\n",
       "      <th>14</th>\n",
       "      <td>0.365968</td>\n",
       "      <td>0.007739</td>\n",
       "      <td>10</td>\n",
       "      <td>0.0010</td>\n",
       "      <td>rbf</td>\n",
       "      <td>recall_macro</td>\n",
       "    </tr>\n",
       "    <tr>\n",
       "      <th>15</th>\n",
       "      <td>0.125000</td>\n",
       "      <td>0.000000</td>\n",
       "      <td>10</td>\n",
       "      <td>0.0001</td>\n",
       "      <td>rbf</td>\n",
       "      <td>recall_macro</td>\n",
       "    </tr>\n",
       "    <tr>\n",
       "      <th>16</th>\n",
       "      <td>0.726581</td>\n",
       "      <td>0.044086</td>\n",
       "      <td>100</td>\n",
       "      <td>0.0010</td>\n",
       "      <td>rbf</td>\n",
       "      <td>recall_macro</td>\n",
       "    </tr>\n",
       "    <tr>\n",
       "      <th>17</th>\n",
       "      <td>0.366929</td>\n",
       "      <td>0.007601</td>\n",
       "      <td>100</td>\n",
       "      <td>0.0001</td>\n",
       "      <td>rbf</td>\n",
       "      <td>recall_macro</td>\n",
       "    </tr>\n",
       "    <tr>\n",
       "      <th>18</th>\n",
       "      <td>0.788260</td>\n",
       "      <td>0.044032</td>\n",
       "      <td>1000</td>\n",
       "      <td>0.0010</td>\n",
       "      <td>rbf</td>\n",
       "      <td>recall_macro</td>\n",
       "    </tr>\n",
       "    <tr>\n",
       "      <th>19</th>\n",
       "      <td>0.726581</td>\n",
       "      <td>0.044086</td>\n",
       "      <td>1000</td>\n",
       "      <td>0.0001</td>\n",
       "      <td>rbf</td>\n",
       "      <td>recall_macro</td>\n",
       "    </tr>\n",
       "    <tr>\n",
       "      <th>20</th>\n",
       "      <td>0.773106</td>\n",
       "      <td>0.036148</td>\n",
       "      <td>1</td>\n",
       "      <td>NaN</td>\n",
       "      <td>linear</td>\n",
       "      <td>recall_macro</td>\n",
       "    </tr>\n",
       "    <tr>\n",
       "      <th>21</th>\n",
       "      <td>0.788287</td>\n",
       "      <td>0.037289</td>\n",
       "      <td>10</td>\n",
       "      <td>NaN</td>\n",
       "      <td>linear</td>\n",
       "      <td>recall_macro</td>\n",
       "    </tr>\n",
       "    <tr>\n",
       "      <th>22</th>\n",
       "      <td>0.751542</td>\n",
       "      <td>0.032673</td>\n",
       "      <td>100</td>\n",
       "      <td>NaN</td>\n",
       "      <td>linear</td>\n",
       "      <td>recall_macro</td>\n",
       "    </tr>\n",
       "    <tr>\n",
       "      <th>23</th>\n",
       "      <td>0.745389</td>\n",
       "      <td>0.029562</td>\n",
       "      <td>1000</td>\n",
       "      <td>NaN</td>\n",
       "      <td>linear</td>\n",
       "      <td>recall_macro</td>\n",
       "    </tr>\n",
       "    <tr>\n",
       "      <th>24</th>\n",
       "      <td>0.155236</td>\n",
       "      <td>0.001208</td>\n",
       "      <td>1</td>\n",
       "      <td>0.0010</td>\n",
       "      <td>rbf</td>\n",
       "      <td>accuracy</td>\n",
       "    </tr>\n",
       "    <tr>\n",
       "      <th>25</th>\n",
       "      <td>0.155236</td>\n",
       "      <td>0.001208</td>\n",
       "      <td>1</td>\n",
       "      <td>0.0001</td>\n",
       "      <td>rbf</td>\n",
       "      <td>accuracy</td>\n",
       "    </tr>\n",
       "    <tr>\n",
       "      <th>26</th>\n",
       "      <td>0.398729</td>\n",
       "      <td>0.008280</td>\n",
       "      <td>10</td>\n",
       "      <td>0.0010</td>\n",
       "      <td>rbf</td>\n",
       "      <td>accuracy</td>\n",
       "    </tr>\n",
       "    <tr>\n",
       "      <th>27</th>\n",
       "      <td>0.155236</td>\n",
       "      <td>0.001208</td>\n",
       "      <td>10</td>\n",
       "      <td>0.0001</td>\n",
       "      <td>rbf</td>\n",
       "      <td>accuracy</td>\n",
       "    </tr>\n",
       "    <tr>\n",
       "      <th>28</th>\n",
       "      <td>0.736310</td>\n",
       "      <td>0.040977</td>\n",
       "      <td>100</td>\n",
       "      <td>0.0010</td>\n",
       "      <td>rbf</td>\n",
       "      <td>accuracy</td>\n",
       "    </tr>\n",
       "    <tr>\n",
       "      <th>29</th>\n",
       "      <td>0.399793</td>\n",
       "      <td>0.008065</td>\n",
       "      <td>100</td>\n",
       "      <td>0.0001</td>\n",
       "      <td>rbf</td>\n",
       "      <td>accuracy</td>\n",
       "    </tr>\n",
       "    <tr>\n",
       "      <th>30</th>\n",
       "      <td>0.791605</td>\n",
       "      <td>0.039870</td>\n",
       "      <td>1000</td>\n",
       "      <td>0.0010</td>\n",
       "      <td>rbf</td>\n",
       "      <td>accuracy</td>\n",
       "    </tr>\n",
       "    <tr>\n",
       "      <th>31</th>\n",
       "      <td>0.736310</td>\n",
       "      <td>0.040977</td>\n",
       "      <td>1000</td>\n",
       "      <td>0.0001</td>\n",
       "      <td>rbf</td>\n",
       "      <td>accuracy</td>\n",
       "    </tr>\n",
       "    <tr>\n",
       "      <th>32</th>\n",
       "      <td>0.778311</td>\n",
       "      <td>0.032541</td>\n",
       "      <td>1</td>\n",
       "      <td>NaN</td>\n",
       "      <td>linear</td>\n",
       "      <td>accuracy</td>\n",
       "    </tr>\n",
       "    <tr>\n",
       "      <th>33</th>\n",
       "      <td>0.790544</td>\n",
       "      <td>0.034687</td>\n",
       "      <td>10</td>\n",
       "      <td>NaN</td>\n",
       "      <td>linear</td>\n",
       "      <td>accuracy</td>\n",
       "    </tr>\n",
       "    <tr>\n",
       "      <th>34</th>\n",
       "      <td>0.754394</td>\n",
       "      <td>0.028997</td>\n",
       "      <td>100</td>\n",
       "      <td>NaN</td>\n",
       "      <td>linear</td>\n",
       "      <td>accuracy</td>\n",
       "    </tr>\n",
       "    <tr>\n",
       "      <th>35</th>\n",
       "      <td>0.748541</td>\n",
       "      <td>0.024836</td>\n",
       "      <td>1000</td>\n",
       "      <td>NaN</td>\n",
       "      <td>linear</td>\n",
       "      <td>accuracy</td>\n",
       "    </tr>\n",
       "  </tbody>\n",
       "</table>\n",
       "</div>"
      ],
      "text/plain": [
       "    mean_val   std_val     c   gamma     ker            score\n",
       "0   0.019404  0.000151     1  0.0010     rbf  precision_macro\n",
       "1   0.019404  0.000151     1  0.0001     rbf  precision_macro\n",
       "2   0.390429  0.069874    10  0.0010     rbf  precision_macro\n",
       "3   0.019404  0.000151    10  0.0001     rbf  precision_macro\n",
       "4   0.742567  0.042393   100  0.0010     rbf  precision_macro\n",
       "5   0.391881  0.071370   100  0.0001     rbf  precision_macro\n",
       "6   0.798291  0.040844  1000  0.0010     rbf  precision_macro\n",
       "7   0.742977  0.041979  1000  0.0001     rbf  precision_macro\n",
       "8   0.785433  0.033328     1     NaN  linear  precision_macro\n",
       "9   0.795908  0.036385    10     NaN  linear  precision_macro\n",
       "10  0.760804  0.030239   100     NaN  linear  precision_macro\n",
       "11  0.758828  0.027303  1000     NaN  linear  precision_macro\n",
       "12  0.125000  0.000000     1  0.0010     rbf     recall_macro\n",
       "13  0.125000  0.000000     1  0.0001     rbf     recall_macro\n",
       "14  0.365968  0.007739    10  0.0010     rbf     recall_macro\n",
       "15  0.125000  0.000000    10  0.0001     rbf     recall_macro\n",
       "16  0.726581  0.044086   100  0.0010     rbf     recall_macro\n",
       "17  0.366929  0.007601   100  0.0001     rbf     recall_macro\n",
       "18  0.788260  0.044032  1000  0.0010     rbf     recall_macro\n",
       "19  0.726581  0.044086  1000  0.0001     rbf     recall_macro\n",
       "20  0.773106  0.036148     1     NaN  linear     recall_macro\n",
       "21  0.788287  0.037289    10     NaN  linear     recall_macro\n",
       "22  0.751542  0.032673   100     NaN  linear     recall_macro\n",
       "23  0.745389  0.029562  1000     NaN  linear     recall_macro\n",
       "24  0.155236  0.001208     1  0.0010     rbf         accuracy\n",
       "25  0.155236  0.001208     1  0.0001     rbf         accuracy\n",
       "26  0.398729  0.008280    10  0.0010     rbf         accuracy\n",
       "27  0.155236  0.001208    10  0.0001     rbf         accuracy\n",
       "28  0.736310  0.040977   100  0.0010     rbf         accuracy\n",
       "29  0.399793  0.008065   100  0.0001     rbf         accuracy\n",
       "30  0.791605  0.039870  1000  0.0010     rbf         accuracy\n",
       "31  0.736310  0.040977  1000  0.0001     rbf         accuracy\n",
       "32  0.778311  0.032541     1     NaN  linear         accuracy\n",
       "33  0.790544  0.034687    10     NaN  linear         accuracy\n",
       "34  0.754394  0.028997   100     NaN  linear         accuracy\n",
       "35  0.748541  0.024836  1000     NaN  linear         accuracy"
      ]
     },
     "execution_count": 71,
     "metadata": {},
     "output_type": "execute_result"
    }
   ],
   "source": [
    "def plot_data(x,y,x_label, y_label, title):\n",
    "    plt.title(title)\n",
    "    plt.plot(x,y, marker='.')\n",
    "    plt.xlabel(x_label)\n",
    "    plt.ylabel(y_label)\n",
    "    plt.show()\n",
    "df"
   ]
  },
  {
   "cell_type": "code",
   "execution_count": 94,
   "metadata": {},
   "outputs": [
    {
     "name": "stdout",
     "output_type": "stream",
     "text": [
      "max for rbf\n",
      "     mean_val  std_val     c  gamma  ker     score\n",
      "30  0.791605  0.03987  1000  0.001  rbf  accuracy\n",
      "max for linear\n",
      "     mean_val   std_val   c  gamma     ker     score\n",
      "33  0.790545  0.035284  10    NaN  linear  accuracy\n"
     ]
    },
    {
     "data": {
      "image/png": "[encoded data removed]",
      "text/plain": [
       "<Figure size 720x576 with 1 Axes>"
      ]
     },
     "metadata": {
      "needs_background": "light"
     },
     "output_type": "display_data"
    }
   ],
   "source": [
    "fig, ax = plt.subplots(figsize=(10,8))\n",
    "ax.set(title='Accuracy vs C', xlim=(0,1200), ylim=(0,1))\n",
    "df2=df[df.score=='accuracy']\n",
    "df2_rbf=df2[(df2.ker=='rbf')]\n",
    "df2_linear=df2[(df2.ker=='linear')]\n",
    "print(\"max for rbf\\n\",df2_rbf[df2_rbf.mean_val==df2_rbf.mean_val.max()])\n",
    "print(\"max for linear\\n\",df2_linear.loc[df2_linear.mean_val==df2_linear.mean_val.max()])\n",
    "# print(df2[df2.recall==df2.recall.max()])\n",
    "\n",
    "ax.plot(df2_linear.c, df2_linear.mean_val, 'ro', label='linear')\n",
    "ax.plot(df2_rbf.c, df2_rbf.mean_val, 'go', label='rbf')\n",
    "####\n",
    "ax.legend()\n",
    "\n",
    "max_val = max(df2.mean_val)\n",
    "max_idx = df2.c[df2.mean_val.idxmax()]\n",
    "# ax.annotate(\"Max {:.2f}\".format(max_val), xy=(max_idx, max_val),\n",
    "#            weight='bold', size=14)\n",
    "\n",
    "# arrowprops is a mpl.patches.FancyArrowPatch\n",
    "_ = ax.annotate(\"Max accuracy {:.2f}\".format(max_val), xy=(max_idx, max_val),\n",
    "                weight='bold', size=14, \n",
    "                xytext=(.5, .9),\n",
    "                textcoords='axes fraction',\n",
    "                family='comic sans ms',\n",
    "                arrowprops={})"
   ]
  },
  {
   "cell_type": "code",
   "execution_count": null,
   "metadata": {},
   "outputs": [],
   "source": []
  }
 ],
 "metadata": {
  "kernelspec": {
   "display_name": "Python 3",
   "language": "python",
   "name": "python3"
  },
  "language_info": {
   "codemirror_mode": {
    "name": "ipython",
    "version": 3
   },
   "file_extension": ".py",
   "mimetype": "text/x-python",
   "name": "python",
   "nbconvert_exporter": "python",
   "pygments_lexer": "ipython3",
   "version": "3.8.3"
  }
 },
 "nbformat": 4,
 "nbformat_minor": 4
}
