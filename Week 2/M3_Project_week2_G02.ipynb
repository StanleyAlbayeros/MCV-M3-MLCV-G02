{
 "cells": [
  {
   "cell_type": "markdown",
   "metadata": {},
   "source": [
    "# Bag of Visual Words Image Classification, Week 2"
   ]
  },
  {
   "cell_type": "code",
   "execution_count": 1,
   "metadata": {},
   "outputs": [],
   "source": [
    "import cv2\n",
    "import numpy as np\n",
    "import pandas as pd\n",
    "import pickle as cPickle\n",
    "from matplotlib import pyplot as plt\n",
    "from sklearn.cluster import MiniBatchKMeans\n",
    "from sklearn.neighbors import KNeighborsClassifier\n",
    "from sklearn.decomposition import PCA\n",
    "from sklearn.discriminant_analysis import LinearDiscriminantAnalysis\n",
    "from sklearn.model_selection import cross_val_score\n",
    "from sklearn.metrics import precision_score,confusion_matrix,multilabel_confusion_matrix,recall_score\n",
    "from sklearn.preprocessing import normalize\n",
    "from sklearn import svm\n",
    "from datetime import datetime\n",
    "from sklearn.model_selection import GridSearchCV\n",
    "from sklearn.metrics import classification_report\n",
    "from sklearn.svm import SVC\n",
    "from sklearn.preprocessing import StandardScaler\n",
    "import time"
   ]
  },
  {
   "cell_type": "markdown",
   "metadata": {},
   "source": [
    "## Environment setup"
   ]
  },
  {
   "cell_type": "code",
   "execution_count": 2,
   "metadata": {},
   "outputs": [],
   "source": [
    "train_images_filenames = cPickle.load(open('resources/train_images_filenames.dat','rb'))\n",
    "test_images_filenames = cPickle.load(open('resources/test_images_filenames.dat','rb'))\n",
    "train_labels = cPickle.load(open('resources/train_labels.dat','rb'))\n",
    "test_labels = cPickle.load(open('resources/test_labels.dat','rb'))"
   ]
  },
  {
   "cell_type": "code",
   "execution_count": 3,
   "metadata": {},
   "outputs": [],
   "source": [
    "import warnings\n",
    "warnings.filterwarnings('ignore')"
   ]
  },
  {
   "cell_type": "code",
   "execution_count": 4,
   "metadata": {},
   "outputs": [],
   "source": [
    "SIFTdetector = cv2.SIFT_create(nfeatures=300)"
   ]
  },
  {
   "cell_type": "code",
   "execution_count": 5,
   "metadata": {},
   "outputs": [],
   "source": [
    "def compute_dense_sift(gray,sift,step):\n",
    "    step_size = step\n",
    "    kp = [cv2.KeyPoint(x, y, step_size) for y in range(0, gray.shape[0], step_size) \n",
    "                                        for x in range(0, gray.shape[1], step_size)]\n",
    "    dense_feat = sift.compute(gray, kp)\n",
    "    dense_feat_des = dense_feat[1]\n",
    "    return dense_feat_des"
   ]
  },
  {
   "cell_type": "code",
   "execution_count": 7,
   "metadata": {},
   "outputs": [],
   "source": [
    "def get_pyramid_image_cells(image,level):\n",
    "    # CURRENTLY WORKING ONLY FOR LEVELS 0,1,2 (1,4, and 16 cells)\n",
    "    M = (image.shape[0])//(level+1)\n",
    "    N = (image.shape[1])//(level+1)\n",
    "    tiles = [image[x:x+M,y:y+N] for x in range(0,image.shape[0],M) for y in range(0,image.shape[1],N)]\n",
    "\n",
    "    return tiles"
   ]
  },
  {
   "cell_type": "markdown",
   "metadata": {},
   "source": [
    "## 1. Tweaking parameters for SVM with GridSearchCV Cross Validation"
   ]
  },
  {
   "cell_type": "markdown",
   "metadata": {},
   "source": [
    "SVM kernels have different parameters that should be tuned.\n",
    "In order to choose the optimal values for these parameters, we used the cross-validation estimator <em>GridSearchCV</em>.\n",
    "\n",
    "We will be estimating the optimal parameters for two different SVM kernels: linear and rbf. \n",
    "A third kernel based on Histogram Intersection will be used in this project in further sections.\n",
    "\n",
    "The parameters to estimate and the values tested in this section are:\n",
    "* Linear Kernel:\n",
    "    * Regularization parameter, C: [1,...,20]\n",
    "* RBF Kernel coeffcient\n",
    "    * Regularization parameter, C: [1, 10, 100, 1000, 2000, 3000, 5000]\n",
    "    * Kernel coefficient, gamma: [0, .001, .003, .01, .03, .1, .3, 1, 1.5]"
   ]
  },
  {
   "cell_type": "markdown",
   "metadata": {},
   "source": [
    "Parameters related to the Bag of Visual Words implemented in the previous weeek are those that proved to perform best in said delivery. These are:\n",
    "\n",
    "* Dense SIFT for keypoint computation with step=5 (different densities to be tested in further sections)\n",
    "* Codebook size=128"
   ]
  },
  {
   "cell_type": "code",
   "execution_count": 8,
   "metadata": {},
   "outputs": [
    {
     "name": "stdout",
     "output_type": "stream",
     "text": [
      "20:19:17 started doing step=5\n",
      "20:20:43 started doing step=5\n"
     ]
    }
   ],
   "source": [
    "step=5\n",
    "\n",
    "today = datetime.now()\n",
    "dt_string = today.strftime(\"%H:%M:%S\")\n",
    "print(f\"{dt_string} started doing step={step}\")\n",
    "\n",
    "Train_descriptors = []\n",
    "Train_label_per_descriptor = []\n",
    "\n",
    "for filename,labels in zip(train_images_filenames,train_labels):\n",
    "    ima=cv2.imread(filename)\n",
    "    gray=cv2.cvtColor(ima,cv2.COLOR_BGR2GRAY)\n",
    "#     kpt,des=SIFTdetector.detectAndCompute(gray,None)\n",
    "    des=compute_dense_sift(gray,SIFTdetector, step)\n",
    "    Train_descriptors.append(des)\n",
    "    Train_label_per_descriptor.append(labels)\n",
    "\n",
    "D=np.vstack(Train_descriptors)\n",
    "\n",
    "k=128\n",
    "codebook = MiniBatchKMeans(n_clusters=k, verbose=False, batch_size=k * 20,compute_labels=False,reassignment_ratio=10**-4,random_state=42)\n",
    "codebook.fit(D)\n",
    "\n",
    "visual_words=np.zeros((len(Train_descriptors),k),dtype=np.float32)\n",
    "for i in range(len(Train_descriptors)):\n",
    "    words=codebook.predict(Train_descriptors[i])\n",
    "    visual_words[i,:]=normalize(np.bincount(words,minlength=k).reshape(1,-1))\n",
    "\n",
    "# knn = KNeighborsClassifier(n_neighbors=37,n_jobs=-1,metric='manhattan')\n",
    "# knn.fit(visual_words, train_labels)\n",
    "\n",
    "today = datetime.now()\n",
    "dt_string = today.strftime(\"%H:%M:%S\")\n",
    "print(f\"{dt_string} started doing step={step}\")\n"
   ]
  },
  {
   "cell_type": "code",
   "execution_count": 56,
   "metadata": {
    "scrolled": false
   },
   "outputs": [
    {
     "name": "stdout",
     "output_type": "stream",
     "text": [
      "22:59:09 started doing step=500\n",
      "Best parameters set found on development set:\n",
      "\n",
      "{'C': 10, 'gamma': 1, 'kernel': 'rbf'}\n",
      "\n",
      "Grid scores on development set:\n",
      "\n",
      "0.019 (+/-0.000) for {'C': 1, 'gamma': 0, 'kernel': 'rbf'}\n",
      "0.019 (+/-0.000) for {'C': 1, 'gamma': 0.001, 'kernel': 'rbf'}\n",
      "0.019 (+/-0.000) for {'C': 1, 'gamma': 0.003, 'kernel': 'rbf'}\n",
      "0.387 (+/-0.139) for {'C': 1, 'gamma': 0.01, 'kernel': 'rbf'}\n",
      "0.696 (+/-0.167) for {'C': 1, 'gamma': 0.03, 'kernel': 'rbf'}\n",
      "0.743 (+/-0.077) for {'C': 1, 'gamma': 0.1, 'kernel': 'rbf'}\n",
      "0.777 (+/-0.086) for {'C': 1, 'gamma': 0.3, 'kernel': 'rbf'}\n",
      "0.790 (+/-0.062) for {'C': 1, 'gamma': 1, 'kernel': 'rbf'}\n",
      "0.795 (+/-0.074) for {'C': 1, 'gamma': 1.5, 'kernel': 'rbf'}\n",
      "0.019 (+/-0.000) for {'C': 10, 'gamma': 0, 'kernel': 'rbf'}\n",
      "0.390 (+/-0.140) for {'C': 10, 'gamma': 0.001, 'kernel': 'rbf'}\n",
      "0.691 (+/-0.157) for {'C': 10, 'gamma': 0.003, 'kernel': 'rbf'}\n",
      "0.742 (+/-0.083) for {'C': 10, 'gamma': 0.01, 'kernel': 'rbf'}\n",
      "0.776 (+/-0.082) for {'C': 10, 'gamma': 0.03, 'kernel': 'rbf'}\n",
      "0.797 (+/-0.074) for {'C': 10, 'gamma': 0.1, 'kernel': 'rbf'}\n",
      "0.808 (+/-0.082) for {'C': 10, 'gamma': 0.3, 'kernel': 'rbf'}\n",
      "0.810 (+/-0.065) for {'C': 10, 'gamma': 1, 'kernel': 'rbf'}\n",
      "0.807 (+/-0.078) for {'C': 10, 'gamma': 1.5, 'kernel': 'rbf'}\n",
      "0.019 (+/-0.000) for {'C': 100, 'gamma': 0, 'kernel': 'rbf'}\n",
      "0.743 (+/-0.085) for {'C': 100, 'gamma': 0.001, 'kernel': 'rbf'}\n",
      "0.778 (+/-0.081) for {'C': 100, 'gamma': 0.003, 'kernel': 'rbf'}\n",
      "0.798 (+/-0.082) for {'C': 100, 'gamma': 0.01, 'kernel': 'rbf'}\n",
      "0.799 (+/-0.086) for {'C': 100, 'gamma': 0.03, 'kernel': 'rbf'}\n",
      "0.795 (+/-0.064) for {'C': 100, 'gamma': 0.1, 'kernel': 'rbf'}\n",
      "0.799 (+/-0.066) for {'C': 100, 'gamma': 0.3, 'kernel': 'rbf'}\n",
      "0.808 (+/-0.068) for {'C': 100, 'gamma': 1, 'kernel': 'rbf'}\n",
      "0.807 (+/-0.075) for {'C': 100, 'gamma': 1.5, 'kernel': 'rbf'}\n",
      "0.019 (+/-0.000) for {'C': 1000, 'gamma': 0, 'kernel': 'rbf'}\n",
      "0.798 (+/-0.082) for {'C': 1000, 'gamma': 0.001, 'kernel': 'rbf'}\n",
      "0.797 (+/-0.084) for {'C': 1000, 'gamma': 0.003, 'kernel': 'rbf'}\n",
      "0.790 (+/-0.061) for {'C': 1000, 'gamma': 0.01, 'kernel': 'rbf'}\n",
      "0.778 (+/-0.074) for {'C': 1000, 'gamma': 0.03, 'kernel': 'rbf'}\n",
      "0.786 (+/-0.078) for {'C': 1000, 'gamma': 0.1, 'kernel': 'rbf'}\n",
      "0.799 (+/-0.070) for {'C': 1000, 'gamma': 0.3, 'kernel': 'rbf'}\n",
      "0.808 (+/-0.068) for {'C': 1000, 'gamma': 1, 'kernel': 'rbf'}\n",
      "0.807 (+/-0.075) for {'C': 1000, 'gamma': 1.5, 'kernel': 'rbf'}\n",
      "0.019 (+/-0.000) for {'C': 2000, 'gamma': 0, 'kernel': 'rbf'}\n",
      "0.798 (+/-0.095) for {'C': 2000, 'gamma': 0.001, 'kernel': 'rbf'}\n",
      "0.794 (+/-0.079) for {'C': 2000, 'gamma': 0.003, 'kernel': 'rbf'}\n",
      "0.774 (+/-0.069) for {'C': 2000, 'gamma': 0.01, 'kernel': 'rbf'}\n",
      "0.774 (+/-0.075) for {'C': 2000, 'gamma': 0.03, 'kernel': 'rbf'}\n",
      "0.786 (+/-0.078) for {'C': 2000, 'gamma': 0.1, 'kernel': 'rbf'}\n",
      "0.799 (+/-0.070) for {'C': 2000, 'gamma': 0.3, 'kernel': 'rbf'}\n",
      "0.808 (+/-0.068) for {'C': 2000, 'gamma': 1, 'kernel': 'rbf'}\n",
      "0.807 (+/-0.075) for {'C': 2000, 'gamma': 1.5, 'kernel': 'rbf'}\n",
      "0.019 (+/-0.000) for {'C': 3000, 'gamma': 0, 'kernel': 'rbf'}\n",
      "0.797 (+/-0.084) for {'C': 3000, 'gamma': 0.001, 'kernel': 'rbf'}\n",
      "0.791 (+/-0.064) for {'C': 3000, 'gamma': 0.003, 'kernel': 'rbf'}\n",
      "0.769 (+/-0.070) for {'C': 3000, 'gamma': 0.01, 'kernel': 'rbf'}\n",
      "0.776 (+/-0.075) for {'C': 3000, 'gamma': 0.03, 'kernel': 'rbf'}\n",
      "0.786 (+/-0.078) for {'C': 3000, 'gamma': 0.1, 'kernel': 'rbf'}\n",
      "0.799 (+/-0.070) for {'C': 3000, 'gamma': 0.3, 'kernel': 'rbf'}\n",
      "0.808 (+/-0.068) for {'C': 3000, 'gamma': 1, 'kernel': 'rbf'}\n",
      "0.807 (+/-0.075) for {'C': 3000, 'gamma': 1.5, 'kernel': 'rbf'}\n",
      "0.019 (+/-0.000) for {'C': 5000, 'gamma': 0, 'kernel': 'rbf'}\n",
      "0.796 (+/-0.074) for {'C': 5000, 'gamma': 0.001, 'kernel': 'rbf'}\n",
      "0.780 (+/-0.058) for {'C': 5000, 'gamma': 0.003, 'kernel': 'rbf'}\n",
      "0.769 (+/-0.071) for {'C': 5000, 'gamma': 0.01, 'kernel': 'rbf'}\n",
      "0.776 (+/-0.073) for {'C': 5000, 'gamma': 0.03, 'kernel': 'rbf'}\n",
      "0.786 (+/-0.078) for {'C': 5000, 'gamma': 0.1, 'kernel': 'rbf'}\n",
      "0.799 (+/-0.070) for {'C': 5000, 'gamma': 0.3, 'kernel': 'rbf'}\n",
      "0.808 (+/-0.068) for {'C': 5000, 'gamma': 1, 'kernel': 'rbf'}\n",
      "0.807 (+/-0.075) for {'C': 5000, 'gamma': 1.5, 'kernel': 'rbf'}\n",
      "0.785 (+/-0.067) for {'C': 1, 'kernel': 'linear'}\n",
      "0.798 (+/-0.082) for {'C': 2, 'kernel': 'linear'}\n",
      "0.797 (+/-0.089) for {'C': 3, 'kernel': 'linear'}\n",
      "0.798 (+/-0.095) for {'C': 4, 'kernel': 'linear'}\n",
      "0.798 (+/-0.095) for {'C': 5, 'kernel': 'linear'}\n",
      "0.796 (+/-0.082) for {'C': 6, 'kernel': 'linear'}\n",
      "0.799 (+/-0.080) for {'C': 7, 'kernel': 'linear'}\n",
      "0.798 (+/-0.072) for {'C': 8, 'kernel': 'linear'}\n",
      "0.798 (+/-0.073) for {'C': 9, 'kernel': 'linear'}\n",
      "0.796 (+/-0.073) for {'C': 10, 'kernel': 'linear'}\n",
      "0.795 (+/-0.075) for {'C': 11, 'kernel': 'linear'}\n",
      "0.794 (+/-0.076) for {'C': 12, 'kernel': 'linear'}\n",
      "0.794 (+/-0.073) for {'C': 13, 'kernel': 'linear'}\n",
      "0.792 (+/-0.066) for {'C': 14, 'kernel': 'linear'}\n",
      "0.789 (+/-0.064) for {'C': 15, 'kernel': 'linear'}\n",
      "0.789 (+/-0.069) for {'C': 16, 'kernel': 'linear'}\n",
      "0.788 (+/-0.067) for {'C': 17, 'kernel': 'linear'}\n",
      "0.789 (+/-0.062) for {'C': 18, 'kernel': 'linear'}\n",
      "0.789 (+/-0.064) for {'C': 19, 'kernel': 'linear'}\n",
      "\n",
      "Best parameters set found on development set:\n",
      "\n",
      "{'C': 10, 'gamma': 1, 'kernel': 'rbf'}\n",
      "\n",
      "Grid scores on development set:\n",
      "\n",
      "0.125 (+/-0.000) for {'C': 1, 'gamma': 0, 'kernel': 'rbf'}\n",
      "0.125 (+/-0.000) for {'C': 1, 'gamma': 0.001, 'kernel': 'rbf'}\n",
      "0.125 (+/-0.000) for {'C': 1, 'gamma': 0.003, 'kernel': 'rbf'}\n",
      "0.364 (+/-0.019) for {'C': 1, 'gamma': 0.01, 'kernel': 'rbf'}\n",
      "0.662 (+/-0.099) for {'C': 1, 'gamma': 0.03, 'kernel': 'rbf'}\n",
      "0.725 (+/-0.082) for {'C': 1, 'gamma': 0.1, 'kernel': 'rbf'}\n",
      "0.761 (+/-0.083) for {'C': 1, 'gamma': 0.3, 'kernel': 'rbf'}\n",
      "0.780 (+/-0.063) for {'C': 1, 'gamma': 1, 'kernel': 'rbf'}\n",
      "0.783 (+/-0.075) for {'C': 1, 'gamma': 1.5, 'kernel': 'rbf'}\n",
      "0.125 (+/-0.000) for {'C': 10, 'gamma': 0, 'kernel': 'rbf'}\n",
      "0.366 (+/-0.015) for {'C': 10, 'gamma': 0.001, 'kernel': 'rbf'}\n",
      "0.661 (+/-0.093) for {'C': 10, 'gamma': 0.003, 'kernel': 'rbf'}\n",
      "0.726 (+/-0.087) for {'C': 10, 'gamma': 0.01, 'kernel': 'rbf'}\n",
      "0.764 (+/-0.084) for {'C': 10, 'gamma': 0.03, 'kernel': 'rbf'}\n",
      "0.788 (+/-0.077) for {'C': 10, 'gamma': 0.1, 'kernel': 'rbf'}\n",
      "0.802 (+/-0.089) for {'C': 10, 'gamma': 0.3, 'kernel': 'rbf'}\n",
      "0.802 (+/-0.078) for {'C': 10, 'gamma': 1, 'kernel': 'rbf'}\n",
      "0.800 (+/-0.088) for {'C': 10, 'gamma': 1.5, 'kernel': 'rbf'}\n",
      "0.125 (+/-0.000) for {'C': 100, 'gamma': 0, 'kernel': 'rbf'}\n",
      "0.727 (+/-0.088) for {'C': 100, 'gamma': 0.001, 'kernel': 'rbf'}\n",
      "0.766 (+/-0.083) for {'C': 100, 'gamma': 0.003, 'kernel': 'rbf'}\n",
      "0.788 (+/-0.088) for {'C': 100, 'gamma': 0.01, 'kernel': 'rbf'}\n",
      "0.792 (+/-0.093) for {'C': 100, 'gamma': 0.03, 'kernel': 'rbf'}\n",
      "0.787 (+/-0.076) for {'C': 100, 'gamma': 0.1, 'kernel': 'rbf'}\n",
      "0.791 (+/-0.078) for {'C': 100, 'gamma': 0.3, 'kernel': 'rbf'}\n",
      "0.801 (+/-0.080) for {'C': 100, 'gamma': 1, 'kernel': 'rbf'}\n",
      "0.799 (+/-0.082) for {'C': 100, 'gamma': 1.5, 'kernel': 'rbf'}\n",
      "0.125 (+/-0.000) for {'C': 1000, 'gamma': 0, 'kernel': 'rbf'}\n",
      "0.788 (+/-0.088) for {'C': 1000, 'gamma': 0.001, 'kernel': 'rbf'}\n",
      "0.790 (+/-0.093) for {'C': 1000, 'gamma': 0.003, 'kernel': 'rbf'}\n",
      "0.780 (+/-0.067) for {'C': 1000, 'gamma': 0.01, 'kernel': 'rbf'}\n",
      "0.769 (+/-0.080) for {'C': 1000, 'gamma': 0.03, 'kernel': 'rbf'}\n",
      "0.778 (+/-0.086) for {'C': 1000, 'gamma': 0.1, 'kernel': 'rbf'}\n",
      "0.791 (+/-0.080) for {'C': 1000, 'gamma': 0.3, 'kernel': 'rbf'}\n",
      "0.801 (+/-0.080) for {'C': 1000, 'gamma': 1, 'kernel': 'rbf'}\n",
      "0.799 (+/-0.082) for {'C': 1000, 'gamma': 1.5, 'kernel': 'rbf'}\n",
      "0.125 (+/-0.000) for {'C': 2000, 'gamma': 0, 'kernel': 'rbf'}\n",
      "0.791 (+/-0.102) for {'C': 2000, 'gamma': 0.001, 'kernel': 'rbf'}\n",
      "0.785 (+/-0.081) for {'C': 2000, 'gamma': 0.003, 'kernel': 'rbf'}\n",
      "0.765 (+/-0.078) for {'C': 2000, 'gamma': 0.01, 'kernel': 'rbf'}\n",
      "0.767 (+/-0.081) for {'C': 2000, 'gamma': 0.03, 'kernel': 'rbf'}\n",
      "0.778 (+/-0.086) for {'C': 2000, 'gamma': 0.1, 'kernel': 'rbf'}\n",
      "0.791 (+/-0.080) for {'C': 2000, 'gamma': 0.3, 'kernel': 'rbf'}\n",
      "0.801 (+/-0.080) for {'C': 2000, 'gamma': 1, 'kernel': 'rbf'}\n",
      "0.799 (+/-0.082) for {'C': 2000, 'gamma': 1.5, 'kernel': 'rbf'}\n",
      "0.125 (+/-0.000) for {'C': 3000, 'gamma': 0, 'kernel': 'rbf'}\n",
      "0.789 (+/-0.093) for {'C': 3000, 'gamma': 0.001, 'kernel': 'rbf'}\n",
      "0.781 (+/-0.070) for {'C': 3000, 'gamma': 0.003, 'kernel': 'rbf'}\n",
      "0.761 (+/-0.076) for {'C': 3000, 'gamma': 0.01, 'kernel': 'rbf'}\n",
      "0.767 (+/-0.080) for {'C': 3000, 'gamma': 0.03, 'kernel': 'rbf'}\n",
      "0.778 (+/-0.086) for {'C': 3000, 'gamma': 0.1, 'kernel': 'rbf'}\n",
      "0.791 (+/-0.080) for {'C': 3000, 'gamma': 0.3, 'kernel': 'rbf'}\n",
      "0.801 (+/-0.080) for {'C': 3000, 'gamma': 1, 'kernel': 'rbf'}\n",
      "0.799 (+/-0.082) for {'C': 3000, 'gamma': 1.5, 'kernel': 'rbf'}\n",
      "0.125 (+/-0.000) for {'C': 5000, 'gamma': 0, 'kernel': 'rbf'}\n",
      "0.789 (+/-0.075) for {'C': 5000, 'gamma': 0.001, 'kernel': 'rbf'}\n",
      "0.771 (+/-0.066) for {'C': 5000, 'gamma': 0.003, 'kernel': 'rbf'}\n",
      "0.760 (+/-0.075) for {'C': 5000, 'gamma': 0.01, 'kernel': 'rbf'}\n",
      "0.767 (+/-0.078) for {'C': 5000, 'gamma': 0.03, 'kernel': 'rbf'}\n",
      "0.778 (+/-0.086) for {'C': 5000, 'gamma': 0.1, 'kernel': 'rbf'}\n",
      "0.791 (+/-0.080) for {'C': 5000, 'gamma': 0.3, 'kernel': 'rbf'}\n",
      "0.801 (+/-0.080) for {'C': 5000, 'gamma': 1, 'kernel': 'rbf'}\n",
      "0.799 (+/-0.082) for {'C': 5000, 'gamma': 1.5, 'kernel': 'rbf'}\n",
      "0.773 (+/-0.072) for {'C': 1, 'kernel': 'linear'}\n",
      "0.788 (+/-0.088) for {'C': 2, 'kernel': 'linear'}\n",
      "0.789 (+/-0.094) for {'C': 3, 'kernel': 'linear'}\n",
      "0.791 (+/-0.102) for {'C': 4, 'kernel': 'linear'}\n",
      "0.791 (+/-0.102) for {'C': 5, 'kernel': 'linear'}\n",
      "0.789 (+/-0.091) for {'C': 6, 'kernel': 'linear'}\n",
      "0.791 (+/-0.087) for {'C': 7, 'kernel': 'linear'}\n",
      "0.791 (+/-0.077) for {'C': 8, 'kernel': 'linear'}\n",
      "0.790 (+/-0.078) for {'C': 9, 'kernel': 'linear'}\n",
      "0.788 (+/-0.075) for {'C': 10, 'kernel': 'linear'}\n",
      "0.787 (+/-0.077) for {'C': 11, 'kernel': 'linear'}\n",
      "0.785 (+/-0.079) for {'C': 12, 'kernel': 'linear'}\n",
      "0.784 (+/-0.074) for {'C': 13, 'kernel': 'linear'}\n",
      "0.782 (+/-0.068) for {'C': 14, 'kernel': 'linear'}\n",
      "0.780 (+/-0.066) for {'C': 15, 'kernel': 'linear'}\n",
      "0.778 (+/-0.072) for {'C': 16, 'kernel': 'linear'}\n",
      "0.777 (+/-0.070) for {'C': 17, 'kernel': 'linear'}\n",
      "0.779 (+/-0.068) for {'C': 18, 'kernel': 'linear'}\n",
      "0.779 (+/-0.070) for {'C': 19, 'kernel': 'linear'}\n",
      "\n"
     ]
    },
    {
     "name": "stdout",
     "output_type": "stream",
     "text": [
      "Best parameters set found on development set:\n",
      "\n",
      "{'C': 10, 'gamma': 0.3, 'kernel': 'rbf'}\n",
      "\n",
      "Grid scores on development set:\n",
      "\n",
      "0.155 (+/-0.002) for {'C': 1, 'gamma': 0, 'kernel': 'rbf'}\n",
      "0.155 (+/-0.002) for {'C': 1, 'gamma': 0.001, 'kernel': 'rbf'}\n",
      "0.155 (+/-0.002) for {'C': 1, 'gamma': 0.003, 'kernel': 'rbf'}\n",
      "0.397 (+/-0.021) for {'C': 1, 'gamma': 0.01, 'kernel': 'rbf'}\n",
      "0.684 (+/-0.097) for {'C': 1, 'gamma': 0.03, 'kernel': 'rbf'}\n",
      "0.735 (+/-0.075) for {'C': 1, 'gamma': 0.1, 'kernel': 'rbf'}\n",
      "0.769 (+/-0.076) for {'C': 1, 'gamma': 0.3, 'kernel': 'rbf'}\n",
      "0.784 (+/-0.054) for {'C': 1, 'gamma': 1, 'kernel': 'rbf'}\n",
      "0.787 (+/-0.067) for {'C': 1, 'gamma': 1.5, 'kernel': 'rbf'}\n",
      "0.155 (+/-0.002) for {'C': 10, 'gamma': 0, 'kernel': 'rbf'}\n",
      "0.399 (+/-0.017) for {'C': 10, 'gamma': 0.001, 'kernel': 'rbf'}\n",
      "0.684 (+/-0.090) for {'C': 10, 'gamma': 0.003, 'kernel': 'rbf'}\n",
      "0.736 (+/-0.080) for {'C': 10, 'gamma': 0.01, 'kernel': 'rbf'}\n",
      "0.770 (+/-0.077) for {'C': 10, 'gamma': 0.03, 'kernel': 'rbf'}\n",
      "0.792 (+/-0.070) for {'C': 10, 'gamma': 0.1, 'kernel': 'rbf'}\n",
      "0.803 (+/-0.081) for {'C': 10, 'gamma': 0.3, 'kernel': 'rbf'}\n",
      "0.803 (+/-0.067) for {'C': 10, 'gamma': 1, 'kernel': 'rbf'}\n",
      "0.801 (+/-0.078) for {'C': 10, 'gamma': 1.5, 'kernel': 'rbf'}\n",
      "0.155 (+/-0.002) for {'C': 100, 'gamma': 0, 'kernel': 'rbf'}\n",
      "0.736 (+/-0.082) for {'C': 100, 'gamma': 0.001, 'kernel': 'rbf'}\n",
      "0.772 (+/-0.077) for {'C': 100, 'gamma': 0.003, 'kernel': 'rbf'}\n",
      "0.792 (+/-0.080) for {'C': 100, 'gamma': 0.01, 'kernel': 'rbf'}\n",
      "0.795 (+/-0.086) for {'C': 100, 'gamma': 0.03, 'kernel': 'rbf'}\n",
      "0.788 (+/-0.065) for {'C': 100, 'gamma': 0.1, 'kernel': 'rbf'}\n",
      "0.791 (+/-0.071) for {'C': 100, 'gamma': 0.3, 'kernel': 'rbf'}\n",
      "0.802 (+/-0.070) for {'C': 100, 'gamma': 1, 'kernel': 'rbf'}\n",
      "0.800 (+/-0.073) for {'C': 100, 'gamma': 1.5, 'kernel': 'rbf'}\n",
      "0.155 (+/-0.002) for {'C': 1000, 'gamma': 0, 'kernel': 'rbf'}\n",
      "0.792 (+/-0.080) for {'C': 1000, 'gamma': 0.001, 'kernel': 'rbf'}\n",
      "0.793 (+/-0.086) for {'C': 1000, 'gamma': 0.003, 'kernel': 'rbf'}\n",
      "0.783 (+/-0.058) for {'C': 1000, 'gamma': 0.01, 'kernel': 'rbf'}\n",
      "0.771 (+/-0.073) for {'C': 1000, 'gamma': 0.03, 'kernel': 'rbf'}\n",
      "0.779 (+/-0.078) for {'C': 1000, 'gamma': 0.1, 'kernel': 'rbf'}\n",
      "0.791 (+/-0.074) for {'C': 1000, 'gamma': 0.3, 'kernel': 'rbf'}\n",
      "0.802 (+/-0.070) for {'C': 1000, 'gamma': 1, 'kernel': 'rbf'}\n",
      "0.800 (+/-0.073) for {'C': 1000, 'gamma': 1.5, 'kernel': 'rbf'}\n",
      "0.155 (+/-0.002) for {'C': 2000, 'gamma': 0, 'kernel': 'rbf'}\n",
      "0.795 (+/-0.092) for {'C': 2000, 'gamma': 0.001, 'kernel': 'rbf'}\n",
      "0.788 (+/-0.075) for {'C': 2000, 'gamma': 0.003, 'kernel': 'rbf'}\n",
      "0.767 (+/-0.069) for {'C': 2000, 'gamma': 0.01, 'kernel': 'rbf'}\n",
      "0.769 (+/-0.075) for {'C': 2000, 'gamma': 0.03, 'kernel': 'rbf'}\n",
      "0.779 (+/-0.078) for {'C': 2000, 'gamma': 0.1, 'kernel': 'rbf'}\n",
      "0.791 (+/-0.074) for {'C': 2000, 'gamma': 0.3, 'kernel': 'rbf'}\n",
      "0.802 (+/-0.070) for {'C': 2000, 'gamma': 1, 'kernel': 'rbf'}\n",
      "0.800 (+/-0.073) for {'C': 2000, 'gamma': 1.5, 'kernel': 'rbf'}\n",
      "0.155 (+/-0.002) for {'C': 3000, 'gamma': 0, 'kernel': 'rbf'}\n",
      "0.792 (+/-0.086) for {'C': 3000, 'gamma': 0.001, 'kernel': 'rbf'}\n",
      "0.784 (+/-0.063) for {'C': 3000, 'gamma': 0.003, 'kernel': 'rbf'}\n",
      "0.763 (+/-0.067) for {'C': 3000, 'gamma': 0.01, 'kernel': 'rbf'}\n",
      "0.769 (+/-0.074) for {'C': 3000, 'gamma': 0.03, 'kernel': 'rbf'}\n",
      "0.779 (+/-0.078) for {'C': 3000, 'gamma': 0.1, 'kernel': 'rbf'}\n",
      "0.791 (+/-0.074) for {'C': 3000, 'gamma': 0.3, 'kernel': 'rbf'}\n",
      "0.802 (+/-0.070) for {'C': 3000, 'gamma': 1, 'kernel': 'rbf'}\n",
      "0.800 (+/-0.073) for {'C': 3000, 'gamma': 1.5, 'kernel': 'rbf'}\n",
      "0.155 (+/-0.002) for {'C': 5000, 'gamma': 0, 'kernel': 'rbf'}\n",
      "0.791 (+/-0.070) for {'C': 5000, 'gamma': 0.001, 'kernel': 'rbf'}\n",
      "0.773 (+/-0.057) for {'C': 5000, 'gamma': 0.003, 'kernel': 'rbf'}\n",
      "0.762 (+/-0.067) for {'C': 5000, 'gamma': 0.01, 'kernel': 'rbf'}\n",
      "0.769 (+/-0.071) for {'C': 5000, 'gamma': 0.03, 'kernel': 'rbf'}\n",
      "0.779 (+/-0.078) for {'C': 5000, 'gamma': 0.1, 'kernel': 'rbf'}\n",
      "0.791 (+/-0.074) for {'C': 5000, 'gamma': 0.3, 'kernel': 'rbf'}\n",
      "0.802 (+/-0.070) for {'C': 5000, 'gamma': 1, 'kernel': 'rbf'}\n",
      "0.800 (+/-0.073) for {'C': 5000, 'gamma': 1.5, 'kernel': 'rbf'}\n",
      "0.778 (+/-0.065) for {'C': 1, 'kernel': 'linear'}\n",
      "0.792 (+/-0.080) for {'C': 2, 'kernel': 'linear'}\n",
      "0.794 (+/-0.084) for {'C': 3, 'kernel': 'linear'}\n",
      "0.795 (+/-0.092) for {'C': 4, 'kernel': 'linear'}\n",
      "0.794 (+/-0.091) for {'C': 5, 'kernel': 'linear'}\n",
      "0.792 (+/-0.084) for {'C': 6, 'kernel': 'linear'}\n",
      "0.794 (+/-0.080) for {'C': 7, 'kernel': 'linear'}\n",
      "0.793 (+/-0.071) for {'C': 8, 'kernel': 'linear'}\n",
      "0.792 (+/-0.072) for {'C': 9, 'kernel': 'linear'}\n",
      "0.791 (+/-0.069) for {'C': 10, 'kernel': 'linear'}\n",
      "0.789 (+/-0.070) for {'C': 11, 'kernel': 'linear'}\n",
      "0.788 (+/-0.073) for {'C': 12, 'kernel': 'linear'}\n",
      "0.787 (+/-0.069) for {'C': 13, 'kernel': 'linear'}\n",
      "0.785 (+/-0.062) for {'C': 14, 'kernel': 'linear'}\n",
      "0.783 (+/-0.059) for {'C': 15, 'kernel': 'linear'}\n",
      "0.782 (+/-0.064) for {'C': 16, 'kernel': 'linear'}\n",
      "0.781 (+/-0.063) for {'C': 17, 'kernel': 'linear'}\n",
      "0.782 (+/-0.061) for {'C': 18, 'kernel': 'linear'}\n",
      "0.782 (+/-0.062) for {'C': 19, 'kernel': 'linear'}\n",
      "\n",
      "23:04:33 started doing step=500\n"
     ]
    }
   ],
   "source": [
    "# Set the parameters by cross-validation\n",
    "tuned_parameters = [{'kernel': ['rbf'], 'gamma': [0,.001,.003,.01,.03,.1,.3,1,1.5],\n",
    "                     'C': [1, 10, 100, 1000, 2000, 3000, 5000]},\n",
    "                    {'kernel': ['linear'], 'C': [i for i in range(1,20,1)]}]\n",
    "\n",
    "scores = ['precision_macro', 'recall_macro','accuracy']\n",
    "\n",
    "today = datetime.now()\n",
    "dt_string = today.strftime(\"%H:%M:%S\")\n",
    "print(f\"{dt_string} started doing step={step}\")\n",
    "\n",
    "data_results=[]\n",
    "\n",
    "for score in scores:\n",
    "    #print(\"# Tuning hyper-parameters for %s\" % score)\n",
    "    #print()\n",
    "\n",
    "    clf = GridSearchCV(\n",
    "        SVC(), tuned_parameters, scoring=score\n",
    "    )\n",
    "    clf.fit(visual_words, train_labels)\n",
    "\n",
    "    print(\"Best parameters set found on development set:\")\n",
    "    print()\n",
    "    print(clf.best_params_)\n",
    "    print()\n",
    "    print(\"Grid scores on development set:\")\n",
    "    print()\n",
    "    means = clf.cv_results_['mean_test_score']\n",
    "    stds = clf.cv_results_['std_test_score']\n",
    "    for mean, std, params in zip(means, stds, clf.cv_results_['params']):\n",
    "        c=params['C']\n",
    "        ker=params['kernel']\n",
    "        if ker=='rbf': \n",
    "            gamma=params['gamma']\n",
    "        else: gamma=None\n",
    "            \n",
    "        data_results.append([mean,std,c,gamma,ker,score])\n",
    "        \n",
    "        print(\"%0.3f (+/-%0.03f) for %r\"% (mean, std * 2, params))\n",
    "    print()\n",
    "\n",
    "\n",
    "today = datetime.now()\n",
    "dt_string = today.strftime(\"%H:%M:%S\")\n",
    "print(f\"{dt_string} started doing step={step}\")"
   ]
  },
  {
   "cell_type": "code",
   "execution_count": 10,
   "metadata": {},
   "outputs": [],
   "source": [
    "df=pd.DataFrame(data_results, columns=['mean_val','std_val','c','gamma','ker','score'])"
   ]
  },
  {
   "cell_type": "code",
   "execution_count": 38,
   "metadata": {},
   "outputs": [],
   "source": [
    "def plot_data(x,y,x_label, y_label, title):\n",
    "    plt.figure(figsize=(9,6))\n",
    "    plt.title(title)\n",
    "    plt.plot(x,y, marker='.')\n",
    "    plt.xlabel(x_label)\n",
    "    plt.ylabel(y_label)\n",
    "    plt.show()"
   ]
  },
  {
   "cell_type": "markdown",
   "metadata": {},
   "source": [
    "The results of the parameter estimation will be analysed in terms of accuracy.\n",
    "The following code produces 3 different plots. Two of which describe the Kernel parameter estimation (C and gamma) and the remaining plot is that of the Linear Kernel (C value).\n",
    "These results are discussed below."
   ]
  },
  {
   "cell_type": "code",
   "execution_count": 43,
   "metadata": {},
   "outputs": [
    {
     "data": {
      "image/png": "[encoded data removed]",
      "text/plain": [
       "<Figure size 648x432 with 1 Axes>"
      ]
     },
     "metadata": {
      "needs_background": "light"
     },
     "output_type": "display_data"
    },
    {
     "data": {
      "image/png": "[encoded data removed]",
      "text/plain": [
       "<Figure size 648x432 with 1 Axes>"
      ]
     },
     "metadata": {
      "needs_background": "light"
     },
     "output_type": "display_data"
    },
    {
     "data": {
      "image/png": "[encoded data removed]",
      "text/plain": [
       "<Figure size 648x432 with 1 Axes>"
      ]
     },
     "metadata": {
      "needs_background": "light"
     },
     "output_type": "display_data"
    },
    {
     "data": {
      "image/png": "[encoded data removed]",
      "text/plain": [
       "<Figure size 648x504 with 1 Axes>"
      ]
     },
     "metadata": {
      "needs_background": "light"
     },
     "output_type": "display_data"
    }
   ],
   "source": [
    "###### RBF KERNEL ###### \n",
    "rbf = df[(df.ker == 'rbf')]\n",
    "# C VALUES\n",
    "precision_c_values_rbf = rbf[(rbf.gamma==0.0010)&(rbf.score=='precision_macro')]['mean_val'].tolist()\n",
    "recall_c_values_rbf = rbf[(rbf.gamma==0.0010)&(rbf.score=='recall_macro')]['mean_val'].tolist()\n",
    "accuracy_c_values_rbf = rbf[(rbf.gamma==0.0010)&(rbf.score=='accuracy')]['mean_val'].tolist()\n",
    "\n",
    "\n",
    "# GAMMA VALUES\n",
    "precision_gamma_values_rbf = rbf[(rbf.c==1000)&(rbf.score=='precision_macro')]['mean_val'].tolist()\n",
    "recall_gamma_values_rbf = rbf[(rbf.c==1000)&(rbf.score=='recall_macro')]['mean_val'].tolist()\n",
    "accuracy_gamma_values_rbf = rbf[(rbf.c==1000)&(rbf.score=='accuracy')]['mean_val'].tolist()\n",
    "\n",
    "\n",
    "###### LINEAR KERNEL ###### \n",
    "linear = df[(df.ker == 'linear')]\n",
    "precision_c_values_linear = linear[(linear.score=='precision_macro')]['mean_val'].tolist()\n",
    "recall_c_values_linear = linear[(linear.score=='recall_macro')]['mean_val'].tolist()\n",
    "accuracy_c_values_linear = linear[(linear.score=='accuracy')]['mean_val'].tolist()\n",
    "\n",
    "\n",
    "# Accuracy\n",
    "C_values_rbf=[1, 10, 100, 1000, 2000, 3000,5000]\n",
    "C_values_linear=[i for i in range(1,20,1)]\n",
    "gamma_values=[0,.001,.003,.01,.03,.1,.3,1,1.5]\n",
    "plot_data(C_values_rbf,accuracy_c_values_rbf,'C','Accuracy','[Fig. 1] Accuracy for different C values and gamma=0.001, rbf kernel')\n",
    "plot_data(gamma_values,accuracy_gamma_values_rbf,'gamma','Accuracy','[Fig. 2] Accuracy for different gamma values and C=1000, rbf kernel')\n",
    "plot_data(C_values_linear,accuracy_c_values_linear,'C','Accuracy','[Fig. 3] Accuracy for different C values, linear kernel')\n",
    "\n",
    "plt.figure(figsize=(9,7))\n",
    "plt.title('[Fig. 4] Accuracy for different C values, rbf kernel')\n",
    "for gamma_value in gamma_values:\n",
    "    accuracy=rbf[(rbf.gamma==gamma_value)&(rbf.score=='accuracy')]['mean_val'].tolist()\n",
    "    plt.plot(C_values_rbf,accuracy, marker='.',label=str(gamma_value))\n",
    "    plt\n",
    "    plt.xlabel('C')\n",
    "    plt.ylabel('Accuracy')\n",
    "plt.legend(title='Gamma values')\n",
    "plt.show()"
   ]
  },
  {
   "cell_type": "markdown",
   "metadata": {},
   "source": [
    "### Conclusion on parameter estimation\n",
    "The regularization parameter C, defines a margin for error (misclassification tolerance) when dividing classes. The bigger this value, the more penalized the SVM is when misclassifying, resulting in a narrower margin. \n",
    "\n",
    "Therefore in the case of the RBF Kernel (Fig. 1 and Fig. 4) it can be noted that as C is increasead, a plateu is reached at C=1000 for all gamma values. On the other hand lower C values yield worse results, especially in the case of lower gammas.\n",
    "\n",
    "However we can see that for lower values of C (lower than 100) gamma values higher than 0.01 show a significant improvement in accuracy as C increases.\n",
    "\n",
    "In the case of the linear kernel we can see that performance improves almost consistently for C from 1 to 10, peaking at C=5, where accuracy starts a significant drop."
   ]
  },
  {
   "cell_type": "markdown",
   "metadata": {},
   "source": [
    "## Normalization and Scaler impact"
   ]
  },
  {
   "cell_type": "markdown",
   "metadata": {},
   "source": [
    "#### Linear Kernel without scaler and without normalization"
   ]
  },
  {
   "cell_type": "code",
   "execution_count": 26,
   "metadata": {},
   "outputs": [
    {
     "name": "stdout",
     "output_type": "stream",
     "text": [
      "Linear kernel without scaler without normalization accuracy: 67.9050686297063\n"
     ]
    }
   ],
   "source": [
    "start = time.process_time()\n",
    "\n",
    "lin_clf = svm.LinearSVC(max_iter=2000, C=10)\n",
    "lin_clf.fit(visual_words, train_labels)\n",
    "\n",
    "visual_words_test=np.zeros((len(test_images_filenames),k),dtype=np.float32)\n",
    "for i in range(len(test_images_filenames)):\n",
    "    filename=test_images_filenames[i]\n",
    "    ima=cv2.imread(filename)\n",
    "    gray=cv2.cvtColor(ima,cv2.COLOR_BGR2GRAY)\n",
    "    \n",
    "    des=compute_dense_sift(gray,SIFTdetector, step)\n",
    "    words=codebook.predict(des)\n",
    "    visual_words_test[i,:]=np.bincount(words,minlength=k).reshape(1,-1)\n",
    "\n",
    "scores = cross_val_score(lin_clf, visual_words_test, test_labels, cv=5)\n",
    "lin_accuracy_noNorm_noScaler=scores.mean()*100\n",
    "\n",
    "end = time.process_time()\n",
    "time_elapsed = end-start\n",
    "\n",
    "print(\"Linear kernel without scaler without normalization accuracy: {}\".format(lin_accuracy_noNorm_noScaler))"
   ]
  },
  {
   "cell_type": "markdown",
   "metadata": {},
   "source": [
    "#### Linear Kernel without scaler with normalization (L1, L2, Max)"
   ]
  },
  {
   "cell_type": "code",
   "execution_count": 27,
   "metadata": {},
   "outputs": [
    {
     "name": "stdout",
     "output_type": "stream",
     "text": [
      "Linear kernel without scaler with normalization \n",
      "\tL1-norm accuracy: 76.82846407484088 \n",
      "\tL2-norm accuracy: 73.8539989264627 \n",
      "\tMax-norm accuracy: 71.62487539299134\n"
     ]
    }
   ],
   "source": [
    "start = time.process_time()\n",
    "\n",
    "lin_clf = svm.LinearSVC(max_iter=2000, C=10)\n",
    "lin_clf.fit(visual_words, train_labels)\n",
    "\n",
    "visual_words_test_L1=np.zeros((len(test_images_filenames),k),dtype=np.float32)\n",
    "visual_words_test_L2=np.zeros((len(test_images_filenames),k),dtype=np.float32)\n",
    "visual_words_test_Max=np.zeros((len(test_images_filenames),k),dtype=np.float32)\n",
    "\n",
    "for i in range(len(test_images_filenames)):\n",
    "    filename=test_images_filenames[i]\n",
    "    ima=cv2.imread(filename)\n",
    "    gray=cv2.cvtColor(ima,cv2.COLOR_BGR2GRAY)\n",
    "    \n",
    "    des=compute_dense_sift(gray,SIFTdetector, step)\n",
    "    words=codebook.predict(des)\n",
    "    visual_words_test_L1[i,:]=normalize(np.bincount(words,minlength=k).reshape(1,-1), norm='l1')\n",
    "    visual_words_test_L2[i,:]=normalize(np.bincount(words,minlength=k).reshape(1,-1), norm='l2')\n",
    "    visual_words_test_Max[i,:]=normalize(np.bincount(words,minlength=k).reshape(1,-1), norm='max')\n",
    "\n",
    "scores_L1 = cross_val_score(lin_clf, visual_words_test_L1, test_labels, cv=5)\n",
    "scores_L2 = cross_val_score(lin_clf, visual_words_test_L2, test_labels, cv=5)\n",
    "scores_Max = cross_val_score(lin_clf, visual_words_test_Max, test_labels, cv=5)\n",
    "\n",
    "lin_accuracy_L1norm_noScaler=scores_L1.mean()*100\n",
    "lin_accuracy_L2norm_noScaler=scores_L2.mean()*100\n",
    "lin_accuracy_Maxnorm_noScaler=scores_Max.mean()*100\n",
    "\n",
    "end = time.process_time()\n",
    "time_elapsed = end-start\n",
    "\n",
    "print(\"Linear kernel without scaler with normalization \\n\\tL1-norm accuracy: {} \\n\\tL2-norm accuracy: {} \\n\\tMax-norm accuracy: {}\".format(lin_accuracy_L1norm_noScaler, lin_accuracy_L2norm_noScaler, lin_accuracy_Maxnorm_noScaler))"
   ]
  },
  {
   "cell_type": "markdown",
   "metadata": {},
   "source": [
    "#### Linear kernel with scaler with normalization (L1, L2, Max)"
   ]
  },
  {
   "cell_type": "code",
   "execution_count": 28,
   "metadata": {},
   "outputs": [
    {
     "name": "stdout",
     "output_type": "stream",
     "text": [
      "Linear kernel with scaler with normalization \n",
      "\tL1-norm accuracy: 71.25067096081588 \n",
      "\tL2-norm accuracy: 67.9050686297063 \n",
      "\tMax-norm accuracy: 67.9050686297063\n"
     ]
    }
   ],
   "source": [
    "start = time.process_time()\n",
    "\n",
    "scaler = StandardScaler()\n",
    "scaler.fit_transform(visual_words)\n",
    "\n",
    "lin_clf = svm.LinearSVC(max_iter=2000, C=10)\n",
    "lin_clf.fit(visual_words, train_labels)\n",
    "\n",
    "visual_words_test_L1=np.zeros((len(test_images_filenames),k),dtype=np.float32)\n",
    "visual_words_test_L2=np.zeros((len(test_images_filenames),k),dtype=np.float32)\n",
    "visual_words_test_Max=np.zeros((len(test_images_filenames),k),dtype=np.float32)\n",
    "\n",
    "for i in range(len(test_images_filenames)):\n",
    "    filename=test_images_filenames[i]\n",
    "    ima=cv2.imread(filename)\n",
    "    gray=cv2.cvtColor(ima,cv2.COLOR_BGR2GRAY)\n",
    "    \n",
    "    des=compute_dense_sift(gray,SIFTdetector, step)\n",
    "    words=codebook.predict(des)\n",
    "    visual_words_test_L1[i,:]=normalize(np.bincount(words,minlength=k).reshape(1,-1), norm='l1')\n",
    "    visual_words_test_L2[i,:]=normalize(np.bincount(words,minlength=k).reshape(1,-1), norm='l2')\n",
    "    visual_words_test_Max[i,:]=normalize(np.bincount(words,minlength=k).reshape(1,-1), norm='max')\n",
    "\n",
    "visual_words_test_L1=scaler.transform(visual_words_test_L1)\n",
    "visual_words_test_L2=scaler.transform(visual_words_test_L2)\n",
    "visual_words_test_Max=scaler.transform(visual_words_test_Max)\n",
    "\n",
    "\n",
    "scores_L1 = cross_val_score(lin_clf, visual_words_test_L1, test_labels, cv=5)\n",
    "scores_L2 = cross_val_score(lin_clf, visual_words_test_L2, test_labels, cv=5)\n",
    "scores_Max = cross_val_score(lin_clf, visual_words_test_Max, test_labels, cv=5)\n",
    "\n",
    "\n",
    "lin_accuracy_L1norm_scaler=scores_L1.mean()*100\n",
    "lin_accuracy_L2norm_scaler=scores.mean()*100\n",
    "lin_accuracy_Maxnorm_scaler=scores.mean()*100\n",
    "\n",
    "\n",
    "end = time.process_time()\n",
    "time_elapsed = end-start\n",
    "\n",
    "\n",
    "print(\"Linear kernel with scaler with normalization \\n\\tL1-norm accuracy: {} \\n\\tL2-norm accuracy: {} \\n\\tMax-norm accuracy: {}\".format(lin_accuracy_L1norm_scaler, lin_accuracy_L2norm_scaler, lin_accuracy_Maxnorm_scaler))"
   ]
  },
  {
   "cell_type": "markdown",
   "metadata": {},
   "source": [
    "#### Linear kernel with scaler without normalization"
   ]
  },
  {
   "cell_type": "code",
   "execution_count": 29,
   "metadata": {},
   "outputs": [
    {
     "name": "stdout",
     "output_type": "stream",
     "text": [
      "Linear kernel with scaler without normalization accuracy: 67.03780384939806\n"
     ]
    }
   ],
   "source": [
    "start = time.process_time()\n",
    "\n",
    "scaler = StandardScaler()\n",
    "scaler.fit_transform(visual_words)\n",
    "\n",
    "lin_clf = svm.LinearSVC(max_iter=2000, C=10)\n",
    "lin_clf.fit(visual_words, train_labels)\n",
    "\n",
    "visual_words_test=np.zeros((len(test_images_filenames),k),dtype=np.float32)\n",
    "for i in range(len(test_images_filenames)):\n",
    "    filename=test_images_filenames[i]\n",
    "    ima=cv2.imread(filename)\n",
    "    gray=cv2.cvtColor(ima,cv2.COLOR_BGR2GRAY)\n",
    "    \n",
    "    des=compute_dense_sift(gray,SIFTdetector, step)\n",
    "    words=codebook.predict(des)\n",
    "    visual_words_test[i,:]=np.bincount(words,minlength=k).reshape(1,-1)\n",
    "\n",
    "visual_words_test=scaler.transform(visual_words_test)\n",
    "scores = cross_val_score(lin_clf, visual_words_test, test_labels, cv=5)\n",
    "lin_accuracy_noNorm_scaler=scores.mean()*100\n",
    "\n",
    "\n",
    "end = time.process_time()\n",
    "time_elapsed = end-start\n",
    "\n",
    "print(\"Linear kernel with scaler without normalization accuracy: {}\".format(lin_accuracy_noNorm_scaler))"
   ]
  },
  {
   "cell_type": "markdown",
   "metadata": {},
   "source": [
    "#### RBF Kernel without scaler without normalization"
   ]
  },
  {
   "cell_type": "code",
   "execution_count": 30,
   "metadata": {},
   "outputs": [
    {
     "name": "stdout",
     "output_type": "stream",
     "text": [
      "RBF kernel without scaler with normalization accuracy: 14.621578099838967\n"
     ]
    }
   ],
   "source": [
    "\n",
    "start = time.process_time()\n",
    "\n",
    "rbf_svc = svm.SVC(kernel='rbf', C=1000, gamma=0.001)\n",
    "rbf_svc.fit(visual_words, train_labels)\n",
    "\n",
    "visual_words_test=np.zeros((len(test_images_filenames),k),dtype=np.float32)\n",
    "for i in range(len(test_images_filenames)):\n",
    "    filename=test_images_filenames[i]\n",
    "    ima=cv2.imread(filename)\n",
    "    gray=cv2.cvtColor(ima,cv2.COLOR_BGR2GRAY)\n",
    "    \n",
    "    des=compute_dense_sift(gray,SIFTdetector, step)\n",
    "    words=codebook.predict(des)\n",
    "    visual_words_test[i,:]=np.bincount(words,minlength=k).reshape(1,-1)\n",
    "\n",
    "scores = cross_val_score(rbf_svc, visual_words_test, test_labels, cv=5)\n",
    "\n",
    "rbf_accuracy_noNorm_noScaler=scores.mean()*100\n",
    "\n",
    "end = time.process_time()\n",
    "time_elapsed = end-start\n",
    "\n",
    "print(\"RBF kernel without scaler with normalization accuracy: {}\".format(rbf_accuracy_noNorm_noScaler))"
   ]
  },
  {
   "cell_type": "markdown",
   "metadata": {},
   "source": [
    "#### RBF Kernel without scaler with normalization (L1, L2, max)"
   ]
  },
  {
   "cell_type": "code",
   "execution_count": 31,
   "metadata": {},
   "outputs": [
    {
     "name": "stdout",
     "output_type": "stream",
     "text": [
      "RBF kernel without scaler with normalization \n",
      "\tL1-norm accuracy: 76.82846407484088 \n",
      "\tL2-norm accuracy: 14.621578099838967 \n",
      "\tMax-norm accuracy: 14.621578099838967\n"
     ]
    }
   ],
   "source": [
    "start = time.process_time()\n",
    "\n",
    "rbf_svc = svm.SVC(kernel='rbf', C=1000, gamma=0.001)\n",
    "rbf_svc.fit(visual_words, train_labels)\n",
    "\n",
    "\n",
    "visual_words_test_L1=np.zeros((len(test_images_filenames),k),dtype=np.float32)\n",
    "visual_words_test_L2=np.zeros((len(test_images_filenames),k),dtype=np.float32)\n",
    "visual_words_test_Max=np.zeros((len(test_images_filenames),k),dtype=np.float32)\n",
    "\n",
    "\n",
    "for i in range(len(test_images_filenames)):\n",
    "    filename=test_images_filenames[i]\n",
    "    ima=cv2.imread(filename)\n",
    "    gray=cv2.cvtColor(ima,cv2.COLOR_BGR2GRAY)\n",
    "\n",
    "    des=compute_dense_sift(gray,SIFTdetector, step)\n",
    "    words=codebook.predict(des)\n",
    "    visual_words_test_L1[i,:]=normalize(np.bincount(words,minlength=k).reshape(1,-1), norm='l1')\n",
    "    visual_words_test_L2[i,:]=normalize(np.bincount(words,minlength=k).reshape(1,-1), norm='l2')\n",
    "    visual_words_test_Max[i,:]=normalize(np.bincount(words,minlength=k).reshape(1,-1), norm='max')\n",
    "\n",
    "scores_L1 = cross_val_score(lin_clf, visual_words_test_L1, test_labels, cv=5)\n",
    "scores_L2 = cross_val_score(lin_clf, visual_words_test_L2, test_labels, cv=5)\n",
    "scores_Max = cross_val_score(lin_clf, visual_words_test_Max, test_labels, cv=5)\n",
    "\n",
    "\n",
    "rbf_accuracy_L1norm_noScaler=scores_L1.mean()*100\n",
    "rbf_accuracy_L2norm_noScaler=scores.mean()*100\n",
    "rbf_accuracy_Maxnorm_noScaler=scores.mean()*100\n",
    "\n",
    "\n",
    "end = time.process_time()\n",
    "time_elapsed = end-start\n",
    "\n",
    "print(\"RBF kernel without scaler with normalization \\n\\tL1-norm accuracy: {} \\n\\tL2-norm accuracy: {} \\n\\tMax-norm accuracy: {}\".format(rbf_accuracy_L1norm_noScaler, rbf_accuracy_L2norm_noScaler, rbf_accuracy_Maxnorm_noScaler))"
   ]
  },
  {
   "cell_type": "markdown",
   "metadata": {},
   "source": [
    "#### RBF Kernel with scaler with normalization (L1, L2, Max)"
   ]
  },
  {
   "cell_type": "code",
   "execution_count": 32,
   "metadata": {},
   "outputs": [
    {
     "name": "stdout",
     "output_type": "stream",
     "text": [
      "RBF kernel with scaler with normalization \n",
      "\tL1-norm accuracy: 70.75300973851698 \n",
      "\tL2-norm accuracy: 14.621578099838967 \n",
      "\tMax-norm accuracy: 14.621578099838967\n"
     ]
    }
   ],
   "source": [
    "start = time.process_time()\n",
    "\n",
    "scaler = StandardScaler()\n",
    "scaler.fit_transform(visual_words)\n",
    "\n",
    "rbf_svc = svm.SVC(kernel='rbf', C=1000, gamma=0.001)\n",
    "rbf_svc.fit(visual_words, train_labels)\n",
    "\n",
    "\n",
    "visual_words_test_L1=np.zeros((len(test_images_filenames),k),dtype=np.float32)\n",
    "visual_words_test_L2=np.zeros((len(test_images_filenames),k),dtype=np.float32)\n",
    "visual_words_test_Max=np.zeros((len(test_images_filenames),k),dtype=np.float32)\n",
    "\n",
    "\n",
    "for i in range(len(test_images_filenames)):\n",
    "    filename=test_images_filenames[i]\n",
    "    ima=cv2.imread(filename)\n",
    "    gray=cv2.cvtColor(ima,cv2.COLOR_BGR2GRAY)\n",
    "\n",
    "    des=compute_dense_sift(gray,SIFTdetector, step)\n",
    "    words=codebook.predict(des)\n",
    "    visual_words_test_L1[i,:]=normalize(np.bincount(words,minlength=k).reshape(1,-1), norm='l1')\n",
    "    visual_words_test_L2[i,:]=normalize(np.bincount(words,minlength=k).reshape(1,-1), norm='l2')\n",
    "    visual_words_test_Max[i,:]=normalize(np.bincount(words,minlength=k).reshape(1,-1), norm='max')\n",
    "\n",
    "visual_words_test_L1=scaler.transform(visual_words_test_L1)\n",
    "visual_words_test_L2=scaler.transform(visual_words_test_L2)\n",
    "visual_words_test_Max=scaler.transform(visual_words_test_Max)\n",
    "\n",
    "scores_L1 = cross_val_score(lin_clf, visual_words_test_L1, test_labels, cv=5)\n",
    "scores_L2 = cross_val_score(lin_clf, visual_words_test_L2, test_labels, cv=5)\n",
    "scores_Max = cross_val_score(lin_clf, visual_words_test_Max, test_labels, cv=5)\n",
    "\n",
    "\n",
    "rbf_accuracy_L1norm_scaler=scores_L1.mean()*100\n",
    "rbf_accuracy_L2norm_scaler=scores.mean()*100\n",
    "rbf_accuracy_Maxnorm_scaler=scores.mean()*100\n",
    "\n",
    "\n",
    "end = time.process_time()\n",
    "time_elapsed = end-start\n",
    "\n",
    "print(\"RBF kernel with scaler with normalization \\n\\tL1-norm accuracy: {} \\n\\tL2-norm accuracy: {} \\n\\tMax-norm accuracy: {}\".format(rbf_accuracy_L1norm_scaler, rbf_accuracy_L2norm_scaler, rbf_accuracy_Maxnorm_scaler))"
   ]
  },
  {
   "cell_type": "markdown",
   "metadata": {},
   "source": [
    "#### RBF Kernel with scaler without normalization"
   ]
  },
  {
   "cell_type": "code",
   "execution_count": 33,
   "metadata": {},
   "outputs": [
    {
     "name": "stdout",
     "output_type": "stream",
     "text": [
      "RBF kernel without scaler with normalization accuracy: 14.621578099838967\n"
     ]
    }
   ],
   "source": [
    "start = time.process_time()\n",
    "\n",
    "scaler = StandardScaler()\n",
    "scaler.fit_transform(visual_words)\n",
    "\n",
    "rbf_svc = svm.SVC(kernel='rbf', C=1000, gamma=0.001)\n",
    "rbf_svc.fit(visual_words, train_labels)\n",
    "\n",
    "visual_words_test=np.zeros((len(test_images_filenames),k),dtype=np.float32)\n",
    "for i in range(len(test_images_filenames)):\n",
    "    filename=test_images_filenames[i]\n",
    "    ima=cv2.imread(filename)\n",
    "    gray=cv2.cvtColor(ima,cv2.COLOR_BGR2GRAY)\n",
    "    \n",
    "    des=compute_dense_sift(gray,SIFTdetector, step)\n",
    "    words=codebook.predict(des)\n",
    "    visual_words_test[i,:]=np.bincount(words,minlength=k).reshape(1,-1)\n",
    "\n",
    "visual_words_test=scaler.transform(visual_words_test)\n",
    "\n",
    "scores = cross_val_score(rbf_svc, visual_words_test, test_labels, cv=5)\n",
    "\n",
    "rbf_accuracy_noNorm_noScaler=scores.mean()*100\n",
    "\n",
    "end = time.process_time()\n",
    "time_elapsed = end-start\n",
    "\n",
    "print(\"RBF kernel without scaler with normalization accuracy: {}\".format(rbf_accuracy_noNorm_noScaler))"
   ]
  },
  {
   "cell_type": "code",
   "execution_count": 46,
   "metadata": {},
   "outputs": [
    {
     "data": {
      "image/png": "[encoded data removed]",
      "text/plain": [
       "<Figure size 720x576 with 1 Axes>"
      ]
     },
     "metadata": {
      "needs_background": "light"
     },
     "output_type": "display_data"
    }
   ],
   "source": [
    "outputPickle = \"scale_norm_data.pkl\"\n",
    "file = open(outputPickle, 'rb')\n",
    "data = cPickle.load(file)\n",
    "\n",
    "lin_graph_data = []\n",
    "rbf_graph_data = []\n",
    "hist_graph_data = []\n",
    "\n",
    "lin_graph_data = data[0]\n",
    "rbf_graph_data = data[1]\n",
    "hist_graph_data = data[2]\n",
    "\n",
    "length = len(lin_graph_data)\n",
    "x = np.arange(length)\n",
    "\n",
    "categories_labels = [\"\", \"no scaler no norm\", \"no scaler, L1 norm\", \"no scaler, L2 norm\", \"no scaler, Max norm\", \"scaler, L1 norm\", \"scaler, L2 norm\", \"scaler, Max norm\", \"scaler, no norm\"]\n",
    "\n",
    "fig = plt.figure(figsize=(10,8))\n",
    "ax = fig.add_subplot(111)\n",
    "\n",
    "plt.axis([-1, 8, 0, 110])\n",
    "width = 0.2\n",
    "barwidth = 0.15\n",
    "\n",
    "plt.xticks(rotation=90, ha=\"center\")\n",
    "ax.set_xticklabels(categories_labels)\n",
    "ax.set_ylabel('Accuracy')\n",
    "\n",
    "ax.bar(x-width, lin_graph_data, barwidth, color='b', label='Linear Kernel')\n",
    "ax.bar(x, rbf_graph_data, barwidth, color='r', label='RBF Kernel')\n",
    "ax.bar(x + width, hist_graph_data, barwidth, color='g', label='Histogram Intersection Kernel')\n",
    "\n",
    "\n",
    "plt.legend(loc='upper left', bbox_to_anchor=(1.05, 1));\n",
    "\n",
    "idx = 0\n",
    "\n",
    "for i, txt in enumerate(lin_graph_data):\n",
    "    lin_txt = \"{:.2f}\".format(txt)\n",
    "    rbf_txt = \"{:.2f}\".format(rbf_graph_data[i])\n",
    "    hist_txt = \"{:.2f}\".format(hist_graph_data[i])\n",
    "    ax.annotate(lin_txt, (i - width, 1.15*lin_graph_data[i]), ha='center', va='center', c='b',weight='bold', size=14, rotation=90)\n",
    "    ax.annotate(rbf_txt, (i , 1.15*rbf_graph_data[i]), ha='center', va='bottom', c='r',weight='bold', size=14, rotation=90)\n",
    "    ax.annotate(hist_txt, (i+ width, 1.15*hist_graph_data[i]), ha='center', va='center', c='g',weight='bold', size=14, rotation=90)\n",
    "\n",
    "plt.show()"
   ]
  },
  {
   "cell_type": "markdown",
   "metadata": {},
   "source": [
    "### Conclusion\n",
    "As we can see the L1 normalization seems to be the most reliable method to use when normalizing, providing good results across all kernels. The histogram intersection kernel provides very similiar results regardless of normalization or scaler status, while RBF kernel seems to be heavily dependent on being L1 normalized."
   ]
  },
  {
   "cell_type": "markdown",
   "metadata": {},
   "source": [
    "## Sift density step impact on results in SVM"
   ]
  },
  {
   "cell_type": "code",
   "execution_count": 51,
   "metadata": {},
   "outputs": [],
   "source": [
    "def calculate_vis(step):\n",
    "    step=step\n",
    "\n",
    "    today = datetime.now()\n",
    "    dt_string = today.strftime(\"%H:%M:%S\")\n",
    "    print(f\"{dt_string} started doing step={step}\")\n",
    "\n",
    "    Train_descriptors = []\n",
    "    Train_label_per_descriptor = []\n",
    "\n",
    "    for filename,labels in zip(train_images_filenames,train_labels):\n",
    "        ima=cv2.imread(filename)\n",
    "        gray=cv2.cvtColor(ima,cv2.COLOR_BGR2GRAY)\n",
    "    #     kpt,des=SIFTdetector.detectAndCompute(gray,None)\n",
    "        des=compute_dense_sift(gray,SIFTdetector, step)\n",
    "        Train_descriptors.append(des)\n",
    "        Train_label_per_descriptor.append(labels)\n",
    "\n",
    "    D=np.vstack(Train_descriptors)\n",
    "\n",
    "    k=128\n",
    "    codebook = MiniBatchKMeans(n_clusters=k, verbose=False, batch_size=k * 20,compute_labels=False,reassignment_ratio=10**-4,random_state=42)\n",
    "    codebook.fit(D)\n",
    "\n",
    "    visual_words=np.zeros((len(Train_descriptors),k),dtype=np.float32)\n",
    "    for i in range(len(Train_descriptors)):\n",
    "        words=codebook.predict(Train_descriptors[i])\n",
    "        visual_words[i,:]=normalize(np.bincount(words,minlength=k).reshape(1,-1))\n",
    "\n",
    "    # knn = KNeighborsClassifier(n_neighbors=37,n_jobs=-1,metric='manhattan')\n",
    "    # knn.fit(visual_words, train_labels)\n",
    "\n",
    "    today = datetime.now()\n",
    "    dt_string = today.strftime(\"%H:%M:%S\")\n",
    "    print(f\"{dt_string} started doing step={step}\")\n",
    "    \n",
    "    scaler = StandardScaler()\n",
    "    scaler.fit_transform(visual_words)\n",
    "    \n",
    "    lin_clf = svm.LinearSVC(max_iter=2000, C=10)\n",
    "    lin_clf.fit(visual_words, train_labels)\n",
    "    \n",
    "    rbf_svc = svm.SVC(kernel='rbf', C=1000, gamma=0.001)\n",
    "    rbf_svc.fit(visual_words, train_labels)\n",
    "\n",
    "    visual_words_test=np.zeros((len(test_images_filenames),k),dtype=np.float32)\n",
    "    for i in range(len(test_images_filenames)):\n",
    "        filename=test_images_filenames[i]\n",
    "        ima=cv2.imread(filename)\n",
    "        gray=cv2.cvtColor(ima,cv2.COLOR_BGR2GRAY)\n",
    "    #     kpt,des=SIFTdetector.detectAndCompute(gray,None)\n",
    "        des=compute_dense_sift(gray,SIFTdetector, step)\n",
    "        words=codebook.predict(des)\n",
    "        visual_words_test[i,:]=normalize(np.bincount(words,minlength=k).reshape(1,-1))\n",
    "\n",
    "    visual_words_test=scaler.transform(visual_words_test)\n",
    "    \n",
    "    scores = cross_val_score(lin_clf, visual_words_test, test_labels, cv=5)\n",
    "    accuracy_linear=scores.mean()*100\n",
    "\n",
    "    print(\"linear=\",accuracy_linear)\n",
    "\n",
    "    scores = cross_val_score(rbf_svc, visual_words_test, test_labels, cv=5)\n",
    "    accuracy_rbf=scores.mean()*100\n",
    "\n",
    "    print(\"rbf=\",accuracy_rbf)\n",
    "    \n",
    "    return accuracy_linear,accuracy_rbf\n"
   ]
  },
  {
   "cell_type": "code",
   "execution_count": 52,
   "metadata": {},
   "outputs": [
    {
     "name": "stdout",
     "output_type": "stream",
     "text": [
      "22:37:32 started doing step=5\n",
      "22:39:00 started doing step=5\n",
      "linear= 66.16747181964573\n",
      "rbf= 78.81374127750938\n",
      "22:39:30 started doing step=20\n",
      "22:40:18 started doing step=20\n",
      "linear= 63.324131585001155\n",
      "rbf= 72.61406333870102\n",
      "22:40:38 started doing step=50\n",
      "22:41:16 started doing step=50\n",
      "linear= 52.782762058124376\n",
      "rbf= 62.94762671574266\n",
      "22:41:35 started doing step=100\n",
      "22:41:56 started doing step=100\n",
      "linear= 54.020397208803\n",
      "rbf= 59.72471436239552\n",
      "22:42:10 started doing step=300\n",
      "22:42:22 started doing step=300\n",
      "linear= 56.129898013955994\n",
      "rbf= 57.61904761904761\n",
      "22:42:44 started doing step=500\n",
      "22:42:55 started doing step=500\n",
      "linear= 54.51652480637988\n",
      "rbf= 57.11908595966566\n"
     ]
    }
   ],
   "source": [
    "data_results_step =[]\n",
    "steps_to_do=[5,20,50,100,300,500]\n",
    "for step in steps_to_do:\n",
    "    accuracy_linear,accuracy_rbf=calculate_vis(step)\n",
    "    data_results_step.append([step,accuracy_linear,accuracy_rbf,1,1])\n",
    "    \n",
    "df=pd.DataFrame(data_results_step, columns=['step','accuracy_linear','accuracy_rbf','normalized','scaler'])    "
   ]
  },
  {
   "cell_type": "code",
   "execution_count": 53,
   "metadata": {},
   "outputs": [],
   "source": [
    "with open('Different_densities_analysis.pkl','rb') as f:\n",
    "    df=cPickle.load(f)"
   ]
  },
  {
   "cell_type": "code",
   "execution_count": 54,
   "metadata": {},
   "outputs": [
    {
     "name": "stdout",
     "output_type": "stream",
     "text": [
      "max for rbf\n",
      "    step  accuracy_linear  accuracy_rbf  normalized  scaler  accuracy_inter\n",
      "0     5        65.548654     78.937198           1       1         80.1756\n",
      "max for linear\n",
      "    step  accuracy_linear  accuracy_rbf  normalized  scaler  accuracy_inter\n",
      "0     5        65.548654     78.937198           1       1         80.1756\n",
      "max for inter\n",
      "    step  accuracy_linear  accuracy_rbf  normalized  scaler  accuracy_inter\n",
      "0     5        65.548654     78.937198           1       1         80.1756\n"
     ]
    },
    {
     "data": {
      "text/plain": [
       "<matplotlib.legend.Legend at 0x1323d3430>"
      ]
     },
     "execution_count": 54,
     "metadata": {},
     "output_type": "execute_result"
    },
    {
     "data": {
      "image/png": "[encoded data removed]",
      "text/plain": [
       "<Figure size 720x576 with 1 Axes>"
      ]
     },
     "metadata": {
      "needs_background": "light"
     },
     "output_type": "display_data"
    }
   ],
   "source": [
    "fig, ax = plt.subplots(figsize=(10,8))\n",
    "ax.set(title='Accuracy vs steps', xlim=(0,800), ylim=(0,100))\n",
    "df2=df\n",
    "y_rbf=df2.accuracy_rbf\n",
    "y_lin=df2.accuracy_linear\n",
    "y_inter=df2.accuracy_inter\n",
    "print(\"max for rbf\\n\",df2[df2.accuracy_rbf==df2.accuracy_rbf.max()])\n",
    "print(\"max for linear\\n\",df2[df2.accuracy_linear==df2.accuracy_linear.max()])\n",
    "print(\"max for inter\\n\",df2[df2.accuracy_inter==df2.accuracy_inter.max()])\n",
    "\n",
    "ax.plot(df2.step, y_lin, 'r', label='linear')\n",
    "ax.plot(df2.step, y_rbf, 'g', label='rbf')\n",
    "ax.plot(df2.step, y_inter, 'b', label='inter')\n",
    "plt.xlabel('step in dense')\n",
    "plt.ylabel('accuracy')\n",
    "ax.legend()"
   ]
  },
  {
   "cell_type": "markdown",
   "metadata": {},
   "source": [
    "### Conclusion on density versus kernel\n",
    "\n",
    "We can notice that decreasing the density of SIFT is not improving the result of accuracy for SVM neither for Linear nor RBF kernel nor intersection histogram kernel. Best accuracy shows for step size equals to 5 in dense sift giving Linear accuracy of 66% and RBF accuracy of 79% and Intersection kernel of 80%.\n",
    "\n",
    "Histogram intersection kernel performs better for step sizes lower than 300 where it crosses the line with RBF kernel and starts performing worse."
   ]
  },
  {
   "cell_type": "code",
   "execution_count": 55,
   "metadata": {},
   "outputs": [
    {
     "data": {
      "text/html": [
       "<div>\n",
       "<style scoped>\n",
       "    .dataframe tbody tr th:only-of-type {\n",
       "        vertical-align: middle;\n",
       "    }\n",
       "\n",
       "    .dataframe tbody tr th {\n",
       "        vertical-align: top;\n",
       "    }\n",
       "\n",
       "    .dataframe thead th {\n",
       "        text-align: right;\n",
       "    }\n",
       "</style>\n",
       "<table border=\"1\" class=\"dataframe\">\n",
       "  <thead>\n",
       "    <tr style=\"text-align: right;\">\n",
       "      <th></th>\n",
       "      <th>step</th>\n",
       "      <th>accuracy_linear</th>\n",
       "      <th>accuracy_rbf</th>\n",
       "      <th>normalized</th>\n",
       "      <th>scaler</th>\n",
       "      <th>accuracy_inter</th>\n",
       "    </tr>\n",
       "  </thead>\n",
       "  <tbody>\n",
       "    <tr>\n",
       "      <th>0</th>\n",
       "      <td>5</td>\n",
       "      <td>65.548654</td>\n",
       "      <td>78.937198</td>\n",
       "      <td>1</td>\n",
       "      <td>1</td>\n",
       "      <td>80.175600</td>\n",
       "    </tr>\n",
       "    <tr>\n",
       "      <th>1</th>\n",
       "      <td>20</td>\n",
       "      <td>63.446055</td>\n",
       "      <td>72.614063</td>\n",
       "      <td>1</td>\n",
       "      <td>1</td>\n",
       "      <td>77.567671</td>\n",
       "    </tr>\n",
       "    <tr>\n",
       "      <th>2</th>\n",
       "      <td>50</td>\n",
       "      <td>52.413159</td>\n",
       "      <td>62.947627</td>\n",
       "      <td>1</td>\n",
       "      <td>1</td>\n",
       "      <td>65.050226</td>\n",
       "    </tr>\n",
       "    <tr>\n",
       "      <th>3</th>\n",
       "      <td>100</td>\n",
       "      <td>53.275056</td>\n",
       "      <td>59.352810</td>\n",
       "      <td>1</td>\n",
       "      <td>1</td>\n",
       "      <td>61.581167</td>\n",
       "    </tr>\n",
       "    <tr>\n",
       "      <th>4</th>\n",
       "      <td>300</td>\n",
       "      <td>54.897631</td>\n",
       "      <td>57.619048</td>\n",
       "      <td>1</td>\n",
       "      <td>1</td>\n",
       "      <td>56.257189</td>\n",
       "    </tr>\n",
       "    <tr>\n",
       "      <th>5</th>\n",
       "      <td>500</td>\n",
       "      <td>53.771950</td>\n",
       "      <td>57.119086</td>\n",
       "      <td>1</td>\n",
       "      <td>1</td>\n",
       "      <td>56.129898</td>\n",
       "    </tr>\n",
       "  </tbody>\n",
       "</table>\n",
       "</div>"
      ],
      "text/plain": [
       "   step  accuracy_linear  accuracy_rbf  normalized  scaler  accuracy_inter\n",
       "0     5        65.548654     78.937198           1       1       80.175600\n",
       "1    20        63.446055     72.614063           1       1       77.567671\n",
       "2    50        52.413159     62.947627           1       1       65.050226\n",
       "3   100        53.275056     59.352810           1       1       61.581167\n",
       "4   300        54.897631     57.619048           1       1       56.257189\n",
       "5   500        53.771950     57.119086           1       1       56.129898"
      ]
     },
     "execution_count": 55,
     "metadata": {},
     "output_type": "execute_result"
    }
   ],
   "source": [
    "df2"
   ]
  },
  {
   "cell_type": "markdown",
   "metadata": {},
   "source": [
    "## Spatial Pyramids impact on SVM"
   ]
  },
  {
   "cell_type": "code",
   "execution_count": 47,
   "metadata": {},
   "outputs": [],
   "source": [
    "def create_pyramid_levels(pyramid):\n",
    "    step=5\n",
    "\n",
    "    today = datetime.now()\n",
    "    dt_string = today.strftime(\"%H:%M:%S\")\n",
    "    print(f\"{dt_string} started doing step={pyramid}\")\n",
    "\n",
    "    Train_descriptors = []\n",
    "    Train_label_per_descriptor = []\n",
    "    pyramid_levels = pyramid # level zero has 1 tile, level 1 has 4 tiles => 5 histograms that will be concatenated\n",
    "\n",
    "    for filename,labels in zip(train_images_filenames,train_labels):\n",
    "        ima=cv2.imread(filename)\n",
    "        gray=cv2.cvtColor(ima,cv2.COLOR_BGR2GRAY)\n",
    "        # break the image into pieces\n",
    "        image_cells = []\n",
    "        for i in range(pyramid_levels+1):\n",
    "\n",
    "            level_cells = get_pyramid_image_cells(gray,level=i)\n",
    "            image_cells = image_cells + level_cells\n",
    "            # compute descriptors for each tile\n",
    "        Train_descriptors_cell = []\n",
    "        for cell in image_cells:\n",
    "            des=compute_dense_sift(cell,SIFTdetector, step)\n",
    "            Train_descriptors_cell.append(des)\n",
    "\n",
    "        Train_descriptors.append(Train_descriptors_cell)\n",
    "        Train_label_per_descriptor.append(labels)\n",
    "\n",
    "    D=np.vstack([des for descriptors_cells in Train_descriptors for des in descriptors_cells])\n",
    "\n",
    "    #codebook\n",
    "\n",
    "    k=128\n",
    "    codebook = MiniBatchKMeans(n_clusters=k, verbose=False, batch_size=k * 20,compute_labels=False,reassignment_ratio=10**-4,random_state=42)\n",
    "    codebook.fit(D)\n",
    "\n",
    "    #creating visual words for Training\n",
    "\n",
    "    visual_words=np.zeros((len(Train_descriptors),k*21),dtype=np.float32)\n",
    "    for idx,cells in enumerate(Train_descriptors):\n",
    "\n",
    "        image_histograms = []\n",
    "        for id2,image_cell in enumerate(cells):\n",
    "            cell_words = codebook.predict(image_cell)\n",
    "            image_histograms.append(normalize(np.bincount(cell_words,minlength=k).reshape(1,-1)))\n",
    "            # concatenated histogram has k*(1+2**(2*pyramid_levels)) bins\n",
    "            # normalize(np.bincount(words,minlength=k).reshape(1,-1))\n",
    "\n",
    "        concatenated_histogram=image_histograms[0].copy()\n",
    "        for cell_idx in range(1,len(image_histograms)):\n",
    "            # concatenate histograms\n",
    "            concatenated_histogram = np.concatenate((concatenated_histogram,image_histograms[cell_idx]))\n",
    "        visual_words[idx,:]=concatenated_histogram.flatten()\n",
    "        \n",
    "    #PCA\n",
    "    pca = PCA(n_components=(256))\n",
    "    VWpca = pca.fit_transform(visual_words)\n",
    "\n",
    "    #SVN kernels\n",
    "\n",
    "    scaler = StandardScaler()\n",
    "    scaler.fit_transform(VWpca)\n",
    "\n",
    "    lin_clf = svm.LinearSVC(max_iter=2000, C=10)\n",
    "    lin_clf.fit(VWpca, train_labels)\n",
    "\n",
    "    rbf_svc = svm.SVC(kernel='rbf', C=1000, gamma=0.001)\n",
    "    rbf_svc.fit(VWpca, train_labels)\n",
    "\n",
    "    today = datetime.now()\n",
    "    dt_string = today.strftime(\"%H:%M:%S\")\n",
    "    print(f\"{dt_string} started doing test step={pyramid}\")\n",
    "\n",
    "    #creating SIFT descriptor\n",
    "\n",
    "    Test_descriptors = []\n",
    "    Test_label_per_descriptor = []\n",
    "    # pyramid_levels = 1 # level zero has 1 tile, level 1 has 4 tiles => 5 histograms that will be concatenated\n",
    "    for filename,labels in zip(test_images_filenames,test_labels):\n",
    "        ima=cv2.imread(filename)\n",
    "        gray=cv2.cvtColor(ima,cv2.COLOR_BGR2GRAY)\n",
    "        # break the image into pieces\n",
    "        image_cells = []\n",
    "        for i in range(pyramid_levels+1):\n",
    "\n",
    "            level_cells = get_pyramid_image_cells(gray,level=i)\n",
    "            image_cells = image_cells + level_cells\n",
    "            # compute descriptors for each tile\n",
    "        Test_descriptors_cell = []\n",
    "        for cell in image_cells:\n",
    "            des=compute_dense_sift(cell,SIFTdetector, step)\n",
    "            Test_descriptors_cell.append(des)\n",
    "\n",
    "        Test_descriptors.append(Test_descriptors_cell)\n",
    "        Test_label_per_descriptor.append(labels)\n",
    "\n",
    "    #creating visual tests\n",
    "\n",
    "    visual_words_test=np.zeros((len(Test_descriptors),k*21),dtype=np.float32)\n",
    "    for idx,cells in enumerate(Test_descriptors):\n",
    "\n",
    "        image_histograms = []\n",
    "        for id2,image_cell in enumerate(cells):\n",
    "            cell_words = codebook.predict(image_cell)\n",
    "            image_histograms.append(normalize(np.bincount(cell_words,minlength=k).reshape(1,-1)))\n",
    "            # concatenated histogram has k*(1+2**(2*pyramid_levels)) bins\n",
    "            # normalize(np.bincount(words,minlength=k).reshape(1,-1))\n",
    "\n",
    "        concatenated_histogram=image_histograms[0].copy()\n",
    "        for cell_idx in range(1,len(image_histograms)):\n",
    "            # concatenate histograms\n",
    "            concatenated_histogram = np.concatenate((concatenated_histogram,image_histograms[cell_idx]))\n",
    "        visual_words_test[idx,:]=concatenated_histogram.flatten()\n",
    "\n",
    "\n",
    "\n",
    "    \n",
    "    #PCA\n",
    "    vwtestpca = pca.transform(visual_words_test)\n",
    "    \n",
    "    #scaler test\n",
    "    visual_words_test=scaler.transform(vwtestpca)\n",
    "\n",
    "    #accuracy for test linear\n",
    "#     scores = cross_val_score(lin_clf, visual_words_test, test_labels, cv=5)\n",
    "    scores = cross_val_score(lin_clf, vwtestpca, test_labels, cv=5)\n",
    "    accuracy_linear=scores.mean()*100\n",
    "\n",
    "    print(\"linear=\",accuracy_linear)\n",
    "\n",
    "\n",
    "    #accuracy for test rbfns for pyrami\n",
    "    scores = cross_val_score(rbf_svc, visual_words_test, test_labels, cv=5)\n",
    "    accuracy_rbf=scores.mean()*100\n",
    "\n",
    "    print(\"rbf=\",accuracy_rbf)\n",
    "\n",
    "    return accuracy_linear,accuracy_rbf"
   ]
  },
  {
   "cell_type": "code",
   "execution_count": 48,
   "metadata": {},
   "outputs": [
    {
     "name": "stdout",
     "output_type": "stream",
     "text": [
      "22:28:59 started doing step=2\n",
      "22:35:47 started doing test step=2\n",
      "linear= 72.11946936584617\n",
      "rbf= 70.38570661759067\n"
     ]
    }
   ],
   "source": [
    "piramid=[2]\n",
    "data_pyramid_levels=[]\n",
    "for level in piramid:\n",
    "    accuracy_linear,accuracy_rbf=create_pyramid_levels(level)\n",
    "    data_pyramid_levels.append([level,5,accuracy_linear,accuracy_rbf,1,1])\n",
    "\n",
    "df_level=pd.DataFrame(data_pyramid_levels, columns=['level','step','accuracy_linear','accuracy_rbf','normalized','scaler'])    "
   ]
  },
  {
   "cell_type": "code",
   "execution_count": 85,
   "metadata": {},
   "outputs": [],
   "source": [
    "with open('Different_pyramid_levels_all_pca_lda.pkl','rb') as f:\n",
    "    df_all_pyramids=cPickle.load(f)"
   ]
  },
  {
   "cell_type": "code",
   "execution_count": 87,
   "metadata": {},
   "outputs": [
    {
     "data": {
      "text/html": [
       "<div>\n",
       "<style scoped>\n",
       "    .dataframe tbody tr th:only-of-type {\n",
       "        vertical-align: middle;\n",
       "    }\n",
       "\n",
       "    .dataframe tbody tr th {\n",
       "        vertical-align: top;\n",
       "    }\n",
       "\n",
       "    .dataframe thead th {\n",
       "        text-align: right;\n",
       "    }\n",
       "</style>\n",
       "<table border=\"1\" class=\"dataframe\">\n",
       "  <thead>\n",
       "    <tr style=\"text-align: right;\">\n",
       "      <th></th>\n",
       "      <th>level</th>\n",
       "      <th>step</th>\n",
       "      <th>accuracy_linear</th>\n",
       "      <th>accuracy_rbf</th>\n",
       "      <th>accuracy_inter</th>\n",
       "      <th>normalized</th>\n",
       "      <th>scaler</th>\n",
       "      <th>lda</th>\n",
       "      <th>pca</th>\n",
       "    </tr>\n",
       "  </thead>\n",
       "  <tbody>\n",
       "    <tr>\n",
       "      <th>0</th>\n",
       "      <td>1</td>\n",
       "      <td>5</td>\n",
       "      <td>82.653171</td>\n",
       "      <td>80.789817</td>\n",
       "      <td>79.677939</td>\n",
       "      <td>1</td>\n",
       "      <td>1</td>\n",
       "      <td>7.0</td>\n",
       "      <td>NaN</td>\n",
       "    </tr>\n",
       "    <tr>\n",
       "      <th>0</th>\n",
       "      <td>1</td>\n",
       "      <td>5</td>\n",
       "      <td>61.708458</td>\n",
       "      <td>66.164405</td>\n",
       "      <td>68.648877</td>\n",
       "      <td>1</td>\n",
       "      <td>1</td>\n",
       "      <td>NaN</td>\n",
       "      <td>0.95</td>\n",
       "    </tr>\n",
       "    <tr>\n",
       "      <th>0</th>\n",
       "      <td>2</td>\n",
       "      <td>5</td>\n",
       "      <td>76.948854</td>\n",
       "      <td>58.490913</td>\n",
       "      <td>72.739820</td>\n",
       "      <td>1</td>\n",
       "      <td>1</td>\n",
       "      <td>NaN</td>\n",
       "      <td>0.95</td>\n",
       "    </tr>\n",
       "    <tr>\n",
       "      <th>0</th>\n",
       "      <td>2</td>\n",
       "      <td>5</td>\n",
       "      <td>30.485392</td>\n",
       "      <td>27.129821</td>\n",
       "      <td>25.278736</td>\n",
       "      <td>1</td>\n",
       "      <td>1</td>\n",
       "      <td>7.0</td>\n",
       "      <td>NaN</td>\n",
       "    </tr>\n",
       "  </tbody>\n",
       "</table>\n",
       "</div>"
      ],
      "text/plain": [
       "   level  step  accuracy_linear  accuracy_rbf  accuracy_inter  normalized  \\\n",
       "0      1     5        82.653171     80.789817       79.677939           1   \n",
       "0      1     5        61.708458     66.164405       68.648877           1   \n",
       "0      2     5        76.948854     58.490913       72.739820           1   \n",
       "0      2     5        30.485392     27.129821       25.278736           1   \n",
       "\n",
       "   scaler  lda   pca  \n",
       "0       1  7.0   NaN  \n",
       "0       1  NaN  0.95  \n",
       "0       1  NaN  0.95  \n",
       "0       1  7.0   NaN  "
      ]
     },
     "execution_count": 87,
     "metadata": {},
     "output_type": "execute_result"
    }
   ],
   "source": [
    "df_all_pyramids"
   ]
  },
  {
   "cell_type": "markdown",
   "metadata": {},
   "source": [
    "### Conclusions o pyramids\n",
    "\n",
    "Level 1 of pyramid is: all image + image divided to 4 tiles\n",
    "\n",
    "Level 2 of pyramid is: all image + image divided to 4 tiles + image divided to 16 tiles\n",
    "\n",
    "Those calculations were running for more than 30min each so in a timely manner it was very hard to debug it. However when applying LDA=7 or PCA=0.95 (keep the number of features that represent 95% of the total). We can see 80-82% results when using LDA which makes almost all kernels achieve same accuracy where PCA gives lot worst results of 61-68%.\n",
    "\n",
    "Comparing to the results without pyramids we can notice that as RBG and Intersection of histograms achieve very similar results around 80% for both cases. The Linear improves from 65% to 82% which at the end shows best results for all kernels considering piramid level 1.\n",
    "\n",
    "Second level pyramid does not prove to improve against level 1 pyramid."
   ]
  },
  {
   "cell_type": "code",
   "execution_count": null,
   "metadata": {},
   "outputs": [],
   "source": []
  }
 ],
 "metadata": {
  "kernelspec": {
   "display_name": "Python 3",
   "language": "python",
   "name": "python3"
  },
  "language_info": {
   "codemirror_mode": {
    "name": "ipython",
    "version": 3
   },
   "file_extension": ".py",
   "mimetype": "text/x-python",
   "name": "python",
   "nbconvert_exporter": "python",
   "pygments_lexer": "ipython3",
   "version": "3.8.3"
  }
 },
 "nbformat": 4,
 "nbformat_minor": 4
}
