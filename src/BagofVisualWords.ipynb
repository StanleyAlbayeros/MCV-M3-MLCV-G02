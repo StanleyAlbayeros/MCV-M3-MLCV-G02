{
  "nbformat": 4,
  "nbformat_minor": 0,
  "metadata": {
    "kernelspec": {
      "display_name": "Python 2",
      "language": "python",
      "name": "python2"
    },
    "language_info": {
      "codemirror_mode": {
        "name": "ipython",
        "version": 2
      },
      "file_extension": ".py",
      "mimetype": "text/x-python",
      "name": "python",
      "nbconvert_exporter": "python",
      "pygments_lexer": "ipython2",
      "version": "2.7.15rc1"
    },
    "colab": {
      "name": "BagofVisualWords.ipynb",
      "provenance": [],
      "include_colab_link": true
    }
  },
  "cells": [
    {
      "cell_type": "markdown",
      "metadata": {
        "id": "view-in-github",
        "colab_type": "text"
      },
      "source": [
        "<a href=\"https://colab.research.google.com/github/drkztan/MCV-M3-MLCV-G02/blob/main/src/BagofVisualWords.ipynb\" target=\"_parent\"><img src=\"https://colab.research.google.com/assets/colab-badge.svg\" alt=\"Open In Colab\"/></a>"
      ]
    },
    {
      "cell_type": "code",
      "metadata": {
        "id": "AevYKBnrSnEJ"
      },
      "source": [
        "import cv2\n",
        "import numpy as np\n",
        "import pickle as cPickle\n",
        "from sklearn.cluster import MiniBatchKMeans\n",
        "from sklearn.neighbors import KNeighborsClassifier\n",
        "from sklearn.decomposition import PCA\n",
        "from sklearn.discriminant_analysis import LinearDiscriminantAnalysis"
      ],
      "execution_count": 1,
      "outputs": []
    },
    {
      "cell_type": "code",
      "metadata": {
        "id": "IhhLqmI4S8Ku"
      },
      "source": [
        "from google.colab import drive\n",
        "drive.mount('/content/drive')"
      ],
      "execution_count": null,
      "outputs": []
    },
    {
      "cell_type": "markdown",
      "metadata": {
        "id": "PDfwquS7SnEN"
      },
      "source": [
        "Let us first read the train and test files"
      ]
    },
    {
      "cell_type": "code",
      "metadata": {
        "id": "gG9zA4fTSnEO"
      },
      "source": [
        "train_images_filenames = cPickle.load(open('train_images_filenames.dat','r'))\n",
        "test_images_filenames = cPickle.load(open('test_images_filenames.dat','r'))\n",
        "train_labels = cPickle.load(open('train_labels.dat','r'))\n",
        "test_labels = cPickle.load(open('test_labels.dat','r'))"
      ],
      "execution_count": null,
      "outputs": []
    },
    {
      "cell_type": "code",
      "metadata": {
        "id": "qWVHPnbySnEO",
        "outputId": "11786df5-eba8-4ad0-8959-bf0293c36f4c"
      },
      "source": [
        "train_images_filenames[12]"
      ],
      "execution_count": null,
      "outputs": [
        {
          "output_type": "execute_result",
          "data": {
            "text/plain": [
              "'../../Databases/MIT_split/train/Opencountry/fie26.jpg'"
            ]
          },
          "metadata": {
            "tags": []
          },
          "execution_count": 3
        }
      ]
    },
    {
      "cell_type": "markdown",
      "metadata": {
        "id": "e032Qgn-SnEP"
      },
      "source": [
        "We create a SIFT object detector and descriptor"
      ]
    },
    {
      "cell_type": "code",
      "metadata": {
        "id": "kGbxGFbMSnEP"
      },
      "source": [
        "SIFTdetector = cv2.xfeatures2d.SIFT_create(nfeatures=300)"
      ],
      "execution_count": null,
      "outputs": []
    },
    {
      "cell_type": "markdown",
      "metadata": {
        "id": "_3AgiaQoSnEP"
      },
      "source": [
        "We compute the SIFT descriptors for all the train images and subsequently build a numpy array with all the descriptors stacked together"
      ]
    },
    {
      "cell_type": "code",
      "metadata": {
        "id": "8Jc1QNImSnEP"
      },
      "source": [
        "Train_descriptors = []\n",
        "Train_label_per_descriptor = []\n",
        "\n",
        "for filename,labels in zip(train_images_filenames,train_labels):\n",
        "    ima=cv2.imread(filename)\n",
        "    gray=cv2.cvtColor(ima,cv2.COLOR_BGR2GRAY)\n",
        "    kpt,des=SIFTdetector.detectAndCompute(gray,None)\n",
        "    Train_descriptors.append(des)\n",
        "    Train_label_per_descriptor.append(labels)\n",
        "\n",
        "D=np.vstack(Train_descriptors)"
      ],
      "execution_count": null,
      "outputs": []
    },
    {
      "cell_type": "markdown",
      "metadata": {
        "id": "iINp98fkSnEQ"
      },
      "source": [
        "We now compute a k-means clustering on the descriptor space"
      ]
    },
    {
      "cell_type": "code",
      "metadata": {
        "id": "ytyE600YSnEQ",
        "outputId": "d5fd23fc-68f1-44b6-bde2-52d019041e3d"
      },
      "source": [
        "k = 128\n",
        "codebook = MiniBatchKMeans(n_clusters=k, verbose=False, batch_size=k * 20,compute_labels=False,reassignment_ratio=10**-4,random_state=42)\n",
        "codebook.fit(D)"
      ],
      "execution_count": null,
      "outputs": [
        {
          "output_type": "execute_result",
          "data": {
            "text/plain": [
              "MiniBatchKMeans(batch_size=2560, compute_labels=False, init='k-means++',\n",
              "        init_size=None, max_iter=100, max_no_improvement=10,\n",
              "        n_clusters=128, n_init=3, random_state=42,\n",
              "        reassignment_ratio=0.0001, tol=0.0, verbose=False)"
            ]
          },
          "metadata": {
            "tags": []
          },
          "execution_count": 6
        }
      ]
    },
    {
      "cell_type": "markdown",
      "metadata": {
        "id": "itUHM7ShSnEQ"
      },
      "source": [
        "And, for each train image, we project each keypoint descriptor to its closest visual word. We represent each of the images with the frequency of each visual word."
      ]
    },
    {
      "cell_type": "code",
      "metadata": {
        "id": "_ID7DX1aSnEQ"
      },
      "source": [
        "visual_words=np.zeros((len(Train_descriptors),k),dtype=np.float32)\n",
        "for i in xrange(len(Train_descriptors)):\n",
        "    words=codebook.predict(Train_descriptors[i])\n",
        "    visual_words[i,:]=np.bincount(words,minlength=k)"
      ],
      "execution_count": null,
      "outputs": []
    },
    {
      "cell_type": "markdown",
      "metadata": {
        "id": "rjYwGKkGSnEQ"
      },
      "source": [
        "We build a k-nn classifier and train it with the train descriptors"
      ]
    },
    {
      "cell_type": "code",
      "metadata": {
        "id": "Er6I-_bSSnEQ",
        "outputId": "440abb89-9cb0-4362-c22d-ca8eb7973783"
      },
      "source": [
        "knn = KNeighborsClassifier(n_neighbors=5,n_jobs=-1,metric='euclidean')\n",
        "knn.fit(visual_words, train_labels) "
      ],
      "execution_count": null,
      "outputs": [
        {
          "output_type": "execute_result",
          "data": {
            "text/plain": [
              "KNeighborsClassifier(algorithm='auto', leaf_size=30, metric='euclidean',\n",
              "           metric_params=None, n_jobs=-1, n_neighbors=5, p=2,\n",
              "           weights='uniform')"
            ]
          },
          "metadata": {
            "tags": []
          },
          "execution_count": 8
        }
      ]
    },
    {
      "cell_type": "markdown",
      "metadata": {
        "id": "BtoH1g6sSnER"
      },
      "source": [
        "We end up computing the test descriptors and compute the accuracy of the model"
      ]
    },
    {
      "cell_type": "code",
      "metadata": {
        "id": "14efhffBSnER"
      },
      "source": [
        "visual_words_test=np.zeros((len(test_images_filenames),k),dtype=np.float32)\n",
        "for i in range(len(test_images_filenames)):\n",
        "    filename=test_images_filenames[i]\n",
        "    ima=cv2.imread(filename)\n",
        "    gray=cv2.cvtColor(ima,cv2.COLOR_BGR2GRAY)\n",
        "    kpt,des=SIFTdetector.detectAndCompute(gray,None)\n",
        "    words=codebook.predict(des)\n",
        "    visual_words_test[i,:]=np.bincount(words,minlength=k)"
      ],
      "execution_count": null,
      "outputs": []
    },
    {
      "cell_type": "code",
      "metadata": {
        "id": "nCEfRLcvSnER"
      },
      "source": [
        "accuracy = 100*knn.score(visual_words_test, test_labels)\n",
        "print(accuracy)"
      ],
      "execution_count": null,
      "outputs": []
    },
    {
      "cell_type": "markdown",
      "metadata": {
        "id": "TpHK9iubSnER"
      },
      "source": [
        "Dimensionality reduction, with PCA and LDA"
      ]
    },
    {
      "cell_type": "code",
      "metadata": {
        "id": "xV9oXFxlSnER"
      },
      "source": [
        "pca = PCA(n_components=64)\n",
        "VWpca = pca.fit_transform(visual_words)\n",
        "knnpca = KNeighborsClassifier(n_neighbors=5,n_jobs=-1,metric='euclidean')\n",
        "knnpca.fit(VWpca, train_labels) \n",
        "vwtestpca = pca.transform(visual_words_test)\n",
        "accuracy = 100*knnpca.score(vwtestpca, test_labels)\n",
        "print(accuracy)"
      ],
      "execution_count": null,
      "outputs": []
    },
    {
      "cell_type": "code",
      "metadata": {
        "id": "KBu8QEnjSnES"
      },
      "source": [
        "lda = LinearDiscriminantAnalysis(n_components=64)\n",
        "VWlda = lda.fit_transform(visual_words,train_labels)\n",
        "knnlda = KNeighborsClassifier(n_neighbors=5,n_jobs=-1,metric='euclidean')\n",
        "knnlda.fit(VWlda, train_labels) \n",
        "vwtestlda = lda.transform(visual_words_test)\n",
        "accuracy = 100*knnlda.score(vwtestlda, test_labels)\n",
        "print(accuracy)"
      ],
      "execution_count": null,
      "outputs": []
    }
  ]
}