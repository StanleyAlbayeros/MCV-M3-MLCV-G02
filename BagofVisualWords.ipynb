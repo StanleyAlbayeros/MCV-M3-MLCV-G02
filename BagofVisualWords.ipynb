{
 "cells": [
  {
   "cell_type": "code",
   "execution_count": 3,
   "metadata": {},
   "outputs": [],
   "source": [
    "import cv2\n",
    "import numpy as np\n",
    "import pandas as pd\n",
    "import pickle as cPickle\n",
    "from matplotlib import pyplot as plt\n",
    "from sklearn.cluster import MiniBatchKMeans\n",
    "from sklearn.neighbors import KNeighborsClassifier\n",
    "from sklearn.decomposition import PCA\n",
    "from sklearn.discriminant_analysis import LinearDiscriminantAnalysis\n",
    "from sklearn.model_selection import cross_val_score\n",
    "from sklearn.metrics import precision_score,confusion_matrix,multilabel_confusion_matrix,recall_score"
   ]
  },
  {
   "cell_type": "code",
   "execution_count": 2,
   "metadata": {
    "scrolled": true
   },
   "outputs": [
    {
     "data": {
      "text/plain": [
       "'0.23.2'"
      ]
     },
     "execution_count": 2,
     "metadata": {},
     "output_type": "execute_result"
    }
   ],
   "source": [
    "cv2.__version__\n",
    "import sklearn\n",
    "sklearn.__version__"
   ]
  },
  {
   "cell_type": "markdown",
   "metadata": {},
   "source": [
    "Let us first read the train and test files"
   ]
  },
  {
   "cell_type": "code",
   "execution_count": 5,
   "metadata": {},
   "outputs": [],
   "source": [
    "train_images_filenames = cPickle.load(open('resources/train_images_filenames.dat','rb'))\n",
    "test_images_filenames = cPickle.load(open('resources/test_images_filenames.dat','rb'))\n",
    "train_labels = cPickle.load(open('resources/train_labels.dat','rb'))\n",
    "test_labels = cPickle.load(open('resources/test_labels.dat','rb'))"
   ]
  },
  {
   "cell_type": "code",
   "execution_count": 6,
   "metadata": {},
   "outputs": [
    {
     "data": {
      "text/plain": [
       "'../../Databases/MIT_split/train/Opencountry/fie26.jpg'"
      ]
     },
     "execution_count": 6,
     "metadata": {},
     "output_type": "execute_result"
    }
   ],
   "source": [
    "train_images_filenames[12]"
   ]
  },
  {
   "cell_type": "markdown",
   "metadata": {},
   "source": [
    "We create a SIFT object detector and descriptor"
   ]
  },
  {
   "cell_type": "code",
   "execution_count": 32,
   "metadata": {},
   "outputs": [],
   "source": [
    "SIFTdetector = cv2.SIFT_create(nfeatures=300)"
   ]
  },
  {
   "cell_type": "markdown",
   "metadata": {},
   "source": [
    "We compute the SIFT descriptors for all the train images and subsequently build a numpy array with all the descriptors stacked together"
   ]
  },
  {
   "cell_type": "code",
   "execution_count": 33,
   "metadata": {},
   "outputs": [],
   "source": [
    "Train_descriptors = []\n",
    "Train_label_per_descriptor = []\n",
    "\n",
    "for filename,labels in zip(train_images_filenames,train_labels):\n",
    "    ima=cv2.imread(filename)\n",
    "    gray=cv2.cvtColor(ima,cv2.COLOR_BGR2GRAY)\n",
    "    kpt,des=SIFTdetector.detectAndCompute(gray,None)\n",
    "#     des=compute_dense_sift(gray,SIFTdetector)\n",
    "    Train_descriptors.append(des)\n",
    "    Train_label_per_descriptor.append(labels)\n",
    "\n",
    "D=np.vstack(Train_descriptors)"
   ]
  },
  {
   "cell_type": "markdown",
   "metadata": {},
   "source": [
    "We now compute a k-means clustering on the descriptor space"
   ]
  },
  {
   "cell_type": "code",
   "execution_count": 34,
   "metadata": {},
   "outputs": [
    {
     "data": {
      "text/plain": [
       "MiniBatchKMeans(batch_size=2560, compute_labels=False, n_clusters=128,\n",
       "                random_state=42, reassignment_ratio=0.0001, verbose=False)"
      ]
     },
     "execution_count": 34,
     "metadata": {},
     "output_type": "execute_result"
    }
   ],
   "source": [
    "# k = 128\n",
    "k=128\n",
    "codebook = MiniBatchKMeans(n_clusters=k, verbose=False, batch_size=k * 20,compute_labels=False,reassignment_ratio=10**-4,random_state=42)\n",
    "codebook.fit(D)"
   ]
  },
  {
   "cell_type": "markdown",
   "metadata": {},
   "source": [
    "And, for each train image, we project each keypoint descriptor to its closest visual word. We represent each of the images with the frequency of each visual word."
   ]
  },
  {
   "cell_type": "code",
   "execution_count": 35,
   "metadata": {},
   "outputs": [],
   "source": [
    "visual_words=np.zeros((len(Train_descriptors),k),dtype=np.float32)\n",
    "for i in range(len(Train_descriptors)):\n",
    "    words=codebook.predict(Train_descriptors[i])\n",
    "    visual_words[i,:]=np.bincount(words,minlength=k)"
   ]
  },
  {
   "cell_type": "markdown",
   "metadata": {},
   "source": [
    "We build a k-nn classifier and train it with the train descriptors"
   ]
  },
  {
   "cell_type": "code",
   "execution_count": 114,
   "metadata": {},
   "outputs": [
    {
     "data": {
      "text/plain": [
       "KNeighborsClassifier(metric='manhattan', n_jobs=-1, n_neighbors=37)"
      ]
     },
     "execution_count": 114,
     "metadata": {},
     "output_type": "execute_result"
    }
   ],
   "source": [
    "knn = KNeighborsClassifier(n_neighbors=37,n_jobs=-1,metric='manhattan')\n",
    "knn.fit(visual_words, train_labels) "
   ]
  },
  {
   "cell_type": "code",
   "execution_count": 75,
   "metadata": {},
   "outputs": [
    {
     "data": {
      "text/plain": [
       "KNeighborsClassifier(metric='manhattan', n_jobs=-1, n_neighbors=14)"
      ]
     },
     "execution_count": 75,
     "metadata": {},
     "output_type": "execute_result"
    }
   ],
   "source": [
    "pca = PCA(n_components=64)\n",
    "VWpca = pca.fit_transform(visual_words)\n",
    "knnpca = KNeighborsClassifier(n_neighbors=14,n_jobs=-1,metric='manhattan')\n",
    "knnpca.fit(VWpca, train_labels) "
   ]
  },
  {
   "cell_type": "markdown",
   "metadata": {},
   "source": [
    "We end up computing the test descriptors and compute the accuracy of the model"
   ]
  },
  {
   "cell_type": "code",
   "execution_count": 115,
   "metadata": {},
   "outputs": [],
   "source": [
    "visual_words_test=np.zeros((len(test_images_filenames),k),dtype=np.float32)\n",
    "for i in range(len(test_images_filenames)):\n",
    "    filename=test_images_filenames[i]\n",
    "    ima=cv2.imread(filename)\n",
    "    gray=cv2.cvtColor(ima,cv2.COLOR_BGR2GRAY)\n",
    "    kpt,des=SIFTdetector.detectAndCompute(gray,None)\n",
    "#     des=compute_dense_sift(gray,SIFTdetector)\n",
    "    words=codebook.predict(des)\n",
    "    visual_words_test[i,:]=np.bincount(words,minlength=k)"
   ]
  },
  {
   "cell_type": "code",
   "execution_count": 116,
   "metadata": {},
   "outputs": [
    {
     "name": "stdout",
     "output_type": "stream",
     "text": [
      "51.6728624535316\n",
      "[0.49382716 0.49382716 0.44099379 0.48447205 0.47204969]\n",
      "Accuracy: 47.70 (+/- 3.94)\n"
     ]
    }
   ],
   "source": [
    "accuracy = 100*knn.score(visual_words_test, test_labels)\n",
    "print(accuracy)\n",
    "scores = cross_val_score(knn, visual_words_test, test_labels, cv=5)\n",
    "print(scores)\n",
    "print(\"Accuracy: %0.2f (+/- %0.2f)\" % (scores.mean()*100, scores.std() * 200))"
   ]
  },
  {
   "cell_type": "markdown",
   "metadata": {},
   "source": [
    "Dimensionality reduction, with PCA and LDA"
   ]
  },
  {
   "cell_type": "code",
   "execution_count": 60,
   "metadata": {},
   "outputs": [
    {
     "name": "stdout",
     "output_type": "stream",
     "text": [
      "55.14250309789344\n"
     ]
    }
   ],
   "source": [
    "pca = PCA(n_components=64)\n",
    "VWpca = pca.fit_transform(visual_words)\n",
    "knnpca = KNeighborsClassifier(n_neighbors=5,n_jobs=-1,metric='euclidean')\n",
    "knnpca.fit(VWpca, train_labels) \n",
    "vwtestpca = pca.transform(visual_words_test)\n",
    "accuracy = 100*knnpca.score(vwtestpca, test_labels)\n",
    "print(accuracy)"
   ]
  },
  {
   "cell_type": "code",
   "execution_count": 15,
   "metadata": {},
   "outputs": [
    {
     "name": "stdout",
     "output_type": "stream",
     "text": [
      "60.223048327137555\n"
     ]
    }
   ],
   "source": [
    "lda = LinearDiscriminantAnalysis(n_components=7)\n",
    "VWlda = lda.fit_transform(visual_words,train_labels)\n",
    "knnlda = KNeighborsClassifier(n_neighbors=14,n_jobs=-1,metric='manhattan')\n",
    "knnlda.fit(VWlda, train_labels) \n",
    "vwtestlda = lda.transform(visual_words_test)\n",
    "accuracy = 100*knnlda.score(vwtestlda, test_labels)\n",
    "print(accuracy)"
   ]
  },
  {
   "cell_type": "code",
   "execution_count": 64,
   "metadata": {},
   "outputs": [
    {
     "data": {
      "text/plain": [
       "1881"
      ]
     },
     "execution_count": 64,
     "metadata": {},
     "output_type": "execute_result"
    }
   ],
   "source": [
    "len(visual_words)"
   ]
  },
  {
   "cell_type": "code",
   "execution_count": 65,
   "metadata": {},
   "outputs": [
    {
     "data": {
      "text/plain": [
       "1881"
      ]
     },
     "execution_count": 65,
     "metadata": {},
     "output_type": "execute_result"
    }
   ],
   "source": [
    "len(train_labels)"
   ]
  },
  {
   "cell_type": "markdown",
   "metadata": {},
   "source": [
    "## My own code"
   ]
  },
  {
   "cell_type": "code",
   "execution_count": 144,
   "metadata": {},
   "outputs": [
    {
     "name": "stdout",
     "output_type": "stream",
     "text": [
      "56.877323420074354\n",
      "57.14529120333209 59.115441921219094\n"
     ]
    }
   ],
   "source": [
    "accuracy = 100*knn.score(visual_words_test, test_labels)\n",
    "print(accuracy)\n",
    "# print(precision)\n",
    "y_pred= knn.predict(visual_words_test)\n",
    "precision=100*precision_score(y_pred, test_labels,average='macro')\n",
    "recall=100*recall_score(y_pred, test_labels,average='macro')\n",
    "print(precision,recall)"
   ]
  },
  {
   "cell_type": "markdown",
   "metadata": {},
   "source": [
    "KNN function to loop"
   ]
  },
  {
   "cell_type": "code",
   "execution_count": 212,
   "metadata": {},
   "outputs": [],
   "source": [
    "def run_different_knn(neigh,metric):\n",
    "    knn = KNeighborsClassifier(n_neighbors=neigh,n_jobs=-1,metric=metric)\n",
    "    knn.fit(visual_words, train_labels)\n",
    "    \n",
    "    visual_words_test=np.zeros((len(test_images_filenames),k),dtype=np.float32)\n",
    "    for i in range(len(test_images_filenames)):\n",
    "        filename=test_images_filenames[i]\n",
    "        ima=cv2.imread(filename)\n",
    "        gray=cv2.cvtColor(ima,cv2.COLOR_BGR2GRAY)\n",
    "        kpt,des=SIFTdetector.detectAndCompute(gray,None)\n",
    "#         des=compute_dense_sift(gray,SIFTdetector)\n",
    "        words=codebook.predict(des)\n",
    "        visual_words_test[i,:]=np.bincount(words,minlength=k)\n",
    "    \n",
    "    accuracy = 100*knn.score(visual_words_test, test_labels)\n",
    "    y_pred= knn.predict(visual_words_test)\n",
    "    precision=100*precision_score(y_pred, test_labels,average='macro')\n",
    "    recall=100*recall_score(y_pred, test_labels,average='macro')\n",
    "    \n",
    "    return precision,recall,accuracy"
   ]
  },
  {
   "cell_type": "markdown",
   "metadata": {},
   "source": [
    "SIFT looping number of features to keep"
   ]
  },
  {
   "cell_type": "code",
   "execution_count": 40,
   "metadata": {},
   "outputs": [],
   "source": [
    "def test_SIFT_n_features(n_features, dense=False):\n",
    "    scores_list = []\n",
    "    for n_feat in n_features:\n",
    "        SIFTdetector = cv2.SIFT_create(nfeatures=n_feat)\n",
    "        \n",
    "        Train_descriptors = []\n",
    "        Train_label_per_descriptor = []\n",
    "\n",
    "        for filename,labels in zip(train_images_filenames,train_labels):\n",
    "            ima=cv2.imread(filename)\n",
    "            gray=cv2.cvtColor(ima,cv2.COLOR_BGR2GRAY)\n",
    "            des=[]\n",
    "            if dense:\n",
    "                des=compute_dense_sift(gray,SIFTdetector)\n",
    "            else:\n",
    "                kpt,des=SIFTdetector.detectAndCompute(gray,None)\n",
    "            Train_descriptors.append(des)\n",
    "            Train_label_per_descriptor.append(labels)\n",
    "\n",
    "        D=np.vstack(Train_descriptors)\n",
    "        k=128\n",
    "        codebook = MiniBatchKMeans(n_clusters=k, verbose=False, batch_size=k * 20,compute_labels=False,reassignment_ratio=10**-4,random_state=42)\n",
    "        codebook.fit(D)\n",
    "        \n",
    "        visual_words=np.zeros((len(Train_descriptors),k),dtype=np.float32)\n",
    "        for i in range(len(Train_descriptors)):\n",
    "            words=codebook.predict(Train_descriptors[i])\n",
    "            visual_words[i,:]=np.bincount(words,minlength=k)\n",
    "            \n",
    "        knn = KNeighborsClassifier(n_neighbors=37,n_jobs=-1,metric='manhattan')\n",
    "        knn.fit(visual_words, train_labels) \n",
    "        \n",
    "        visual_words_test=np.zeros((len(test_images_filenames),k),dtype=np.float32)\n",
    "        for i in range(len(test_images_filenames)):\n",
    "            filename=test_images_filenames[i]\n",
    "            ima=cv2.imread(filename)\n",
    "            gray=cv2.cvtColor(ima,cv2.COLOR_BGR2GRAY)\n",
    "            kpt,des=SIFTdetector.detectAndCompute(gray,None)\n",
    "            words=codebook.predict(des)\n",
    "            visual_words_test[i,:]=np.bincount(words,minlength=k)\n",
    "        \n",
    "        accuracy = 100*knn.score(visual_words_test, test_labels)\n",
    "        #print(accuracy)\n",
    "        scores = cross_val_score(knn, visual_words_test, test_labels, cv=5)\n",
    "        #print(scores)\n",
    "        #print(\"Accuracy: %0.2f (+/- %0.2f)\" % (scores.mean()*100, scores.std() * 200))\n",
    "        scores_list.append(scores)\n",
    "    \n",
    "    return scores_list"
   ]
  },
  {
   "cell_type": "markdown",
   "metadata": {},
   "source": [
    "KMeans looping k values"
   ]
  },
  {
   "cell_type": "code",
   "execution_count": 17,
   "metadata": {},
   "outputs": [],
   "source": [
    "def test_kmeans_kvalues(k_values):\n",
    "    accuracy_scores = []\n",
    "    precision_scores = []\n",
    "    recall_scores = []\n",
    "    \n",
    "    for k in k_values:\n",
    "        codebook = MiniBatchKMeans(n_clusters=k, verbose=False, batch_size=k * 20,compute_labels=False,reassignment_ratio=10**-4,random_state=42)\n",
    "        codebook.fit(D)\n",
    "        visual_words=np.zeros((len(Train_descriptors),k),dtype=np.float32)\n",
    "        \n",
    "        for i in range(len(Train_descriptors)):\n",
    "            words=codebook.predict(Train_descriptors[i])\n",
    "            visual_words[i,:]=np.bincount(words,minlength=k)\n",
    "\n",
    "        knn = KNeighborsClassifier(n_neighbors=5,n_jobs=-1,metric='euclidean')\n",
    "        knn.fit(visual_words, train_labels) \n",
    "        visual_words_test=np.zeros((len(test_images_filenames),k),dtype=np.float32)\n",
    "\n",
    "        for i in range(len(test_images_filenames)):\n",
    "            filename=test_images_filenames[i]\n",
    "            ima=cv2.imread(filename)\n",
    "            gray=cv2.cvtColor(ima,cv2.COLOR_BGR2GRAY)\n",
    "            kpt,des=SIFTdetector.detectAndCompute(gray,None)\n",
    "            words=codebook.predict(des)\n",
    "            visual_words_test[i,:]=np.bincount(words,minlength=k)\n",
    "\n",
    "        accuracy = 100*knn.score(visual_words_test, test_labels)\n",
    "        y_pred= knn.predict(visual_words_test)\n",
    "        precision=100*precision_score(y_pred, test_labels,average='macro')\n",
    "        recall=100*recall_score(y_pred, test_labels,average='macro')\n",
    "        \n",
    "        accuracy_scores.append(accuracy)\n",
    "        precision_scores.append(precision)\n",
    "        recall_scores.append(recall)\n",
    "\n",
    "        #print('Accuracy =',accuracy)\n",
    "        #print('Precision =',precision)\n",
    "        #print('Recall =', recall)\n",
    "        \n",
    "    return accuracy_scores, precision_scores, recall_scores"
   ]
  },
  {
   "cell_type": "code",
   "execution_count": 23,
   "metadata": {},
   "outputs": [],
   "source": [
    "def test_pca(k_values):\n",
    "    accuracy_scores = []\n",
    "    predicted_values = []\n",
    "    visual_words_list = []\n",
    "    \n",
    "    for k in k_values:\n",
    "        print(\"K=\",k)\n",
    "        codebook = MiniBatchKMeans(n_clusters=k, verbose=False, batch_size=k * 20,compute_labels=False,reassignment_ratio=10**-4,random_state=42)\n",
    "        codebook.fit(D)\n",
    "        visual_words=np.zeros((len(Train_descriptors),k),dtype=np.float32)\n",
    "        visual_words_test=np.zeros((len(test_images_filenames),k),dtype=np.float32)\n",
    "\n",
    "\n",
    "        \n",
    "        for i in range(len(Train_descriptors)):\n",
    "            words=codebook.predict(Train_descriptors[i])\n",
    "            visual_words[i,:]=np.bincount(words,minlength=k)\n",
    "            \n",
    "        pca = PCA(svd_solver='full', n_components=0.95)\n",
    "\n",
    "        VWpca = pca.fit_transform(visual_words)\n",
    "        knnpca = KNeighborsClassifier(n_neighbors=27,n_jobs=-1,metric='manhattan')\n",
    "        knnpca.fit(VWpca, train_labels) \n",
    "        \n",
    "        for i in range(len(test_images_filenames)):\n",
    "            filename=test_images_filenames[i]\n",
    "            ima=cv2.imread(filename)\n",
    "            gray=cv2.cvtColor(ima,cv2.COLOR_BGR2GRAY)\n",
    "            kpt,des=SIFTdetector.detectAndCompute(gray,None)\n",
    "            words=codebook.predict(des)\n",
    "            visual_words_test[i,:]=np.bincount(words,minlength=k)\n",
    "\n",
    "        vwtestpca = pca.transform(visual_words_test)\n",
    "        accuracy = 100*knnpca.score(vwtestpca, test_labels)\n",
    "        accuracy_scores.append(accuracy)\n",
    "        print(accuracy)\n",
    "\n",
    "\n",
    "    return accuracy_scores"
   ]
  },
  {
   "cell_type": "markdown",
   "metadata": {},
   "source": [
    "DENSE SIFT"
   ]
  },
  {
   "cell_type": "code",
   "execution_count": 43,
   "metadata": {},
   "outputs": [],
   "source": [
    "# ima=cv2.imread(r'C:\\Users\\adama\\OneDrive/Dokumenty/Master of Computer Vision/M3/Databases/MIT_split/train/forest/art114.jpg')\n",
    "# gray=cv2.cvtColor(ima,cv2.COLOR_BGR2GRAY)\n",
    "\n",
    "def compute_dense_sift(gray,sift):\n",
    "    step_size = 5\n",
    "    kp = [cv2.KeyPoint(x, y, step_size) for y in range(0, gray.shape[0], step_size) \n",
    "                                        for x in range(0, gray.shape[1], step_size)]\n",
    "    dense_feat = sift.compute(gray, kp)\n",
    "    dense_feat_des = dense_feat[1]\n",
    "    return dense_feat_des"
   ]
  },
  {
   "cell_type": "code",
   "execution_count": 205,
   "metadata": {},
   "outputs": [
    {
     "name": "stdout",
     "output_type": "stream",
     "text": [
      "128\n",
      "0.0\n"
     ]
    }
   ],
   "source": []
  },
  {
   "cell_type": "markdown",
   "metadata": {},
   "source": [
    "PCA"
   ]
  },
  {
   "cell_type": "code",
   "execution_count": null,
   "metadata": {},
   "outputs": [],
   "source": [
    "pca = PCA(n_components=64)\n",
    "VWpca = pca.fit_transform(visual_words)\n",
    "knnpca = KNeighborsClassifier(n_neighbors=5,n_jobs=-1,metric='euclidean')\n",
    "knnpca.fit(VWpca, train_labels) \n",
    "vwtestpca = pca.transform(visual_words_test)\n",
    "accuracy = 100*knnpca.score(vwtestpca, test_labels)\n",
    "print(accuracy)"
   ]
  },
  {
   "cell_type": "code",
   "execution_count": 65,
   "metadata": {},
   "outputs": [],
   "source": [
    "def run_different_knn_PCA(neigh,metric):\n",
    "    pca = PCA(n_components=64)\n",
    "    VWpca = pca.fit_transform(visual_words)\n",
    "    knnpca = KNeighborsClassifier(n_neighbors=neigh,n_jobs=-1,metric=metric)\n",
    "    knnpca.fit(VWpca, train_labels) \n",
    "#     knn = KNeighborsClassifier(n_neighbors=neigh,n_jobs=-1,metric=metric)\n",
    "#     knn.fit(visual_words, train_labels)\n",
    "    \n",
    "    visual_words_test=np.zeros((len(test_images_filenames),k),dtype=np.float32)\n",
    "    for i in range(len(test_images_filenames)):\n",
    "        filename=test_images_filenames[i]\n",
    "        ima=cv2.imread(filename)\n",
    "        gray=cv2.cvtColor(ima,cv2.COLOR_BGR2GRAY)\n",
    "        kpt,des=SIFTdetector.detectAndCompute(gray,None)\n",
    "#         des=compute_dense_sift(gray,SIFTdetector)\n",
    "        words=codebook.predict(des)\n",
    "        visual_words_test[i,:]=np.bincount(words,minlength=k)\n",
    "    \n",
    "    vwtestpca = pca.transform(visual_words_test)\n",
    "    accuracy = 100*knnpca.score(vwtestpca, test_labels)\n",
    "    y_pred = knnpca.predict(vwtestpca)\n",
    "    \n",
    "#     accuracy = 100*knn.score(visual_words_test, test_labels)\n",
    "#     y_pred= knn.predict(visual_words_test)\n",
    "    precision=100*precision_score(y_pred, test_labels,average='macro')\n",
    "    recall=100*recall_score(y_pred, test_labels,average='macro')\n",
    "    \n",
    "    return precision,recall,accuracy"
   ]
  },
  {
   "cell_type": "code",
   "execution_count": 17,
   "metadata": {},
   "outputs": [],
   "source": [
    "def run_different_knn_LDA(neigh,metric):\n",
    "    lda = LinearDiscriminantAnalysis(n_components=7)\n",
    "    VWlda = lda.fit_transform(visual_words,train_labels)\n",
    "    knnlda = KNeighborsClassifier(n_neighbors=neigh,n_jobs=-1,metric=metric)\n",
    "    knnlda.fit(VWlda, train_labels) \n",
    "#     knn = KNeighborsClassifier(n_neighbors=neigh,n_jobs=-1,metric=metric)\n",
    "#     knn.fit(visual_words, train_labels)\n",
    "    \n",
    "    visual_words_test=np.zeros((len(test_images_filenames),k),dtype=np.float32)\n",
    "    for i in range(len(test_images_filenames)):\n",
    "        filename=test_images_filenames[i]\n",
    "        ima=cv2.imread(filename)\n",
    "        gray=cv2.cvtColor(ima,cv2.COLOR_BGR2GRAY)\n",
    "#         kpt,des=SIFTdetector.detectAndCompute(gray,None)\n",
    "        des=compute_dense_sift(gray,SIFTdetector)\n",
    "        words=codebook.predict(des)\n",
    "        visual_words_test[i,:]=np.bincount(words,minlength=k)\n",
    "    \n",
    "    vwtestlda = lda.transform(visual_words_test)\n",
    "    accuracy = 100*knnlda.score(vwtestlda, test_labels)\n",
    "    \n",
    "    y_pred = knnlda.predict(vwtestlda)\n",
    "    \n",
    "#     accuracy = 100*knn.score(visual_words_test, test_labels)\n",
    "#     y_pred= knn.predict(visual_words_test)\n",
    "    precision=100*precision_score(y_pred, test_labels,average='macro')\n",
    "    recall=100*recall_score(y_pred, test_labels,average='macro')\n",
    "    \n",
    "    return precision,recall,accuracy"
   ]
  },
  {
   "cell_type": "markdown",
   "metadata": {},
   "source": [
    "Test impact of PCA while increasing K clusters in Kmeans"
   ]
  },
  {
   "cell_type": "code",
   "execution_count": 43,
   "metadata": {},
   "outputs": [],
   "source": [
    "def test_pca(k_values):\n",
    "    accuracy_scores = []\n",
    "    predicted_values = []\n",
    "    visual_words_list = []\n",
    "    \n",
    "    for k in k_values:\n",
    "        codebook = MiniBatchKMeans(n_clusters=k, verbose=False, batch_size=k * 20,compute_labels=False,reassignment_ratio=10**-4,random_state=42)\n",
    "        codebook.fit(D)\n",
    "        visual_words=np.zeros((len(Train_descriptors),k),dtype=np.float32)\n",
    "        visual_words_test=np.zeros((len(test_images_filenames),k),dtype=np.float32)\n",
    "\n",
    "\n",
    "        \n",
    "        for i in range(len(Train_descriptors)):\n",
    "            words=codebook.predict(Train_descriptors[i])\n",
    "            visual_words[i,:]=np.bincount(words,minlength=k)\n",
    "            \n",
    "        pca = PCA(svd_solver='full', n_components=0.95)\n",
    "\n",
    "        VWpca = pca.fit_transform(visual_words)\n",
    "        knnpca = KNeighborsClassifier(n_neighbors=5,n_jobs=-1,metric='manhattan')\n",
    "        knnpca.fit(VWpca, train_labels) \n",
    "        \n",
    "        for i in range(len(test_images_filenames)):\n",
    "            filename=test_images_filenames[i]\n",
    "            ima=cv2.imread(filename)\n",
    "            gray=cv2.cvtColor(ima,cv2.COLOR_BGR2GRAY)\n",
    "            kpt,des=SIFTdetector.detectAndCompute(gray,None)\n",
    "            words=codebook.predict(des)\n",
    "            visual_words_test[i,:]=np.bincount(words,minlength=k)\n",
    "\n",
    "        vwtestpca = pca.transform(visual_words_test)\n",
    "        accuracy = 100*knnpca.score(vwtestpca, test_labels)\n",
    "        accuracy_scores.append(accuracy)\n",
    "\n",
    "\n",
    "    return accuracy_scores"
   ]
  },
  {
   "cell_type": "markdown",
   "metadata": {},
   "source": [
    "# Main analysis"
   ]
  },
  {
   "cell_type": "code",
   "execution_count": 34,
   "metadata": {},
   "outputs": [
    {
     "name": "stdout",
     "output_type": "stream",
     "text": [
      "16:33:05\n",
      "16:33:05 started doing knn=1\n"
     ]
    },
    {
     "ename": "NameError",
     "evalue": "name 'run_different_knn_LDA' is not defined",
     "output_type": "error",
     "traceback": [
      "\u001b[1;31m---------------------------------------------------------------------------\u001b[0m",
      "\u001b[1;31mNameError\u001b[0m                                 Traceback (most recent call last)",
      "\u001b[1;32m<ipython-input-34-1f00a3d86622>\u001b[0m in \u001b[0;36m<module>\u001b[1;34m\u001b[0m\n\u001b[0;32m     11\u001b[0m     \u001b[0mprint\u001b[0m\u001b[1;33m(\u001b[0m\u001b[1;34mf\"{dt_string} started doing knn={item}\"\u001b[0m\u001b[1;33m)\u001b[0m\u001b[1;33m\u001b[0m\u001b[1;33m\u001b[0m\u001b[0m\n\u001b[0;32m     12\u001b[0m     \u001b[1;32mfor\u001b[0m \u001b[0mm\u001b[0m \u001b[1;32min\u001b[0m \u001b[0mmetric\u001b[0m\u001b[1;33m:\u001b[0m\u001b[1;33m\u001b[0m\u001b[1;33m\u001b[0m\u001b[0m\n\u001b[1;32m---> 13\u001b[1;33m         \u001b[0mprecision\u001b[0m\u001b[1;33m,\u001b[0m\u001b[0mrecall\u001b[0m\u001b[1;33m,\u001b[0m\u001b[0maccuracy\u001b[0m\u001b[1;33m=\u001b[0m\u001b[0mrun_different_knn_LDA\u001b[0m\u001b[1;33m(\u001b[0m\u001b[0mitem\u001b[0m\u001b[1;33m,\u001b[0m\u001b[0mm\u001b[0m\u001b[1;33m)\u001b[0m\u001b[1;33m\u001b[0m\u001b[1;33m\u001b[0m\u001b[0m\n\u001b[0m\u001b[0;32m     14\u001b[0m         \u001b[0mdata_confusion\u001b[0m\u001b[1;33m.\u001b[0m\u001b[0mappend\u001b[0m\u001b[1;33m(\u001b[0m\u001b[1;33m[\u001b[0m\u001b[0mitem\u001b[0m\u001b[1;33m,\u001b[0m\u001b[0mprecision\u001b[0m\u001b[1;33m,\u001b[0m\u001b[0mrecall\u001b[0m\u001b[1;33m,\u001b[0m \u001b[0maccuracy\u001b[0m\u001b[1;33m,\u001b[0m\u001b[0mm\u001b[0m\u001b[1;33m,\u001b[0m\u001b[1;36m5\u001b[0m\u001b[1;33m,\u001b[0m\u001b[1;36m0\u001b[0m\u001b[1;33m,\u001b[0m\u001b[1;36m1\u001b[0m\u001b[1;33m]\u001b[0m\u001b[1;33m)\u001b[0m\u001b[1;33m\u001b[0m\u001b[1;33m\u001b[0m\u001b[0m\n\u001b[0;32m     15\u001b[0m \u001b[0mtoday\u001b[0m \u001b[1;33m=\u001b[0m \u001b[0mdatetime\u001b[0m\u001b[1;33m.\u001b[0m\u001b[0mnow\u001b[0m\u001b[1;33m(\u001b[0m\u001b[1;33m)\u001b[0m\u001b[1;33m\u001b[0m\u001b[1;33m\u001b[0m\u001b[0m\n",
      "\u001b[1;31mNameError\u001b[0m: name 'run_different_knn_LDA' is not defined"
     ]
    }
   ],
   "source": [
    "data_confusion=[]\n",
    "metric=['euclidean','manhattan','chebyshev','minkowski']\n",
    "from datetime import datetime\n",
    "\n",
    "today = datetime.now()\n",
    "dt_string = today.strftime(\"%H:%M:%S\")\n",
    "print(dt_string)\n",
    "for item in range(1,53,2):\n",
    "    today = datetime.now()\n",
    "    dt_string = today.strftime(\"%H:%M:%S\")\n",
    "    print(f\"{dt_string} started doing knn={item}\")\n",
    "    for m in metric:\n",
    "        precision,recall,accuracy=run_different_knn_LDA(item,m)\n",
    "        data_confusion.append([item,precision,recall, accuracy,m,5,0,1])\n",
    "today = datetime.now()\n",
    "dt_string = today.strftime(\"%H:%M:%S\")\n",
    "print(f\"{dt_string} finished\")\n",
    "df=pd.DataFrame(data_confusion, columns=['knn','precision','recall','accuracy','metric','dense','pca','lda'])"
   ]
  },
  {
   "cell_type": "code",
   "execution_count": 27,
   "metadata": {},
   "outputs": [],
   "source": [
    "with open('N300K128KNN1_51PCA0LDA1DENSE5.pkl','wb') as f:\n",
    "     cPickle.dump(df,f)"
   ]
  },
  {
   "cell_type": "code",
   "execution_count": 156,
   "metadata": {},
   "outputs": [],
   "source": [
    "with open('N300K128KNN1_51_ALL_FINAL.pkl','wb') as f:\n",
    "     cPickle.dump(df_all,f)"
   ]
  },
  {
   "cell_type": "code",
   "execution_count": 35,
   "metadata": {},
   "outputs": [],
   "source": [
    "df_all=pd.DataFrame"
   ]
  },
  {
   "cell_type": "code",
   "execution_count": 143,
   "metadata": {},
   "outputs": [],
   "source": [
    "with open('N300K128KNN1_51_ALL_FINAL.pkl','rb') as f:\n",
    "    df_new=cPickle.load(f)"
   ]
  },
  {
   "cell_type": "code",
   "execution_count": 144,
   "metadata": {},
   "outputs": [],
   "source": [
    "df_all=df_all.append(df_new,ignore_index=True)"
   ]
  },
  {
   "cell_type": "code",
   "execution_count": 181,
   "metadata": {},
   "outputs": [
    {
     "data": {
      "text/html": [
       "<div>\n",
       "<style scoped>\n",
       "    .dataframe tbody tr th:only-of-type {\n",
       "        vertical-align: middle;\n",
       "    }\n",
       "\n",
       "    .dataframe tbody tr th {\n",
       "        vertical-align: top;\n",
       "    }\n",
       "\n",
       "    .dataframe thead th {\n",
       "        text-align: right;\n",
       "    }\n",
       "</style>\n",
       "<table border=\"1\" class=\"dataframe\">\n",
       "  <thead>\n",
       "    <tr style=\"text-align: right;\">\n",
       "      <th></th>\n",
       "      <th>knn</th>\n",
       "      <th>precision</th>\n",
       "      <th>recall</th>\n",
       "      <th>accuracy</th>\n",
       "      <th>metric</th>\n",
       "      <th>dense</th>\n",
       "      <th>pca</th>\n",
       "      <th>lda</th>\n",
       "    </tr>\n",
       "  </thead>\n",
       "  <tbody>\n",
       "    <tr>\n",
       "      <th>52</th>\n",
       "      <td>27</td>\n",
       "      <td>56.394453</td>\n",
       "      <td>59.688814</td>\n",
       "      <td>55.762082</td>\n",
       "      <td>euclidean</td>\n",
       "      <td>0</td>\n",
       "      <td>0</td>\n",
       "      <td>0</td>\n",
       "    </tr>\n",
       "    <tr>\n",
       "      <th>53</th>\n",
       "      <td>27</td>\n",
       "      <td>52.089132</td>\n",
       "      <td>55.596043</td>\n",
       "      <td>51.796778</td>\n",
       "      <td>manhattan</td>\n",
       "      <td>0</td>\n",
       "      <td>0</td>\n",
       "      <td>0</td>\n",
       "    </tr>\n",
       "    <tr>\n",
       "      <th>54</th>\n",
       "      <td>27</td>\n",
       "      <td>45.895390</td>\n",
       "      <td>48.700884</td>\n",
       "      <td>45.848823</td>\n",
       "      <td>chebyshev</td>\n",
       "      <td>0</td>\n",
       "      <td>0</td>\n",
       "      <td>0</td>\n",
       "    </tr>\n",
       "    <tr>\n",
       "      <th>55</th>\n",
       "      <td>27</td>\n",
       "      <td>56.394453</td>\n",
       "      <td>59.688814</td>\n",
       "      <td>55.762082</td>\n",
       "      <td>minkowski</td>\n",
       "      <td>0</td>\n",
       "      <td>0</td>\n",
       "      <td>0</td>\n",
       "    </tr>\n",
       "    <tr>\n",
       "      <th>116</th>\n",
       "      <td>27</td>\n",
       "      <td>73.120919</td>\n",
       "      <td>73.346787</td>\n",
       "      <td>72.366791</td>\n",
       "      <td>euclidean</td>\n",
       "      <td>5</td>\n",
       "      <td>0</td>\n",
       "      <td>0</td>\n",
       "    </tr>\n",
       "    <tr>\n",
       "      <th>117</th>\n",
       "      <td>27</td>\n",
       "      <td>78.640697</td>\n",
       "      <td>78.617144</td>\n",
       "      <td>78.314746</td>\n",
       "      <td>manhattan</td>\n",
       "      <td>5</td>\n",
       "      <td>0</td>\n",
       "      <td>0</td>\n",
       "    </tr>\n",
       "    <tr>\n",
       "      <th>118</th>\n",
       "      <td>27</td>\n",
       "      <td>57.315989</td>\n",
       "      <td>59.236533</td>\n",
       "      <td>56.505576</td>\n",
       "      <td>chebyshev</td>\n",
       "      <td>5</td>\n",
       "      <td>0</td>\n",
       "      <td>0</td>\n",
       "    </tr>\n",
       "    <tr>\n",
       "      <th>119</th>\n",
       "      <td>27</td>\n",
       "      <td>73.120919</td>\n",
       "      <td>73.346787</td>\n",
       "      <td>72.366791</td>\n",
       "      <td>minkowski</td>\n",
       "      <td>5</td>\n",
       "      <td>0</td>\n",
       "      <td>0</td>\n",
       "    </tr>\n",
       "    <tr>\n",
       "      <th>180</th>\n",
       "      <td>27</td>\n",
       "      <td>56.394453</td>\n",
       "      <td>59.688814</td>\n",
       "      <td>55.762082</td>\n",
       "      <td>euclidean</td>\n",
       "      <td>0</td>\n",
       "      <td>1</td>\n",
       "      <td>0</td>\n",
       "    </tr>\n",
       "    <tr>\n",
       "      <th>181</th>\n",
       "      <td>27</td>\n",
       "      <td>52.089132</td>\n",
       "      <td>55.596043</td>\n",
       "      <td>51.796778</td>\n",
       "      <td>manhattan</td>\n",
       "      <td>0</td>\n",
       "      <td>1</td>\n",
       "      <td>0</td>\n",
       "    </tr>\n",
       "    <tr>\n",
       "      <th>182</th>\n",
       "      <td>27</td>\n",
       "      <td>45.895390</td>\n",
       "      <td>48.700884</td>\n",
       "      <td>45.848823</td>\n",
       "      <td>chebyshev</td>\n",
       "      <td>0</td>\n",
       "      <td>1</td>\n",
       "      <td>0</td>\n",
       "    </tr>\n",
       "    <tr>\n",
       "      <th>183</th>\n",
       "      <td>27</td>\n",
       "      <td>56.394453</td>\n",
       "      <td>59.688814</td>\n",
       "      <td>55.762082</td>\n",
       "      <td>minkowski</td>\n",
       "      <td>0</td>\n",
       "      <td>1</td>\n",
       "      <td>0</td>\n",
       "    </tr>\n",
       "    <tr>\n",
       "      <th>244</th>\n",
       "      <td>27</td>\n",
       "      <td>62.215056</td>\n",
       "      <td>62.590524</td>\n",
       "      <td>62.081784</td>\n",
       "      <td>euclidean</td>\n",
       "      <td>0</td>\n",
       "      <td>0</td>\n",
       "      <td>1</td>\n",
       "    </tr>\n",
       "    <tr>\n",
       "      <th>245</th>\n",
       "      <td>27</td>\n",
       "      <td>62.634501</td>\n",
       "      <td>62.943858</td>\n",
       "      <td>62.453532</td>\n",
       "      <td>manhattan</td>\n",
       "      <td>0</td>\n",
       "      <td>0</td>\n",
       "      <td>1</td>\n",
       "    </tr>\n",
       "    <tr>\n",
       "      <th>246</th>\n",
       "      <td>27</td>\n",
       "      <td>63.194782</td>\n",
       "      <td>63.515415</td>\n",
       "      <td>63.073110</td>\n",
       "      <td>chebyshev</td>\n",
       "      <td>0</td>\n",
       "      <td>0</td>\n",
       "      <td>1</td>\n",
       "    </tr>\n",
       "    <tr>\n",
       "      <th>247</th>\n",
       "      <td>27</td>\n",
       "      <td>62.215056</td>\n",
       "      <td>62.590524</td>\n",
       "      <td>62.081784</td>\n",
       "      <td>minkowski</td>\n",
       "      <td>0</td>\n",
       "      <td>0</td>\n",
       "      <td>1</td>\n",
       "    </tr>\n",
       "    <tr>\n",
       "      <th>348</th>\n",
       "      <td>27</td>\n",
       "      <td>12.662647</td>\n",
       "      <td>4.450258</td>\n",
       "      <td>14.498141</td>\n",
       "      <td>euclidean</td>\n",
       "      <td>5</td>\n",
       "      <td>0</td>\n",
       "      <td>1</td>\n",
       "    </tr>\n",
       "    <tr>\n",
       "      <th>349</th>\n",
       "      <td>27</td>\n",
       "      <td>12.942377</td>\n",
       "      <td>5.652237</td>\n",
       "      <td>14.622057</td>\n",
       "      <td>manhattan</td>\n",
       "      <td>5</td>\n",
       "      <td>0</td>\n",
       "      <td>1</td>\n",
       "    </tr>\n",
       "    <tr>\n",
       "      <th>350</th>\n",
       "      <td>27</td>\n",
       "      <td>13.878368</td>\n",
       "      <td>7.273609</td>\n",
       "      <td>15.117720</td>\n",
       "      <td>chebyshev</td>\n",
       "      <td>5</td>\n",
       "      <td>0</td>\n",
       "      <td>1</td>\n",
       "    </tr>\n",
       "    <tr>\n",
       "      <th>351</th>\n",
       "      <td>27</td>\n",
       "      <td>12.662647</td>\n",
       "      <td>4.450258</td>\n",
       "      <td>14.498141</td>\n",
       "      <td>minkowski</td>\n",
       "      <td>5</td>\n",
       "      <td>0</td>\n",
       "      <td>1</td>\n",
       "    </tr>\n",
       "  </tbody>\n",
       "</table>\n",
       "</div>"
      ],
      "text/plain": [
       "     knn  precision     recall   accuracy     metric  dense  pca  lda\n",
       "52    27  56.394453  59.688814  55.762082  euclidean      0    0    0\n",
       "53    27  52.089132  55.596043  51.796778  manhattan      0    0    0\n",
       "54    27  45.895390  48.700884  45.848823  chebyshev      0    0    0\n",
       "55    27  56.394453  59.688814  55.762082  minkowski      0    0    0\n",
       "116   27  73.120919  73.346787  72.366791  euclidean      5    0    0\n",
       "117   27  78.640697  78.617144  78.314746  manhattan      5    0    0\n",
       "118   27  57.315989  59.236533  56.505576  chebyshev      5    0    0\n",
       "119   27  73.120919  73.346787  72.366791  minkowski      5    0    0\n",
       "180   27  56.394453  59.688814  55.762082  euclidean      0    1    0\n",
       "181   27  52.089132  55.596043  51.796778  manhattan      0    1    0\n",
       "182   27  45.895390  48.700884  45.848823  chebyshev      0    1    0\n",
       "183   27  56.394453  59.688814  55.762082  minkowski      0    1    0\n",
       "244   27  62.215056  62.590524  62.081784  euclidean      0    0    1\n",
       "245   27  62.634501  62.943858  62.453532  manhattan      0    0    1\n",
       "246   27  63.194782  63.515415  63.073110  chebyshev      0    0    1\n",
       "247   27  62.215056  62.590524  62.081784  minkowski      0    0    1\n",
       "348   27  12.662647   4.450258  14.498141  euclidean      5    0    1\n",
       "349   27  12.942377   5.652237  14.622057  manhattan      5    0    1\n",
       "350   27  13.878368   7.273609  15.117720  chebyshev      5    0    1\n",
       "351   27  12.662647   4.450258  14.498141  minkowski      5    0    1"
      ]
     },
     "execution_count": 181,
     "metadata": {},
     "output_type": "execute_result"
    }
   ],
   "source": [
    "df_all[(df_all.knn==27)]"
   ]
  },
  {
   "cell_type": "code",
   "execution_count": 179,
   "metadata": {},
   "outputs": [
    {
     "data": {
      "text/html": [
       "<div>\n",
       "<style scoped>\n",
       "    .dataframe tbody tr th:only-of-type {\n",
       "        vertical-align: middle;\n",
       "    }\n",
       "\n",
       "    .dataframe tbody tr th {\n",
       "        vertical-align: top;\n",
       "    }\n",
       "\n",
       "    .dataframe thead th {\n",
       "        text-align: right;\n",
       "    }\n",
       "</style>\n",
       "<table border=\"1\" class=\"dataframe\">\n",
       "  <thead>\n",
       "    <tr style=\"text-align: right;\">\n",
       "      <th></th>\n",
       "      <th>knn</th>\n",
       "      <th>precision</th>\n",
       "      <th>recall</th>\n",
       "      <th>accuracy</th>\n",
       "      <th>metric</th>\n",
       "      <th>dense</th>\n",
       "      <th>pca</th>\n",
       "      <th>lda</th>\n",
       "    </tr>\n",
       "  </thead>\n",
       "  <tbody>\n",
       "    <tr>\n",
       "      <th>192</th>\n",
       "      <td>1</td>\n",
       "      <td>52.843323</td>\n",
       "      <td>53.488828</td>\n",
       "      <td>52.664188</td>\n",
       "      <td>euclidean</td>\n",
       "      <td>0</td>\n",
       "      <td>0</td>\n",
       "      <td>1</td>\n",
       "    </tr>\n",
       "    <tr>\n",
       "      <th>193</th>\n",
       "      <td>1</td>\n",
       "      <td>52.089158</td>\n",
       "      <td>52.598718</td>\n",
       "      <td>51.796778</td>\n",
       "      <td>manhattan</td>\n",
       "      <td>0</td>\n",
       "      <td>0</td>\n",
       "      <td>1</td>\n",
       "    </tr>\n",
       "    <tr>\n",
       "      <th>194</th>\n",
       "      <td>1</td>\n",
       "      <td>52.873887</td>\n",
       "      <td>53.878570</td>\n",
       "      <td>52.540273</td>\n",
       "      <td>chebyshev</td>\n",
       "      <td>0</td>\n",
       "      <td>0</td>\n",
       "      <td>1</td>\n",
       "    </tr>\n",
       "    <tr>\n",
       "      <th>195</th>\n",
       "      <td>1</td>\n",
       "      <td>52.843323</td>\n",
       "      <td>53.488828</td>\n",
       "      <td>52.664188</td>\n",
       "      <td>minkowski</td>\n",
       "      <td>0</td>\n",
       "      <td>0</td>\n",
       "      <td>1</td>\n",
       "    </tr>\n",
       "    <tr>\n",
       "      <th>196</th>\n",
       "      <td>3</td>\n",
       "      <td>57.544235</td>\n",
       "      <td>59.269422</td>\n",
       "      <td>57.249071</td>\n",
       "      <td>euclidean</td>\n",
       "      <td>0</td>\n",
       "      <td>0</td>\n",
       "      <td>1</td>\n",
       "    </tr>\n",
       "    <tr>\n",
       "      <th>...</th>\n",
       "      <td>...</td>\n",
       "      <td>...</td>\n",
       "      <td>...</td>\n",
       "      <td>...</td>\n",
       "      <td>...</td>\n",
       "      <td>...</td>\n",
       "      <td>...</td>\n",
       "      <td>...</td>\n",
       "    </tr>\n",
       "    <tr>\n",
       "      <th>291</th>\n",
       "      <td>49</td>\n",
       "      <td>61.891209</td>\n",
       "      <td>62.465827</td>\n",
       "      <td>61.710037</td>\n",
       "      <td>minkowski</td>\n",
       "      <td>0</td>\n",
       "      <td>0</td>\n",
       "      <td>1</td>\n",
       "    </tr>\n",
       "    <tr>\n",
       "      <th>292</th>\n",
       "      <td>51</td>\n",
       "      <td>62.179445</td>\n",
       "      <td>62.727663</td>\n",
       "      <td>61.957869</td>\n",
       "      <td>euclidean</td>\n",
       "      <td>0</td>\n",
       "      <td>0</td>\n",
       "      <td>1</td>\n",
       "    </tr>\n",
       "    <tr>\n",
       "      <th>293</th>\n",
       "      <td>51</td>\n",
       "      <td>62.117227</td>\n",
       "      <td>62.418694</td>\n",
       "      <td>61.833953</td>\n",
       "      <td>manhattan</td>\n",
       "      <td>0</td>\n",
       "      <td>0</td>\n",
       "      <td>1</td>\n",
       "    </tr>\n",
       "    <tr>\n",
       "      <th>294</th>\n",
       "      <td>51</td>\n",
       "      <td>61.554155</td>\n",
       "      <td>62.092528</td>\n",
       "      <td>61.338290</td>\n",
       "      <td>chebyshev</td>\n",
       "      <td>0</td>\n",
       "      <td>0</td>\n",
       "      <td>1</td>\n",
       "    </tr>\n",
       "    <tr>\n",
       "      <th>295</th>\n",
       "      <td>51</td>\n",
       "      <td>62.179445</td>\n",
       "      <td>62.727663</td>\n",
       "      <td>61.957869</td>\n",
       "      <td>minkowski</td>\n",
       "      <td>0</td>\n",
       "      <td>0</td>\n",
       "      <td>1</td>\n",
       "    </tr>\n",
       "  </tbody>\n",
       "</table>\n",
       "<p>104 rows × 8 columns</p>\n",
       "</div>"
      ],
      "text/plain": [
       "     knn  precision     recall   accuracy     metric  dense  pca  lda\n",
       "192    1  52.843323  53.488828  52.664188  euclidean      0    0    1\n",
       "193    1  52.089158  52.598718  51.796778  manhattan      0    0    1\n",
       "194    1  52.873887  53.878570  52.540273  chebyshev      0    0    1\n",
       "195    1  52.843323  53.488828  52.664188  minkowski      0    0    1\n",
       "196    3  57.544235  59.269422  57.249071  euclidean      0    0    1\n",
       "..   ...        ...        ...        ...        ...    ...  ...  ...\n",
       "291   49  61.891209  62.465827  61.710037  minkowski      0    0    1\n",
       "292   51  62.179445  62.727663  61.957869  euclidean      0    0    1\n",
       "293   51  62.117227  62.418694  61.833953  manhattan      0    0    1\n",
       "294   51  61.554155  62.092528  61.338290  chebyshev      0    0    1\n",
       "295   51  62.179445  62.727663  61.957869  minkowski      0    0    1\n",
       "\n",
       "[104 rows x 8 columns]"
      ]
     },
     "execution_count": 179,
     "metadata": {},
     "output_type": "execute_result"
    }
   ],
   "source": [
    "df_all[(df_all.lda==1)&(df_all.dense==0)]"
   ]
  },
  {
   "cell_type": "code",
   "execution_count": 152,
   "metadata": {},
   "outputs": [],
   "source": [
    "df_all.pca=df_all.pca.astype(int)"
   ]
  },
  {
   "cell_type": "code",
   "execution_count": 153,
   "metadata": {},
   "outputs": [],
   "source": [
    "df_new=df_all"
   ]
  },
  {
   "cell_type": "code",
   "execution_count": 58,
   "metadata": {},
   "outputs": [],
   "source": [
    "df_new=df_new.append(df_new_5,ignore_index=True)"
   ]
  },
  {
   "cell_type": "code",
   "execution_count": 12,
   "metadata": {},
   "outputs": [
    {
     "ename": "NameError",
     "evalue": "name 'df' is not defined",
     "output_type": "error",
     "traceback": [
      "\u001b[1;31m---------------------------------------------------------------------------\u001b[0m",
      "\u001b[1;31mNameError\u001b[0m                                 Traceback (most recent call last)",
      "\u001b[1;32m<ipython-input-12-d10b0eb5c2a9>\u001b[0m in \u001b[0;36m<module>\u001b[1;34m\u001b[0m\n\u001b[0;32m      3\u001b[0m \u001b[1;31m# df['recall']=df['recall']/100\u001b[0m\u001b[1;33m\u001b[0m\u001b[1;33m\u001b[0m\u001b[1;33m\u001b[0m\u001b[0m\n\u001b[0;32m      4\u001b[0m \u001b[0mdf_eucl\u001b[0m\u001b[1;33m=\u001b[0m\u001b[0mdf_new\u001b[0m\u001b[1;33m.\u001b[0m\u001b[0mmetric\u001b[0m\u001b[1;33m==\u001b[0m\u001b[1;34m'euclidean'\u001b[0m\u001b[1;33m\u001b[0m\u001b[1;33m\u001b[0m\u001b[0m\n\u001b[1;32m----> 5\u001b[1;33m \u001b[0mdf\u001b[0m\u001b[1;33m[\u001b[0m\u001b[0mdf_eucl\u001b[0m\u001b[1;33m]\u001b[0m\u001b[1;33m.\u001b[0m\u001b[0mplot\u001b[0m\u001b[1;33m.\u001b[0m\u001b[0mscatter\u001b[0m\u001b[1;33m(\u001b[0m\u001b[0mx\u001b[0m\u001b[1;33m=\u001b[0m\u001b[1;34m'precision'\u001b[0m\u001b[1;33m,\u001b[0m\u001b[0my\u001b[0m\u001b[1;33m=\u001b[0m\u001b[1;34m'recall'\u001b[0m\u001b[1;33m,\u001b[0m\u001b[0mxlim\u001b[0m\u001b[1;33m=\u001b[0m\u001b[1;33m(\u001b[0m\u001b[1;36m0\u001b[0m\u001b[1;33m,\u001b[0m\u001b[1;36m100\u001b[0m\u001b[1;33m)\u001b[0m\u001b[1;33m,\u001b[0m\u001b[0mylim\u001b[0m\u001b[1;33m=\u001b[0m\u001b[1;33m(\u001b[0m\u001b[1;36m0\u001b[0m\u001b[1;33m,\u001b[0m\u001b[1;36m100\u001b[0m\u001b[1;33m)\u001b[0m\u001b[1;33m,\u001b[0m\u001b[0mcmap\u001b[0m\u001b[1;33m=\u001b[0m\u001b[1;34m'viridis'\u001b[0m\u001b[1;33m)\u001b[0m\u001b[1;33m\u001b[0m\u001b[1;33m\u001b[0m\u001b[0m\n\u001b[0m",
      "\u001b[1;31mNameError\u001b[0m: name 'df' is not defined"
     ]
    }
   ],
   "source": [
    "# print(df)\n",
    "# df['precision']=df['precision']/100\n",
    "# df['recall']=df['recall']/100\n",
    "df_eucl=df_new.metric=='euclidean'\n",
    "df[df_eucl].plot.scatter(x='precision',y='recall',xlim=(0,100),ylim=(0,100),cmap='viridis')"
   ]
  },
  {
   "cell_type": "code",
   "execution_count": 159,
   "metadata": {},
   "outputs": [
    {
     "name": "stdout",
     "output_type": "stream",
     "text": [
      "max\n",
      "      knn  precision     recall   accuracy     metric  dense  pca  lda\n",
      "409   37  78.551703  78.369286  78.066914  manhattan     20    0    0\n"
     ]
    },
    {
     "data": {
      "text/plain": [
       "<matplotlib.legend.Legend at 0x229cf30da00>"
      ]
     },
     "execution_count": 159,
     "metadata": {},
     "output_type": "execute_result"
    },
    {
     "data": {
      "image/png": "[encoded data removed]",
      "text/plain": [
       "<Figure size 720x576 with 1 Axes>"
      ]
     },
     "metadata": {
      "needs_background": "light"
     },
     "output_type": "display_data"
    }
   ],
   "source": [
    "fig, ax = plt.subplots(figsize=(10,8))\n",
    "ax.set(title='Precision-Recall curve', xlim=(0,100), ylim=(0,100))\n",
    "\n",
    "df2=df_new[df_new.dense==20]\n",
    "# print(df2)\n",
    "print(\"max\\n\",df2[df2.precision==df2.precision.max()])\n",
    "# print(df2[df2.recall==df2.recall.max()])\n",
    "scatter=ax.scatter(df2.recall, df2.precision, c=df2.knn,\n",
    "           label=df2.knn,\n",
    "           marker='o', alpha=.5,\n",
    "           cmap='viridis')\n",
    "legend1 = ax.legend(*scatter.legend_elements(),\n",
    "                    loc=\"lower left\", title=\"Classes\")\n",
    "ax.add_artist(legend1)"
   ]
  },
  {
   "cell_type": "markdown",
   "metadata": {},
   "source": [
    "PLOT by metric"
   ]
  },
  {
   "cell_type": "code",
   "execution_count": 175,
   "metadata": {},
   "outputs": [
    {
     "name": "stdout",
     "output_type": "stream",
     "text": [
      "max\n",
      "      knn  precision     recall   accuracy     metric  dense  pca  lda\n",
      "117   27  78.640697  78.617144  78.314746  manhattan      5    0    0\n",
      "     knn  precision     recall   accuracy     metric  dense  pca  lda\n",
      "117   27  78.640697  78.617144  78.314746  manhattan      5    0    0\n"
     ]
    },
    {
     "data": {
      "text/plain": [
       "<matplotlib.legend.Legend at 0x229f1334fd0>"
      ]
     },
     "execution_count": 175,
     "metadata": {},
     "output_type": "execute_result"
    },
    {
     "data": {
      "image/png": "[encoded data removed]",
      "text/plain": [
       "<Figure size 720x576 with 1 Axes>"
      ]
     },
     "metadata": {
      "needs_background": "light"
     },
     "output_type": "display_data"
    }
   ],
   "source": [
    "fig, ax = plt.subplots(figsize=(10,8))\n",
    "ax.set(title='Results by metric',ylim=(0,100))\n",
    "\n",
    "df2=df_new\n",
    "# print(df2)\n",
    "print(\"max\\n\",df2[df2.precision==df2.precision.max()])\n",
    "print(df2[df2.recall==df2.recall.max()])\n",
    "scatter=ax.scatter(df2.metric, df2.precision, c=df2.knn,\n",
    "           label=df2.knn,\n",
    "           marker='o', alpha=.5,\n",
    "           cmap='viridis')\n",
    "legend1 = ax.legend(*scatter.legend_elements(),\n",
    "                    loc=\"lower left\", title=\"Classes\")\n",
    "ax.add_artist(legend1)"
   ]
  },
  {
   "cell_type": "markdown",
   "metadata": {},
   "source": [
    "### Graph showing metrics with knn values from 0-51 and dense 0 and 5 and lda = 0 and pca = 0"
   ]
  },
  {
   "cell_type": "code",
   "execution_count": 169,
   "metadata": {},
   "outputs": [],
   "source": [
    "df2_man_d0=df_new[(df_new.metric=='manhattan')&(df_new.dense==0)&(df_new.lda==0)&(df_new.pca==0)]\n",
    "df2_euc_d0=df_new[(df_new.metric=='euclidean')&(df_new.dense==0)&(df_new.lda==0)&(df_new.pca==0)]\n",
    "df2_che_d0=df_new[(df_new.metric=='chebyshev')&(df_new.dense==0)&(df_new.lda==0)&(df_new.pca==0)]\n",
    "df2_man_d5=df_new[(df_new.metric=='manhattan')&(df_new.dense==5)&(df_new.lda==0)&(df_new.pca==0)]\n",
    "df2_euc_d5=df_new[(df_new.metric=='euclidean')&(df_new.dense==5)&(df_new.lda==0)&(df_new.pca==0)]\n",
    "df2_che_d5=df_new[(df_new.metric=='chebyshev')&(df_new.dense==5)&(df_new.lda==0)&(df_new.pca==0)]"
   ]
  },
  {
   "cell_type": "code",
   "execution_count": 32,
   "metadata": {},
   "outputs": [],
   "source": [
    "df_new.dense=df_new.dense.astype(int)"
   ]
  },
  {
   "cell_type": "code",
   "execution_count": 170,
   "metadata": {},
   "outputs": [
    {
     "name": "stdout",
     "output_type": "stream",
     "text": [
      "max\n",
      "      knn  precision     recall   accuracy     metric  dense  pca  lda\n",
      "117   27  78.640697  78.617144  78.314746  manhattan      5    0    0\n"
     ]
    },
    {
     "data": {
      "image/png": "[encoded data removed]",
      "text/plain": [
       "<Figure size 720x576 with 1 Axes>"
      ]
     },
     "metadata": {
      "needs_background": "light"
     },
     "output_type": "display_data"
    }
   ],
   "source": [
    "fig, ax = plt.subplots(figsize=(10,8))\n",
    "ax.set(title='Accuracy vs knn', xlim=(0,100), ylim=(0,100))\n",
    "\n",
    "print(\"max\\n\",df2[df2.precision==df2.precision.max()])\n",
    "# print(df2[df2.recall==df2.recall.max()])\n",
    "ax.plot(df2_man_d0.knn, df2_man_d0.accuracy, color='b', label='manhattan 0')\n",
    "ax.plot(df2_euc_d0.knn, df2_euc_d0.accuracy, color='r', label='euclidean 0')\n",
    "ax.plot(df2_che_d0.knn, df2_che_d0.accuracy, color='g', label='chebyshev 0')\n",
    "ax.plot(df2_man_d5.knn, df2_man_d5.accuracy, color='gray', label='manhattan 5')\n",
    "ax.plot(df2_euc_d5.knn, df2_euc_d5.accuracy, color='orange', label='euclidean 5')\n",
    "ax.plot(df2_che_d5.knn, df2_che_d5.accuracy, color='purple', label='chebyshev 5')\n",
    "ax.legend()\n",
    "\n",
    "max_val = max(df_new.accuracy)\n",
    "max_idx = df_new.knn[df_new.accuracy.idxmax()]\n",
    "# ax.annotate(\"Max {:.2f}\".format(max_val), xy=(max_idx, max_val),\n",
    "#            weight='bold', size=14)\n",
    "\n",
    "# arrowprops is a mpl.patches.FancyArrowPatch\n",
    "_ = ax.annotate(\"Max {:.2f}\".format(max_val), xy=(max_idx, max_val),\n",
    "                weight='bold', size=14, \n",
    "                xytext=(.5, .9),\n",
    "                textcoords='axes fraction',\n",
    "                family='comic sans ms',\n",
    "                arrowprops={})"
   ]
  },
  {
   "cell_type": "markdown",
   "metadata": {},
   "source": [
    "### Showing that PCA does not impact KNN algorithm where LDA improves it by 10% for not dense SIFT"
   ]
  },
  {
   "cell_type": "code",
   "execution_count": 174,
   "metadata": {},
   "outputs": [
    {
     "data": {
      "text/html": [
       "<div>\n",
       "<style scoped>\n",
       "    .dataframe tbody tr th:only-of-type {\n",
       "        vertical-align: middle;\n",
       "    }\n",
       "\n",
       "    .dataframe tbody tr th {\n",
       "        vertical-align: top;\n",
       "    }\n",
       "\n",
       "    .dataframe thead th {\n",
       "        text-align: right;\n",
       "    }\n",
       "</style>\n",
       "<table border=\"1\" class=\"dataframe\">\n",
       "  <thead>\n",
       "    <tr style=\"text-align: right;\">\n",
       "      <th></th>\n",
       "      <th>knn</th>\n",
       "      <th>precision</th>\n",
       "      <th>recall</th>\n",
       "      <th>accuracy</th>\n",
       "      <th>metric</th>\n",
       "      <th>dense</th>\n",
       "      <th>pca</th>\n",
       "      <th>lda</th>\n",
       "    </tr>\n",
       "  </thead>\n",
       "  <tbody>\n",
       "    <tr>\n",
       "      <th>53</th>\n",
       "      <td>27</td>\n",
       "      <td>52.089132</td>\n",
       "      <td>55.596043</td>\n",
       "      <td>51.796778</td>\n",
       "      <td>manhattan</td>\n",
       "      <td>0</td>\n",
       "      <td>0</td>\n",
       "      <td>0</td>\n",
       "    </tr>\n",
       "    <tr>\n",
       "      <th>181</th>\n",
       "      <td>27</td>\n",
       "      <td>52.089132</td>\n",
       "      <td>55.596043</td>\n",
       "      <td>51.796778</td>\n",
       "      <td>manhattan</td>\n",
       "      <td>0</td>\n",
       "      <td>1</td>\n",
       "      <td>0</td>\n",
       "    </tr>\n",
       "    <tr>\n",
       "      <th>245</th>\n",
       "      <td>27</td>\n",
       "      <td>62.634501</td>\n",
       "      <td>62.943858</td>\n",
       "      <td>62.453532</td>\n",
       "      <td>manhattan</td>\n",
       "      <td>0</td>\n",
       "      <td>0</td>\n",
       "      <td>1</td>\n",
       "    </tr>\n",
       "  </tbody>\n",
       "</table>\n",
       "</div>"
      ],
      "text/plain": [
       "     knn  precision     recall   accuracy     metric  dense  pca  lda\n",
       "53    27  52.089132  55.596043  51.796778  manhattan      0    0    0\n",
       "181   27  52.089132  55.596043  51.796778  manhattan      0    1    0\n",
       "245   27  62.634501  62.943858  62.453532  manhattan      0    0    1"
      ]
     },
     "execution_count": 174,
     "metadata": {},
     "output_type": "execute_result"
    }
   ],
   "source": [
    "df_new[(df_new.knn==27)&(df_new.dense==0)&(df_new.metric=='manhattan')]"
   ]
  },
  {
   "cell_type": "markdown",
   "metadata": {},
   "source": [
    "### Choosing K number of clusters Kmeans"
   ]
  },
  {
   "cell_type": "code",
   "execution_count": 18,
   "metadata": {
    "scrolled": false
   },
   "outputs": [
    {
     "name": "stderr",
     "output_type": "stream",
     "text": [
      "/usr/local/lib/python3.9/site-packages/sklearn/metrics/_classification.py:1221: UndefinedMetricWarning: Recall is ill-defined and being set to 0.0 in labels with no true samples. Use `zero_division` parameter to control this behavior.\n",
      "  _warn_prf(average, modifier, msg_start, len(result))\n"
     ]
    }
   ],
   "source": [
    "k = [i for i in range(1,256,10)]\n",
    "accuracy_kmeans, precision_kmeans, recall_kmeans = test_kmeans_kvalues(k)"
   ]
  },
  {
   "cell_type": "code",
   "execution_count": 25,
   "metadata": {
    "scrolled": true
   },
   "outputs": [
    {
     "name": "stdout",
     "output_type": "stream",
     "text": [
      "Maximum accuracy: 55.63816604708798 at K = 181\n"
     ]
    },
    {
     "data": {
      "image/png": "[encoded data removed]",
      "text/plain": [
       "<Figure size 720x432 with 1 Axes>"
      ]
     },
     "metadata": {
      "needs_background": "light"
     },
     "output_type": "display_data"
    }
   ],
   "source": [
    "df=pd.DataFrame(accuracy_kmeans, columns=['accuracy'])\n",
    "with open('accuracy_kmeans.pkl','wb') as f:\n",
    "     cPickle.dump(df,f)\n",
    "\n",
    "plt.figure(figsize=(10,6))\n",
    "plt.plot(k,accuracy_kmeans,color = 'blue',markerfacecolor='red', markersize=10)\n",
    "\n",
    "plt.title('Acuracy vs. K clusters')\n",
    "plt.xlabel('K')\n",
    "plt.ylabel('Accuracy')\n",
    "plt.savefig('accuracy_3.jpg')\n",
    "print(\"Maximum accuracy:\",max(accuracy_kmeans),\"at K =\",accuracy_kmeans.index(max(accuracy_kmeans))*10+1)"
   ]
  },
  {
   "cell_type": "markdown",
   "metadata": {},
   "source": [
    "### Analysing PCA with different K clusters"
   ]
  },
  {
   "cell_type": "code",
   "execution_count": 41,
   "metadata": {
    "scrolled": true
   },
   "outputs": [
    {
     "data": {
      "image/png": "[encoded data removed]",
      "text/plain": [
       "<Figure size 432x288 with 1 Axes>"
      ]
     },
     "metadata": {
      "needs_background": "light"
     },
     "output_type": "display_data"
    }
   ],
   "source": [
    "pca_object = PCA()\n",
    "pca_object.fit_transform(visual_words)\n",
    "cumulative_explained_variance = np.cumsum(pca_object.explained_variance_ratio_)\n",
    "\n",
    "variance_percentage = 0.95\n",
    "n_components = (np.abs(cumulative_explained_variance - variance_percentage)).argmin()\n",
    "\n",
    "\n",
    "plt.plot(np.cumsum(pca_object.explained_variance_ratio_))\n",
    "plt.xlabel('number of components')\n",
    "plt.ylabel('cumulative explained variance')\n",
    "plt.title('n_components='+str(n_components)+' hold '+str(variance_percentage*100)+'% of cumulative variance')\n",
    "\n",
    "df=pd.DataFrame([n_components, np.cumsum(pca_object.explained_variance_ratio_)], columns=['n_components, variance_percentage'])\n",
    "with open('n_components.pkl','wb') as f:\n",
    "     cPickle.dump(df,f)"
   ]
  },
  {
   "cell_type": "code",
   "execution_count": 44,
   "metadata": {},
   "outputs": [],
   "source": [
    "k_pca = [i for i in range(1,256,10)]\n",
    "accuracy_scores_pca = test_pca(k_pca)"
   ]
  },
  {
   "cell_type": "code",
   "execution_count": 53,
   "metadata": {},
   "outputs": [],
   "source": [
    "df=pd.DataFrame(accuracy_scores_pca, columns=['accuracy'])\n",
    "with open('pca_accuracy.pkl','wb') as f:\n",
    "     cPickle.dump(df,f)"
   ]
  },
  {
   "cell_type": "code",
   "execution_count": 19,
   "metadata": {},
   "outputs": [],
   "source": [
    "n_features_broad_test=[10,20,100,500,600]\n",
    "scores_n_features_broad_test = test_SIFT_n_features(n_features_broad_test)"
   ]
  },
  {
   "cell_type": "code",
   "execution_count": 20,
   "metadata": {},
   "outputs": [],
   "source": [
    "n_features=[i for i in range(1,300,10)]\n",
    "scores_n_features= test_SIFT_n_features(n_features)"
   ]
  },
  {
   "cell_type": "code",
   "execution_count": 33,
   "metadata": {},
   "outputs": [],
   "source": [
    "n_features_large=[i for i in range(300,701,50)]\n",
    "scores_n_features_large_numbers= test_SIFT_n_features(n_features_large)"
   ]
  },
  {
   "cell_type": "code",
   "execution_count": 62,
   "metadata": {
    "scrolled": true
   },
   "outputs": [
    {
     "data": {
      "text/html": [
       "<div>\n",
       "<style scoped>\n",
       "    .dataframe tbody tr th:only-of-type {\n",
       "        vertical-align: middle;\n",
       "    }\n",
       "\n",
       "    .dataframe tbody tr th {\n",
       "        vertical-align: top;\n",
       "    }\n",
       "\n",
       "    .dataframe thead th {\n",
       "        text-align: right;\n",
       "    }\n",
       "</style>\n",
       "<table border=\"1\" class=\"dataframe\">\n",
       "  <thead>\n",
       "    <tr style=\"text-align: right;\">\n",
       "      <th></th>\n",
       "      <th>n_features</th>\n",
       "      <th>accuracy</th>\n",
       "      <th>dense</th>\n",
       "    </tr>\n",
       "  </thead>\n",
       "  <tbody>\n",
       "    <tr>\n",
       "      <th>0</th>\n",
       "      <td>1</td>\n",
       "      <td>18.0</td>\n",
       "      <td>0</td>\n",
       "    </tr>\n",
       "    <tr>\n",
       "      <th>1</th>\n",
       "      <td>11</td>\n",
       "      <td>27.0</td>\n",
       "      <td>0</td>\n",
       "    </tr>\n",
       "    <tr>\n",
       "      <th>2</th>\n",
       "      <td>21</td>\n",
       "      <td>33.0</td>\n",
       "      <td>0</td>\n",
       "    </tr>\n",
       "    <tr>\n",
       "      <th>3</th>\n",
       "      <td>31</td>\n",
       "      <td>33.0</td>\n",
       "      <td>0</td>\n",
       "    </tr>\n",
       "    <tr>\n",
       "      <th>4</th>\n",
       "      <td>41</td>\n",
       "      <td>34.0</td>\n",
       "      <td>0</td>\n",
       "    </tr>\n",
       "    <tr>\n",
       "      <th>5</th>\n",
       "      <td>51</td>\n",
       "      <td>36.0</td>\n",
       "      <td>0</td>\n",
       "    </tr>\n",
       "    <tr>\n",
       "      <th>6</th>\n",
       "      <td>61</td>\n",
       "      <td>35.0</td>\n",
       "      <td>0</td>\n",
       "    </tr>\n",
       "    <tr>\n",
       "      <th>7</th>\n",
       "      <td>71</td>\n",
       "      <td>31.0</td>\n",
       "      <td>0</td>\n",
       "    </tr>\n",
       "    <tr>\n",
       "      <th>8</th>\n",
       "      <td>81</td>\n",
       "      <td>32.0</td>\n",
       "      <td>0</td>\n",
       "    </tr>\n",
       "    <tr>\n",
       "      <th>9</th>\n",
       "      <td>91</td>\n",
       "      <td>32.0</td>\n",
       "      <td>0</td>\n",
       "    </tr>\n",
       "    <tr>\n",
       "      <th>10</th>\n",
       "      <td>101</td>\n",
       "      <td>32.0</td>\n",
       "      <td>0</td>\n",
       "    </tr>\n",
       "    <tr>\n",
       "      <th>11</th>\n",
       "      <td>111</td>\n",
       "      <td>30.0</td>\n",
       "      <td>0</td>\n",
       "    </tr>\n",
       "    <tr>\n",
       "      <th>12</th>\n",
       "      <td>121</td>\n",
       "      <td>31.0</td>\n",
       "      <td>0</td>\n",
       "    </tr>\n",
       "    <tr>\n",
       "      <th>13</th>\n",
       "      <td>131</td>\n",
       "      <td>33.0</td>\n",
       "      <td>0</td>\n",
       "    </tr>\n",
       "    <tr>\n",
       "      <th>14</th>\n",
       "      <td>141</td>\n",
       "      <td>32.0</td>\n",
       "      <td>0</td>\n",
       "    </tr>\n",
       "    <tr>\n",
       "      <th>15</th>\n",
       "      <td>151</td>\n",
       "      <td>33.0</td>\n",
       "      <td>0</td>\n",
       "    </tr>\n",
       "    <tr>\n",
       "      <th>16</th>\n",
       "      <td>161</td>\n",
       "      <td>35.0</td>\n",
       "      <td>0</td>\n",
       "    </tr>\n",
       "    <tr>\n",
       "      <th>17</th>\n",
       "      <td>171</td>\n",
       "      <td>36.0</td>\n",
       "      <td>0</td>\n",
       "    </tr>\n",
       "    <tr>\n",
       "      <th>18</th>\n",
       "      <td>181</td>\n",
       "      <td>38.0</td>\n",
       "      <td>0</td>\n",
       "    </tr>\n",
       "    <tr>\n",
       "      <th>19</th>\n",
       "      <td>191</td>\n",
       "      <td>39.0</td>\n",
       "      <td>0</td>\n",
       "    </tr>\n",
       "    <tr>\n",
       "      <th>20</th>\n",
       "      <td>201</td>\n",
       "      <td>39.0</td>\n",
       "      <td>0</td>\n",
       "    </tr>\n",
       "    <tr>\n",
       "      <th>21</th>\n",
       "      <td>211</td>\n",
       "      <td>41.0</td>\n",
       "      <td>0</td>\n",
       "    </tr>\n",
       "    <tr>\n",
       "      <th>22</th>\n",
       "      <td>221</td>\n",
       "      <td>40.0</td>\n",
       "      <td>0</td>\n",
       "    </tr>\n",
       "    <tr>\n",
       "      <th>23</th>\n",
       "      <td>231</td>\n",
       "      <td>42.0</td>\n",
       "      <td>0</td>\n",
       "    </tr>\n",
       "    <tr>\n",
       "      <th>24</th>\n",
       "      <td>241</td>\n",
       "      <td>42.0</td>\n",
       "      <td>0</td>\n",
       "    </tr>\n",
       "    <tr>\n",
       "      <th>25</th>\n",
       "      <td>251</td>\n",
       "      <td>46.0</td>\n",
       "      <td>0</td>\n",
       "    </tr>\n",
       "    <tr>\n",
       "      <th>26</th>\n",
       "      <td>261</td>\n",
       "      <td>47.0</td>\n",
       "      <td>0</td>\n",
       "    </tr>\n",
       "    <tr>\n",
       "      <th>27</th>\n",
       "      <td>271</td>\n",
       "      <td>45.0</td>\n",
       "      <td>0</td>\n",
       "    </tr>\n",
       "    <tr>\n",
       "      <th>28</th>\n",
       "      <td>281</td>\n",
       "      <td>44.0</td>\n",
       "      <td>0</td>\n",
       "    </tr>\n",
       "    <tr>\n",
       "      <th>29</th>\n",
       "      <td>291</td>\n",
       "      <td>46.0</td>\n",
       "      <td>0</td>\n",
       "    </tr>\n",
       "    <tr>\n",
       "      <th>30</th>\n",
       "      <td>300</td>\n",
       "      <td>46.0</td>\n",
       "      <td>0</td>\n",
       "    </tr>\n",
       "    <tr>\n",
       "      <th>31</th>\n",
       "      <td>350</td>\n",
       "      <td>49.0</td>\n",
       "      <td>0</td>\n",
       "    </tr>\n",
       "    <tr>\n",
       "      <th>32</th>\n",
       "      <td>400</td>\n",
       "      <td>50.0</td>\n",
       "      <td>0</td>\n",
       "    </tr>\n",
       "    <tr>\n",
       "      <th>33</th>\n",
       "      <td>450</td>\n",
       "      <td>52.0</td>\n",
       "      <td>0</td>\n",
       "    </tr>\n",
       "    <tr>\n",
       "      <th>34</th>\n",
       "      <td>500</td>\n",
       "      <td>51.0</td>\n",
       "      <td>0</td>\n",
       "    </tr>\n",
       "    <tr>\n",
       "      <th>35</th>\n",
       "      <td>550</td>\n",
       "      <td>51.0</td>\n",
       "      <td>0</td>\n",
       "    </tr>\n",
       "    <tr>\n",
       "      <th>36</th>\n",
       "      <td>600</td>\n",
       "      <td>50.0</td>\n",
       "      <td>0</td>\n",
       "    </tr>\n",
       "    <tr>\n",
       "      <th>37</th>\n",
       "      <td>650</td>\n",
       "      <td>50.0</td>\n",
       "      <td>0</td>\n",
       "    </tr>\n",
       "    <tr>\n",
       "      <th>38</th>\n",
       "      <td>700</td>\n",
       "      <td>52.0</td>\n",
       "      <td>0</td>\n",
       "    </tr>\n",
       "  </tbody>\n",
       "</table>\n",
       "</div>"
      ],
      "text/plain": [
       "   n_features accuracy dense\n",
       "0           1     18.0     0\n",
       "1          11     27.0     0\n",
       "2          21     33.0     0\n",
       "3          31     33.0     0\n",
       "4          41     34.0     0\n",
       "5          51     36.0     0\n",
       "6          61     35.0     0\n",
       "7          71     31.0     0\n",
       "8          81     32.0     0\n",
       "9          91     32.0     0\n",
       "10        101     32.0     0\n",
       "11        111     30.0     0\n",
       "12        121     31.0     0\n",
       "13        131     33.0     0\n",
       "14        141     32.0     0\n",
       "15        151     33.0     0\n",
       "16        161     35.0     0\n",
       "17        171     36.0     0\n",
       "18        181     38.0     0\n",
       "19        191     39.0     0\n",
       "20        201     39.0     0\n",
       "21        211     41.0     0\n",
       "22        221     40.0     0\n",
       "23        231     42.0     0\n",
       "24        241     42.0     0\n",
       "25        251     46.0     0\n",
       "26        261     47.0     0\n",
       "27        271     45.0     0\n",
       "28        281     44.0     0\n",
       "29        291     46.0     0\n",
       "30        300     46.0     0\n",
       "31        350     49.0     0\n",
       "32        400     50.0     0\n",
       "33        450     52.0     0\n",
       "34        500     51.0     0\n",
       "35        550     51.0     0\n",
       "36        600     50.0     0\n",
       "37        650     50.0     0\n",
       "38        700     52.0     0"
      ]
     },
     "execution_count": 62,
     "metadata": {},
     "output_type": "execute_result"
    }
   ],
   "source": [
    "df_n_features = pd.DataFrame(columns=['n_features', 'accuracy','dense'])\n",
    "for idx,scores in enumerate(scores_n_features):\n",
    "    df_n_features.loc[idx] = [str(n_features[idx]) , str(round(scores.mean(),2)*100),str(0)]\n",
    "\n",
    "for idx,scores in enumerate(scores_n_features_large_numbers):\n",
    "    df_n_features.loc[df_n_features.index.max() + 1] = [str(n_features_large[idx]) , str(round(scores.mean(),2)*100),str(0)]\n",
    "\n",
    "with open('n_features_accuracy.pkl','wb') as f:\n",
    "     cPickle.dump(df_n_features,f)\n",
    "\n",
    "with open('n_features_accuracy.pkl','rb') as f:\n",
    "    df=cPickle.load(f)\n",
    "df"
   ]
  },
  {
   "cell_type": "code",
   "execution_count": null,
   "metadata": {},
   "outputs": [],
   "source": [
    "n_features_dense=[5,10,100,300,500]\n",
    "scores_n_features_dense= test_SIFT_n_features(n_features_dense, dense=True)"
   ]
  },
  {
   "cell_type": "code",
   "execution_count": 66,
   "metadata": {},
   "outputs": [],
   "source": [
    "df = pd.DataFrame(columns=['n_features', 'accuracy','dense'])\n",
    "\n",
    "for idx,scores in enumerate(scores_n_features_dense):\n",
    "    df.loc[idx] = [str(n_features_dense[idx]) , str(round(scores.mean(),2)*100),str(1)]\n",
    "\n",
    "with open('n_features_accuracy_dense.pkl','wb') as f:\n",
    "    cPickle.dump(df,f)"
   ]
  },
  {
   "cell_type": "markdown",
   "metadata": {},
   "source": [
    "## Conclusion\n",
    "As we can see above for not dense SIFT marked with 0 at the end of the metric label we receive values between 40% to almost 60%\n",
    "the best results are shown in this case for euclidean distance\n",
    "\n",
    "For the Dense 5 we can see great improvemenet of almost 20% and the best accuracy reaches 78% using manhattan distance.\n",
    "\n",
    "Chebyshev metric yelds worst results at all combination.\n",
    "\n",
    "We can see that increasing knn is not changing a lot the final accuracy and in some cases it also drops with higher numbers. For SIFT dense with step of 5 pixels best accuracy is shown for knn=27\n",
    "\n",
    "Last tabels shows no impact of PCA to the results when parameters of knn is changed, which seems obvious considering the fact that knn change impacts only final fitting and matching the labels with visual words and it does not depend on dimensionality. We would need to change other parameters like number of features or k-means to see impact of PCA.\n",
    "\n",
    "In addition there is no diference in results when density is changed from 5 to 20."
   ]
  },
  {
   "cell_type": "code",
   "execution_count": null,
   "metadata": {},
   "outputs": [],
   "source": []
  }
 ],
 "metadata": {
  "kernelspec": {
   "display_name": "Python 3",
   "language": "python",
   "name": "python3"
  },
  "language_info": {
   "codemirror_mode": {
    "name": "ipython",
    "version": 3
   },
   "file_extension": ".py",
   "mimetype": "text/x-python",
   "name": "python",
   "nbconvert_exporter": "python",
   "pygments_lexer": "ipython3",
   "version": "3.9.0"
  }
 },
 "nbformat": 4,
 "nbformat_minor": 4
}
