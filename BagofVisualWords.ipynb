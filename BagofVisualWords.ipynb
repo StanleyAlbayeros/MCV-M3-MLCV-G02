{
 "cells": [
  {
   "cell_type": "code",
   "execution_count": 19,
   "metadata": {},
   "outputs": [],
   "source": [
    "import cv2\n",
    "import numpy as np\n",
    "import pandas as pd\n",
    "import pickle as cPickle\n",
    "from sklearn.cluster import MiniBatchKMeans\n",
    "from sklearn.neighbors import KNeighborsClassifier\n",
    "from sklearn.decomposition import PCA\n",
    "from sklearn.discriminant_analysis import LinearDiscriminantAnalysis\n",
    "from sklearn.model_selection import cross_val_score\n",
    "from sklearn.metrics import precision_score,confusion_matrix,multilabel_confusion_matrix,recall_score"
   ]
  },
  {
   "cell_type": "code",
   "execution_count": 9,
   "metadata": {},
   "outputs": [
    {
     "data": {
      "text/plain": [
       "'0.23.1'"
      ]
     },
     "execution_count": 9,
     "metadata": {},
     "output_type": "execute_result"
    }
   ],
   "source": [
    "cv2.__version__\n",
    "import sklearn\n",
    "sklearn.__version__"
   ]
  },
  {
   "cell_type": "markdown",
   "metadata": {},
   "source": [
    "Let us first read the train and test files"
   ]
  },
  {
   "cell_type": "code",
   "execution_count": 93,
   "metadata": {},
   "outputs": [],
   "source": [
    "train_images_filenames = cPickle.load(open('train_images_filenames.dat','rb'))\n",
    "test_images_filenames = cPickle.load(open('test_images_filenames.dat','rb'))\n",
    "train_labels = cPickle.load(open('train_labels.dat','rb'))\n",
    "test_labels = cPickle.load(open('test_labels.dat','rb'))"
   ]
  },
  {
   "cell_type": "code",
   "execution_count": 94,
   "metadata": {},
   "outputs": [
    {
     "data": {
      "text/plain": [
       "'../../Databases/MIT_split/train/Opencountry/fie26.jpg'"
      ]
     },
     "execution_count": 94,
     "metadata": {},
     "output_type": "execute_result"
    }
   ],
   "source": [
    "train_images_filenames[12]"
   ]
  },
  {
   "cell_type": "markdown",
   "metadata": {},
   "source": [
    "We create a SIFT object detector and descriptor"
   ]
  },
  {
   "cell_type": "code",
   "execution_count": 95,
   "metadata": {},
   "outputs": [],
   "source": [
    "SIFTdetector = cv2.SIFT_create(nfeatures=300)"
   ]
  },
  {
   "cell_type": "markdown",
   "metadata": {},
   "source": [
    "We compute the SIFT descriptors for all the train images and subsequently build a numpy array with all the descriptors stacked together"
   ]
  },
  {
   "cell_type": "code",
   "execution_count": 206,
   "metadata": {},
   "outputs": [],
   "source": [
    "Train_descriptors = []\n",
    "Train_label_per_descriptor = []\n",
    "\n",
    "for filename,labels in zip(train_images_filenames,train_labels):\n",
    "    ima=cv2.imread(filename)\n",
    "    gray=cv2.cvtColor(ima,cv2.COLOR_BGR2GRAY)\n",
    "#     kpt,des=SIFTdetector.detectAndCompute(gray,None)\n",
    "    des=compute_dense_sift(gray,SIFTdetector)\n",
    "    Train_descriptors.append(des)\n",
    "    Train_label_per_descriptor.append(labels)\n",
    "\n",
    "D=np.vstack(Train_descriptors)"
   ]
  },
  {
   "cell_type": "code",
   "execution_count": 182,
   "metadata": {},
   "outputs": [
    {
     "name": "stdout",
     "output_type": "stream",
     "text": [
      "128\n"
     ]
    },
    {
     "data": {
      "text/plain": [
       "array([  0.,   0.,   0.,   0.,   0.,   0.,   0.,   0.,   0.,   0.,   0.,\n",
       "         0.,   0.,   0.,   0.,   0.,   0.,   0.,   0.,   0.,   0.,   0.,\n",
       "         0.,   0.,   0.,   0.,   0.,   0.,   0.,   0.,   0.,   0.,   3.,\n",
       "         3.,   5.,  25.,   3.,   0.,   0.,   0.,  39.,   6.,   3.,   5.,\n",
       "         0.,   0.,   0.,  14.,   5.,   0.,   0.,   0.,   1.,   1.,   0.,\n",
       "         6.,   0.,   0.,   0.,   0.,   3.,   6.,   4.,   1., 111.,  80.,\n",
       "       161., 153.,   6.,   0.,   0.,  21., 161.,  43.,  23.,  17.,   0.,\n",
       "         0.,   0., 161.,  26.,   0.,   0.,   0.,   2.,   4.,   0.,  28.,\n",
       "         0.,   0.,   0.,   0.,   8.,  29.,  29.,   4., 161.,  98.,  83.,\n",
       "        50.,   0.,   0.,  89., 161., 161.,  57.,   3.,   0.,   0.,   0.,\n",
       "         5., 161.,  12.,   1.,   1.,   0.,   0.,   0.,   0.,   3.,   0.,\n",
       "         0.,   3.,   1.,   0.,   1.,   2.,   0.], dtype=float32)"
      ]
     },
     "execution_count": 182,
     "metadata": {},
     "output_type": "execute_result"
    }
   ],
   "source": [
    "print(len(Train_descriptors[0][1][1]))\n",
    "Train_descriptors[0][1][3]"
   ]
  },
  {
   "cell_type": "markdown",
   "metadata": {},
   "source": [
    "We now compute a k-means clustering on the descriptor space"
   ]
  },
  {
   "cell_type": "code",
   "execution_count": 207,
   "metadata": {},
   "outputs": [
    {
     "data": {
      "text/plain": [
       "MiniBatchKMeans(batch_size=2560, compute_labels=False, n_clusters=128,\n",
       "                random_state=42, reassignment_ratio=0.0001, verbose=False)"
      ]
     },
     "execution_count": 207,
     "metadata": {},
     "output_type": "execute_result"
    }
   ],
   "source": [
    "# k = 128\n",
    "k=128\n",
    "codebook = MiniBatchKMeans(n_clusters=k, verbose=False, batch_size=k * 20,compute_labels=False,reassignment_ratio=10**-4,random_state=42)\n",
    "codebook.fit(D)"
   ]
  },
  {
   "cell_type": "markdown",
   "metadata": {},
   "source": [
    "And, for each train image, we project each keypoint descriptor to its closest visual word. We represent each of the images with the frequency of each visual word."
   ]
  },
  {
   "cell_type": "code",
   "execution_count": 208,
   "metadata": {},
   "outputs": [],
   "source": [
    "visual_words=np.zeros((len(Train_descriptors),k),dtype=np.float32)\n",
    "for i in range(len(Train_descriptors)):\n",
    "    words=codebook.predict(Train_descriptors[i])\n",
    "    visual_words[i,:]=np.bincount(words,minlength=k)"
   ]
  },
  {
   "cell_type": "markdown",
   "metadata": {},
   "source": [
    "We build a k-nn classifier and train it with the train descriptors"
   ]
  },
  {
   "cell_type": "code",
   "execution_count": 209,
   "metadata": {},
   "outputs": [
    {
     "data": {
      "text/plain": [
       "KNeighborsClassifier(n_jobs=-1, n_neighbors=14)"
      ]
     },
     "execution_count": 209,
     "metadata": {},
     "output_type": "execute_result"
    }
   ],
   "source": [
    "knn = KNeighborsClassifier(n_neighbors=14,n_jobs=-1,metric='minkowski')\n",
    "knn.fit(visual_words, train_labels) "
   ]
  },
  {
   "cell_type": "markdown",
   "metadata": {},
   "source": [
    "We end up computing the test descriptors and compute the accuracy of the model"
   ]
  },
  {
   "cell_type": "code",
   "execution_count": 210,
   "metadata": {},
   "outputs": [],
   "source": [
    "visual_words_test=np.zeros((len(test_images_filenames),k),dtype=np.float32)\n",
    "for i in range(len(test_images_filenames)):\n",
    "    filename=test_images_filenames[i]\n",
    "    ima=cv2.imread(filename)\n",
    "    gray=cv2.cvtColor(ima,cv2.COLOR_BGR2GRAY)\n",
    "#     kpt,des=SIFTdetector.detectAndCompute(gray,None)\n",
    "    des=compute_dense_sift(gray,SIFTdetector)\n",
    "    words=codebook.predict(des)\n",
    "    visual_words_test[i,:]=np.bincount(words,minlength=k)"
   ]
  },
  {
   "cell_type": "code",
   "execution_count": 211,
   "metadata": {},
   "outputs": [
    {
     "name": "stdout",
     "output_type": "stream",
     "text": [
      "72.98636926889715\n",
      "[0.7345679  0.74074074 0.72670807 0.70807453 0.60248447]\n",
      "Accuracy: 70.25 (+/- 10.24)\n"
     ]
    }
   ],
   "source": [
    "accuracy = 100*knn.score(visual_words_test, test_labels)\n",
    "print(accuracy)\n",
    "scores = cross_val_score(knn, visual_words_test, test_labels, cv=5)\n",
    "print(scores)\n",
    "print(\"Accuracy: %0.2f (+/- %0.2f)\" % (scores.mean()*100, scores.std() * 200))"
   ]
  },
  {
   "cell_type": "markdown",
   "metadata": {},
   "source": [
    "## My own code"
   ]
  },
  {
   "cell_type": "code",
   "execution_count": 144,
   "metadata": {},
   "outputs": [
    {
     "name": "stdout",
     "output_type": "stream",
     "text": [
      "56.877323420074354\n",
      "57.14529120333209 59.115441921219094\n"
     ]
    }
   ],
   "source": [
    "accuracy = 100*knn.score(visual_words_test, test_labels)\n",
    "print(accuracy)\n",
    "# print(precision)\n",
    "y_pred= knn.predict(visual_words_test)\n",
    "precision=100*precision_score(y_pred, test_labels,average='macro')\n",
    "recall=100*recall_score(y_pred, test_labels,average='macro')\n",
    "print(precision,recall)"
   ]
  },
  {
   "cell_type": "markdown",
   "metadata": {},
   "source": [
    "KNN function to loop"
   ]
  },
  {
   "cell_type": "code",
   "execution_count": 212,
   "metadata": {},
   "outputs": [],
   "source": [
    "def run_different_knn(neigh,metric):\n",
    "    knn = KNeighborsClassifier(n_neighbors=neigh,n_jobs=-1,metric=metric)\n",
    "    knn.fit(visual_words, train_labels)\n",
    "    \n",
    "    visual_words_test=np.zeros((len(test_images_filenames),k),dtype=np.float32)\n",
    "    for i in range(len(test_images_filenames)):\n",
    "        filename=test_images_filenames[i]\n",
    "        ima=cv2.imread(filename)\n",
    "        gray=cv2.cvtColor(ima,cv2.COLOR_BGR2GRAY)\n",
    "        kpt,des=SIFTdetector.detectAndCompute(gray,None)\n",
    "#         des=compute_dense_sift(gray,SIFTdetector)\n",
    "        words=codebook.predict(des)\n",
    "        visual_words_test[i,:]=np.bincount(words,minlength=k)\n",
    "    \n",
    "    accuracy = 100*knn.score(visual_words_test, test_labels)\n",
    "    y_pred= knn.predict(visual_words_test)\n",
    "    precision=100*precision_score(y_pred, test_labels,average='macro')\n",
    "    recall=100*recall_score(y_pred, test_labels,average='macro')\n",
    "    \n",
    "    return precision,recall,accuracy"
   ]
  },
  {
   "cell_type": "markdown",
   "metadata": {},
   "source": [
    "DENSE SIFT"
   ]
  },
  {
   "cell_type": "code",
   "execution_count": 202,
   "metadata": {},
   "outputs": [],
   "source": [
    "# ima=cv2.imread(r'C:\\Users\\adama\\OneDrive/Dokumenty/Master of Computer Vision/M3/Databases/MIT_split/train/forest/art114.jpg')\n",
    "# gray=cv2.cvtColor(ima,cv2.COLOR_BGR2GRAY)\n",
    "\n",
    "def compute_dense_sift(gray,sift):\n",
    "    step_size = 20\n",
    "    kp = [cv2.KeyPoint(x, y, step_size) for y in range(0, gray.shape[0], step_size) \n",
    "                                        for x in range(0, gray.shape[1], step_size)]\n",
    "    dense_feat = sift.compute(gray, kp)\n",
    "    dense_feat_des = dense_feat[1]\n",
    "    return dense_feat_des"
   ]
  },
  {
   "cell_type": "code",
   "execution_count": 205,
   "metadata": {},
   "outputs": [
    {
     "name": "stdout",
     "output_type": "stream",
     "text": [
      "128\n",
      "0.0\n"
     ]
    }
   ],
   "source": []
  },
  {
   "cell_type": "markdown",
   "metadata": {},
   "source": [
    "PCA"
   ]
  },
  {
   "cell_type": "code",
   "execution_count": null,
   "metadata": {},
   "outputs": [],
   "source": [
    "pca = PCA(n_components=64)\n",
    "VWpca = pca.fit_transform(visual_words)\n",
    "knnpca = KNeighborsClassifier(n_neighbors=5,n_jobs=-1,metric='euclidean')\n",
    "knnpca.fit(VWpca, train_labels) \n",
    "vwtestpca = pca.transform(visual_words_test)\n",
    "accuracy = 100*knnpca.score(vwtestpca, test_labels)\n",
    "print(accuracy)"
   ]
  },
  {
   "cell_type": "code",
   "execution_count": 65,
   "metadata": {},
   "outputs": [],
   "source": [
    "def run_different_knn_PCA(neigh,metric):\n",
    "    pca = PCA(n_components=64)\n",
    "    VWpca = pca.fit_transform(visual_words)\n",
    "    knnpca = KNeighborsClassifier(n_neighbors=neigh,n_jobs=-1,metric=metric)\n",
    "    knnpca.fit(VWpca, train_labels) \n",
    "#     knn = KNeighborsClassifier(n_neighbors=neigh,n_jobs=-1,metric=metric)\n",
    "#     knn.fit(visual_words, train_labels)\n",
    "    \n",
    "    visual_words_test=np.zeros((len(test_images_filenames),k),dtype=np.float32)\n",
    "    for i in range(len(test_images_filenames)):\n",
    "        filename=test_images_filenames[i]\n",
    "        ima=cv2.imread(filename)\n",
    "        gray=cv2.cvtColor(ima,cv2.COLOR_BGR2GRAY)\n",
    "        kpt,des=SIFTdetector.detectAndCompute(gray,None)\n",
    "#         des=compute_dense_sift(gray,SIFTdetector)\n",
    "        words=codebook.predict(des)\n",
    "        visual_words_test[i,:]=np.bincount(words,minlength=k)\n",
    "    \n",
    "    vwtestpca = pca.transform(visual_words_test)\n",
    "    accuracy = 100*knnpca.score(vwtestpca, test_labels)\n",
    "    y_pred = knnpca.predict(vwtestpca)\n",
    "    \n",
    "#     accuracy = 100*knn.score(visual_words_test, test_labels)\n",
    "#     y_pred= knn.predict(visual_words_test)\n",
    "    precision=100*precision_score(y_pred, test_labels,average='macro')\n",
    "    recall=100*recall_score(y_pred, test_labels,average='macro')\n",
    "    \n",
    "    return precision,recall,accuracy"
   ]
  },
  {
   "cell_type": "markdown",
   "metadata": {},
   "source": [
    "# Main analysis"
   ]
  },
  {
   "cell_type": "code",
   "execution_count": 283,
   "metadata": {},
   "outputs": [
    {
     "name": "stdout",
     "output_type": "stream",
     "text": [
      "13:58:09\n",
      "13:58:09 started doing knn=33\n",
      "13:59:42 started doing knn=35\n",
      "14:01:23 started doing knn=37\n",
      "14:03:02 started doing knn=39\n",
      "14:04:48 started doing knn=41\n",
      "14:06:41 started doing knn=43\n",
      "14:08:34 started doing knn=45\n",
      "14:12:49 started doing knn=47\n",
      "14:16:01 started doing knn=49\n",
      "14:20:17 started doing knn=51\n",
      "14:24:17 finished\n"
     ]
    }
   ],
   "source": [
    "data_confusion=[]\n",
    "metric=['euclidean','manhattan','chebyshev','minkowski']\n",
    "from datetime import datetime\n",
    "\n",
    "today = datetime.now()\n",
    "dt_string = today.strftime(\"%H:%M:%S\")\n",
    "print(dt_string)\n",
    "for item in range(33,53,2):\n",
    "    today = datetime.now()\n",
    "    dt_string = today.strftime(\"%H:%M:%S\")\n",
    "    print(f\"{dt_string} started doing knn={item}\")\n",
    "    for m in metric:\n",
    "        precision,recall,accuracy=run_different_knn(item,m)\n",
    "        data_confusion.append([item,precision,recall, accuracy,m,'0','0','0'])\n",
    "today = datetime.now()\n",
    "dt_string = today.strftime(\"%H:%M:%S\")\n",
    "print(f\"{dt_string} finished\")\n",
    "df=pd.DataFrame(data_confusion, columns=['knn','precision','recall','accuracy','metric','dense','pca','lda'])"
   ]
  },
  {
   "cell_type": "code",
   "execution_count": 215,
   "metadata": {},
   "outputs": [],
   "source": []
  },
  {
   "cell_type": "code",
   "execution_count": 288,
   "metadata": {},
   "outputs": [],
   "source": [
    "df.head()\n",
    "with open('N300K128KNN1_51_ALL_DENSE.pkl','wb') as f:\n",
    "     cPickle.dump(df_new,f)"
   ]
  },
  {
   "cell_type": "code",
   "execution_count": 261,
   "metadata": {},
   "outputs": [
    {
     "data": {
      "text/html": [
       "<div>\n",
       "<style scoped>\n",
       "    .dataframe tbody tr th:only-of-type {\n",
       "        vertical-align: middle;\n",
       "    }\n",
       "\n",
       "    .dataframe tbody tr th {\n",
       "        vertical-align: top;\n",
       "    }\n",
       "\n",
       "    .dataframe thead th {\n",
       "        text-align: right;\n",
       "    }\n",
       "</style>\n",
       "<table border=\"1\" class=\"dataframe\">\n",
       "  <thead>\n",
       "    <tr style=\"text-align: right;\">\n",
       "      <th></th>\n",
       "      <th>knn</th>\n",
       "      <th>precision</th>\n",
       "      <th>recall</th>\n",
       "      <th>accuracy</th>\n",
       "      <th>metric</th>\n",
       "      <th>dense</th>\n",
       "      <th>pca</th>\n",
       "      <th>lda</th>\n",
       "    </tr>\n",
       "  </thead>\n",
       "  <tbody>\n",
       "    <tr>\n",
       "      <th>0</th>\n",
       "      <td>33</td>\n",
       "      <td>73.449175</td>\n",
       "      <td>73.888756</td>\n",
       "      <td>72.862454</td>\n",
       "      <td>euclidean</td>\n",
       "      <td>5</td>\n",
       "      <td>0</td>\n",
       "      <td>0</td>\n",
       "    </tr>\n",
       "    <tr>\n",
       "      <th>1</th>\n",
       "      <td>33</td>\n",
       "      <td>78.009843</td>\n",
       "      <td>77.850092</td>\n",
       "      <td>77.447336</td>\n",
       "      <td>manhattan</td>\n",
       "      <td>5</td>\n",
       "      <td>0</td>\n",
       "      <td>0</td>\n",
       "    </tr>\n",
       "    <tr>\n",
       "      <th>2</th>\n",
       "      <td>33</td>\n",
       "      <td>57.132082</td>\n",
       "      <td>59.091360</td>\n",
       "      <td>56.133829</td>\n",
       "      <td>chebyshev</td>\n",
       "      <td>5</td>\n",
       "      <td>0</td>\n",
       "      <td>0</td>\n",
       "    </tr>\n",
       "    <tr>\n",
       "      <th>3</th>\n",
       "      <td>33</td>\n",
       "      <td>73.449175</td>\n",
       "      <td>73.888756</td>\n",
       "      <td>72.862454</td>\n",
       "      <td>minkowski</td>\n",
       "      <td>5</td>\n",
       "      <td>0</td>\n",
       "      <td>0</td>\n",
       "    </tr>\n",
       "    <tr>\n",
       "      <th>4</th>\n",
       "      <td>35</td>\n",
       "      <td>73.171704</td>\n",
       "      <td>73.481822</td>\n",
       "      <td>72.614622</td>\n",
       "      <td>euclidean</td>\n",
       "      <td>5</td>\n",
       "      <td>0</td>\n",
       "      <td>0</td>\n",
       "    </tr>\n",
       "  </tbody>\n",
       "</table>\n",
       "</div>"
      ],
      "text/plain": [
       "   knn  precision     recall   accuracy     metric dense pca lda\n",
       "0   33  73.449175  73.888756  72.862454  euclidean     5   0   0\n",
       "1   33  78.009843  77.850092  77.447336  manhattan     5   0   0\n",
       "2   33  57.132082  59.091360  56.133829  chebyshev     5   0   0\n",
       "3   33  73.449175  73.888756  72.862454  minkowski     5   0   0\n",
       "4   35  73.171704  73.481822  72.614622  euclidean     5   0   0"
      ]
     },
     "execution_count": 261,
     "metadata": {},
     "output_type": "execute_result"
    }
   ],
   "source": [
    "with open('N300K128KNN33_51PCA0LDA0DENSE5.pkl','rb') as f:\n",
    "    df_new=cPickle.load(f)\n",
    "df_new.head()"
   ]
  },
  {
   "cell_type": "code",
   "execution_count": 262,
   "metadata": {},
   "outputs": [],
   "source": [
    "df_all=df_all.append(df_new,ignore_index=True)"
   ]
  },
  {
   "cell_type": "code",
   "execution_count": 289,
   "metadata": {},
   "outputs": [],
   "source": [
    "df_new=df"
   ]
  },
  {
   "cell_type": "code",
   "execution_count": 287,
   "metadata": {},
   "outputs": [
    {
     "data": {
      "text/plain": [
       "(208, 8)"
      ]
     },
     "execution_count": 287,
     "metadata": {},
     "output_type": "execute_result"
    }
   ],
   "source": [
    "df_new.shape"
   ]
  },
  {
   "cell_type": "code",
   "execution_count": 58,
   "metadata": {},
   "outputs": [],
   "source": [
    "df_new=df_new.append(df_new_5,ignore_index=True)"
   ]
  },
  {
   "cell_type": "code",
   "execution_count": 242,
   "metadata": {},
   "outputs": [
    {
     "name": "stdout",
     "output_type": "stream",
     "text": [
      "    knn  precision     recall   accuracy     metric dense pca lda\n",
      "0    33  73.449175  73.888756  72.862454  euclidean    20   0   0\n",
      "1    33  78.009843  77.850092  77.447336  manhattan    20   0   0\n",
      "2    33  57.132082  59.091360  56.133829  chebyshev    20   0   0\n",
      "3    33  73.449175  73.888756  72.862454  minkowski    20   0   0\n",
      "4    35  73.171704  73.481822  72.614622  euclidean    20   0   0\n",
      "5    35  78.156664  77.940982  77.695167  manhattan    20   0   0\n",
      "6    35  56.000694  58.214788  55.018587  chebyshev    20   0   0\n",
      "7    35  73.171704  73.481822  72.614622  minkowski    20   0   0\n",
      "8    37  72.182027  72.569882  71.623296  euclidean    20   0   0\n",
      "9    37  78.551703  78.369286  78.066914  manhattan    20   0   0\n",
      "10   37  55.565688  57.837488  54.646840  chebyshev    20   0   0\n",
      "11   37  72.182027  72.569882  71.623296  minkowski    20   0   0\n",
      "12   39  72.691533  73.008374  71.995043  euclidean    20   0   0\n",
      "13   39  77.722887  77.445749  77.075589  manhattan    20   0   0\n",
      "14   39  54.860668  57.125489  53.903346  chebyshev    20   0   0\n",
      "15   39  72.691533  73.008374  71.995043  minkowski    20   0   0\n",
      "16   41  72.726193  72.963457  71.995043  euclidean    20   0   0\n",
      "17   41  78.486764  78.164688  77.942999  manhattan    20   0   0\n",
      "18   41  55.252704  58.014035  54.275093  chebyshev    20   0   0\n",
      "19   41  72.726193  72.963457  71.995043  minkowski    20   0   0\n",
      "20   43  72.637989  73.158358  71.871128  euclidean    20   0   0\n",
      "21   43  78.216600  77.960972  77.695167  manhattan    20   0   0\n",
      "22   43  54.665292  57.286656  53.779430  chebyshev    20   0   0\n",
      "23   43  72.637989  73.158358  71.871128  minkowski    20   0   0\n",
      "24   45  72.068668  72.602667  71.375465  euclidean    20   0   0\n",
      "25   45  77.557426  77.304321  77.199504  manhattan    20   0   0\n",
      "26   45  55.259828  57.940217  54.399009  chebyshev    20   0   0\n",
      "27   45  72.068668  72.602667  71.375465  minkowski    20   0   0\n",
      "28   47  72.511465  72.889189  71.871128  euclidean    20   0   0\n",
      "29   47  77.496994  77.268690  77.199504  manhattan    20   0   0\n",
      "30   47  54.063495  56.788393  53.283767  chebyshev    20   0   0\n",
      "31   47  72.511465  72.889189  71.871128  minkowski    20   0   0\n",
      "32   49  73.007197  73.274442  72.366791  euclidean    20   0   0\n",
      "33   49  78.174546  77.962535  77.819083  manhattan    20   0   0\n",
      "34   49  54.885745  57.528700  54.027261  chebyshev    20   0   0\n",
      "35   49  73.007197  73.274442  72.366791  minkowski    20   0   0\n",
      "36   51  72.799593  73.269533  72.118959  euclidean    20   0   0\n",
      "37   51  77.578258  77.434856  77.323420  manhattan    20   0   0\n",
      "38   51  55.182891  58.274545  54.275093  chebyshev    20   0   0\n",
      "39   51  72.799593  73.269533  72.118959  minkowski    20   0   0\n"
     ]
    },
    {
     "data": {
      "text/plain": [
       "<matplotlib.axes._subplots.AxesSubplot at 0x21745e25ee0>"
      ]
     },
     "execution_count": 242,
     "metadata": {},
     "output_type": "execute_result"
    },
    {
     "data": {
      "image/png": "[encoded data removed]",
      "text/plain": [
       "<Figure size 432x288 with 2 Axes>"
      ]
     },
     "metadata": {
      "needs_background": "light"
     },
     "output_type": "display_data"
    }
   ],
   "source": [
    "print(df)\n",
    "# df['precision']=df['precision']/100\n",
    "# df['recall']=df['recall']/100\n",
    "df_eucl=df_new.metric=='euclidean'\n",
    "df[df_eucl].plot.scatter(x='precision',y='recall',xlim=(0,100),ylim=(0,100),cmap='viridis')"
   ]
  },
  {
   "cell_type": "code",
   "execution_count": 290,
   "metadata": {},
   "outputs": [
    {
     "name": "stdout",
     "output_type": "stream",
     "text": [
      "max\n",
      "    knn  precision     recall   accuracy     metric dense pca lda\n",
      "9   37  78.551703  78.369286  78.066914  manhattan     0   0   0\n"
     ]
    },
    {
     "data": {
      "text/plain": [
       "<matplotlib.legend.Legend at 0x2172e92a730>"
      ]
     },
     "execution_count": 290,
     "metadata": {},
     "output_type": "execute_result"
    },
    {
     "data": {
      "image/png": "[encoded data removed]",
      "text/plain": [
       "<Figure size 720x576 with 1 Axes>"
      ]
     },
     "metadata": {
      "needs_background": "light"
     },
     "output_type": "display_data"
    }
   ],
   "source": [
    "import matplotlib.pyplot as plt\n",
    "fig, ax = plt.subplots(figsize=(10,8))\n",
    "ax.set(title='Precision-Recall curve', xlim=(0,100), ylim=(0,100))\n",
    "\n",
    "df2=df_new\n",
    "# print(df2)\n",
    "print(\"max\\n\",df2[df2.precision==df2.precision.max()])\n",
    "# print(df2[df2.recall==df2.recall.max()])\n",
    "scatter=ax.scatter(df2.recall, df2.precision, c=df2.knn,\n",
    "           label=df2.knn,\n",
    "           marker='o', alpha=.5,\n",
    "           cmap='viridis')\n",
    "legend1 = ax.legend(*scatter.legend_elements(),\n",
    "                    loc=\"lower left\", title=\"Classes\")\n",
    "ax.add_artist(legend1)"
   ]
  },
  {
   "cell_type": "markdown",
   "metadata": {},
   "source": [
    "PLOT by metric"
   ]
  },
  {
   "cell_type": "code",
   "execution_count": 265,
   "metadata": {},
   "outputs": [
    {
     "name": "stdout",
     "output_type": "stream",
     "text": [
      "max\n",
      "      knn  precision     recall   accuracy     metric dense pca lda\n",
      "117   27  78.640697  78.617144  78.314746  manhattan     5   0   0\n",
      "     knn  precision     recall   accuracy     metric dense pca lda\n",
      "117   27  78.640697  78.617144  78.314746  manhattan     5   0   0\n"
     ]
    },
    {
     "data": {
      "text/plain": [
       "<matplotlib.legend.Legend at 0x21901f3d4f0>"
      ]
     },
     "execution_count": 265,
     "metadata": {},
     "output_type": "execute_result"
    },
    {
     "data": {
      "image/png": "[encoded data removed]",
      "text/plain": [
       "<Figure size 720x576 with 1 Axes>"
      ]
     },
     "metadata": {
      "needs_background": "light"
     },
     "output_type": "display_data"
    }
   ],
   "source": [
    "fig, ax = plt.subplots(figsize=(10,8))\n",
    "ax.set(title='Results by metric',ylim=(0,100))\n",
    "\n",
    "df2=df_new\n",
    "# print(df2)\n",
    "print(\"max\\n\",df2[df2.precision==df2.precision.max()])\n",
    "print(df2[df2.recall==df2.recall.max()])\n",
    "scatter=ax.scatter(df2.metric, df2.precision, c=df2.knn,\n",
    "           label=df2.knn,\n",
    "           marker='o', alpha=.5,\n",
    "           cmap='viridis')\n",
    "legend1 = ax.legend(*scatter.legend_elements(),\n",
    "                    loc=\"lower left\", title=\"Classes\")\n",
    "ax.add_artist(legend1)"
   ]
  },
  {
   "cell_type": "code",
   "execution_count": 282,
   "metadata": {},
   "outputs": [
    {
     "name": "stdout",
     "output_type": "stream",
     "text": [
      "max\n",
      "      knn  precision     recall   accuracy     metric dense pca lda\n",
      "117   27  78.640697  78.617144  78.314746  manhattan     5   0   0\n"
     ]
    },
    {
     "data": {
      "image/png": "[encoded data removed]",
      "text/plain": [
       "<Figure size 720x576 with 1 Axes>"
      ]
     },
     "metadata": {
      "needs_background": "light"
     },
     "output_type": "display_data"
    }
   ],
   "source": [
    "fig, ax = plt.subplots(figsize=(10,8))\n",
    "ax.set(title='Accuracy vs knn', xlim=(0,100), ylim=(0,100))\n",
    "\n",
    "df2_man=df_new[(df_new.metric=='manhattan')]\n",
    "df2_euc=df_new[df_new.metric=='euclidean']\n",
    "df2_che=df_new[df_new.metric=='chebyshev']\n",
    "# print(df2)\n",
    "print(\"max\\n\",df2[df2.precision==df2.precision.max()])\n",
    "# print(df2[df2.recall==df2.recall.max()])\n",
    "ax.plot(df2_man.knn, df2_man.accuracy, color='b', label='manhattan')\n",
    "ax.plot(df2_euc.knn, df2_euc.accuracy, color='r', label='euclidean')\n",
    "ax.plot(df2_che.knn, df2_che.accuracy, color='g', label='chebyshev')\n",
    "ax.legend()\n",
    "\n",
    "# max_val = max(df_new.accuracy)\n",
    "# max_idx = df_new.knn[df_new.accuracy.idxmax()]\n",
    "# ax.annotate(\"Max {:.2f}\".format(max_val), xy=(max_idx, max_val),\n",
    "#            weight='bold', size=14)\n",
    "\n",
    "# arrowprops is a mpl.patches.FancyArrowPatch\n",
    "_ = ax.annotate(\"Max {:.2f}\".format(max_val), xy=(max_idx, max_val),\n",
    "                weight='bold', size=14, \n",
    "                xytext=(.5, .9),\n",
    "                textcoords='axes fraction',\n",
    "                family='comic sans ms',\n",
    "                arrowprops={})"
   ]
  },
  {
   "cell_type": "markdown",
   "metadata": {},
   "source": [
    "Dimensionality reduction, with PCA and LDA"
   ]
  },
  {
   "cell_type": "code",
   "execution_count": 60,
   "metadata": {},
   "outputs": [
    {
     "name": "stdout",
     "output_type": "stream",
     "text": [
      "55.14250309789344\n"
     ]
    }
   ],
   "source": [
    "pca = PCA(n_components=64)\n",
    "VWpca = pca.fit_transform(visual_words)\n",
    "knnpca = KNeighborsClassifier(n_neighbors=5,n_jobs=-1,metric='euclidean')\n",
    "knnpca.fit(VWpca, train_labels) \n",
    "vwtestpca = pca.transform(visual_words_test)\n",
    "accuracy = 100*knnpca.score(vwtestpca, test_labels)\n",
    "print(accuracy)"
   ]
  },
  {
   "cell_type": "code",
   "execution_count": 88,
   "metadata": {},
   "outputs": [
    {
     "name": "stdout",
     "output_type": "stream",
     "text": [
      "59.727385377943\n"
     ]
    }
   ],
   "source": [
    "lda = LinearDiscriminantAnalysis(n_components=7)\n",
    "VWlda = lda.fit_transform(visual_words,train_labels)\n",
    "knnlda = KNeighborsClassifier(n_neighbors=5,n_jobs=-1,metric='euclidean')\n",
    "knnlda.fit(VWlda, train_labels) \n",
    "vwtestlda = lda.transform(visual_words_test)\n",
    "accuracy = 100*knnlda.score(vwtestlda, test_labels)\n",
    "print(accuracy)"
   ]
  },
  {
   "cell_type": "code",
   "execution_count": 64,
   "metadata": {},
   "outputs": [
    {
     "data": {
      "text/plain": [
       "1881"
      ]
     },
     "execution_count": 64,
     "metadata": {},
     "output_type": "execute_result"
    }
   ],
   "source": [
    "len(visual_words)"
   ]
  },
  {
   "cell_type": "code",
   "execution_count": 65,
   "metadata": {},
   "outputs": [
    {
     "data": {
      "text/plain": [
       "1881"
      ]
     },
     "execution_count": 65,
     "metadata": {},
     "output_type": "execute_result"
    }
   ],
   "source": [
    "len(train_labels)"
   ]
  },
  {
   "cell_type": "code",
   "execution_count": null,
   "metadata": {},
   "outputs": [],
   "source": []
  }
 ],
 "metadata": {
  "kernelspec": {
   "display_name": "Python 3",
   "language": "python",
   "name": "python3"
  },
  "language_info": {
   "codemirror_mode": {
    "name": "ipython",
    "version": 3
   },
   "file_extension": ".py",
   "mimetype": "text/x-python",
   "name": "python",
   "nbconvert_exporter": "python",
   "pygments_lexer": "ipython3",
   "version": "3.8.3"
  }
 },
 "nbformat": 4,
 "nbformat_minor": 4
}
